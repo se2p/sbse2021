{
 "cells": [
  {
   "cell_type": "markdown",
   "metadata": {
    "slideshow": {
     "slide_type": "slide"
    }
   },
   "source": [
    "# Genetic Programming (Part 1)"
   ]
  },
  {
   "cell_type": "markdown",
   "metadata": {
    "slideshow": {
     "slide_type": "skip"
    }
   },
   "source": [
    "This chapter introduces some very basic concepts about Genetic Programming. As usual, we will require a couple of imports:"
   ]
  },
  {
   "cell_type": "code",
   "execution_count": 1,
   "metadata": {
    "slideshow": {
     "slide_type": "skip"
    }
   },
   "outputs": [],
   "source": [
    "import random\n",
    "import sys\n",
    "import re\n",
    "import matplotlib.pyplot as plt\n",
    "from statistics import mean\n",
    "\n",
    "# For presenting as slides\n",
    "#plt.rcParams['figure.figsize'] = [12, 8]\n",
    "#plt.rcParams.update({'font.size': 22})\n",
    "#plt.rcParams['lines.linewidth'] = 3"
   ]
  },
  {
   "cell_type": "markdown",
   "metadata": {
    "slideshow": {
     "slide_type": "skip"
    }
   },
   "source": [
    "## Classic Genetic Programming"
   ]
  },
  {
   "cell_type": "markdown",
   "metadata": {
    "slideshow": {
     "slide_type": "skip"
    }
   },
   "source": [
    "The main difference between regular Genetic Algorithms and Genetic Programming lies in the representation: GAs tend to operate on the genotype, while GPs operate on the phenotype (programs); for this, the programs are traditionally represented as trees. Furthermore, GPs have a more open-ended nature in that the number of elements used in a solution as well as their interconnections must be open to evolution."
   ]
  },
  {
   "cell_type": "markdown",
   "metadata": {
    "slideshow": {
     "slide_type": "skip"
    }
   },
   "source": [
    "In a tree representation, programs are typically generated using two sets: A set of terminals (items of arity 0) and functions (items of arity > 0). The input to a function must be the result of any other function that can be defined, which leads to the important property of _type closure_: Each function must be able to handle all values it might ever receive as input, all terminals must be allowable inputs for all functions, and the output from any function must be a permitted input to any other function. "
   ]
  },
  {
   "cell_type": "markdown",
   "metadata": {
    "slideshow": {
     "slide_type": "skip"
    }
   },
   "source": [
    "The first step to evolving a suitable program for a given problem is thus to define the sets of functions and terminals:"
   ]
  },
  {
   "cell_type": "code",
   "execution_count": 2,
   "metadata": {
    "slideshow": {
     "slide_type": "slide"
    }
   },
   "outputs": [],
   "source": [
    "def add(x, y): return x + y\n",
    "def sub(x, y): return x - y\n",
    "def mul(x, y): return x * y\n",
    "def div(x, y): return 1 if not y else x/y"
   ]
  },
  {
   "cell_type": "code",
   "execution_count": 3,
   "metadata": {
    "slideshow": {
     "slide_type": "fragment"
    }
   },
   "outputs": [],
   "source": [
    "FUNCTIONS = [add, sub, mul, div]\n",
    "TERMINALS = ['A', 'B', 'C', 'D']"
   ]
  },
  {
   "cell_type": "markdown",
   "metadata": {
    "slideshow": {
     "slide_type": "slide"
    }
   },
   "source": [
    "### Initialisation"
   ]
  },
  {
   "cell_type": "markdown",
   "metadata": {
    "slideshow": {
     "slide_type": "skip"
    }
   },
   "source": [
    "Our usual approach to define the presentation is by introducing code that creates random instances. Let's do the same here, except that this time we need to use a tree representation. For this, we define a suitable datastructure:"
   ]
  },
  {
   "cell_type": "code",
   "execution_count": 4,
   "metadata": {
    "slideshow": {
     "slide_type": "fragment"
    }
   },
   "outputs": [],
   "source": [
    "class Node:\n",
    "    \n",
    "    def __init__(self, data=None, left=None, right=None):\n",
    "        self.data = data\n",
    "        self.left = left\n",
    "        self.right = right\n",
    "\n",
    "    def __str__(self):\n",
    "        if self.data in FUNCTIONS:\n",
    "            return self.data.__name__\n",
    "        else:\n",
    "            return str(self.data)\n",
    "        \n",
    "    def to_dot(self, dot):\n",
    "        dot.node(str(id(self)), str(self))\n",
    "        \n",
    "        if self.left:\n",
    "            left_dot = self.left.to_dot(dot)\n",
    "            dot.edge(str(id(self)), str(id(self.left)))\n",
    "\n",
    "        if self.right:\n",
    "            right_dot = self.right.to_dot(dot)\n",
    "            dot.edge(str(id(self)), str(id(self.right)))\n",
    "\n",
    "        return dot      "
   ]
  },
  {
   "cell_type": "markdown",
   "metadata": {
    "slideshow": {
     "slide_type": "skip"
    }
   },
   "source": [
    "The `to_dot` function is a helper function we will use in order to represent trees visually using GraphViz (which will need to be installed on your machine if you want to run this Jupyter notebook)."
   ]
  },
  {
   "cell_type": "code",
   "execution_count": 5,
   "metadata": {
    "slideshow": {
     "slide_type": "subslide"
    }
   },
   "outputs": [],
   "source": [
    "from graphviz import Digraph"
   ]
  },
  {
   "cell_type": "code",
   "execution_count": 6,
   "metadata": {
    "slideshow": {
     "slide_type": "fragment"
    }
   },
   "outputs": [],
   "source": [
    "def print_tree(tree):\n",
    "    dot = Digraph()\n",
    "    tree.to_dot(dot)\n",
    "    return dot"
   ]
  },
  {
   "cell_type": "markdown",
   "metadata": {
    "slideshow": {
     "slide_type": "slide"
    }
   },
   "source": [
    "#### Full Initialisation"
   ]
  },
  {
   "cell_type": "markdown",
   "metadata": {
    "slideshow": {
     "slide_type": "skip"
    }
   },
   "source": [
    "A basic approach to creating random trees is to grow full trees. We decide on a maximum depth for our tree, and then add non-terminal nodes until the depth limit is reached. Once we have reached it, we only add terminals as leaves. "
   ]
  },
  {
   "cell_type": "code",
   "execution_count": 7,
   "metadata": {
    "slideshow": {
     "slide_type": "fragment"
    }
   },
   "outputs": [],
   "source": [
    "MAX_DEPTH = 3"
   ]
  },
  {
   "cell_type": "code",
   "execution_count": 8,
   "metadata": {
    "slideshow": {
     "slide_type": "fragment"
    }
   },
   "outputs": [],
   "source": [
    "def get_random_terminal():\n",
    "    return random.choice(TERMINALS)"
   ]
  },
  {
   "cell_type": "code",
   "execution_count": 9,
   "metadata": {
    "slideshow": {
     "slide_type": "fragment"
    }
   },
   "outputs": [],
   "source": [
    "def get_random_function():\n",
    "    return random.choice(FUNCTIONS)"
   ]
  },
  {
   "cell_type": "code",
   "execution_count": 10,
   "metadata": {
    "slideshow": {
     "slide_type": "fragment"
    }
   },
   "outputs": [],
   "source": [
    "def fill_random_tree(depth=0):\n",
    "    tree = Node()\n",
    "    if depth < MAX_DEPTH:\n",
    "        tree.data = get_random_function()\n",
    "        tree.left  = fill_random_tree(depth + 1)\n",
    "        tree.right = fill_random_tree(depth + 1)\n",
    "    else:\n",
    "        tree.data = get_random_terminal()\n",
    "    return tree"
   ]
  },
  {
   "cell_type": "code",
   "execution_count": 11,
   "metadata": {
    "slideshow": {
     "slide_type": "slide"
    }
   },
   "outputs": [
    {
     "data": {
      "image/svg+xml": [
       "<?xml version=\"1.0\" encoding=\"UTF-8\" standalone=\"no\"?>\n",
       "<!DOCTYPE svg PUBLIC \"-//W3C//DTD SVG 1.1//EN\"\n",
       " \"http://www.w3.org/Graphics/SVG/1.1/DTD/svg11.dtd\">\n",
       "<!-- Generated by graphviz version 2.50.0 (20211204.2007)\n",
       " -->\n",
       "<!-- Pages: 1 -->\n",
       "<svg width=\"566pt\" height=\"260pt\"\n",
       " viewBox=\"0.00 0.00 566.00 260.00\" xmlns=\"http://www.w3.org/2000/svg\" xmlns:xlink=\"http://www.w3.org/1999/xlink\">\n",
       "<g id=\"graph0\" class=\"graph\" transform=\"scale(1 1) rotate(0) translate(4 256)\">\n",
       "<polygon fill=\"white\" stroke=\"transparent\" points=\"-4,4 -4,-256 562,-256 562,4 -4,4\"/>\n",
       "<!-- 4582320544 -->\n",
       "<g id=\"node1\" class=\"node\">\n",
       "<title>4582320544</title>\n",
       "<ellipse fill=\"none\" stroke=\"black\" cx=\"279\" cy=\"-234\" rx=\"27\" ry=\"18\"/>\n",
       "<text text-anchor=\"middle\" x=\"279\" y=\"-230.3\" font-family=\"Times,serif\" font-size=\"14.00\">div</text>\n",
       "</g>\n",
       "<!-- 4582320448 -->\n",
       "<g id=\"node2\" class=\"node\">\n",
       "<title>4582320448</title>\n",
       "<ellipse fill=\"none\" stroke=\"black\" cx=\"207\" cy=\"-162\" rx=\"27\" ry=\"18\"/>\n",
       "<text text-anchor=\"middle\" x=\"207\" y=\"-158.3\" font-family=\"Times,serif\" font-size=\"14.00\">div</text>\n",
       "</g>\n",
       "<!-- 4582320544&#45;&gt;4582320448 -->\n",
       "<g id=\"edge7\" class=\"edge\">\n",
       "<title>4582320544&#45;&gt;4582320448</title>\n",
       "<path fill=\"none\" stroke=\"black\" d=\"M264.43,-218.83C254.25,-208.94 240.48,-195.55 228.97,-184.36\"/>\n",
       "<polygon fill=\"black\" stroke=\"black\" points=\"231.41,-181.85 221.8,-177.38 226.53,-186.87 231.41,-181.85\"/>\n",
       "</g>\n",
       "<!-- 4582320880 -->\n",
       "<g id=\"node9\" class=\"node\">\n",
       "<title>4582320880</title>\n",
       "<ellipse fill=\"none\" stroke=\"black\" cx=\"351\" cy=\"-162\" rx=\"27\" ry=\"18\"/>\n",
       "<text text-anchor=\"middle\" x=\"351\" y=\"-158.3\" font-family=\"Times,serif\" font-size=\"14.00\">sub</text>\n",
       "</g>\n",
       "<!-- 4582320544&#45;&gt;4582320880 -->\n",
       "<g id=\"edge14\" class=\"edge\">\n",
       "<title>4582320544&#45;&gt;4582320880</title>\n",
       "<path fill=\"none\" stroke=\"black\" d=\"M293.57,-218.83C303.75,-208.94 317.52,-195.55 329.03,-184.36\"/>\n",
       "<polygon fill=\"black\" stroke=\"black\" points=\"331.47,-186.87 336.2,-177.38 326.59,-181.85 331.47,-186.87\"/>\n",
       "</g>\n",
       "<!-- 4582320016 -->\n",
       "<g id=\"node3\" class=\"node\">\n",
       "<title>4582320016</title>\n",
       "<ellipse fill=\"none\" stroke=\"black\" cx=\"99\" cy=\"-90\" rx=\"27\" ry=\"18\"/>\n",
       "<text text-anchor=\"middle\" x=\"99\" y=\"-86.3\" font-family=\"Times,serif\" font-size=\"14.00\">div</text>\n",
       "</g>\n",
       "<!-- 4582320448&#45;&gt;4582320016 -->\n",
       "<g id=\"edge3\" class=\"edge\">\n",
       "<title>4582320448&#45;&gt;4582320016</title>\n",
       "<path fill=\"none\" stroke=\"black\" d=\"M188.19,-148.81C171,-137.67 145.38,-121.06 126.01,-108.5\"/>\n",
       "<polygon fill=\"black\" stroke=\"black\" points=\"127.89,-105.56 117.6,-103.05 124.08,-111.43 127.89,-105.56\"/>\n",
       "</g>\n",
       "<!-- 4582320928 -->\n",
       "<g id=\"node6\" class=\"node\">\n",
       "<title>4582320928</title>\n",
       "<ellipse fill=\"none\" stroke=\"black\" cx=\"207\" cy=\"-90\" rx=\"27\" ry=\"18\"/>\n",
       "<text text-anchor=\"middle\" x=\"207\" y=\"-86.3\" font-family=\"Times,serif\" font-size=\"14.00\">add</text>\n",
       "</g>\n",
       "<!-- 4582320448&#45;&gt;4582320928 -->\n",
       "<g id=\"edge6\" class=\"edge\">\n",
       "<title>4582320448&#45;&gt;4582320928</title>\n",
       "<path fill=\"none\" stroke=\"black\" d=\"M207,-143.7C207,-135.98 207,-126.71 207,-118.11\"/>\n",
       "<polygon fill=\"black\" stroke=\"black\" points=\"210.5,-118.1 207,-108.1 203.5,-118.1 210.5,-118.1\"/>\n",
       "</g>\n",
       "<!-- 4582319392 -->\n",
       "<g id=\"node4\" class=\"node\">\n",
       "<title>4582319392</title>\n",
       "<ellipse fill=\"none\" stroke=\"black\" cx=\"27\" cy=\"-18\" rx=\"27\" ry=\"18\"/>\n",
       "<text text-anchor=\"middle\" x=\"27\" y=\"-14.3\" font-family=\"Times,serif\" font-size=\"14.00\">C</text>\n",
       "</g>\n",
       "<!-- 4582320016&#45;&gt;4582319392 -->\n",
       "<g id=\"edge1\" class=\"edge\">\n",
       "<title>4582320016&#45;&gt;4582319392</title>\n",
       "<path fill=\"none\" stroke=\"black\" d=\"M84.43,-74.83C74.25,-64.94 60.48,-51.55 48.97,-40.36\"/>\n",
       "<polygon fill=\"black\" stroke=\"black\" points=\"51.41,-37.85 41.8,-33.38 46.53,-42.87 51.41,-37.85\"/>\n",
       "</g>\n",
       "<!-- 4582318960 -->\n",
       "<g id=\"node5\" class=\"node\">\n",
       "<title>4582318960</title>\n",
       "<ellipse fill=\"none\" stroke=\"black\" cx=\"99\" cy=\"-18\" rx=\"27\" ry=\"18\"/>\n",
       "<text text-anchor=\"middle\" x=\"99\" y=\"-14.3\" font-family=\"Times,serif\" font-size=\"14.00\">B</text>\n",
       "</g>\n",
       "<!-- 4582320016&#45;&gt;4582318960 -->\n",
       "<g id=\"edge2\" class=\"edge\">\n",
       "<title>4582320016&#45;&gt;4582318960</title>\n",
       "<path fill=\"none\" stroke=\"black\" d=\"M99,-71.7C99,-63.98 99,-54.71 99,-46.11\"/>\n",
       "<polygon fill=\"black\" stroke=\"black\" points=\"102.5,-46.1 99,-36.1 95.5,-46.1 102.5,-46.1\"/>\n",
       "</g>\n",
       "<!-- 4582319008 -->\n",
       "<g id=\"node7\" class=\"node\">\n",
       "<title>4582319008</title>\n",
       "<ellipse fill=\"none\" stroke=\"black\" cx=\"171\" cy=\"-18\" rx=\"27\" ry=\"18\"/>\n",
       "<text text-anchor=\"middle\" x=\"171\" y=\"-14.3\" font-family=\"Times,serif\" font-size=\"14.00\">D</text>\n",
       "</g>\n",
       "<!-- 4582320928&#45;&gt;4582319008 -->\n",
       "<g id=\"edge4\" class=\"edge\">\n",
       "<title>4582320928&#45;&gt;4582319008</title>\n",
       "<path fill=\"none\" stroke=\"black\" d=\"M198.65,-72.76C194.29,-64.28 188.85,-53.71 183.96,-44.2\"/>\n",
       "<polygon fill=\"black\" stroke=\"black\" points=\"186.99,-42.44 179.3,-35.15 180.77,-45.64 186.99,-42.44\"/>\n",
       "</g>\n",
       "<!-- 4582318864 -->\n",
       "<g id=\"node8\" class=\"node\">\n",
       "<title>4582318864</title>\n",
       "<ellipse fill=\"none\" stroke=\"black\" cx=\"243\" cy=\"-18\" rx=\"27\" ry=\"18\"/>\n",
       "<text text-anchor=\"middle\" x=\"243\" y=\"-14.3\" font-family=\"Times,serif\" font-size=\"14.00\">D</text>\n",
       "</g>\n",
       "<!-- 4582320928&#45;&gt;4582318864 -->\n",
       "<g id=\"edge5\" class=\"edge\">\n",
       "<title>4582320928&#45;&gt;4582318864</title>\n",
       "<path fill=\"none\" stroke=\"black\" d=\"M215.35,-72.76C219.71,-64.28 225.15,-53.71 230.04,-44.2\"/>\n",
       "<polygon fill=\"black\" stroke=\"black\" points=\"233.23,-45.64 234.7,-35.15 227.01,-42.44 233.23,-45.64\"/>\n",
       "</g>\n",
       "<!-- 4582321120 -->\n",
       "<g id=\"node10\" class=\"node\">\n",
       "<title>4582321120</title>\n",
       "<ellipse fill=\"none\" stroke=\"black\" cx=\"351\" cy=\"-90\" rx=\"27\" ry=\"18\"/>\n",
       "<text text-anchor=\"middle\" x=\"351\" y=\"-86.3\" font-family=\"Times,serif\" font-size=\"14.00\">sub</text>\n",
       "</g>\n",
       "<!-- 4582320880&#45;&gt;4582321120 -->\n",
       "<g id=\"edge10\" class=\"edge\">\n",
       "<title>4582320880&#45;&gt;4582321120</title>\n",
       "<path fill=\"none\" stroke=\"black\" d=\"M351,-143.7C351,-135.98 351,-126.71 351,-118.11\"/>\n",
       "<polygon fill=\"black\" stroke=\"black\" points=\"354.5,-118.1 351,-108.1 347.5,-118.1 354.5,-118.1\"/>\n",
       "</g>\n",
       "<!-- 4582321168 -->\n",
       "<g id=\"node13\" class=\"node\">\n",
       "<title>4582321168</title>\n",
       "<ellipse fill=\"none\" stroke=\"black\" cx=\"459\" cy=\"-90\" rx=\"27\" ry=\"18\"/>\n",
       "<text text-anchor=\"middle\" x=\"459\" y=\"-86.3\" font-family=\"Times,serif\" font-size=\"14.00\">div</text>\n",
       "</g>\n",
       "<!-- 4582320880&#45;&gt;4582321168 -->\n",
       "<g id=\"edge13\" class=\"edge\">\n",
       "<title>4582320880&#45;&gt;4582321168</title>\n",
       "<path fill=\"none\" stroke=\"black\" d=\"M369.81,-148.81C387,-137.67 412.62,-121.06 431.99,-108.5\"/>\n",
       "<polygon fill=\"black\" stroke=\"black\" points=\"433.92,-111.43 440.4,-103.05 430.11,-105.56 433.92,-111.43\"/>\n",
       "</g>\n",
       "<!-- 4582321024 -->\n",
       "<g id=\"node11\" class=\"node\">\n",
       "<title>4582321024</title>\n",
       "<ellipse fill=\"none\" stroke=\"black\" cx=\"315\" cy=\"-18\" rx=\"27\" ry=\"18\"/>\n",
       "<text text-anchor=\"middle\" x=\"315\" y=\"-14.3\" font-family=\"Times,serif\" font-size=\"14.00\">A</text>\n",
       "</g>\n",
       "<!-- 4582321120&#45;&gt;4582321024 -->\n",
       "<g id=\"edge8\" class=\"edge\">\n",
       "<title>4582321120&#45;&gt;4582321024</title>\n",
       "<path fill=\"none\" stroke=\"black\" d=\"M342.65,-72.76C338.29,-64.28 332.85,-53.71 327.96,-44.2\"/>\n",
       "<polygon fill=\"black\" stroke=\"black\" points=\"330.99,-42.44 323.3,-35.15 324.77,-45.64 330.99,-42.44\"/>\n",
       "</g>\n",
       "<!-- 4582319632 -->\n",
       "<g id=\"node12\" class=\"node\">\n",
       "<title>4582319632</title>\n",
       "<ellipse fill=\"none\" stroke=\"black\" cx=\"387\" cy=\"-18\" rx=\"27\" ry=\"18\"/>\n",
       "<text text-anchor=\"middle\" x=\"387\" y=\"-14.3\" font-family=\"Times,serif\" font-size=\"14.00\">B</text>\n",
       "</g>\n",
       "<!-- 4582321120&#45;&gt;4582319632 -->\n",
       "<g id=\"edge9\" class=\"edge\">\n",
       "<title>4582321120&#45;&gt;4582319632</title>\n",
       "<path fill=\"none\" stroke=\"black\" d=\"M359.35,-72.76C363.71,-64.28 369.15,-53.71 374.04,-44.2\"/>\n",
       "<polygon fill=\"black\" stroke=\"black\" points=\"377.23,-45.64 378.7,-35.15 371.01,-42.44 377.23,-45.64\"/>\n",
       "</g>\n",
       "<!-- 4582321408 -->\n",
       "<g id=\"node14\" class=\"node\">\n",
       "<title>4582321408</title>\n",
       "<ellipse fill=\"none\" stroke=\"black\" cx=\"459\" cy=\"-18\" rx=\"27\" ry=\"18\"/>\n",
       "<text text-anchor=\"middle\" x=\"459\" y=\"-14.3\" font-family=\"Times,serif\" font-size=\"14.00\">C</text>\n",
       "</g>\n",
       "<!-- 4582321168&#45;&gt;4582321408 -->\n",
       "<g id=\"edge11\" class=\"edge\">\n",
       "<title>4582321168&#45;&gt;4582321408</title>\n",
       "<path fill=\"none\" stroke=\"black\" d=\"M459,-71.7C459,-63.98 459,-54.71 459,-46.11\"/>\n",
       "<polygon fill=\"black\" stroke=\"black\" points=\"462.5,-46.1 459,-36.1 455.5,-46.1 462.5,-46.1\"/>\n",
       "</g>\n",
       "<!-- 4582321360 -->\n",
       "<g id=\"node15\" class=\"node\">\n",
       "<title>4582321360</title>\n",
       "<ellipse fill=\"none\" stroke=\"black\" cx=\"531\" cy=\"-18\" rx=\"27\" ry=\"18\"/>\n",
       "<text text-anchor=\"middle\" x=\"531\" y=\"-14.3\" font-family=\"Times,serif\" font-size=\"14.00\">A</text>\n",
       "</g>\n",
       "<!-- 4582321168&#45;&gt;4582321360 -->\n",
       "<g id=\"edge12\" class=\"edge\">\n",
       "<title>4582321168&#45;&gt;4582321360</title>\n",
       "<path fill=\"none\" stroke=\"black\" d=\"M473.57,-74.83C483.75,-64.94 497.52,-51.55 509.03,-40.36\"/>\n",
       "<polygon fill=\"black\" stroke=\"black\" points=\"511.47,-42.87 516.2,-33.38 506.59,-37.85 511.47,-42.87\"/>\n",
       "</g>\n",
       "</g>\n",
       "</svg>\n"
      ],
      "text/plain": [
       "<graphviz.dot.Digraph at 0x11120aa30>"
      ]
     },
     "execution_count": 11,
     "metadata": {},
     "output_type": "execute_result"
    }
   ],
   "source": [
    "root = fill_random_tree()\n",
    "print_tree(root)"
   ]
  },
  {
   "cell_type": "markdown",
   "metadata": {
    "slideshow": {
     "slide_type": "slide"
    }
   },
   "source": [
    "#### Grow Initialisation\n"
   ]
  },
  {
   "cell_type": "markdown",
   "metadata": {
    "slideshow": {
     "slide_type": "skip"
    }
   },
   "source": [
    "An alternative approach to filling entire trees up to their maximum depth is to grow trees of various sizes. For this we add random nodes while we haven't reached the depth limit. The resulting trees will be less bushy, but the ratio between terminals and non-terminals will bias the average size. "
   ]
  },
  {
   "cell_type": "code",
   "execution_count": 12,
   "metadata": {
    "slideshow": {
     "slide_type": "fragment"
    }
   },
   "outputs": [],
   "source": [
    "def grow_random_tree(depth=0):\n",
    "    tree = Node()\n",
    "    if depth >= MAX_DEPTH or random.random() > 0.5:\n",
    "        tree.data = get_random_terminal()\n",
    "    else:\n",
    "        tree.data = get_random_function()\n",
    "        tree.left  = grow_random_tree(depth + 1)\n",
    "        tree.right = grow_random_tree(depth + 1)\n",
    "    return tree"
   ]
  },
  {
   "cell_type": "code",
   "execution_count": 13,
   "metadata": {
    "scrolled": false,
    "slideshow": {
     "slide_type": "fragment"
    }
   },
   "outputs": [
    {
     "data": {
      "image/svg+xml": [
       "<?xml version=\"1.0\" encoding=\"UTF-8\" standalone=\"no\"?>\n",
       "<!DOCTYPE svg PUBLIC \"-//W3C//DTD SVG 1.1//EN\"\n",
       " \"http://www.w3.org/Graphics/SVG/1.1/DTD/svg11.dtd\">\n",
       "<!-- Generated by graphviz version 2.50.0 (20211204.2007)\n",
       " -->\n",
       "<!-- Pages: 1 -->\n",
       "<svg width=\"62pt\" height=\"44pt\"\n",
       " viewBox=\"0.00 0.00 62.00 44.00\" xmlns=\"http://www.w3.org/2000/svg\" xmlns:xlink=\"http://www.w3.org/1999/xlink\">\n",
       "<g id=\"graph0\" class=\"graph\" transform=\"scale(1 1) rotate(0) translate(4 40)\">\n",
       "<polygon fill=\"white\" stroke=\"transparent\" points=\"-4,4 -4,-40 58,-40 58,4 -4,4\"/>\n",
       "<!-- 4582359776 -->\n",
       "<g id=\"node1\" class=\"node\">\n",
       "<title>4582359776</title>\n",
       "<ellipse fill=\"none\" stroke=\"black\" cx=\"27\" cy=\"-18\" rx=\"27\" ry=\"18\"/>\n",
       "<text text-anchor=\"middle\" x=\"27\" y=\"-14.3\" font-family=\"Times,serif\" font-size=\"14.00\">A</text>\n",
       "</g>\n",
       "</g>\n",
       "</svg>\n"
      ],
      "text/plain": [
       "<graphviz.dot.Digraph at 0x11120aaf0>"
      ]
     },
     "execution_count": 13,
     "metadata": {},
     "output_type": "execute_result"
    }
   ],
   "source": [
    "root = grow_random_tree()\n",
    "print_tree(root)"
   ]
  },
  {
   "cell_type": "markdown",
   "metadata": {
    "slideshow": {
     "slide_type": "skip"
    }
   },
   "source": [
    "If the ratio of terminals to functions is high, then we might end up with many trees of size 1. To avoid this, we can define a minimum depth for the trees we want to generate, and only consider terminals once the minimum size has been reached:"
   ]
  },
  {
   "cell_type": "code",
   "execution_count": 14,
   "metadata": {
    "slideshow": {
     "slide_type": "slide"
    }
   },
   "outputs": [],
   "source": [
    "MIN_DEPTH = 2"
   ]
  },
  {
   "cell_type": "code",
   "execution_count": 15,
   "metadata": {
    "slideshow": {
     "slide_type": "fragment"
    }
   },
   "outputs": [],
   "source": [
    "def grow_random_tree(depth=0):\n",
    "    tree = Node()\n",
    "    if depth < MIN_DEPTH:\n",
    "        tree.data = get_random_function()\n",
    "    elif depth >= MAX_DEPTH:\n",
    "        tree.data = get_random_terminal()\n",
    "    else:\n",
    "        if random.random() > 0.5:\n",
    "            tree.data = get_random_terminal()\n",
    "        else:\n",
    "            tree.data = get_random_function()\n",
    "                \n",
    "    if tree.data in FUNCTIONS:\n",
    "        tree.left  = grow_random_tree(depth + 1)\n",
    "        tree.right = grow_random_tree(depth + 1)\n",
    "        \n",
    "    return tree"
   ]
  },
  {
   "cell_type": "code",
   "execution_count": 16,
   "metadata": {
    "slideshow": {
     "slide_type": "slide"
    }
   },
   "outputs": [
    {
     "data": {
      "image/svg+xml": [
       "<?xml version=\"1.0\" encoding=\"UTF-8\" standalone=\"no\"?>\n",
       "<!DOCTYPE svg PUBLIC \"-//W3C//DTD SVG 1.1//EN\"\n",
       " \"http://www.w3.org/Graphics/SVG/1.1/DTD/svg11.dtd\">\n",
       "<!-- Generated by graphviz version 2.50.0 (20211204.2007)\n",
       " -->\n",
       "<!-- Pages: 1 -->\n",
       "<svg width=\"278pt\" height=\"188pt\"\n",
       " viewBox=\"0.00 0.00 278.00 188.00\" xmlns=\"http://www.w3.org/2000/svg\" xmlns:xlink=\"http://www.w3.org/1999/xlink\">\n",
       "<g id=\"graph0\" class=\"graph\" transform=\"scale(1 1) rotate(0) translate(4 184)\">\n",
       "<polygon fill=\"white\" stroke=\"transparent\" points=\"-4,4 -4,-184 274,-184 274,4 -4,4\"/>\n",
       "<!-- 4582360736 -->\n",
       "<g id=\"node1\" class=\"node\">\n",
       "<title>4582360736</title>\n",
       "<ellipse fill=\"none\" stroke=\"black\" cx=\"135\" cy=\"-162\" rx=\"27\" ry=\"18\"/>\n",
       "<text text-anchor=\"middle\" x=\"135\" y=\"-158.3\" font-family=\"Times,serif\" font-size=\"14.00\">sub</text>\n",
       "</g>\n",
       "<!-- 4582359680 -->\n",
       "<g id=\"node2\" class=\"node\">\n",
       "<title>4582359680</title>\n",
       "<ellipse fill=\"none\" stroke=\"black\" cx=\"99\" cy=\"-90\" rx=\"27\" ry=\"18\"/>\n",
       "<text text-anchor=\"middle\" x=\"99\" y=\"-86.3\" font-family=\"Times,serif\" font-size=\"14.00\">mul</text>\n",
       "</g>\n",
       "<!-- 4582360736&#45;&gt;4582359680 -->\n",
       "<g id=\"edge3\" class=\"edge\">\n",
       "<title>4582360736&#45;&gt;4582359680</title>\n",
       "<path fill=\"none\" stroke=\"black\" d=\"M126.65,-144.76C122.29,-136.28 116.85,-125.71 111.96,-116.2\"/>\n",
       "<polygon fill=\"black\" stroke=\"black\" points=\"114.99,-114.44 107.3,-107.15 108.77,-117.64 114.99,-114.44\"/>\n",
       "</g>\n",
       "<!-- 4582361840 -->\n",
       "<g id=\"node5\" class=\"node\">\n",
       "<title>4582361840</title>\n",
       "<ellipse fill=\"none\" stroke=\"black\" cx=\"171\" cy=\"-90\" rx=\"27\" ry=\"18\"/>\n",
       "<text text-anchor=\"middle\" x=\"171\" y=\"-86.3\" font-family=\"Times,serif\" font-size=\"14.00\">div</text>\n",
       "</g>\n",
       "<!-- 4582360736&#45;&gt;4582361840 -->\n",
       "<g id=\"edge6\" class=\"edge\">\n",
       "<title>4582360736&#45;&gt;4582361840</title>\n",
       "<path fill=\"none\" stroke=\"black\" d=\"M143.35,-144.76C147.71,-136.28 153.15,-125.71 158.04,-116.2\"/>\n",
       "<polygon fill=\"black\" stroke=\"black\" points=\"161.23,-117.64 162.7,-107.15 155.01,-114.44 161.23,-117.64\"/>\n",
       "</g>\n",
       "<!-- 4582360112 -->\n",
       "<g id=\"node3\" class=\"node\">\n",
       "<title>4582360112</title>\n",
       "<ellipse fill=\"none\" stroke=\"black\" cx=\"27\" cy=\"-18\" rx=\"27\" ry=\"18\"/>\n",
       "<text text-anchor=\"middle\" x=\"27\" y=\"-14.3\" font-family=\"Times,serif\" font-size=\"14.00\">D</text>\n",
       "</g>\n",
       "<!-- 4582359680&#45;&gt;4582360112 -->\n",
       "<g id=\"edge1\" class=\"edge\">\n",
       "<title>4582359680&#45;&gt;4582360112</title>\n",
       "<path fill=\"none\" stroke=\"black\" d=\"M84.43,-74.83C74.25,-64.94 60.48,-51.55 48.97,-40.36\"/>\n",
       "<polygon fill=\"black\" stroke=\"black\" points=\"51.41,-37.85 41.8,-33.38 46.53,-42.87 51.41,-37.85\"/>\n",
       "</g>\n",
       "<!-- 4582360448 -->\n",
       "<g id=\"node4\" class=\"node\">\n",
       "<title>4582360448</title>\n",
       "<ellipse fill=\"none\" stroke=\"black\" cx=\"99\" cy=\"-18\" rx=\"27\" ry=\"18\"/>\n",
       "<text text-anchor=\"middle\" x=\"99\" y=\"-14.3\" font-family=\"Times,serif\" font-size=\"14.00\">D</text>\n",
       "</g>\n",
       "<!-- 4582359680&#45;&gt;4582360448 -->\n",
       "<g id=\"edge2\" class=\"edge\">\n",
       "<title>4582359680&#45;&gt;4582360448</title>\n",
       "<path fill=\"none\" stroke=\"black\" d=\"M99,-71.7C99,-63.98 99,-54.71 99,-46.11\"/>\n",
       "<polygon fill=\"black\" stroke=\"black\" points=\"102.5,-46.1 99,-36.1 95.5,-46.1 102.5,-46.1\"/>\n",
       "</g>\n",
       "<!-- 4582362032 -->\n",
       "<g id=\"node6\" class=\"node\">\n",
       "<title>4582362032</title>\n",
       "<ellipse fill=\"none\" stroke=\"black\" cx=\"171\" cy=\"-18\" rx=\"27\" ry=\"18\"/>\n",
       "<text text-anchor=\"middle\" x=\"171\" y=\"-14.3\" font-family=\"Times,serif\" font-size=\"14.00\">C</text>\n",
       "</g>\n",
       "<!-- 4582361840&#45;&gt;4582362032 -->\n",
       "<g id=\"edge4\" class=\"edge\">\n",
       "<title>4582361840&#45;&gt;4582362032</title>\n",
       "<path fill=\"none\" stroke=\"black\" d=\"M171,-71.7C171,-63.98 171,-54.71 171,-46.11\"/>\n",
       "<polygon fill=\"black\" stroke=\"black\" points=\"174.5,-46.1 171,-36.1 167.5,-46.1 174.5,-46.1\"/>\n",
       "</g>\n",
       "<!-- 4582359872 -->\n",
       "<g id=\"node7\" class=\"node\">\n",
       "<title>4582359872</title>\n",
       "<ellipse fill=\"none\" stroke=\"black\" cx=\"243\" cy=\"-18\" rx=\"27\" ry=\"18\"/>\n",
       "<text text-anchor=\"middle\" x=\"243\" y=\"-14.3\" font-family=\"Times,serif\" font-size=\"14.00\">A</text>\n",
       "</g>\n",
       "<!-- 4582361840&#45;&gt;4582359872 -->\n",
       "<g id=\"edge5\" class=\"edge\">\n",
       "<title>4582361840&#45;&gt;4582359872</title>\n",
       "<path fill=\"none\" stroke=\"black\" d=\"M185.57,-74.83C195.75,-64.94 209.52,-51.55 221.03,-40.36\"/>\n",
       "<polygon fill=\"black\" stroke=\"black\" points=\"223.47,-42.87 228.2,-33.38 218.59,-37.85 223.47,-42.87\"/>\n",
       "</g>\n",
       "</g>\n",
       "</svg>\n"
      ],
      "text/plain": [
       "<graphviz.dot.Digraph at 0x111214070>"
      ]
     },
     "execution_count": 16,
     "metadata": {},
     "output_type": "execute_result"
    }
   ],
   "source": [
    "root = grow_random_tree()\n",
    "print_tree(root)"
   ]
  },
  {
   "cell_type": "markdown",
   "metadata": {
    "slideshow": {
     "slide_type": "slide"
    }
   },
   "source": [
    "#### Ramped Half and Half"
   ]
  },
  {
   "cell_type": "markdown",
   "metadata": {
    "slideshow": {
     "slide_type": "skip"
    }
   },
   "source": [
    "A common practice when creating the initial population is use a mix of filled and grown trees. For example, half the population may be initialised with the full method, and half with the grow method."
   ]
  },
  {
   "cell_type": "code",
   "execution_count": 17,
   "metadata": {
    "slideshow": {
     "slide_type": "fragment"
    }
   },
   "outputs": [],
   "source": [
    "population_size = 40"
   ]
  },
  {
   "cell_type": "code",
   "execution_count": 18,
   "metadata": {
    "slideshow": {
     "slide_type": "fragment"
    }
   },
   "outputs": [],
   "source": [
    "def get_initial_population():\n",
    "    population = []\n",
    "    while len(population) < population_size:\n",
    "        if random.random() < 0.5:\n",
    "            population.append(fill_random_tree())\n",
    "        else:\n",
    "            population.append(grow_random_tree())\n",
    "        \n",
    "    return population"
   ]
  },
  {
   "cell_type": "markdown",
   "metadata": {
    "slideshow": {
     "slide_type": "skip"
    }
   },
   "source": [
    "By defining a helper function that calculates the size of a tree, we can look at the distribution of tree sizes:"
   ]
  },
  {
   "cell_type": "code",
   "execution_count": 19,
   "metadata": {
    "slideshow": {
     "slide_type": "subslide"
    }
   },
   "outputs": [],
   "source": [
    "def size(tree):\n",
    "    if tree.data in FUNCTIONS:\n",
    "        l = size(tree.left) if tree.left else 0\n",
    "        r = size(tree.right) if tree.right else 0\n",
    "        return 1 + l + r\n",
    "    else:\n",
    "        return 1"
   ]
  },
  {
   "cell_type": "code",
   "execution_count": 20,
   "metadata": {
    "slideshow": {
     "slide_type": "fragment"
    }
   },
   "outputs": [
    {
     "data": {
      "text/plain": [
       "(array([ 2.,  0.,  0., 12.,  0.,  0.,  4.,  0.,  0., 22.]),\n",
       " array([ 9. ,  9.6, 10.2, 10.8, 11.4, 12. , 12.6, 13.2, 13.8, 14.4, 15. ]),\n",
       " <BarContainer object of 10 artists>)"
      ]
     },
     "execution_count": 20,
     "metadata": {},
     "output_type": "execute_result"
    },
    {
     "data": {
      "image/png": "[encoded data removed]",
      "text/plain": [
       "<Figure size 432x288 with 1 Axes>"
      ]
     },
     "metadata": {
      "needs_background": "light"
     },
     "output_type": "display_data"
    }
   ],
   "source": [
    "plt.hist([size(x) for x in get_initial_population()])"
   ]
  },
  {
   "cell_type": "markdown",
   "metadata": {
    "slideshow": {
     "slide_type": "skip"
    }
   },
   "source": [
    " Sometimes this is also done using a ramped approach, to generate trees of various sizes:"
   ]
  },
  {
   "cell_type": "code",
   "execution_count": 21,
   "metadata": {
    "slideshow": {
     "slide_type": "subslide"
    }
   },
   "outputs": [],
   "source": [
    "def get_initial_population():\n",
    "    population = []\n",
    "    stages = MAX_DEPTH - MIN_DEPTH + 1\n",
    "    for stage in range(MIN_DEPTH, MAX_DEPTH + 1):\n",
    "        for md in range(int(population_size/stages/2)):\n",
    "            population.append(grow_random_tree(MAX_DEPTH - stage))\n",
    "        for md in range(int(population_size/stages/2)):\n",
    "            population.append(fill_random_tree(MAX_DEPTH - stage))\n",
    "    return population"
   ]
  },
  {
   "cell_type": "code",
   "execution_count": 22,
   "metadata": {
    "slideshow": {
     "slide_type": "fragment"
    }
   },
   "outputs": [
    {
     "data": {
      "text/plain": [
       "(array([ 8.,  0., 12.,  0.,  3.,  0.,  4.,  0.,  2., 11.]),\n",
       " array([ 5.,  6.,  7.,  8.,  9., 10., 11., 12., 13., 14., 15.]),\n",
       " <BarContainer object of 10 artists>)"
      ]
     },
     "execution_count": 22,
     "metadata": {},
     "output_type": "execute_result"
    },
    {
     "data": {
      "image/png": "[encoded data removed]",
      "text/plain": [
       "<Figure size 432x288 with 1 Axes>"
      ]
     },
     "metadata": {
      "needs_background": "light"
     },
     "output_type": "display_data"
    }
   ],
   "source": [
    "plt.hist([size(x) for x in get_initial_population()])"
   ]
  },
  {
   "cell_type": "markdown",
   "metadata": {
    "slideshow": {
     "slide_type": "slide"
    }
   },
   "source": [
    "### Ephemeral Random Constants"
   ]
  },
  {
   "cell_type": "markdown",
   "metadata": {
    "slideshow": {
     "slide_type": "skip"
    }
   },
   "source": [
    "Our terminals only include constants (`A` etc), but in practice we might also need actual values, such as numbers. Including all possible numbers in the set of terminals does not scale well. A common approach is therefore to include _ephemeral random constants_: A single terminal represents the choice of a random value; when the terminal is chosen then it is instantiated with an actual random value:"
   ]
  },
  {
   "cell_type": "code",
   "execution_count": 23,
   "metadata": {
    "slideshow": {
     "slide_type": "fragment"
    }
   },
   "outputs": [],
   "source": [
    "EPHEMERAL_CONSTANT = \"R\"\n",
    "TERMINALS = ['A', 'B', 'C', 'D', EPHEMERAL_CONSTANT]\n",
    "EPHEMERAL_RANGE = 5"
   ]
  },
  {
   "cell_type": "code",
   "execution_count": 24,
   "metadata": {
    "slideshow": {
     "slide_type": "fragment"
    }
   },
   "outputs": [],
   "source": [
    "def get_random_terminal():\n",
    "    t = random.choice(TERMINALS)\n",
    "    if t == EPHEMERAL_CONSTANT:\n",
    "        t = random.randint(-EPHEMERAL_RANGE, EPHEMERAL_RANGE)\n",
    "    return t"
   ]
  },
  {
   "cell_type": "code",
   "execution_count": 25,
   "metadata": {},
   "outputs": [
    {
     "data": {
      "image/svg+xml": [
       "<?xml version=\"1.0\" encoding=\"UTF-8\" standalone=\"no\"?>\n",
       "<!DOCTYPE svg PUBLIC \"-//W3C//DTD SVG 1.1//EN\"\n",
       " \"http://www.w3.org/Graphics/SVG/1.1/DTD/svg11.dtd\">\n",
       "<!-- Generated by graphviz version 2.50.0 (20211204.2007)\n",
       " -->\n",
       "<!-- Pages: 1 -->\n",
       "<svg width=\"278pt\" height=\"260pt\"\n",
       " viewBox=\"0.00 0.00 278.00 260.00\" xmlns=\"http://www.w3.org/2000/svg\" xmlns:xlink=\"http://www.w3.org/1999/xlink\">\n",
       "<g id=\"graph0\" class=\"graph\" transform=\"scale(1 1) rotate(0) translate(4 256)\">\n",
       "<polygon fill=\"white\" stroke=\"transparent\" points=\"-4,4 -4,-256 274,-256 274,4 -4,4\"/>\n",
       "<!-- 4584017056 -->\n",
       "<g id=\"node1\" class=\"node\">\n",
       "<title>4584017056</title>\n",
       "<ellipse fill=\"none\" stroke=\"black\" cx=\"135\" cy=\"-234\" rx=\"27\" ry=\"18\"/>\n",
       "<text text-anchor=\"middle\" x=\"135\" y=\"-230.3\" font-family=\"Times,serif\" font-size=\"14.00\">sub</text>\n",
       "</g>\n",
       "<!-- 4584016288 -->\n",
       "<g id=\"node2\" class=\"node\">\n",
       "<title>4584016288</title>\n",
       "<ellipse fill=\"none\" stroke=\"black\" cx=\"99\" cy=\"-162\" rx=\"27\" ry=\"18\"/>\n",
       "<text text-anchor=\"middle\" x=\"99\" y=\"-158.3\" font-family=\"Times,serif\" font-size=\"14.00\">div</text>\n",
       "</g>\n",
       "<!-- 4584017056&#45;&gt;4584016288 -->\n",
       "<g id=\"edge3\" class=\"edge\">\n",
       "<title>4584017056&#45;&gt;4584016288</title>\n",
       "<path fill=\"none\" stroke=\"black\" d=\"M126.65,-216.76C122.29,-208.28 116.85,-197.71 111.96,-188.2\"/>\n",
       "<polygon fill=\"black\" stroke=\"black\" points=\"114.99,-186.44 107.3,-179.15 108.77,-189.64 114.99,-186.44\"/>\n",
       "</g>\n",
       "<!-- 4584017104 -->\n",
       "<g id=\"node5\" class=\"node\">\n",
       "<title>4584017104</title>\n",
       "<ellipse fill=\"none\" stroke=\"black\" cx=\"171\" cy=\"-162\" rx=\"27\" ry=\"18\"/>\n",
       "<text text-anchor=\"middle\" x=\"171\" y=\"-158.3\" font-family=\"Times,serif\" font-size=\"14.00\">sub</text>\n",
       "</g>\n",
       "<!-- 4584017056&#45;&gt;4584017104 -->\n",
       "<g id=\"edge8\" class=\"edge\">\n",
       "<title>4584017056&#45;&gt;4584017104</title>\n",
       "<path fill=\"none\" stroke=\"black\" d=\"M143.35,-216.76C147.71,-208.28 153.15,-197.71 158.04,-188.2\"/>\n",
       "<polygon fill=\"black\" stroke=\"black\" points=\"161.23,-189.64 162.7,-179.15 155.01,-186.44 161.23,-189.64\"/>\n",
       "</g>\n",
       "<!-- 4584016816 -->\n",
       "<g id=\"node3\" class=\"node\">\n",
       "<title>4584016816</title>\n",
       "<ellipse fill=\"none\" stroke=\"black\" cx=\"27\" cy=\"-90\" rx=\"27\" ry=\"18\"/>\n",
       "<text text-anchor=\"middle\" x=\"27\" y=\"-86.3\" font-family=\"Times,serif\" font-size=\"14.00\">A</text>\n",
       "</g>\n",
       "<!-- 4584016288&#45;&gt;4584016816 -->\n",
       "<g id=\"edge1\" class=\"edge\">\n",
       "<title>4584016288&#45;&gt;4584016816</title>\n",
       "<path fill=\"none\" stroke=\"black\" d=\"M84.43,-146.83C74.25,-136.94 60.48,-123.55 48.97,-112.36\"/>\n",
       "<polygon fill=\"black\" stroke=\"black\" points=\"51.41,-109.85 41.8,-105.38 46.53,-114.87 51.41,-109.85\"/>\n",
       "</g>\n",
       "<!-- 4584016528 -->\n",
       "<g id=\"node4\" class=\"node\">\n",
       "<title>4584016528</title>\n",
       "<ellipse fill=\"none\" stroke=\"black\" cx=\"99\" cy=\"-90\" rx=\"27\" ry=\"18\"/>\n",
       "<text text-anchor=\"middle\" x=\"99\" y=\"-86.3\" font-family=\"Times,serif\" font-size=\"14.00\">B</text>\n",
       "</g>\n",
       "<!-- 4584016288&#45;&gt;4584016528 -->\n",
       "<g id=\"edge2\" class=\"edge\">\n",
       "<title>4584016288&#45;&gt;4584016528</title>\n",
       "<path fill=\"none\" stroke=\"black\" d=\"M99,-143.7C99,-135.98 99,-126.71 99,-118.11\"/>\n",
       "<polygon fill=\"black\" stroke=\"black\" points=\"102.5,-118.1 99,-108.1 95.5,-118.1 102.5,-118.1\"/>\n",
       "</g>\n",
       "<!-- 4583908736 -->\n",
       "<g id=\"node6\" class=\"node\">\n",
       "<title>4583908736</title>\n",
       "<ellipse fill=\"none\" stroke=\"black\" cx=\"171\" cy=\"-90\" rx=\"27\" ry=\"18\"/>\n",
       "<text text-anchor=\"middle\" x=\"171\" y=\"-86.3\" font-family=\"Times,serif\" font-size=\"14.00\">sub</text>\n",
       "</g>\n",
       "<!-- 4584017104&#45;&gt;4583908736 -->\n",
       "<g id=\"edge6\" class=\"edge\">\n",
       "<title>4584017104&#45;&gt;4583908736</title>\n",
       "<path fill=\"none\" stroke=\"black\" d=\"M171,-143.7C171,-135.98 171,-126.71 171,-118.11\"/>\n",
       "<polygon fill=\"black\" stroke=\"black\" points=\"174.5,-118.1 171,-108.1 167.5,-118.1 174.5,-118.1\"/>\n",
       "</g>\n",
       "<!-- 4583910464 -->\n",
       "<g id=\"node9\" class=\"node\">\n",
       "<title>4583910464</title>\n",
       "<ellipse fill=\"none\" stroke=\"black\" cx=\"243\" cy=\"-90\" rx=\"27\" ry=\"18\"/>\n",
       "<text text-anchor=\"middle\" x=\"243\" y=\"-86.3\" font-family=\"Times,serif\" font-size=\"14.00\">C</text>\n",
       "</g>\n",
       "<!-- 4584017104&#45;&gt;4583910464 -->\n",
       "<g id=\"edge7\" class=\"edge\">\n",
       "<title>4584017104&#45;&gt;4583910464</title>\n",
       "<path fill=\"none\" stroke=\"black\" d=\"M185.57,-146.83C195.75,-136.94 209.52,-123.55 221.03,-112.36\"/>\n",
       "<polygon fill=\"black\" stroke=\"black\" points=\"223.47,-114.87 228.2,-105.38 218.59,-109.85 223.47,-114.87\"/>\n",
       "</g>\n",
       "<!-- 4583910272 -->\n",
       "<g id=\"node7\" class=\"node\">\n",
       "<title>4583910272</title>\n",
       "<ellipse fill=\"none\" stroke=\"black\" cx=\"135\" cy=\"-18\" rx=\"27\" ry=\"18\"/>\n",
       "<text text-anchor=\"middle\" x=\"135\" y=\"-14.3\" font-family=\"Times,serif\" font-size=\"14.00\">B</text>\n",
       "</g>\n",
       "<!-- 4583908736&#45;&gt;4583910272 -->\n",
       "<g id=\"edge4\" class=\"edge\">\n",
       "<title>4583908736&#45;&gt;4583910272</title>\n",
       "<path fill=\"none\" stroke=\"black\" d=\"M162.65,-72.76C158.29,-64.28 152.85,-53.71 147.96,-44.2\"/>\n",
       "<polygon fill=\"black\" stroke=\"black\" points=\"150.99,-42.44 143.3,-35.15 144.77,-45.64 150.99,-42.44\"/>\n",
       "</g>\n",
       "<!-- 4583910512 -->\n",
       "<g id=\"node8\" class=\"node\">\n",
       "<title>4583910512</title>\n",
       "<ellipse fill=\"none\" stroke=\"black\" cx=\"207\" cy=\"-18\" rx=\"27\" ry=\"18\"/>\n",
       "<text text-anchor=\"middle\" x=\"207\" y=\"-14.3\" font-family=\"Times,serif\" font-size=\"14.00\">&#45;2</text>\n",
       "</g>\n",
       "<!-- 4583908736&#45;&gt;4583910512 -->\n",
       "<g id=\"edge5\" class=\"edge\">\n",
       "<title>4583908736&#45;&gt;4583910512</title>\n",
       "<path fill=\"none\" stroke=\"black\" d=\"M179.35,-72.76C183.71,-64.28 189.15,-53.71 194.04,-44.2\"/>\n",
       "<polygon fill=\"black\" stroke=\"black\" points=\"197.23,-45.64 198.7,-35.15 191.01,-42.44 197.23,-45.64\"/>\n",
       "</g>\n",
       "</g>\n",
       "</svg>\n"
      ],
      "text/plain": [
       "<graphviz.dot.Digraph at 0x1113a8be0>"
      ]
     },
     "execution_count": 25,
     "metadata": {},
     "output_type": "execute_result"
    }
   ],
   "source": [
    "root = grow_random_tree()\n",
    "print_tree(root)"
   ]
  },
  {
   "cell_type": "markdown",
   "metadata": {
    "slideshow": {
     "slide_type": "skip"
    }
   },
   "source": [
    "### Search Operators"
   ]
  },
  {
   "cell_type": "markdown",
   "metadata": {
    "slideshow": {
     "slide_type": "skip"
    }
   },
   "source": [
    "Since we have a different representation to what we used in the past (which was mainly list-based), we need to adapt our search operators."
   ]
  },
  {
   "cell_type": "markdown",
   "metadata": {
    "slideshow": {
     "slide_type": "slide"
    }
   },
   "source": [
    "#### Crossover"
   ]
  },
  {
   "cell_type": "markdown",
   "metadata": {
    "slideshow": {
     "slide_type": "skip"
    }
   },
   "source": [
    "A basic approach to crossing over two trees is to randomly choose two crossover points in the parent trees, and then to cut and swap subtrees below the crossover points. We first need a function with which we can create copies of trees:"
   ]
  },
  {
   "cell_type": "code",
   "execution_count": 26,
   "metadata": {
    "slideshow": {
     "slide_type": "fragment"
    }
   },
   "outputs": [],
   "source": [
    "def copy(tree):\n",
    "    t = Node()\n",
    "    t.data = tree.data\n",
    "    if tree.left:  t.left = copy(tree.left)\n",
    "    if tree.right: t.right = copy(tree.right)\n",
    "    return t "
   ]
  },
  {
   "cell_type": "markdown",
   "metadata": {
    "slideshow": {
     "slide_type": "skip"
    }
   },
   "source": [
    "We need a couple further helper functions in order to find subtrees at chosen crossover points. First, here's a helper class that allows us to count up or down while (hackily) traversing a tree:"
   ]
  },
  {
   "cell_type": "code",
   "execution_count": 27,
   "metadata": {
    "slideshow": {
     "slide_type": "slide"
    }
   },
   "outputs": [],
   "source": [
    "class Counter:\n",
    "    def __init__(self, num):\n",
    "        self.num = num\n",
    "    \n",
    "    def reduce(self):\n",
    "        self.num -= 1\n",
    "        \n",
    "    def increase(self):\n",
    "        self.num += 1\n",
    "    \n",
    "    def is_target(self):\n",
    "        return self.num == 0\n",
    "    \n",
    "    def greater_zero(self):\n",
    "        return self.num > 0\n",
    "    \n",
    "    def get_value(self):\n",
    "        return self.num"
   ]
  },
  {
   "cell_type": "markdown",
   "metadata": {
    "slideshow": {
     "slide_type": "skip"
    }
   },
   "source": [
    "Using this helper class, we can now traverse the tree and return a copy of the subtree whenever the counter has reached the target:"
   ]
  },
  {
   "cell_type": "code",
   "execution_count": 28,
   "metadata": {
    "slideshow": {
     "slide_type": "slide"
    }
   },
   "outputs": [],
   "source": [
    "def get_subtree_at(tree, counter):\n",
    "    counter.reduce()\n",
    "    if counter.is_target():\n",
    "        return copy(tree)\n",
    "    else:\n",
    "        ret = None\n",
    "        if tree.left and counter.greater_zero(): \n",
    "            ret = get_subtree_at(tree.left, counter)\n",
    "        if not ret and tree.right and counter.greater_zero(): \n",
    "            ret = get_subtree_at(tree.right, counter)\n",
    "        return ret"
   ]
  },
  {
   "cell_type": "markdown",
   "metadata": {
    "slideshow": {
     "slide_type": "skip"
    }
   },
   "source": [
    "Similarly, we can replace a target node with an entirely different subtree given a counter that tells us when we've reached the target node:"
   ]
  },
  {
   "cell_type": "code",
   "execution_count": 29,
   "metadata": {
    "slideshow": {
     "slide_type": "slide"
    }
   },
   "outputs": [],
   "source": [
    "def insert_subtree_at(tree, subtree, counter):\n",
    "    counter.reduce()\n",
    "    if counter.is_target():\n",
    "        tree.data  = subtree.data\n",
    "        tree.left  = subtree.left\n",
    "        tree.right = subtree.right\n",
    "    else:\n",
    "        if tree.left and counter.greater_zero(): \n",
    "            insert_subtree_at(tree.left, subtree, counter)\n",
    "        if tree.right and counter.greater_zero(): \n",
    "            insert_subtree_at(tree.right, subtree, counter)"
   ]
  },
  {
   "cell_type": "markdown",
   "metadata": {
    "slideshow": {
     "slide_type": "skip"
    }
   },
   "source": [
    "Using these two functions we can now define a simple crossover function that picks a random subtree from one parent (`parent1`) and inserts it at a random position in the other parent (`parent2`):"
   ]
  },
  {
   "cell_type": "code",
   "execution_count": 30,
   "metadata": {
    "slideshow": {
     "slide_type": "slide"
    }
   },
   "outputs": [],
   "source": [
    "def subtree_crossover(parent1, parent2):\n",
    "    pos1 = random.randint(1, size(parent1))\n",
    "    pos2 = random.randint(1, size(parent2))\n",
    "    \n",
    "    if size(parent1) == 1:\n",
    "        subtree = copy(parent1)\n",
    "    else:\n",
    "        subtree = get_subtree_at(parent1, Counter(pos1))\n",
    "    offspring = copy(parent2)\n",
    "    insert_subtree_at(offspring, subtree, Counter(pos2))\n",
    "    \n",
    "    return offspring"
   ]
  },
  {
   "cell_type": "markdown",
   "metadata": {
    "slideshow": {
     "slide_type": "skip"
    }
   },
   "source": [
    "Let's create some example parents to cross over:"
   ]
  },
  {
   "cell_type": "code",
   "execution_count": 31,
   "metadata": {
    "slideshow": {
     "slide_type": "slide"
    }
   },
   "outputs": [
    {
     "data": {
      "image/svg+xml": [
       "<?xml version=\"1.0\" encoding=\"UTF-8\" standalone=\"no\"?>\n",
       "<!DOCTYPE svg PUBLIC \"-//W3C//DTD SVG 1.1//EN\"\n",
       " \"http://www.w3.org/Graphics/SVG/1.1/DTD/svg11.dtd\">\n",
       "<!-- Generated by graphviz version 2.50.0 (20211204.2007)\n",
       " -->\n",
       "<!-- Pages: 1 -->\n",
       "<svg width=\"332pt\" height=\"260pt\"\n",
       " viewBox=\"0.00 0.00 332.00 260.00\" xmlns=\"http://www.w3.org/2000/svg\" xmlns:xlink=\"http://www.w3.org/1999/xlink\">\n",
       "<g id=\"graph0\" class=\"graph\" transform=\"scale(1 1) rotate(0) translate(4 256)\">\n",
       "<polygon fill=\"white\" stroke=\"transparent\" points=\"-4,4 -4,-256 328,-256 328,4 -4,4\"/>\n",
       "<!-- 4584081680 -->\n",
       "<g id=\"node1\" class=\"node\">\n",
       "<title>4584081680</title>\n",
       "<ellipse fill=\"none\" stroke=\"black\" cx=\"135\" cy=\"-234\" rx=\"27\" ry=\"18\"/>\n",
       "<text text-anchor=\"middle\" x=\"135\" y=\"-230.3\" font-family=\"Times,serif\" font-size=\"14.00\">sub</text>\n",
       "</g>\n",
       "<!-- 4584080192 -->\n",
       "<g id=\"node2\" class=\"node\">\n",
       "<title>4584080192</title>\n",
       "<ellipse fill=\"none\" stroke=\"black\" cx=\"99\" cy=\"-162\" rx=\"27\" ry=\"18\"/>\n",
       "<text text-anchor=\"middle\" x=\"99\" y=\"-158.3\" font-family=\"Times,serif\" font-size=\"14.00\">mul</text>\n",
       "</g>\n",
       "<!-- 4584081680&#45;&gt;4584080192 -->\n",
       "<g id=\"edge5\" class=\"edge\">\n",
       "<title>4584081680&#45;&gt;4584080192</title>\n",
       "<path fill=\"none\" stroke=\"black\" d=\"M126.65,-216.76C122.29,-208.28 116.85,-197.71 111.96,-188.2\"/>\n",
       "<polygon fill=\"black\" stroke=\"black\" points=\"114.99,-186.44 107.3,-179.15 108.77,-189.64 114.99,-186.44\"/>\n",
       "</g>\n",
       "<!-- 4584080816 -->\n",
       "<g id=\"node7\" class=\"node\">\n",
       "<title>4584080816</title>\n",
       "<ellipse fill=\"none\" stroke=\"black\" cx=\"171\" cy=\"-162\" rx=\"27\" ry=\"18\"/>\n",
       "<text text-anchor=\"middle\" x=\"171\" y=\"-158.3\" font-family=\"Times,serif\" font-size=\"14.00\">div</text>\n",
       "</g>\n",
       "<!-- 4584081680&#45;&gt;4584080816 -->\n",
       "<g id=\"edge10\" class=\"edge\">\n",
       "<title>4584081680&#45;&gt;4584080816</title>\n",
       "<path fill=\"none\" stroke=\"black\" d=\"M143.35,-216.76C147.71,-208.28 153.15,-197.71 158.04,-188.2\"/>\n",
       "<polygon fill=\"black\" stroke=\"black\" points=\"161.23,-189.64 162.7,-179.15 155.01,-186.44 161.23,-189.64\"/>\n",
       "</g>\n",
       "<!-- 4584082784 -->\n",
       "<g id=\"node3\" class=\"node\">\n",
       "<title>4584082784</title>\n",
       "<ellipse fill=\"none\" stroke=\"black\" cx=\"27\" cy=\"-90\" rx=\"27\" ry=\"18\"/>\n",
       "<text text-anchor=\"middle\" x=\"27\" y=\"-86.3\" font-family=\"Times,serif\" font-size=\"14.00\">A</text>\n",
       "</g>\n",
       "<!-- 4584080192&#45;&gt;4584082784 -->\n",
       "<g id=\"edge1\" class=\"edge\">\n",
       "<title>4584080192&#45;&gt;4584082784</title>\n",
       "<path fill=\"none\" stroke=\"black\" d=\"M84.43,-146.83C74.25,-136.94 60.48,-123.55 48.97,-112.36\"/>\n",
       "<polygon fill=\"black\" stroke=\"black\" points=\"51.41,-109.85 41.8,-105.38 46.53,-114.87 51.41,-109.85\"/>\n",
       "</g>\n",
       "<!-- 4584080672 -->\n",
       "<g id=\"node4\" class=\"node\">\n",
       "<title>4584080672</title>\n",
       "<ellipse fill=\"none\" stroke=\"black\" cx=\"99\" cy=\"-90\" rx=\"27\" ry=\"18\"/>\n",
       "<text text-anchor=\"middle\" x=\"99\" y=\"-86.3\" font-family=\"Times,serif\" font-size=\"14.00\">sub</text>\n",
       "</g>\n",
       "<!-- 4584080192&#45;&gt;4584080672 -->\n",
       "<g id=\"edge4\" class=\"edge\">\n",
       "<title>4584080192&#45;&gt;4584080672</title>\n",
       "<path fill=\"none\" stroke=\"black\" d=\"M99,-143.7C99,-135.98 99,-126.71 99,-118.11\"/>\n",
       "<polygon fill=\"black\" stroke=\"black\" points=\"102.5,-118.1 99,-108.1 95.5,-118.1 102.5,-118.1\"/>\n",
       "</g>\n",
       "<!-- 4584082592 -->\n",
       "<g id=\"node5\" class=\"node\">\n",
       "<title>4584082592</title>\n",
       "<ellipse fill=\"none\" stroke=\"black\" cx=\"63\" cy=\"-18\" rx=\"27\" ry=\"18\"/>\n",
       "<text text-anchor=\"middle\" x=\"63\" y=\"-14.3\" font-family=\"Times,serif\" font-size=\"14.00\">D</text>\n",
       "</g>\n",
       "<!-- 4584080672&#45;&gt;4584082592 -->\n",
       "<g id=\"edge2\" class=\"edge\">\n",
       "<title>4584080672&#45;&gt;4584082592</title>\n",
       "<path fill=\"none\" stroke=\"black\" d=\"M90.65,-72.76C86.29,-64.28 80.85,-53.71 75.96,-44.2\"/>\n",
       "<polygon fill=\"black\" stroke=\"black\" points=\"78.99,-42.44 71.3,-35.15 72.77,-45.64 78.99,-42.44\"/>\n",
       "</g>\n",
       "<!-- 4584082208 -->\n",
       "<g id=\"node6\" class=\"node\">\n",
       "<title>4584082208</title>\n",
       "<ellipse fill=\"none\" stroke=\"black\" cx=\"135\" cy=\"-18\" rx=\"27\" ry=\"18\"/>\n",
       "<text text-anchor=\"middle\" x=\"135\" y=\"-14.3\" font-family=\"Times,serif\" font-size=\"14.00\">A</text>\n",
       "</g>\n",
       "<!-- 4584080672&#45;&gt;4584082208 -->\n",
       "<g id=\"edge3\" class=\"edge\">\n",
       "<title>4584080672&#45;&gt;4584082208</title>\n",
       "<path fill=\"none\" stroke=\"black\" d=\"M107.35,-72.76C111.71,-64.28 117.15,-53.71 122.04,-44.2\"/>\n",
       "<polygon fill=\"black\" stroke=\"black\" points=\"125.23,-45.64 126.7,-35.15 119.01,-42.44 125.23,-45.64\"/>\n",
       "</g>\n",
       "<!-- 4584082256 -->\n",
       "<g id=\"node8\" class=\"node\">\n",
       "<title>4584082256</title>\n",
       "<ellipse fill=\"none\" stroke=\"black\" cx=\"171\" cy=\"-90\" rx=\"27\" ry=\"18\"/>\n",
       "<text text-anchor=\"middle\" x=\"171\" y=\"-86.3\" font-family=\"Times,serif\" font-size=\"14.00\">A</text>\n",
       "</g>\n",
       "<!-- 4584080816&#45;&gt;4584082256 -->\n",
       "<g id=\"edge6\" class=\"edge\">\n",
       "<title>4584080816&#45;&gt;4584082256</title>\n",
       "<path fill=\"none\" stroke=\"black\" d=\"M171,-143.7C171,-135.98 171,-126.71 171,-118.11\"/>\n",
       "<polygon fill=\"black\" stroke=\"black\" points=\"174.5,-118.1 171,-108.1 167.5,-118.1 174.5,-118.1\"/>\n",
       "</g>\n",
       "<!-- 4584082496 -->\n",
       "<g id=\"node9\" class=\"node\">\n",
       "<title>4584082496</title>\n",
       "<ellipse fill=\"none\" stroke=\"black\" cx=\"243\" cy=\"-90\" rx=\"27\" ry=\"18\"/>\n",
       "<text text-anchor=\"middle\" x=\"243\" y=\"-86.3\" font-family=\"Times,serif\" font-size=\"14.00\">add</text>\n",
       "</g>\n",
       "<!-- 4584080816&#45;&gt;4584082496 -->\n",
       "<g id=\"edge9\" class=\"edge\">\n",
       "<title>4584080816&#45;&gt;4584082496</title>\n",
       "<path fill=\"none\" stroke=\"black\" d=\"M185.57,-146.83C195.75,-136.94 209.52,-123.55 221.03,-112.36\"/>\n",
       "<polygon fill=\"black\" stroke=\"black\" points=\"223.47,-114.87 228.2,-105.38 218.59,-109.85 223.47,-114.87\"/>\n",
       "</g>\n",
       "<!-- 4584079568 -->\n",
       "<g id=\"node10\" class=\"node\">\n",
       "<title>4584079568</title>\n",
       "<ellipse fill=\"none\" stroke=\"black\" cx=\"225\" cy=\"-18\" rx=\"27\" ry=\"18\"/>\n",
       "<text text-anchor=\"middle\" x=\"225\" y=\"-14.3\" font-family=\"Times,serif\" font-size=\"14.00\">B</text>\n",
       "</g>\n",
       "<!-- 4584082496&#45;&gt;4584079568 -->\n",
       "<g id=\"edge7\" class=\"edge\">\n",
       "<title>4584082496&#45;&gt;4584079568</title>\n",
       "<path fill=\"none\" stroke=\"black\" d=\"M238.64,-72.05C236.61,-64.14 234.14,-54.54 231.86,-45.69\"/>\n",
       "<polygon fill=\"black\" stroke=\"black\" points=\"235.2,-44.6 229.32,-35.79 228.42,-46.35 235.2,-44.6\"/>\n",
       "</g>\n",
       "<!-- 4584079664 -->\n",
       "<g id=\"node11\" class=\"node\">\n",
       "<title>4584079664</title>\n",
       "<ellipse fill=\"none\" stroke=\"black\" cx=\"297\" cy=\"-18\" rx=\"27\" ry=\"18\"/>\n",
       "<text text-anchor=\"middle\" x=\"297\" y=\"-14.3\" font-family=\"Times,serif\" font-size=\"14.00\">D</text>\n",
       "</g>\n",
       "<!-- 4584082496&#45;&gt;4584079664 -->\n",
       "<g id=\"edge8\" class=\"edge\">\n",
       "<title>4584082496&#45;&gt;4584079664</title>\n",
       "<path fill=\"none\" stroke=\"black\" d=\"M254.98,-73.46C261.98,-64.4 270.94,-52.79 278.79,-42.61\"/>\n",
       "<polygon fill=\"black\" stroke=\"black\" points=\"281.71,-44.55 285.05,-34.49 276.17,-40.27 281.71,-44.55\"/>\n",
       "</g>\n",
       "</g>\n",
       "</svg>\n"
      ],
      "text/plain": [
       "<graphviz.dot.Digraph at 0x1113b82b0>"
      ]
     },
     "execution_count": 31,
     "metadata": {},
     "output_type": "execute_result"
    }
   ],
   "source": [
    "parent1 = grow_random_tree()\n",
    "print_tree(parent1)"
   ]
  },
  {
   "cell_type": "code",
   "execution_count": 32,
   "metadata": {
    "scrolled": true,
    "slideshow": {
     "slide_type": "subslide"
    }
   },
   "outputs": [
    {
     "data": {
      "image/svg+xml": [
       "<?xml version=\"1.0\" encoding=\"UTF-8\" standalone=\"no\"?>\n",
       "<!DOCTYPE svg PUBLIC \"-//W3C//DTD SVG 1.1//EN\"\n",
       " \"http://www.w3.org/Graphics/SVG/1.1/DTD/svg11.dtd\">\n",
       "<!-- Generated by graphviz version 2.50.0 (20211204.2007)\n",
       " -->\n",
       "<!-- Pages: 1 -->\n",
       "<svg width=\"278pt\" height=\"260pt\"\n",
       " viewBox=\"0.00 0.00 278.00 260.00\" xmlns=\"http://www.w3.org/2000/svg\" xmlns:xlink=\"http://www.w3.org/1999/xlink\">\n",
       "<g id=\"graph0\" class=\"graph\" transform=\"scale(1 1) rotate(0) translate(4 256)\">\n",
       "<polygon fill=\"white\" stroke=\"transparent\" points=\"-4,4 -4,-256 274,-256 274,4 -4,4\"/>\n",
       "<!-- 4584080336 -->\n",
       "<g id=\"node1\" class=\"node\">\n",
       "<title>4584080336</title>\n",
       "<ellipse fill=\"none\" stroke=\"black\" cx=\"135\" cy=\"-234\" rx=\"27\" ry=\"18\"/>\n",
       "<text text-anchor=\"middle\" x=\"135\" y=\"-230.3\" font-family=\"Times,serif\" font-size=\"14.00\">sub</text>\n",
       "</g>\n",
       "<!-- 4584083216 -->\n",
       "<g id=\"node2\" class=\"node\">\n",
       "<title>4584083216</title>\n",
       "<ellipse fill=\"none\" stroke=\"black\" cx=\"99\" cy=\"-162\" rx=\"27\" ry=\"18\"/>\n",
       "<text text-anchor=\"middle\" x=\"99\" y=\"-158.3\" font-family=\"Times,serif\" font-size=\"14.00\">add</text>\n",
       "</g>\n",
       "<!-- 4584080336&#45;&gt;4584083216 -->\n",
       "<g id=\"edge5\" class=\"edge\">\n",
       "<title>4584080336&#45;&gt;4584083216</title>\n",
       "<path fill=\"none\" stroke=\"black\" d=\"M126.65,-216.76C122.29,-208.28 116.85,-197.71 111.96,-188.2\"/>\n",
       "<polygon fill=\"black\" stroke=\"black\" points=\"114.99,-186.44 107.3,-179.15 108.77,-189.64 114.99,-186.44\"/>\n",
       "</g>\n",
       "<!-- 4584082160 -->\n",
       "<g id=\"node7\" class=\"node\">\n",
       "<title>4584082160</title>\n",
       "<ellipse fill=\"none\" stroke=\"black\" cx=\"171\" cy=\"-162\" rx=\"27\" ry=\"18\"/>\n",
       "<text text-anchor=\"middle\" x=\"171\" y=\"-158.3\" font-family=\"Times,serif\" font-size=\"14.00\">div</text>\n",
       "</g>\n",
       "<!-- 4584080336&#45;&gt;4584082160 -->\n",
       "<g id=\"edge8\" class=\"edge\">\n",
       "<title>4584080336&#45;&gt;4584082160</title>\n",
       "<path fill=\"none\" stroke=\"black\" d=\"M143.35,-216.76C147.71,-208.28 153.15,-197.71 158.04,-188.2\"/>\n",
       "<polygon fill=\"black\" stroke=\"black\" points=\"161.23,-189.64 162.7,-179.15 155.01,-186.44 161.23,-189.64\"/>\n",
       "</g>\n",
       "<!-- 4584080480 -->\n",
       "<g id=\"node3\" class=\"node\">\n",
       "<title>4584080480</title>\n",
       "<ellipse fill=\"none\" stroke=\"black\" cx=\"27\" cy=\"-90\" rx=\"27\" ry=\"18\"/>\n",
       "<text text-anchor=\"middle\" x=\"27\" y=\"-86.3\" font-family=\"Times,serif\" font-size=\"14.00\">A</text>\n",
       "</g>\n",
       "<!-- 4584083216&#45;&gt;4584080480 -->\n",
       "<g id=\"edge1\" class=\"edge\">\n",
       "<title>4584083216&#45;&gt;4584080480</title>\n",
       "<path fill=\"none\" stroke=\"black\" d=\"M84.43,-146.83C74.25,-136.94 60.48,-123.55 48.97,-112.36\"/>\n",
       "<polygon fill=\"black\" stroke=\"black\" points=\"51.41,-109.85 41.8,-105.38 46.53,-114.87 51.41,-109.85\"/>\n",
       "</g>\n",
       "<!-- 4584083072 -->\n",
       "<g id=\"node4\" class=\"node\">\n",
       "<title>4584083072</title>\n",
       "<ellipse fill=\"none\" stroke=\"black\" cx=\"99\" cy=\"-90\" rx=\"27\" ry=\"18\"/>\n",
       "<text text-anchor=\"middle\" x=\"99\" y=\"-86.3\" font-family=\"Times,serif\" font-size=\"14.00\">sub</text>\n",
       "</g>\n",
       "<!-- 4584083216&#45;&gt;4584083072 -->\n",
       "<g id=\"edge4\" class=\"edge\">\n",
       "<title>4584083216&#45;&gt;4584083072</title>\n",
       "<path fill=\"none\" stroke=\"black\" d=\"M99,-143.7C99,-135.98 99,-126.71 99,-118.11\"/>\n",
       "<polygon fill=\"black\" stroke=\"black\" points=\"102.5,-118.1 99,-108.1 95.5,-118.1 102.5,-118.1\"/>\n",
       "</g>\n",
       "<!-- 4584083120 -->\n",
       "<g id=\"node5\" class=\"node\">\n",
       "<title>4584083120</title>\n",
       "<ellipse fill=\"none\" stroke=\"black\" cx=\"63\" cy=\"-18\" rx=\"27\" ry=\"18\"/>\n",
       "<text text-anchor=\"middle\" x=\"63\" y=\"-14.3\" font-family=\"Times,serif\" font-size=\"14.00\">&#45;4</text>\n",
       "</g>\n",
       "<!-- 4584083072&#45;&gt;4584083120 -->\n",
       "<g id=\"edge2\" class=\"edge\">\n",
       "<title>4584083072&#45;&gt;4584083120</title>\n",
       "<path fill=\"none\" stroke=\"black\" d=\"M90.65,-72.76C86.29,-64.28 80.85,-53.71 75.96,-44.2\"/>\n",
       "<polygon fill=\"black\" stroke=\"black\" points=\"78.99,-42.44 71.3,-35.15 72.77,-45.64 78.99,-42.44\"/>\n",
       "</g>\n",
       "<!-- 4584080432 -->\n",
       "<g id=\"node6\" class=\"node\">\n",
       "<title>4584080432</title>\n",
       "<ellipse fill=\"none\" stroke=\"black\" cx=\"135\" cy=\"-18\" rx=\"27\" ry=\"18\"/>\n",
       "<text text-anchor=\"middle\" x=\"135\" y=\"-14.3\" font-family=\"Times,serif\" font-size=\"14.00\">B</text>\n",
       "</g>\n",
       "<!-- 4584083072&#45;&gt;4584080432 -->\n",
       "<g id=\"edge3\" class=\"edge\">\n",
       "<title>4584083072&#45;&gt;4584080432</title>\n",
       "<path fill=\"none\" stroke=\"black\" d=\"M107.35,-72.76C111.71,-64.28 117.15,-53.71 122.04,-44.2\"/>\n",
       "<polygon fill=\"black\" stroke=\"black\" points=\"125.23,-45.64 126.7,-35.15 119.01,-42.44 125.23,-45.64\"/>\n",
       "</g>\n",
       "<!-- 4584081776 -->\n",
       "<g id=\"node8\" class=\"node\">\n",
       "<title>4584081776</title>\n",
       "<ellipse fill=\"none\" stroke=\"black\" cx=\"171\" cy=\"-90\" rx=\"27\" ry=\"18\"/>\n",
       "<text text-anchor=\"middle\" x=\"171\" y=\"-86.3\" font-family=\"Times,serif\" font-size=\"14.00\">D</text>\n",
       "</g>\n",
       "<!-- 4584082160&#45;&gt;4584081776 -->\n",
       "<g id=\"edge6\" class=\"edge\">\n",
       "<title>4584082160&#45;&gt;4584081776</title>\n",
       "<path fill=\"none\" stroke=\"black\" d=\"M171,-143.7C171,-135.98 171,-126.71 171,-118.11\"/>\n",
       "<polygon fill=\"black\" stroke=\"black\" points=\"174.5,-118.1 171,-108.1 167.5,-118.1 174.5,-118.1\"/>\n",
       "</g>\n",
       "<!-- 4584083168 -->\n",
       "<g id=\"node9\" class=\"node\">\n",
       "<title>4584083168</title>\n",
       "<ellipse fill=\"none\" stroke=\"black\" cx=\"243\" cy=\"-90\" rx=\"27\" ry=\"18\"/>\n",
       "<text text-anchor=\"middle\" x=\"243\" y=\"-86.3\" font-family=\"Times,serif\" font-size=\"14.00\">D</text>\n",
       "</g>\n",
       "<!-- 4584082160&#45;&gt;4584083168 -->\n",
       "<g id=\"edge7\" class=\"edge\">\n",
       "<title>4584082160&#45;&gt;4584083168</title>\n",
       "<path fill=\"none\" stroke=\"black\" d=\"M185.57,-146.83C195.75,-136.94 209.52,-123.55 221.03,-112.36\"/>\n",
       "<polygon fill=\"black\" stroke=\"black\" points=\"223.47,-114.87 228.2,-105.38 218.59,-109.85 223.47,-114.87\"/>\n",
       "</g>\n",
       "</g>\n",
       "</svg>\n"
      ],
      "text/plain": [
       "<graphviz.dot.Digraph at 0x1113b89a0>"
      ]
     },
     "execution_count": 32,
     "metadata": {},
     "output_type": "execute_result"
    }
   ],
   "source": [
    "parent2 = grow_random_tree()\n",
    "print_tree(parent2)"
   ]
  },
  {
   "cell_type": "markdown",
   "metadata": {
    "slideshow": {
     "slide_type": "skip"
    }
   },
   "source": [
    "Now we can produce an offspring by calling our `crossover` function with these two parents:"
   ]
  },
  {
   "cell_type": "code",
   "execution_count": 33,
   "metadata": {
    "slideshow": {
     "slide_type": "fragment"
    }
   },
   "outputs": [
    {
     "data": {
      "image/svg+xml": [
       "<?xml version=\"1.0\" encoding=\"UTF-8\" standalone=\"no\"?>\n",
       "<!DOCTYPE svg PUBLIC \"-//W3C//DTD SVG 1.1//EN\"\n",
       " \"http://www.w3.org/Graphics/SVG/1.1/DTD/svg11.dtd\">\n",
       "<!-- Generated by graphviz version 2.50.0 (20211204.2007)\n",
       " -->\n",
       "<!-- Pages: 1 -->\n",
       "<svg width=\"278pt\" height=\"404pt\"\n",
       " viewBox=\"0.00 0.00 278.00 404.00\" xmlns=\"http://www.w3.org/2000/svg\" xmlns:xlink=\"http://www.w3.org/1999/xlink\">\n",
       "<g id=\"graph0\" class=\"graph\" transform=\"scale(1 1) rotate(0) translate(4 400)\">\n",
       "<polygon fill=\"white\" stroke=\"transparent\" points=\"-4,4 -4,-400 274,-400 274,4 -4,4\"/>\n",
       "<!-- 4584080144 -->\n",
       "<g id=\"node1\" class=\"node\">\n",
       "<title>4584080144</title>\n",
       "<ellipse fill=\"none\" stroke=\"black\" cx=\"135\" cy=\"-378\" rx=\"27\" ry=\"18\"/>\n",
       "<text text-anchor=\"middle\" x=\"135\" y=\"-374.3\" font-family=\"Times,serif\" font-size=\"14.00\">sub</text>\n",
       "</g>\n",
       "<!-- 4584141440 -->\n",
       "<g id=\"node2\" class=\"node\">\n",
       "<title>4584141440</title>\n",
       "<ellipse fill=\"none\" stroke=\"black\" cx=\"99\" cy=\"-306\" rx=\"27\" ry=\"18\"/>\n",
       "<text text-anchor=\"middle\" x=\"99\" y=\"-302.3\" font-family=\"Times,serif\" font-size=\"14.00\">add</text>\n",
       "</g>\n",
       "<!-- 4584080144&#45;&gt;4584141440 -->\n",
       "<g id=\"edge9\" class=\"edge\">\n",
       "<title>4584080144&#45;&gt;4584141440</title>\n",
       "<path fill=\"none\" stroke=\"black\" d=\"M126.65,-360.76C122.29,-352.28 116.85,-341.71 111.96,-332.2\"/>\n",
       "<polygon fill=\"black\" stroke=\"black\" points=\"114.99,-330.44 107.3,-323.15 108.77,-333.64 114.99,-330.44\"/>\n",
       "</g>\n",
       "<!-- 4584142064 -->\n",
       "<g id=\"node11\" class=\"node\">\n",
       "<title>4584142064</title>\n",
       "<ellipse fill=\"none\" stroke=\"black\" cx=\"171\" cy=\"-306\" rx=\"27\" ry=\"18\"/>\n",
       "<text text-anchor=\"middle\" x=\"171\" y=\"-302.3\" font-family=\"Times,serif\" font-size=\"14.00\">div</text>\n",
       "</g>\n",
       "<!-- 4584080144&#45;&gt;4584142064 -->\n",
       "<g id=\"edge12\" class=\"edge\">\n",
       "<title>4584080144&#45;&gt;4584142064</title>\n",
       "<path fill=\"none\" stroke=\"black\" d=\"M143.35,-360.76C147.71,-352.28 153.15,-341.71 158.04,-332.2\"/>\n",
       "<polygon fill=\"black\" stroke=\"black\" points=\"161.23,-333.64 162.7,-323.15 155.01,-330.44 161.23,-333.64\"/>\n",
       "</g>\n",
       "<!-- 4584141632 -->\n",
       "<g id=\"node3\" class=\"node\">\n",
       "<title>4584141632</title>\n",
       "<ellipse fill=\"none\" stroke=\"black\" cx=\"27\" cy=\"-234\" rx=\"27\" ry=\"18\"/>\n",
       "<text text-anchor=\"middle\" x=\"27\" y=\"-230.3\" font-family=\"Times,serif\" font-size=\"14.00\">A</text>\n",
       "</g>\n",
       "<!-- 4584141440&#45;&gt;4584141632 -->\n",
       "<g id=\"edge1\" class=\"edge\">\n",
       "<title>4584141440&#45;&gt;4584141632</title>\n",
       "<path fill=\"none\" stroke=\"black\" d=\"M84.43,-290.83C74.25,-280.94 60.48,-267.55 48.97,-256.36\"/>\n",
       "<polygon fill=\"black\" stroke=\"black\" points=\"51.41,-253.85 41.8,-249.38 46.53,-258.87 51.41,-253.85\"/>\n",
       "</g>\n",
       "<!-- 4584141728 -->\n",
       "<g id=\"node4\" class=\"node\">\n",
       "<title>4584141728</title>\n",
       "<ellipse fill=\"none\" stroke=\"black\" cx=\"99\" cy=\"-234\" rx=\"27\" ry=\"18\"/>\n",
       "<text text-anchor=\"middle\" x=\"99\" y=\"-230.3\" font-family=\"Times,serif\" font-size=\"14.00\">sub</text>\n",
       "</g>\n",
       "<!-- 4584141440&#45;&gt;4584141728 -->\n",
       "<g id=\"edge8\" class=\"edge\">\n",
       "<title>4584141440&#45;&gt;4584141728</title>\n",
       "<path fill=\"none\" stroke=\"black\" d=\"M99,-287.7C99,-279.98 99,-270.71 99,-262.11\"/>\n",
       "<polygon fill=\"black\" stroke=\"black\" points=\"102.5,-262.1 99,-252.1 95.5,-262.1 102.5,-262.1\"/>\n",
       "</g>\n",
       "<!-- 4584141872 -->\n",
       "<g id=\"node5\" class=\"node\">\n",
       "<title>4584141872</title>\n",
       "<ellipse fill=\"none\" stroke=\"black\" cx=\"63\" cy=\"-162\" rx=\"27\" ry=\"18\"/>\n",
       "<text text-anchor=\"middle\" x=\"63\" y=\"-158.3\" font-family=\"Times,serif\" font-size=\"14.00\">&#45;4</text>\n",
       "</g>\n",
       "<!-- 4584141728&#45;&gt;4584141872 -->\n",
       "<g id=\"edge2\" class=\"edge\">\n",
       "<title>4584141728&#45;&gt;4584141872</title>\n",
       "<path fill=\"none\" stroke=\"black\" d=\"M90.65,-216.76C86.29,-208.28 80.85,-197.71 75.96,-188.2\"/>\n",
       "<polygon fill=\"black\" stroke=\"black\" points=\"78.99,-186.44 71.3,-179.15 72.77,-189.64 78.99,-186.44\"/>\n",
       "</g>\n",
       "<!-- 4584141968 -->\n",
       "<g id=\"node6\" class=\"node\">\n",
       "<title>4584141968</title>\n",
       "<ellipse fill=\"none\" stroke=\"black\" cx=\"135\" cy=\"-162\" rx=\"27\" ry=\"18\"/>\n",
       "<text text-anchor=\"middle\" x=\"135\" y=\"-158.3\" font-family=\"Times,serif\" font-size=\"14.00\">mul</text>\n",
       "</g>\n",
       "<!-- 4584141728&#45;&gt;4584141968 -->\n",
       "<g id=\"edge7\" class=\"edge\">\n",
       "<title>4584141728&#45;&gt;4584141968</title>\n",
       "<path fill=\"none\" stroke=\"black\" d=\"M107.35,-216.76C111.71,-208.28 117.15,-197.71 122.04,-188.2\"/>\n",
       "<polygon fill=\"black\" stroke=\"black\" points=\"125.23,-189.64 126.7,-179.15 119.01,-186.44 125.23,-189.64\"/>\n",
       "</g>\n",
       "<!-- 4584141008 -->\n",
       "<g id=\"node7\" class=\"node\">\n",
       "<title>4584141008</title>\n",
       "<ellipse fill=\"none\" stroke=\"black\" cx=\"99\" cy=\"-90\" rx=\"27\" ry=\"18\"/>\n",
       "<text text-anchor=\"middle\" x=\"99\" y=\"-86.3\" font-family=\"Times,serif\" font-size=\"14.00\">A</text>\n",
       "</g>\n",
       "<!-- 4584141968&#45;&gt;4584141008 -->\n",
       "<g id=\"edge3\" class=\"edge\">\n",
       "<title>4584141968&#45;&gt;4584141008</title>\n",
       "<path fill=\"none\" stroke=\"black\" d=\"M126.65,-144.76C122.29,-136.28 116.85,-125.71 111.96,-116.2\"/>\n",
       "<polygon fill=\"black\" stroke=\"black\" points=\"114.99,-114.44 107.3,-107.15 108.77,-117.64 114.99,-114.44\"/>\n",
       "</g>\n",
       "<!-- 4584141248 -->\n",
       "<g id=\"node8\" class=\"node\">\n",
       "<title>4584141248</title>\n",
       "<ellipse fill=\"none\" stroke=\"black\" cx=\"171\" cy=\"-90\" rx=\"27\" ry=\"18\"/>\n",
       "<text text-anchor=\"middle\" x=\"171\" y=\"-86.3\" font-family=\"Times,serif\" font-size=\"14.00\">sub</text>\n",
       "</g>\n",
       "<!-- 4584141968&#45;&gt;4584141248 -->\n",
       "<g id=\"edge6\" class=\"edge\">\n",
       "<title>4584141968&#45;&gt;4584141248</title>\n",
       "<path fill=\"none\" stroke=\"black\" d=\"M143.35,-144.76C147.71,-136.28 153.15,-125.71 158.04,-116.2\"/>\n",
       "<polygon fill=\"black\" stroke=\"black\" points=\"161.23,-117.64 162.7,-107.15 155.01,-114.44 161.23,-117.64\"/>\n",
       "</g>\n",
       "<!-- 4584141152 -->\n",
       "<g id=\"node9\" class=\"node\">\n",
       "<title>4584141152</title>\n",
       "<ellipse fill=\"none\" stroke=\"black\" cx=\"135\" cy=\"-18\" rx=\"27\" ry=\"18\"/>\n",
       "<text text-anchor=\"middle\" x=\"135\" y=\"-14.3\" font-family=\"Times,serif\" font-size=\"14.00\">D</text>\n",
       "</g>\n",
       "<!-- 4584141248&#45;&gt;4584141152 -->\n",
       "<g id=\"edge4\" class=\"edge\">\n",
       "<title>4584141248&#45;&gt;4584141152</title>\n",
       "<path fill=\"none\" stroke=\"black\" d=\"M162.65,-72.76C158.29,-64.28 152.85,-53.71 147.96,-44.2\"/>\n",
       "<polygon fill=\"black\" stroke=\"black\" points=\"150.99,-42.44 143.3,-35.15 144.77,-45.64 150.99,-42.44\"/>\n",
       "</g>\n",
       "<!-- 4584141344 -->\n",
       "<g id=\"node10\" class=\"node\">\n",
       "<title>4584141344</title>\n",
       "<ellipse fill=\"none\" stroke=\"black\" cx=\"207\" cy=\"-18\" rx=\"27\" ry=\"18\"/>\n",
       "<text text-anchor=\"middle\" x=\"207\" y=\"-14.3\" font-family=\"Times,serif\" font-size=\"14.00\">A</text>\n",
       "</g>\n",
       "<!-- 4584141248&#45;&gt;4584141344 -->\n",
       "<g id=\"edge5\" class=\"edge\">\n",
       "<title>4584141248&#45;&gt;4584141344</title>\n",
       "<path fill=\"none\" stroke=\"black\" d=\"M179.35,-72.76C183.71,-64.28 189.15,-53.71 194.04,-44.2\"/>\n",
       "<polygon fill=\"black\" stroke=\"black\" points=\"197.23,-45.64 198.7,-35.15 191.01,-42.44 197.23,-45.64\"/>\n",
       "</g>\n",
       "<!-- 4584142160 -->\n",
       "<g id=\"node12\" class=\"node\">\n",
       "<title>4584142160</title>\n",
       "<ellipse fill=\"none\" stroke=\"black\" cx=\"171\" cy=\"-234\" rx=\"27\" ry=\"18\"/>\n",
       "<text text-anchor=\"middle\" x=\"171\" y=\"-230.3\" font-family=\"Times,serif\" font-size=\"14.00\">D</text>\n",
       "</g>\n",
       "<!-- 4584142064&#45;&gt;4584142160 -->\n",
       "<g id=\"edge10\" class=\"edge\">\n",
       "<title>4584142064&#45;&gt;4584142160</title>\n",
       "<path fill=\"none\" stroke=\"black\" d=\"M171,-287.7C171,-279.98 171,-270.71 171,-262.11\"/>\n",
       "<polygon fill=\"black\" stroke=\"black\" points=\"174.5,-262.1 171,-252.1 167.5,-262.1 174.5,-262.1\"/>\n",
       "</g>\n",
       "<!-- 4584142208 -->\n",
       "<g id=\"node13\" class=\"node\">\n",
       "<title>4584142208</title>\n",
       "<ellipse fill=\"none\" stroke=\"black\" cx=\"243\" cy=\"-234\" rx=\"27\" ry=\"18\"/>\n",
       "<text text-anchor=\"middle\" x=\"243\" y=\"-230.3\" font-family=\"Times,serif\" font-size=\"14.00\">D</text>\n",
       "</g>\n",
       "<!-- 4584142064&#45;&gt;4584142208 -->\n",
       "<g id=\"edge11\" class=\"edge\">\n",
       "<title>4584142064&#45;&gt;4584142208</title>\n",
       "<path fill=\"none\" stroke=\"black\" d=\"M185.57,-290.83C195.75,-280.94 209.52,-267.55 221.03,-256.36\"/>\n",
       "<polygon fill=\"black\" stroke=\"black\" points=\"223.47,-258.87 228.2,-249.38 218.59,-253.85 223.47,-258.87\"/>\n",
       "</g>\n",
       "</g>\n",
       "</svg>\n"
      ],
      "text/plain": [
       "<graphviz.dot.Digraph at 0x1113b86a0>"
      ]
     },
     "execution_count": 33,
     "metadata": {},
     "output_type": "execute_result"
    }
   ],
   "source": [
    "offspring = subtree_crossover(parent1, parent2)\n",
    "print_tree(offspring)"
   ]
  },
  {
   "cell_type": "markdown",
   "metadata": {
    "slideshow": {
     "slide_type": "skip"
    }
   },
   "source": [
    "Often crossover points are not actually sampled with a uniform random distribution though: Given a tree with branching factor 2 or more, the majority of nodes will be leaves, which crossover will mostly cut a single leaf. A common alternative is to apply a 90% probability of choosing a function node, and only a 10% chance of choosing a terminal node."
   ]
  },
  {
   "cell_type": "markdown",
   "metadata": {
    "slideshow": {
     "slide_type": "slide"
    }
   },
   "source": [
    "#### Mutation"
   ]
  },
  {
   "cell_type": "markdown",
   "metadata": {
    "slideshow": {
     "slide_type": "skip"
    }
   },
   "source": [
    "\n",
    "Subtree mutation (a.k.a. headless chicken mutation) is a simple mutation where we pick a random subtree, and replace it with a randomly generated subtree:"
   ]
  },
  {
   "cell_type": "code",
   "execution_count": 34,
   "metadata": {
    "slideshow": {
     "slide_type": "fragment"
    }
   },
   "outputs": [],
   "source": [
    "P_mutate = 0.2"
   ]
  },
  {
   "cell_type": "code",
   "execution_count": 35,
   "metadata": {
    "slideshow": {
     "slide_type": "fragment"
    }
   },
   "outputs": [],
   "source": [
    "def subtree_mutation(tree):\n",
    "    mutation_point = random.randint(1, size(tree))\n",
    "    random_subtree = grow_random_tree(MAX_DEPTH - 2)\n",
    "    insert_subtree_at(tree, random_subtree, Counter(mutation_point))"
   ]
  },
  {
   "cell_type": "code",
   "execution_count": 36,
   "metadata": {
    "slideshow": {
     "slide_type": "subslide"
    }
   },
   "outputs": [
    {
     "data": {
      "image/svg+xml": [
       "<?xml version=\"1.0\" encoding=\"UTF-8\" standalone=\"no\"?>\n",
       "<!DOCTYPE svg PUBLIC \"-//W3C//DTD SVG 1.1//EN\"\n",
       " \"http://www.w3.org/Graphics/SVG/1.1/DTD/svg11.dtd\">\n",
       "<!-- Generated by graphviz version 2.50.0 (20211204.2007)\n",
       " -->\n",
       "<!-- Pages: 1 -->\n",
       "<svg width=\"332pt\" height=\"260pt\"\n",
       " viewBox=\"0.00 0.00 332.00 260.00\" xmlns=\"http://www.w3.org/2000/svg\" xmlns:xlink=\"http://www.w3.org/1999/xlink\">\n",
       "<g id=\"graph0\" class=\"graph\" transform=\"scale(1 1) rotate(0) translate(4 256)\">\n",
       "<polygon fill=\"white\" stroke=\"transparent\" points=\"-4,4 -4,-256 328,-256 328,4 -4,4\"/>\n",
       "<!-- 4584081680 -->\n",
       "<g id=\"node1\" class=\"node\">\n",
       "<title>4584081680</title>\n",
       "<ellipse fill=\"none\" stroke=\"black\" cx=\"135\" cy=\"-234\" rx=\"27\" ry=\"18\"/>\n",
       "<text text-anchor=\"middle\" x=\"135\" y=\"-230.3\" font-family=\"Times,serif\" font-size=\"14.00\">sub</text>\n",
       "</g>\n",
       "<!-- 4584080192 -->\n",
       "<g id=\"node2\" class=\"node\">\n",
       "<title>4584080192</title>\n",
       "<ellipse fill=\"none\" stroke=\"black\" cx=\"99\" cy=\"-162\" rx=\"27\" ry=\"18\"/>\n",
       "<text text-anchor=\"middle\" x=\"99\" y=\"-158.3\" font-family=\"Times,serif\" font-size=\"14.00\">mul</text>\n",
       "</g>\n",
       "<!-- 4584081680&#45;&gt;4584080192 -->\n",
       "<g id=\"edge5\" class=\"edge\">\n",
       "<title>4584081680&#45;&gt;4584080192</title>\n",
       "<path fill=\"none\" stroke=\"black\" d=\"M126.65,-216.76C122.29,-208.28 116.85,-197.71 111.96,-188.2\"/>\n",
       "<polygon fill=\"black\" stroke=\"black\" points=\"114.99,-186.44 107.3,-179.15 108.77,-189.64 114.99,-186.44\"/>\n",
       "</g>\n",
       "<!-- 4584080816 -->\n",
       "<g id=\"node7\" class=\"node\">\n",
       "<title>4584080816</title>\n",
       "<ellipse fill=\"none\" stroke=\"black\" cx=\"171\" cy=\"-162\" rx=\"27\" ry=\"18\"/>\n",
       "<text text-anchor=\"middle\" x=\"171\" y=\"-158.3\" font-family=\"Times,serif\" font-size=\"14.00\">div</text>\n",
       "</g>\n",
       "<!-- 4584081680&#45;&gt;4584080816 -->\n",
       "<g id=\"edge10\" class=\"edge\">\n",
       "<title>4584081680&#45;&gt;4584080816</title>\n",
       "<path fill=\"none\" stroke=\"black\" d=\"M143.35,-216.76C147.71,-208.28 153.15,-197.71 158.04,-188.2\"/>\n",
       "<polygon fill=\"black\" stroke=\"black\" points=\"161.23,-189.64 162.7,-179.15 155.01,-186.44 161.23,-189.64\"/>\n",
       "</g>\n",
       "<!-- 4584082784 -->\n",
       "<g id=\"node3\" class=\"node\">\n",
       "<title>4584082784</title>\n",
       "<ellipse fill=\"none\" stroke=\"black\" cx=\"27\" cy=\"-90\" rx=\"27\" ry=\"18\"/>\n",
       "<text text-anchor=\"middle\" x=\"27\" y=\"-86.3\" font-family=\"Times,serif\" font-size=\"14.00\">A</text>\n",
       "</g>\n",
       "<!-- 4584080192&#45;&gt;4584082784 -->\n",
       "<g id=\"edge1\" class=\"edge\">\n",
       "<title>4584080192&#45;&gt;4584082784</title>\n",
       "<path fill=\"none\" stroke=\"black\" d=\"M84.43,-146.83C74.25,-136.94 60.48,-123.55 48.97,-112.36\"/>\n",
       "<polygon fill=\"black\" stroke=\"black\" points=\"51.41,-109.85 41.8,-105.38 46.53,-114.87 51.41,-109.85\"/>\n",
       "</g>\n",
       "<!-- 4584080672 -->\n",
       "<g id=\"node4\" class=\"node\">\n",
       "<title>4584080672</title>\n",
       "<ellipse fill=\"none\" stroke=\"black\" cx=\"99\" cy=\"-90\" rx=\"27\" ry=\"18\"/>\n",
       "<text text-anchor=\"middle\" x=\"99\" y=\"-86.3\" font-family=\"Times,serif\" font-size=\"14.00\">sub</text>\n",
       "</g>\n",
       "<!-- 4584080192&#45;&gt;4584080672 -->\n",
       "<g id=\"edge4\" class=\"edge\">\n",
       "<title>4584080192&#45;&gt;4584080672</title>\n",
       "<path fill=\"none\" stroke=\"black\" d=\"M99,-143.7C99,-135.98 99,-126.71 99,-118.11\"/>\n",
       "<polygon fill=\"black\" stroke=\"black\" points=\"102.5,-118.1 99,-108.1 95.5,-118.1 102.5,-118.1\"/>\n",
       "</g>\n",
       "<!-- 4584082592 -->\n",
       "<g id=\"node5\" class=\"node\">\n",
       "<title>4584082592</title>\n",
       "<ellipse fill=\"none\" stroke=\"black\" cx=\"63\" cy=\"-18\" rx=\"27\" ry=\"18\"/>\n",
       "<text text-anchor=\"middle\" x=\"63\" y=\"-14.3\" font-family=\"Times,serif\" font-size=\"14.00\">D</text>\n",
       "</g>\n",
       "<!-- 4584080672&#45;&gt;4584082592 -->\n",
       "<g id=\"edge2\" class=\"edge\">\n",
       "<title>4584080672&#45;&gt;4584082592</title>\n",
       "<path fill=\"none\" stroke=\"black\" d=\"M90.65,-72.76C86.29,-64.28 80.85,-53.71 75.96,-44.2\"/>\n",
       "<polygon fill=\"black\" stroke=\"black\" points=\"78.99,-42.44 71.3,-35.15 72.77,-45.64 78.99,-42.44\"/>\n",
       "</g>\n",
       "<!-- 4584082208 -->\n",
       "<g id=\"node6\" class=\"node\">\n",
       "<title>4584082208</title>\n",
       "<ellipse fill=\"none\" stroke=\"black\" cx=\"135\" cy=\"-18\" rx=\"27\" ry=\"18\"/>\n",
       "<text text-anchor=\"middle\" x=\"135\" y=\"-14.3\" font-family=\"Times,serif\" font-size=\"14.00\">A</text>\n",
       "</g>\n",
       "<!-- 4584080672&#45;&gt;4584082208 -->\n",
       "<g id=\"edge3\" class=\"edge\">\n",
       "<title>4584080672&#45;&gt;4584082208</title>\n",
       "<path fill=\"none\" stroke=\"black\" d=\"M107.35,-72.76C111.71,-64.28 117.15,-53.71 122.04,-44.2\"/>\n",
       "<polygon fill=\"black\" stroke=\"black\" points=\"125.23,-45.64 126.7,-35.15 119.01,-42.44 125.23,-45.64\"/>\n",
       "</g>\n",
       "<!-- 4584082256 -->\n",
       "<g id=\"node8\" class=\"node\">\n",
       "<title>4584082256</title>\n",
       "<ellipse fill=\"none\" stroke=\"black\" cx=\"171\" cy=\"-90\" rx=\"27\" ry=\"18\"/>\n",
       "<text text-anchor=\"middle\" x=\"171\" y=\"-86.3\" font-family=\"Times,serif\" font-size=\"14.00\">A</text>\n",
       "</g>\n",
       "<!-- 4584080816&#45;&gt;4584082256 -->\n",
       "<g id=\"edge6\" class=\"edge\">\n",
       "<title>4584080816&#45;&gt;4584082256</title>\n",
       "<path fill=\"none\" stroke=\"black\" d=\"M171,-143.7C171,-135.98 171,-126.71 171,-118.11\"/>\n",
       "<polygon fill=\"black\" stroke=\"black\" points=\"174.5,-118.1 171,-108.1 167.5,-118.1 174.5,-118.1\"/>\n",
       "</g>\n",
       "<!-- 4584082496 -->\n",
       "<g id=\"node9\" class=\"node\">\n",
       "<title>4584082496</title>\n",
       "<ellipse fill=\"none\" stroke=\"black\" cx=\"243\" cy=\"-90\" rx=\"27\" ry=\"18\"/>\n",
       "<text text-anchor=\"middle\" x=\"243\" y=\"-86.3\" font-family=\"Times,serif\" font-size=\"14.00\">add</text>\n",
       "</g>\n",
       "<!-- 4584080816&#45;&gt;4584082496 -->\n",
       "<g id=\"edge9\" class=\"edge\">\n",
       "<title>4584080816&#45;&gt;4584082496</title>\n",
       "<path fill=\"none\" stroke=\"black\" d=\"M185.57,-146.83C195.75,-136.94 209.52,-123.55 221.03,-112.36\"/>\n",
       "<polygon fill=\"black\" stroke=\"black\" points=\"223.47,-114.87 228.2,-105.38 218.59,-109.85 223.47,-114.87\"/>\n",
       "</g>\n",
       "<!-- 4584079568 -->\n",
       "<g id=\"node10\" class=\"node\">\n",
       "<title>4584079568</title>\n",
       "<ellipse fill=\"none\" stroke=\"black\" cx=\"225\" cy=\"-18\" rx=\"27\" ry=\"18\"/>\n",
       "<text text-anchor=\"middle\" x=\"225\" y=\"-14.3\" font-family=\"Times,serif\" font-size=\"14.00\">B</text>\n",
       "</g>\n",
       "<!-- 4584082496&#45;&gt;4584079568 -->\n",
       "<g id=\"edge7\" class=\"edge\">\n",
       "<title>4584082496&#45;&gt;4584079568</title>\n",
       "<path fill=\"none\" stroke=\"black\" d=\"M238.64,-72.05C236.61,-64.14 234.14,-54.54 231.86,-45.69\"/>\n",
       "<polygon fill=\"black\" stroke=\"black\" points=\"235.2,-44.6 229.32,-35.79 228.42,-46.35 235.2,-44.6\"/>\n",
       "</g>\n",
       "<!-- 4584079664 -->\n",
       "<g id=\"node11\" class=\"node\">\n",
       "<title>4584079664</title>\n",
       "<ellipse fill=\"none\" stroke=\"black\" cx=\"297\" cy=\"-18\" rx=\"27\" ry=\"18\"/>\n",
       "<text text-anchor=\"middle\" x=\"297\" y=\"-14.3\" font-family=\"Times,serif\" font-size=\"14.00\">D</text>\n",
       "</g>\n",
       "<!-- 4584082496&#45;&gt;4584079664 -->\n",
       "<g id=\"edge8\" class=\"edge\">\n",
       "<title>4584082496&#45;&gt;4584079664</title>\n",
       "<path fill=\"none\" stroke=\"black\" d=\"M254.98,-73.46C261.98,-64.4 270.94,-52.79 278.79,-42.61\"/>\n",
       "<polygon fill=\"black\" stroke=\"black\" points=\"281.71,-44.55 285.05,-34.49 276.17,-40.27 281.71,-44.55\"/>\n",
       "</g>\n",
       "</g>\n",
       "</svg>\n"
      ],
      "text/plain": [
       "<graphviz.dot.Digraph at 0x1113c7b50>"
      ]
     },
     "execution_count": 36,
     "metadata": {},
     "output_type": "execute_result"
    }
   ],
   "source": [
    "print_tree(parent1)"
   ]
  },
  {
   "cell_type": "code",
   "execution_count": 37,
   "metadata": {
    "slideshow": {
     "slide_type": "fragment"
    }
   },
   "outputs": [
    {
     "data": {
      "image/svg+xml": [
       "<?xml version=\"1.0\" encoding=\"UTF-8\" standalone=\"no\"?>\n",
       "<!DOCTYPE svg PUBLIC \"-//W3C//DTD SVG 1.1//EN\"\n",
       " \"http://www.w3.org/Graphics/SVG/1.1/DTD/svg11.dtd\">\n",
       "<!-- Generated by graphviz version 2.50.0 (20211204.2007)\n",
       " -->\n",
       "<!-- Pages: 1 -->\n",
       "<svg width=\"422pt\" height=\"332pt\"\n",
       " viewBox=\"0.00 0.00 422.00 332.00\" xmlns=\"http://www.w3.org/2000/svg\" xmlns:xlink=\"http://www.w3.org/1999/xlink\">\n",
       "<g id=\"graph0\" class=\"graph\" transform=\"scale(1 1) rotate(0) translate(4 328)\">\n",
       "<polygon fill=\"white\" stroke=\"transparent\" points=\"-4,4 -4,-328 418,-328 418,4 -4,4\"/>\n",
       "<!-- 4584144800 -->\n",
       "<g id=\"node1\" class=\"node\">\n",
       "<title>4584144800</title>\n",
       "<ellipse fill=\"none\" stroke=\"black\" cx=\"207\" cy=\"-306\" rx=\"27\" ry=\"18\"/>\n",
       "<text text-anchor=\"middle\" x=\"207\" y=\"-302.3\" font-family=\"Times,serif\" font-size=\"14.00\">sub</text>\n",
       "</g>\n",
       "<!-- 4584143216 -->\n",
       "<g id=\"node2\" class=\"node\">\n",
       "<title>4584143216</title>\n",
       "<ellipse fill=\"none\" stroke=\"black\" cx=\"171\" cy=\"-234\" rx=\"27\" ry=\"18\"/>\n",
       "<text text-anchor=\"middle\" x=\"171\" y=\"-230.3\" font-family=\"Times,serif\" font-size=\"14.00\">mul</text>\n",
       "</g>\n",
       "<!-- 4584144800&#45;&gt;4584143216 -->\n",
       "<g id=\"edge9\" class=\"edge\">\n",
       "<title>4584144800&#45;&gt;4584143216</title>\n",
       "<path fill=\"none\" stroke=\"black\" d=\"M198.65,-288.76C194.29,-280.28 188.85,-269.71 183.96,-260.2\"/>\n",
       "<polygon fill=\"black\" stroke=\"black\" points=\"186.99,-258.44 179.3,-251.15 180.77,-261.64 186.99,-258.44\"/>\n",
       "</g>\n",
       "<!-- 4584108096 -->\n",
       "<g id=\"node11\" class=\"node\">\n",
       "<title>4584108096</title>\n",
       "<ellipse fill=\"none\" stroke=\"black\" cx=\"243\" cy=\"-234\" rx=\"27\" ry=\"18\"/>\n",
       "<text text-anchor=\"middle\" x=\"243\" y=\"-230.3\" font-family=\"Times,serif\" font-size=\"14.00\">div</text>\n",
       "</g>\n",
       "<!-- 4584144800&#45;&gt;4584108096 -->\n",
       "<g id=\"edge14\" class=\"edge\">\n",
       "<title>4584144800&#45;&gt;4584108096</title>\n",
       "<path fill=\"none\" stroke=\"black\" d=\"M215.35,-288.76C219.71,-280.28 225.15,-269.71 230.04,-260.2\"/>\n",
       "<polygon fill=\"black\" stroke=\"black\" points=\"233.23,-261.64 234.7,-251.15 227.01,-258.44 233.23,-261.64\"/>\n",
       "</g>\n",
       "<!-- 4584143168 -->\n",
       "<g id=\"node3\" class=\"node\">\n",
       "<title>4584143168</title>\n",
       "<ellipse fill=\"none\" stroke=\"black\" cx=\"99\" cy=\"-162\" rx=\"27\" ry=\"18\"/>\n",
       "<text text-anchor=\"middle\" x=\"99\" y=\"-158.3\" font-family=\"Times,serif\" font-size=\"14.00\">add</text>\n",
       "</g>\n",
       "<!-- 4584143216&#45;&gt;4584143168 -->\n",
       "<g id=\"edge5\" class=\"edge\">\n",
       "<title>4584143216&#45;&gt;4584143168</title>\n",
       "<path fill=\"none\" stroke=\"black\" d=\"M156.43,-218.83C146.25,-208.94 132.48,-195.55 120.97,-184.36\"/>\n",
       "<polygon fill=\"black\" stroke=\"black\" points=\"123.41,-181.85 113.8,-177.38 118.53,-186.87 123.41,-181.85\"/>\n",
       "</g>\n",
       "<!-- 4584142400 -->\n",
       "<g id=\"node8\" class=\"node\">\n",
       "<title>4584142400</title>\n",
       "<ellipse fill=\"none\" stroke=\"black\" cx=\"171\" cy=\"-162\" rx=\"27\" ry=\"18\"/>\n",
       "<text text-anchor=\"middle\" x=\"171\" y=\"-158.3\" font-family=\"Times,serif\" font-size=\"14.00\">sub</text>\n",
       "</g>\n",
       "<!-- 4584143216&#45;&gt;4584142400 -->\n",
       "<g id=\"edge8\" class=\"edge\">\n",
       "<title>4584143216&#45;&gt;4584142400</title>\n",
       "<path fill=\"none\" stroke=\"black\" d=\"M171,-215.7C171,-207.98 171,-198.71 171,-190.11\"/>\n",
       "<polygon fill=\"black\" stroke=\"black\" points=\"174.5,-190.1 171,-180.1 167.5,-190.1 174.5,-190.1\"/>\n",
       "</g>\n",
       "<!-- 4584144656 -->\n",
       "<g id=\"node4\" class=\"node\">\n",
       "<title>4584144656</title>\n",
       "<ellipse fill=\"none\" stroke=\"black\" cx=\"27\" cy=\"-90\" rx=\"27\" ry=\"18\"/>\n",
       "<text text-anchor=\"middle\" x=\"27\" y=\"-86.3\" font-family=\"Times,serif\" font-size=\"14.00\">C</text>\n",
       "</g>\n",
       "<!-- 4584143168&#45;&gt;4584144656 -->\n",
       "<g id=\"edge1\" class=\"edge\">\n",
       "<title>4584143168&#45;&gt;4584144656</title>\n",
       "<path fill=\"none\" stroke=\"black\" d=\"M84.43,-146.83C74.25,-136.94 60.48,-123.55 48.97,-112.36\"/>\n",
       "<polygon fill=\"black\" stroke=\"black\" points=\"51.41,-109.85 41.8,-105.38 46.53,-114.87 51.41,-109.85\"/>\n",
       "</g>\n",
       "<!-- 4584142112 -->\n",
       "<g id=\"node5\" class=\"node\">\n",
       "<title>4584142112</title>\n",
       "<ellipse fill=\"none\" stroke=\"black\" cx=\"99\" cy=\"-90\" rx=\"27\" ry=\"18\"/>\n",
       "<text text-anchor=\"middle\" x=\"99\" y=\"-86.3\" font-family=\"Times,serif\" font-size=\"14.00\">div</text>\n",
       "</g>\n",
       "<!-- 4584143168&#45;&gt;4584142112 -->\n",
       "<g id=\"edge4\" class=\"edge\">\n",
       "<title>4584143168&#45;&gt;4584142112</title>\n",
       "<path fill=\"none\" stroke=\"black\" d=\"M99,-143.7C99,-135.98 99,-126.71 99,-118.11\"/>\n",
       "<polygon fill=\"black\" stroke=\"black\" points=\"102.5,-118.1 99,-108.1 95.5,-118.1 102.5,-118.1\"/>\n",
       "</g>\n",
       "<!-- 4584142160 -->\n",
       "<g id=\"node6\" class=\"node\">\n",
       "<title>4584142160</title>\n",
       "<ellipse fill=\"none\" stroke=\"black\" cx=\"63\" cy=\"-18\" rx=\"27\" ry=\"18\"/>\n",
       "<text text-anchor=\"middle\" x=\"63\" y=\"-14.3\" font-family=\"Times,serif\" font-size=\"14.00\">B</text>\n",
       "</g>\n",
       "<!-- 4584142112&#45;&gt;4584142160 -->\n",
       "<g id=\"edge2\" class=\"edge\">\n",
       "<title>4584142112&#45;&gt;4584142160</title>\n",
       "<path fill=\"none\" stroke=\"black\" d=\"M90.65,-72.76C86.29,-64.28 80.85,-53.71 75.96,-44.2\"/>\n",
       "<polygon fill=\"black\" stroke=\"black\" points=\"78.99,-42.44 71.3,-35.15 72.77,-45.64 78.99,-42.44\"/>\n",
       "</g>\n",
       "<!-- 4584141440 -->\n",
       "<g id=\"node7\" class=\"node\">\n",
       "<title>4584141440</title>\n",
       "<ellipse fill=\"none\" stroke=\"black\" cx=\"135\" cy=\"-18\" rx=\"27\" ry=\"18\"/>\n",
       "<text text-anchor=\"middle\" x=\"135\" y=\"-14.3\" font-family=\"Times,serif\" font-size=\"14.00\">C</text>\n",
       "</g>\n",
       "<!-- 4584142112&#45;&gt;4584141440 -->\n",
       "<g id=\"edge3\" class=\"edge\">\n",
       "<title>4584142112&#45;&gt;4584141440</title>\n",
       "<path fill=\"none\" stroke=\"black\" d=\"M107.35,-72.76C111.71,-64.28 117.15,-53.71 122.04,-44.2\"/>\n",
       "<polygon fill=\"black\" stroke=\"black\" points=\"125.23,-45.64 126.7,-35.15 119.01,-42.44 125.23,-45.64\"/>\n",
       "</g>\n",
       "<!-- 4584144128 -->\n",
       "<g id=\"node9\" class=\"node\">\n",
       "<title>4584144128</title>\n",
       "<ellipse fill=\"none\" stroke=\"black\" cx=\"171\" cy=\"-90\" rx=\"27\" ry=\"18\"/>\n",
       "<text text-anchor=\"middle\" x=\"171\" y=\"-86.3\" font-family=\"Times,serif\" font-size=\"14.00\">D</text>\n",
       "</g>\n",
       "<!-- 4584142400&#45;&gt;4584144128 -->\n",
       "<g id=\"edge6\" class=\"edge\">\n",
       "<title>4584142400&#45;&gt;4584144128</title>\n",
       "<path fill=\"none\" stroke=\"black\" d=\"M171,-143.7C171,-135.98 171,-126.71 171,-118.11\"/>\n",
       "<polygon fill=\"black\" stroke=\"black\" points=\"174.5,-118.1 171,-108.1 167.5,-118.1 174.5,-118.1\"/>\n",
       "</g>\n",
       "<!-- 4584143120 -->\n",
       "<g id=\"node10\" class=\"node\">\n",
       "<title>4584143120</title>\n",
       "<ellipse fill=\"none\" stroke=\"black\" cx=\"243\" cy=\"-90\" rx=\"27\" ry=\"18\"/>\n",
       "<text text-anchor=\"middle\" x=\"243\" y=\"-86.3\" font-family=\"Times,serif\" font-size=\"14.00\">A</text>\n",
       "</g>\n",
       "<!-- 4584142400&#45;&gt;4584143120 -->\n",
       "<g id=\"edge7\" class=\"edge\">\n",
       "<title>4584142400&#45;&gt;4584143120</title>\n",
       "<path fill=\"none\" stroke=\"black\" d=\"M185.57,-146.83C195.75,-136.94 209.52,-123.55 221.03,-112.36\"/>\n",
       "<polygon fill=\"black\" stroke=\"black\" points=\"223.47,-114.87 228.2,-105.38 218.59,-109.85 223.47,-114.87\"/>\n",
       "</g>\n",
       "<!-- 4584108192 -->\n",
       "<g id=\"node12\" class=\"node\">\n",
       "<title>4584108192</title>\n",
       "<ellipse fill=\"none\" stroke=\"black\" cx=\"243\" cy=\"-162\" rx=\"27\" ry=\"18\"/>\n",
       "<text text-anchor=\"middle\" x=\"243\" y=\"-158.3\" font-family=\"Times,serif\" font-size=\"14.00\">A</text>\n",
       "</g>\n",
       "<!-- 4584108096&#45;&gt;4584108192 -->\n",
       "<g id=\"edge10\" class=\"edge\">\n",
       "<title>4584108096&#45;&gt;4584108192</title>\n",
       "<path fill=\"none\" stroke=\"black\" d=\"M243,-215.7C243,-207.98 243,-198.71 243,-190.11\"/>\n",
       "<polygon fill=\"black\" stroke=\"black\" points=\"246.5,-190.1 243,-180.1 239.5,-190.1 246.5,-190.1\"/>\n",
       "</g>\n",
       "<!-- 4584108288 -->\n",
       "<g id=\"node13\" class=\"node\">\n",
       "<title>4584108288</title>\n",
       "<ellipse fill=\"none\" stroke=\"black\" cx=\"315\" cy=\"-162\" rx=\"27\" ry=\"18\"/>\n",
       "<text text-anchor=\"middle\" x=\"315\" y=\"-158.3\" font-family=\"Times,serif\" font-size=\"14.00\">add</text>\n",
       "</g>\n",
       "<!-- 4584108096&#45;&gt;4584108288 -->\n",
       "<g id=\"edge13\" class=\"edge\">\n",
       "<title>4584108096&#45;&gt;4584108288</title>\n",
       "<path fill=\"none\" stroke=\"black\" d=\"M257.57,-218.83C267.75,-208.94 281.52,-195.55 293.03,-184.36\"/>\n",
       "<polygon fill=\"black\" stroke=\"black\" points=\"295.47,-186.87 300.2,-177.38 290.59,-181.85 295.47,-186.87\"/>\n",
       "</g>\n",
       "<!-- 4584108384 -->\n",
       "<g id=\"node14\" class=\"node\">\n",
       "<title>4584108384</title>\n",
       "<ellipse fill=\"none\" stroke=\"black\" cx=\"315\" cy=\"-90\" rx=\"27\" ry=\"18\"/>\n",
       "<text text-anchor=\"middle\" x=\"315\" y=\"-86.3\" font-family=\"Times,serif\" font-size=\"14.00\">B</text>\n",
       "</g>\n",
       "<!-- 4584108288&#45;&gt;4584108384 -->\n",
       "<g id=\"edge11\" class=\"edge\">\n",
       "<title>4584108288&#45;&gt;4584108384</title>\n",
       "<path fill=\"none\" stroke=\"black\" d=\"M315,-143.7C315,-135.98 315,-126.71 315,-118.11\"/>\n",
       "<polygon fill=\"black\" stroke=\"black\" points=\"318.5,-118.1 315,-108.1 311.5,-118.1 318.5,-118.1\"/>\n",
       "</g>\n",
       "<!-- 4584108480 -->\n",
       "<g id=\"node15\" class=\"node\">\n",
       "<title>4584108480</title>\n",
       "<ellipse fill=\"none\" stroke=\"black\" cx=\"387\" cy=\"-90\" rx=\"27\" ry=\"18\"/>\n",
       "<text text-anchor=\"middle\" x=\"387\" y=\"-86.3\" font-family=\"Times,serif\" font-size=\"14.00\">D</text>\n",
       "</g>\n",
       "<!-- 4584108288&#45;&gt;4584108480 -->\n",
       "<g id=\"edge12\" class=\"edge\">\n",
       "<title>4584108288&#45;&gt;4584108480</title>\n",
       "<path fill=\"none\" stroke=\"black\" d=\"M329.57,-146.83C339.75,-136.94 353.52,-123.55 365.03,-112.36\"/>\n",
       "<polygon fill=\"black\" stroke=\"black\" points=\"367.47,-114.87 372.2,-105.38 362.59,-109.85 367.47,-114.87\"/>\n",
       "</g>\n",
       "</g>\n",
       "</svg>\n"
      ],
      "text/plain": [
       "<graphviz.dot.Digraph at 0x1113b8310>"
      ]
     },
     "execution_count": 37,
     "metadata": {},
     "output_type": "execute_result"
    }
   ],
   "source": [
    "offspring = copy(parent1)\n",
    "subtree_mutation(offspring)\n",
    "print_tree(offspring)"
   ]
  },
  {
   "cell_type": "markdown",
   "metadata": {
    "slideshow": {
     "slide_type": "skip"
    }
   },
   "source": [
    "An alternative mutation operator is _point mutation_ where, for each node, we replace the node with a certain probability with another node of the same arity."
   ]
  },
  {
   "cell_type": "code",
   "execution_count": 38,
   "metadata": {
    "slideshow": {
     "slide_type": "slide"
    }
   },
   "outputs": [],
   "source": [
    "def point_mutation(tree):\n",
    "    if random.random() < P_mutate:\n",
    "        if tree.data in FUNCTIONS: \n",
    "            tree.data = random.choice(FUNCTIONS)\n",
    "        else:\n",
    "            tree.data = get_random_terminal()\n",
    "    \n",
    "    if tree.left:\n",
    "        point_mutation(tree.left)\n",
    "    if tree.right:\n",
    "        point_mutation(tree.right)"
   ]
  },
  {
   "cell_type": "code",
   "execution_count": 39,
   "metadata": {
    "slideshow": {
     "slide_type": "slide"
    }
   },
   "outputs": [
    {
     "data": {
      "image/svg+xml": [
       "<?xml version=\"1.0\" encoding=\"UTF-8\" standalone=\"no\"?>\n",
       "<!DOCTYPE svg PUBLIC \"-//W3C//DTD SVG 1.1//EN\"\n",
       " \"http://www.w3.org/Graphics/SVG/1.1/DTD/svg11.dtd\">\n",
       "<!-- Generated by graphviz version 2.50.0 (20211204.2007)\n",
       " -->\n",
       "<!-- Pages: 1 -->\n",
       "<svg width=\"332pt\" height=\"260pt\"\n",
       " viewBox=\"0.00 0.00 332.00 260.00\" xmlns=\"http://www.w3.org/2000/svg\" xmlns:xlink=\"http://www.w3.org/1999/xlink\">\n",
       "<g id=\"graph0\" class=\"graph\" transform=\"scale(1 1) rotate(0) translate(4 256)\">\n",
       "<polygon fill=\"white\" stroke=\"transparent\" points=\"-4,4 -4,-256 328,-256 328,4 -4,4\"/>\n",
       "<!-- 4584081680 -->\n",
       "<g id=\"node1\" class=\"node\">\n",
       "<title>4584081680</title>\n",
       "<ellipse fill=\"none\" stroke=\"black\" cx=\"135\" cy=\"-234\" rx=\"27\" ry=\"18\"/>\n",
       "<text text-anchor=\"middle\" x=\"135\" y=\"-230.3\" font-family=\"Times,serif\" font-size=\"14.00\">sub</text>\n",
       "</g>\n",
       "<!-- 4584080192 -->\n",
       "<g id=\"node2\" class=\"node\">\n",
       "<title>4584080192</title>\n",
       "<ellipse fill=\"none\" stroke=\"black\" cx=\"99\" cy=\"-162\" rx=\"27\" ry=\"18\"/>\n",
       "<text text-anchor=\"middle\" x=\"99\" y=\"-158.3\" font-family=\"Times,serif\" font-size=\"14.00\">mul</text>\n",
       "</g>\n",
       "<!-- 4584081680&#45;&gt;4584080192 -->\n",
       "<g id=\"edge5\" class=\"edge\">\n",
       "<title>4584081680&#45;&gt;4584080192</title>\n",
       "<path fill=\"none\" stroke=\"black\" d=\"M126.65,-216.76C122.29,-208.28 116.85,-197.71 111.96,-188.2\"/>\n",
       "<polygon fill=\"black\" stroke=\"black\" points=\"114.99,-186.44 107.3,-179.15 108.77,-189.64 114.99,-186.44\"/>\n",
       "</g>\n",
       "<!-- 4584080816 -->\n",
       "<g id=\"node7\" class=\"node\">\n",
       "<title>4584080816</title>\n",
       "<ellipse fill=\"none\" stroke=\"black\" cx=\"171\" cy=\"-162\" rx=\"27\" ry=\"18\"/>\n",
       "<text text-anchor=\"middle\" x=\"171\" y=\"-158.3\" font-family=\"Times,serif\" font-size=\"14.00\">div</text>\n",
       "</g>\n",
       "<!-- 4584081680&#45;&gt;4584080816 -->\n",
       "<g id=\"edge10\" class=\"edge\">\n",
       "<title>4584081680&#45;&gt;4584080816</title>\n",
       "<path fill=\"none\" stroke=\"black\" d=\"M143.35,-216.76C147.71,-208.28 153.15,-197.71 158.04,-188.2\"/>\n",
       "<polygon fill=\"black\" stroke=\"black\" points=\"161.23,-189.64 162.7,-179.15 155.01,-186.44 161.23,-189.64\"/>\n",
       "</g>\n",
       "<!-- 4584082784 -->\n",
       "<g id=\"node3\" class=\"node\">\n",
       "<title>4584082784</title>\n",
       "<ellipse fill=\"none\" stroke=\"black\" cx=\"27\" cy=\"-90\" rx=\"27\" ry=\"18\"/>\n",
       "<text text-anchor=\"middle\" x=\"27\" y=\"-86.3\" font-family=\"Times,serif\" font-size=\"14.00\">A</text>\n",
       "</g>\n",
       "<!-- 4584080192&#45;&gt;4584082784 -->\n",
       "<g id=\"edge1\" class=\"edge\">\n",
       "<title>4584080192&#45;&gt;4584082784</title>\n",
       "<path fill=\"none\" stroke=\"black\" d=\"M84.43,-146.83C74.25,-136.94 60.48,-123.55 48.97,-112.36\"/>\n",
       "<polygon fill=\"black\" stroke=\"black\" points=\"51.41,-109.85 41.8,-105.38 46.53,-114.87 51.41,-109.85\"/>\n",
       "</g>\n",
       "<!-- 4584080672 -->\n",
       "<g id=\"node4\" class=\"node\">\n",
       "<title>4584080672</title>\n",
       "<ellipse fill=\"none\" stroke=\"black\" cx=\"99\" cy=\"-90\" rx=\"27\" ry=\"18\"/>\n",
       "<text text-anchor=\"middle\" x=\"99\" y=\"-86.3\" font-family=\"Times,serif\" font-size=\"14.00\">sub</text>\n",
       "</g>\n",
       "<!-- 4584080192&#45;&gt;4584080672 -->\n",
       "<g id=\"edge4\" class=\"edge\">\n",
       "<title>4584080192&#45;&gt;4584080672</title>\n",
       "<path fill=\"none\" stroke=\"black\" d=\"M99,-143.7C99,-135.98 99,-126.71 99,-118.11\"/>\n",
       "<polygon fill=\"black\" stroke=\"black\" points=\"102.5,-118.1 99,-108.1 95.5,-118.1 102.5,-118.1\"/>\n",
       "</g>\n",
       "<!-- 4584082592 -->\n",
       "<g id=\"node5\" class=\"node\">\n",
       "<title>4584082592</title>\n",
       "<ellipse fill=\"none\" stroke=\"black\" cx=\"63\" cy=\"-18\" rx=\"27\" ry=\"18\"/>\n",
       "<text text-anchor=\"middle\" x=\"63\" y=\"-14.3\" font-family=\"Times,serif\" font-size=\"14.00\">D</text>\n",
       "</g>\n",
       "<!-- 4584080672&#45;&gt;4584082592 -->\n",
       "<g id=\"edge2\" class=\"edge\">\n",
       "<title>4584080672&#45;&gt;4584082592</title>\n",
       "<path fill=\"none\" stroke=\"black\" d=\"M90.65,-72.76C86.29,-64.28 80.85,-53.71 75.96,-44.2\"/>\n",
       "<polygon fill=\"black\" stroke=\"black\" points=\"78.99,-42.44 71.3,-35.15 72.77,-45.64 78.99,-42.44\"/>\n",
       "</g>\n",
       "<!-- 4584082208 -->\n",
       "<g id=\"node6\" class=\"node\">\n",
       "<title>4584082208</title>\n",
       "<ellipse fill=\"none\" stroke=\"black\" cx=\"135\" cy=\"-18\" rx=\"27\" ry=\"18\"/>\n",
       "<text text-anchor=\"middle\" x=\"135\" y=\"-14.3\" font-family=\"Times,serif\" font-size=\"14.00\">A</text>\n",
       "</g>\n",
       "<!-- 4584080672&#45;&gt;4584082208 -->\n",
       "<g id=\"edge3\" class=\"edge\">\n",
       "<title>4584080672&#45;&gt;4584082208</title>\n",
       "<path fill=\"none\" stroke=\"black\" d=\"M107.35,-72.76C111.71,-64.28 117.15,-53.71 122.04,-44.2\"/>\n",
       "<polygon fill=\"black\" stroke=\"black\" points=\"125.23,-45.64 126.7,-35.15 119.01,-42.44 125.23,-45.64\"/>\n",
       "</g>\n",
       "<!-- 4584082256 -->\n",
       "<g id=\"node8\" class=\"node\">\n",
       "<title>4584082256</title>\n",
       "<ellipse fill=\"none\" stroke=\"black\" cx=\"171\" cy=\"-90\" rx=\"27\" ry=\"18\"/>\n",
       "<text text-anchor=\"middle\" x=\"171\" y=\"-86.3\" font-family=\"Times,serif\" font-size=\"14.00\">A</text>\n",
       "</g>\n",
       "<!-- 4584080816&#45;&gt;4584082256 -->\n",
       "<g id=\"edge6\" class=\"edge\">\n",
       "<title>4584080816&#45;&gt;4584082256</title>\n",
       "<path fill=\"none\" stroke=\"black\" d=\"M171,-143.7C171,-135.98 171,-126.71 171,-118.11\"/>\n",
       "<polygon fill=\"black\" stroke=\"black\" points=\"174.5,-118.1 171,-108.1 167.5,-118.1 174.5,-118.1\"/>\n",
       "</g>\n",
       "<!-- 4584082496 -->\n",
       "<g id=\"node9\" class=\"node\">\n",
       "<title>4584082496</title>\n",
       "<ellipse fill=\"none\" stroke=\"black\" cx=\"243\" cy=\"-90\" rx=\"27\" ry=\"18\"/>\n",
       "<text text-anchor=\"middle\" x=\"243\" y=\"-86.3\" font-family=\"Times,serif\" font-size=\"14.00\">add</text>\n",
       "</g>\n",
       "<!-- 4584080816&#45;&gt;4584082496 -->\n",
       "<g id=\"edge9\" class=\"edge\">\n",
       "<title>4584080816&#45;&gt;4584082496</title>\n",
       "<path fill=\"none\" stroke=\"black\" d=\"M185.57,-146.83C195.75,-136.94 209.52,-123.55 221.03,-112.36\"/>\n",
       "<polygon fill=\"black\" stroke=\"black\" points=\"223.47,-114.87 228.2,-105.38 218.59,-109.85 223.47,-114.87\"/>\n",
       "</g>\n",
       "<!-- 4584079568 -->\n",
       "<g id=\"node10\" class=\"node\">\n",
       "<title>4584079568</title>\n",
       "<ellipse fill=\"none\" stroke=\"black\" cx=\"225\" cy=\"-18\" rx=\"27\" ry=\"18\"/>\n",
       "<text text-anchor=\"middle\" x=\"225\" y=\"-14.3\" font-family=\"Times,serif\" font-size=\"14.00\">B</text>\n",
       "</g>\n",
       "<!-- 4584082496&#45;&gt;4584079568 -->\n",
       "<g id=\"edge7\" class=\"edge\">\n",
       "<title>4584082496&#45;&gt;4584079568</title>\n",
       "<path fill=\"none\" stroke=\"black\" d=\"M238.64,-72.05C236.61,-64.14 234.14,-54.54 231.86,-45.69\"/>\n",
       "<polygon fill=\"black\" stroke=\"black\" points=\"235.2,-44.6 229.32,-35.79 228.42,-46.35 235.2,-44.6\"/>\n",
       "</g>\n",
       "<!-- 4584079664 -->\n",
       "<g id=\"node11\" class=\"node\">\n",
       "<title>4584079664</title>\n",
       "<ellipse fill=\"none\" stroke=\"black\" cx=\"297\" cy=\"-18\" rx=\"27\" ry=\"18\"/>\n",
       "<text text-anchor=\"middle\" x=\"297\" y=\"-14.3\" font-family=\"Times,serif\" font-size=\"14.00\">D</text>\n",
       "</g>\n",
       "<!-- 4584082496&#45;&gt;4584079664 -->\n",
       "<g id=\"edge8\" class=\"edge\">\n",
       "<title>4584082496&#45;&gt;4584079664</title>\n",
       "<path fill=\"none\" stroke=\"black\" d=\"M254.98,-73.46C261.98,-64.4 270.94,-52.79 278.79,-42.61\"/>\n",
       "<polygon fill=\"black\" stroke=\"black\" points=\"281.71,-44.55 285.05,-34.49 276.17,-40.27 281.71,-44.55\"/>\n",
       "</g>\n",
       "</g>\n",
       "</svg>\n"
      ],
      "text/plain": [
       "<graphviz.dot.Digraph at 0x1113c7c70>"
      ]
     },
     "execution_count": 39,
     "metadata": {},
     "output_type": "execute_result"
    }
   ],
   "source": [
    "print_tree(parent1)"
   ]
  },
  {
   "cell_type": "code",
   "execution_count": 40,
   "metadata": {
    "slideshow": {
     "slide_type": "fragment"
    }
   },
   "outputs": [
    {
     "data": {
      "image/svg+xml": [
       "<?xml version=\"1.0\" encoding=\"UTF-8\" standalone=\"no\"?>\n",
       "<!DOCTYPE svg PUBLIC \"-//W3C//DTD SVG 1.1//EN\"\n",
       " \"http://www.w3.org/Graphics/SVG/1.1/DTD/svg11.dtd\">\n",
       "<!-- Generated by graphviz version 2.50.0 (20211204.2007)\n",
       " -->\n",
       "<!-- Pages: 1 -->\n",
       "<svg width=\"332pt\" height=\"260pt\"\n",
       " viewBox=\"0.00 0.00 332.00 260.00\" xmlns=\"http://www.w3.org/2000/svg\" xmlns:xlink=\"http://www.w3.org/1999/xlink\">\n",
       "<g id=\"graph0\" class=\"graph\" transform=\"scale(1 1) rotate(0) translate(4 256)\">\n",
       "<polygon fill=\"white\" stroke=\"transparent\" points=\"-4,4 -4,-256 328,-256 328,4 -4,4\"/>\n",
       "<!-- 4584108912 -->\n",
       "<g id=\"node1\" class=\"node\">\n",
       "<title>4584108912</title>\n",
       "<ellipse fill=\"none\" stroke=\"black\" cx=\"135\" cy=\"-234\" rx=\"27\" ry=\"18\"/>\n",
       "<text text-anchor=\"middle\" x=\"135\" y=\"-230.3\" font-family=\"Times,serif\" font-size=\"14.00\">sub</text>\n",
       "</g>\n",
       "<!-- 4584109584 -->\n",
       "<g id=\"node2\" class=\"node\">\n",
       "<title>4584109584</title>\n",
       "<ellipse fill=\"none\" stroke=\"black\" cx=\"99\" cy=\"-162\" rx=\"27\" ry=\"18\"/>\n",
       "<text text-anchor=\"middle\" x=\"99\" y=\"-158.3\" font-family=\"Times,serif\" font-size=\"14.00\">sub</text>\n",
       "</g>\n",
       "<!-- 4584108912&#45;&gt;4584109584 -->\n",
       "<g id=\"edge5\" class=\"edge\">\n",
       "<title>4584108912&#45;&gt;4584109584</title>\n",
       "<path fill=\"none\" stroke=\"black\" d=\"M126.65,-216.76C122.29,-208.28 116.85,-197.71 111.96,-188.2\"/>\n",
       "<polygon fill=\"black\" stroke=\"black\" points=\"114.99,-186.44 107.3,-179.15 108.77,-189.64 114.99,-186.44\"/>\n",
       "</g>\n",
       "<!-- 4584109824 -->\n",
       "<g id=\"node7\" class=\"node\">\n",
       "<title>4584109824</title>\n",
       "<ellipse fill=\"none\" stroke=\"black\" cx=\"171\" cy=\"-162\" rx=\"27\" ry=\"18\"/>\n",
       "<text text-anchor=\"middle\" x=\"171\" y=\"-158.3\" font-family=\"Times,serif\" font-size=\"14.00\">div</text>\n",
       "</g>\n",
       "<!-- 4584108912&#45;&gt;4584109824 -->\n",
       "<g id=\"edge10\" class=\"edge\">\n",
       "<title>4584108912&#45;&gt;4584109824</title>\n",
       "<path fill=\"none\" stroke=\"black\" d=\"M143.35,-216.76C147.71,-208.28 153.15,-197.71 158.04,-188.2\"/>\n",
       "<polygon fill=\"black\" stroke=\"black\" points=\"161.23,-189.64 162.7,-179.15 155.01,-186.44 161.23,-189.64\"/>\n",
       "</g>\n",
       "<!-- 4584109632 -->\n",
       "<g id=\"node3\" class=\"node\">\n",
       "<title>4584109632</title>\n",
       "<ellipse fill=\"none\" stroke=\"black\" cx=\"27\" cy=\"-90\" rx=\"27\" ry=\"18\"/>\n",
       "<text text-anchor=\"middle\" x=\"27\" y=\"-86.3\" font-family=\"Times,serif\" font-size=\"14.00\">5</text>\n",
       "</g>\n",
       "<!-- 4584109584&#45;&gt;4584109632 -->\n",
       "<g id=\"edge1\" class=\"edge\">\n",
       "<title>4584109584&#45;&gt;4584109632</title>\n",
       "<path fill=\"none\" stroke=\"black\" d=\"M84.43,-146.83C74.25,-136.94 60.48,-123.55 48.97,-112.36\"/>\n",
       "<polygon fill=\"black\" stroke=\"black\" points=\"51.41,-109.85 41.8,-105.38 46.53,-114.87 51.41,-109.85\"/>\n",
       "</g>\n",
       "<!-- 4584109776 -->\n",
       "<g id=\"node4\" class=\"node\">\n",
       "<title>4584109776</title>\n",
       "<ellipse fill=\"none\" stroke=\"black\" cx=\"99\" cy=\"-90\" rx=\"27\" ry=\"18\"/>\n",
       "<text text-anchor=\"middle\" x=\"99\" y=\"-86.3\" font-family=\"Times,serif\" font-size=\"14.00\">div</text>\n",
       "</g>\n",
       "<!-- 4584109584&#45;&gt;4584109776 -->\n",
       "<g id=\"edge4\" class=\"edge\">\n",
       "<title>4584109584&#45;&gt;4584109776</title>\n",
       "<path fill=\"none\" stroke=\"black\" d=\"M99,-143.7C99,-135.98 99,-126.71 99,-118.11\"/>\n",
       "<polygon fill=\"black\" stroke=\"black\" points=\"102.5,-118.1 99,-108.1 95.5,-118.1 102.5,-118.1\"/>\n",
       "</g>\n",
       "<!-- 4584109440 -->\n",
       "<g id=\"node5\" class=\"node\">\n",
       "<title>4584109440</title>\n",
       "<ellipse fill=\"none\" stroke=\"black\" cx=\"63\" cy=\"-18\" rx=\"27\" ry=\"18\"/>\n",
       "<text text-anchor=\"middle\" x=\"63\" y=\"-14.3\" font-family=\"Times,serif\" font-size=\"14.00\">D</text>\n",
       "</g>\n",
       "<!-- 4584109776&#45;&gt;4584109440 -->\n",
       "<g id=\"edge2\" class=\"edge\">\n",
       "<title>4584109776&#45;&gt;4584109440</title>\n",
       "<path fill=\"none\" stroke=\"black\" d=\"M90.65,-72.76C86.29,-64.28 80.85,-53.71 75.96,-44.2\"/>\n",
       "<polygon fill=\"black\" stroke=\"black\" points=\"78.99,-42.44 71.3,-35.15 72.77,-45.64 78.99,-42.44\"/>\n",
       "</g>\n",
       "<!-- 4584109680 -->\n",
       "<g id=\"node6\" class=\"node\">\n",
       "<title>4584109680</title>\n",
       "<ellipse fill=\"none\" stroke=\"black\" cx=\"135\" cy=\"-18\" rx=\"27\" ry=\"18\"/>\n",
       "<text text-anchor=\"middle\" x=\"135\" y=\"-14.3\" font-family=\"Times,serif\" font-size=\"14.00\">A</text>\n",
       "</g>\n",
       "<!-- 4584109776&#45;&gt;4584109680 -->\n",
       "<g id=\"edge3\" class=\"edge\">\n",
       "<title>4584109776&#45;&gt;4584109680</title>\n",
       "<path fill=\"none\" stroke=\"black\" d=\"M107.35,-72.76C111.71,-64.28 117.15,-53.71 122.04,-44.2\"/>\n",
       "<polygon fill=\"black\" stroke=\"black\" points=\"125.23,-45.64 126.7,-35.15 119.01,-42.44 125.23,-45.64\"/>\n",
       "</g>\n",
       "<!-- 4584109920 -->\n",
       "<g id=\"node8\" class=\"node\">\n",
       "<title>4584109920</title>\n",
       "<ellipse fill=\"none\" stroke=\"black\" cx=\"171\" cy=\"-90\" rx=\"27\" ry=\"18\"/>\n",
       "<text text-anchor=\"middle\" x=\"171\" y=\"-86.3\" font-family=\"Times,serif\" font-size=\"14.00\">A</text>\n",
       "</g>\n",
       "<!-- 4584109824&#45;&gt;4584109920 -->\n",
       "<g id=\"edge6\" class=\"edge\">\n",
       "<title>4584109824&#45;&gt;4584109920</title>\n",
       "<path fill=\"none\" stroke=\"black\" d=\"M171,-143.7C171,-135.98 171,-126.71 171,-118.11\"/>\n",
       "<polygon fill=\"black\" stroke=\"black\" points=\"174.5,-118.1 171,-108.1 167.5,-118.1 174.5,-118.1\"/>\n",
       "</g>\n",
       "<!-- 4584110160 -->\n",
       "<g id=\"node9\" class=\"node\">\n",
       "<title>4584110160</title>\n",
       "<ellipse fill=\"none\" stroke=\"black\" cx=\"243\" cy=\"-90\" rx=\"27\" ry=\"18\"/>\n",
       "<text text-anchor=\"middle\" x=\"243\" y=\"-86.3\" font-family=\"Times,serif\" font-size=\"14.00\">add</text>\n",
       "</g>\n",
       "<!-- 4584109824&#45;&gt;4584110160 -->\n",
       "<g id=\"edge9\" class=\"edge\">\n",
       "<title>4584109824&#45;&gt;4584110160</title>\n",
       "<path fill=\"none\" stroke=\"black\" d=\"M185.57,-146.83C195.75,-136.94 209.52,-123.55 221.03,-112.36\"/>\n",
       "<polygon fill=\"black\" stroke=\"black\" points=\"223.47,-114.87 228.2,-105.38 218.59,-109.85 223.47,-114.87\"/>\n",
       "</g>\n",
       "<!-- 4584110352 -->\n",
       "<g id=\"node10\" class=\"node\">\n",
       "<title>4584110352</title>\n",
       "<ellipse fill=\"none\" stroke=\"black\" cx=\"225\" cy=\"-18\" rx=\"27\" ry=\"18\"/>\n",
       "<text text-anchor=\"middle\" x=\"225\" y=\"-14.3\" font-family=\"Times,serif\" font-size=\"14.00\">B</text>\n",
       "</g>\n",
       "<!-- 4584110160&#45;&gt;4584110352 -->\n",
       "<g id=\"edge7\" class=\"edge\">\n",
       "<title>4584110160&#45;&gt;4584110352</title>\n",
       "<path fill=\"none\" stroke=\"black\" d=\"M238.64,-72.05C236.61,-64.14 234.14,-54.54 231.86,-45.69\"/>\n",
       "<polygon fill=\"black\" stroke=\"black\" points=\"235.2,-44.6 229.32,-35.79 228.42,-46.35 235.2,-44.6\"/>\n",
       "</g>\n",
       "<!-- 4584110448 -->\n",
       "<g id=\"node11\" class=\"node\">\n",
       "<title>4584110448</title>\n",
       "<ellipse fill=\"none\" stroke=\"black\" cx=\"297\" cy=\"-18\" rx=\"27\" ry=\"18\"/>\n",
       "<text text-anchor=\"middle\" x=\"297\" y=\"-14.3\" font-family=\"Times,serif\" font-size=\"14.00\">D</text>\n",
       "</g>\n",
       "<!-- 4584110160&#45;&gt;4584110448 -->\n",
       "<g id=\"edge8\" class=\"edge\">\n",
       "<title>4584110160&#45;&gt;4584110448</title>\n",
       "<path fill=\"none\" stroke=\"black\" d=\"M254.98,-73.46C261.98,-64.4 270.94,-52.79 278.79,-42.61\"/>\n",
       "<polygon fill=\"black\" stroke=\"black\" points=\"281.71,-44.55 285.05,-34.49 276.17,-40.27 281.71,-44.55\"/>\n",
       "</g>\n",
       "</g>\n",
       "</svg>\n"
      ],
      "text/plain": [
       "<graphviz.dot.Digraph at 0x1113c7fa0>"
      ]
     },
     "execution_count": 40,
     "metadata": {},
     "output_type": "execute_result"
    }
   ],
   "source": [
    "offspring = copy(parent1)\n",
    "point_mutation(offspring)\n",
    "print_tree(offspring)"
   ]
  },
  {
   "cell_type": "markdown",
   "metadata": {
    "slideshow": {
     "slide_type": "subslide"
    }
   },
   "source": [
    "#### Selection"
   ]
  },
  {
   "cell_type": "markdown",
   "metadata": {
    "slideshow": {
     "slide_type": "skip"
    }
   },
   "source": [
    "\n",
    "Since selection is independent of the representation, we don't need any adaptations. Since we use a variable size representation, we will include the size as one of the selection criteria."
   ]
  },
  {
   "cell_type": "code",
   "execution_count": 41,
   "metadata": {
    "slideshow": {
     "slide_type": "fragment"
    }
   },
   "outputs": [],
   "source": [
    "tournament_size = 3\n",
    "def tournament_selection(population):\n",
    "    candidates = random.sample(population, tournament_size)        \n",
    "    winner = min(candidates, key=lambda x: (get_fitness(x), size(x)))\n",
    "    return winner"
   ]
  },
  {
   "cell_type": "markdown",
   "metadata": {
    "slideshow": {
     "slide_type": "skip"
    }
   },
   "source": [
    "An evolution step of our GA now just needs to integrate these operators:"
   ]
  },
  {
   "cell_type": "code",
   "execution_count": 42,
   "metadata": {
    "slideshow": {
     "slide_type": "slide"
    }
   },
   "outputs": [],
   "source": [
    "def evolution_step(population):\n",
    "    new_population = []\n",
    "    while len(new_population) < len(population):\n",
    "        parent1 = copy(selection(population))\n",
    "        parent2 = copy(selection(population))\n",
    "\n",
    "        if random.random() < P_xover:\n",
    "            offspring = crossover(parent1, parent2)\n",
    "        else:\n",
    "            offspring = random.choice([parent1, parent2])\n",
    "\n",
    "        if random.random() < 0.5:\n",
    "            point_mutation(offspring)\n",
    "        else:\n",
    "            subtree_mutation(offspring)\n",
    "\n",
    "        new_population.append(offspring)\n",
    "\n",
    "    population.clear()\n",
    "    population.extend(new_population)\n",
    "\n",
    "    best_fitness = min([get_fitness(k) for k in population])\n",
    "    return best_fitness"
   ]
  },
  {
   "cell_type": "markdown",
   "metadata": {
    "slideshow": {
     "slide_type": "skip"
    }
   },
   "source": [
    "Similarly, the overall GA is also the same as always:"
   ]
  },
  {
   "cell_type": "code",
   "execution_count": 43,
   "metadata": {
    "slideshow": {
     "slide_type": "skip"
    }
   },
   "outputs": [],
   "source": [
    "fitness_values = []\n",
    "size_values = []"
   ]
  },
  {
   "cell_type": "code",
   "execution_count": 44,
   "metadata": {
    "slideshow": {
     "slide_type": "slide"
    }
   },
   "outputs": [],
   "source": [
    "def ga():\n",
    "    population = get_initial_population()\n",
    "    best_fitness = sys.maxsize\n",
    "    for p in population:\n",
    "        fitness = get_fitness(p)\n",
    "        if fitness < best_fitness or (fitness == best_fitness and size(p) < size(best_solution)):\n",
    "            best_fitness = fitness\n",
    "            best_solution = copy(p)\n",
    "\n",
    "    iteration = 0\n",
    "    while iteration < max_iterations and best_fitness > 0.000001:\n",
    "        fitness_values.append(best_fitness)\n",
    "        size_values.append(mean([size(x) for x in population]))\n",
    "        print(f\"GA Iteration {iteration}, best fitness: {best_fitness}, average size: {size_values[-1]}\")\n",
    "        iteration += 1\n",
    "        evolution_step(population)\n",
    "\n",
    "        for p in population:\n",
    "            fitness = get_fitness(p)\n",
    "            if fitness < best_fitness or (fitness == best_fitness and size(p) < size(best_solution)):\n",
    "                best_fitness = fitness\n",
    "                best_solution = copy(p)\n",
    "\n",
    "    print(f\"GA solution after {iteration} iterations, best fitness: {best_fitness}\")\n",
    "    return best_solution\n"
   ]
  },
  {
   "cell_type": "markdown",
   "metadata": {
    "slideshow": {
     "slide_type": "slide"
    }
   },
   "source": [
    "### Example Problem: Symbolic Regression"
   ]
  },
  {
   "cell_type": "markdown",
   "metadata": {
    "slideshow": {
     "slide_type": "skip"
    }
   },
   "source": [
    "We will use symbolic regression as a first example problem. Given a set of points, we would like to come up with a symbolic expression that represents a function approximating the points. As example equation, we will use $x^2 + x + 1$."
   ]
  },
  {
   "cell_type": "markdown",
   "metadata": {
    "slideshow": {
     "slide_type": "skip"
    }
   },
   "source": [
    "We only have one terminal `x` for this problem, but can also include ephemeral constants:"
   ]
  },
  {
   "cell_type": "code",
   "execution_count": 45,
   "metadata": {
    "slideshow": {
     "slide_type": "fragment"
    }
   },
   "outputs": [],
   "source": [
    "TERMINALS = [\"x\", EPHEMERAL_CONSTANT]"
   ]
  },
  {
   "cell_type": "markdown",
   "metadata": {
    "slideshow": {
     "slide_type": "skip"
    }
   },
   "source": [
    "As fitness function for how close we are to approximating a set of points we use the sum of absolute errors for all points at different values of `x` in the range [−1.0, +1.0]. Thus, a smaller fitness value is better; a fitness of zero indicates a perfect fit. In order to calculate the error for any given point, we need a helper function that evaluates a tree for a given value of `x`:"
   ]
  },
  {
   "cell_type": "code",
   "execution_count": 46,
   "metadata": {
    "slideshow": {
     "slide_type": "fragment"
    }
   },
   "outputs": [],
   "source": [
    "def evaluate(tree, assignment):\n",
    "    if tree.data in FUNCTIONS:\n",
    "        return tree.data(evaluate(tree.left, assignment), evaluate(tree.right, assignment))\n",
    "    elif tree.data in assignment:\n",
    "        return assignment[tree.data]\n",
    "    else:\n",
    "        return tree.data"
   ]
  },
  {
   "cell_type": "markdown",
   "metadata": {
    "slideshow": {
     "slide_type": "skip"
    }
   },
   "source": [
    "The dictionary `assignment` will map all terminals to actual values during the evaluation. We sample a number of points for measuring the error:"
   ]
  },
  {
   "cell_type": "code",
   "execution_count": 47,
   "metadata": {
    "slideshow": {
     "slide_type": "fragment"
    }
   },
   "outputs": [],
   "source": [
    "test_data = {}\n",
    "for value in [x/10 for x in range(-10, 10)]:\n",
    "    test_data[value] = value*value + value + 1"
   ]
  },
  {
   "cell_type": "code",
   "execution_count": 48,
   "metadata": {
    "slideshow": {
     "slide_type": "fragment"
    }
   },
   "outputs": [
    {
     "data": {
      "text/plain": [
       "{-1.0: 1.0,\n",
       " -0.9: 0.91,\n",
       " -0.8: 0.8400000000000001,\n",
       " -0.7: 0.79,\n",
       " -0.6: 0.76,\n",
       " -0.5: 0.75,\n",
       " -0.4: 0.76,\n",
       " -0.3: 0.79,\n",
       " -0.2: 0.84,\n",
       " -0.1: 0.91,\n",
       " 0.0: 1.0,\n",
       " 0.1: 1.11,\n",
       " 0.2: 1.24,\n",
       " 0.3: 1.3900000000000001,\n",
       " 0.4: 1.56,\n",
       " 0.5: 1.75,\n",
       " 0.6: 1.96,\n",
       " 0.7: 2.19,\n",
       " 0.8: 2.4400000000000004,\n",
       " 0.9: 2.71}"
      ]
     },
     "execution_count": 48,
     "metadata": {},
     "output_type": "execute_result"
    }
   ],
   "source": [
    "test_data"
   ]
  },
  {
   "cell_type": "markdown",
   "metadata": {
    "slideshow": {
     "slide_type": "skip"
    }
   },
   "source": [
    "Now calculating the fitness function reduces to calling the `evaluate` function for each points in our test set, and summing up the differences:"
   ]
  },
  {
   "cell_type": "code",
   "execution_count": 49,
   "metadata": {
    "slideshow": {
     "slide_type": "slide"
    }
   },
   "outputs": [],
   "source": [
    "def get_fitness(tree):\n",
    "    fitness = 0.0\n",
    "    \n",
    "    for (x, expected_result) in test_data.items():\n",
    "        assignment = {\"x\": x}\n",
    "        result = evaluate(tree, assignment)\n",
    "        fitness += (result - expected_result) * (result - expected_result)\n",
    "    fitness /= len(test_data)\n",
    "    \n",
    "    return fitness"
   ]
  },
  {
   "cell_type": "markdown",
   "metadata": {
    "slideshow": {
     "slide_type": "skip"
    }
   },
   "source": [
    "With this, we can finally call our genetic algorithm:"
   ]
  },
  {
   "cell_type": "code",
   "execution_count": 50,
   "metadata": {
    "slideshow": {
     "slide_type": "slide"
    }
   },
   "outputs": [
    {
     "name": "stdout",
     "output_type": "stream",
     "text": [
      "GA Iteration 0, best fitness: 0.43833, average size: 9.55\n",
      "GA Iteration 1, best fitness: 0.20333000000000007, average size: 10.65\n",
      "GA Iteration 2, best fitness: 0.20333000000000007, average size: 9.6\n",
      "GA Iteration 3, best fitness: 0.20333000000000007, average size: 11.95\n",
      "GA Iteration 4, best fitness: 0.20333000000000007, average size: 10.45\n",
      "GA Iteration 5, best fitness: 0.20333000000000007, average size: 12.15\n",
      "GA Iteration 6, best fitness: 0.20333000000000007, average size: 16.65\n",
      "GA Iteration 7, best fitness: 0.20333000000000007, average size: 17\n",
      "GA Iteration 8, best fitness: 0.20333000000000007, average size: 16.7\n",
      "GA Iteration 9, best fitness: 0.20333000000000007, average size: 16.8\n",
      "GA Iteration 10, best fitness: 0.20333000000000007, average size: 15.15\n",
      "GA Iteration 11, best fitness: 0.20333000000000007, average size: 15.65\n",
      "GA Iteration 12, best fitness: 0.20333000000000007, average size: 14.75\n",
      "GA Iteration 13, best fitness: 0.20333000000000007, average size: 14.55\n",
      "GA Iteration 14, best fitness: 0.20333000000000007, average size: 13.8\n",
      "GA Iteration 15, best fitness: 0.20333000000000007, average size: 11.5\n",
      "GA Iteration 16, best fitness: 0.20333000000000007, average size: 12.2\n",
      "GA Iteration 17, best fitness: 0.20333000000000007, average size: 14.85\n",
      "GA Iteration 18, best fitness: 0.20333000000000007, average size: 14.05\n",
      "GA Iteration 19, best fitness: 0.20333000000000007, average size: 10.6\n",
      "GA Iteration 20, best fitness: 0.20333000000000007, average size: 10.5\n",
      "GA Iteration 21, best fitness: 0.20333000000000007, average size: 11.45\n",
      "GA Iteration 22, best fitness: 0.20333000000000007, average size: 13.8\n",
      "GA Iteration 23, best fitness: 0.20333000000000007, average size: 15.4\n",
      "GA Iteration 24, best fitness: 0.20333000000000007, average size: 14.35\n",
      "GA Iteration 25, best fitness: 0.20333000000000007, average size: 13.6\n",
      "GA Iteration 26, best fitness: 0.20333000000000007, average size: 15.25\n",
      "GA Iteration 27, best fitness: 0.20333000000000007, average size: 17.4\n",
      "GA Iteration 28, best fitness: 0.20333000000000007, average size: 18.25\n",
      "GA Iteration 29, best fitness: 0.20333000000000007, average size: 18.35\n",
      "GA Iteration 30, best fitness: 0.20333000000000007, average size: 16.25\n",
      "GA Iteration 31, best fitness: 0.20333000000000007, average size: 14.8\n",
      "GA Iteration 32, best fitness: 0.20333000000000007, average size: 11.15\n",
      "GA Iteration 33, best fitness: 0.20333000000000007, average size: 12.45\n",
      "GA Iteration 34, best fitness: 0.20333000000000007, average size: 13.55\n",
      "GA Iteration 35, best fitness: 0.20333000000000007, average size: 12.2\n",
      "GA Iteration 36, best fitness: 0.20333000000000007, average size: 12.5\n",
      "GA Iteration 37, best fitness: 0.20332999999999996, average size: 11.05\n",
      "GA Iteration 38, best fitness: 0.20332999999999996, average size: 13.1\n",
      "GA Iteration 39, best fitness: 0.20332999999999996, average size: 14.55\n",
      "GA Iteration 40, best fitness: 0.20332999999999996, average size: 16.2\n",
      "GA Iteration 41, best fitness: 0.20332999999999996, average size: 15.35\n",
      "GA Iteration 42, best fitness: 0.20332999999999996, average size: 18.45\n",
      "GA Iteration 43, best fitness: 0.20332999999999996, average size: 20.25\n",
      "GA Iteration 44, best fitness: 0.20332999999999996, average size: 18.25\n",
      "GA Iteration 45, best fitness: 0.20332999999999996, average size: 14.55\n",
      "GA Iteration 46, best fitness: 0.20332999999999996, average size: 15\n",
      "GA Iteration 47, best fitness: 0.20332999999999996, average size: 13.8\n",
      "GA Iteration 48, best fitness: 0.20332999999999996, average size: 12.3\n",
      "GA Iteration 49, best fitness: 0.20332999999999996, average size: 10.65\n",
      "GA Iteration 50, best fitness: 0.20332999999999996, average size: 12.05\n",
      "GA Iteration 51, best fitness: 0.20332999999999996, average size: 13.25\n",
      "GA Iteration 52, best fitness: 0.20332999999999996, average size: 12.7\n",
      "GA Iteration 53, best fitness: 0.20332999999999996, average size: 11.1\n",
      "GA Iteration 54, best fitness: 0.20332999999999996, average size: 9.3\n",
      "GA Iteration 55, best fitness: 0.20332999999999996, average size: 11.05\n",
      "GA Iteration 56, best fitness: 0.20332999999999996, average size: 9.85\n",
      "GA Iteration 57, best fitness: 0.20332999999999996, average size: 11.55\n",
      "GA Iteration 58, best fitness: 0.20332999999999996, average size: 13.2\n",
      "GA Iteration 59, best fitness: 0.20332999999999996, average size: 12.5\n",
      "GA Iteration 60, best fitness: 0.20332999999999996, average size: 10.55\n",
      "GA Iteration 61, best fitness: 0.20332999999999996, average size: 11.4\n",
      "GA Iteration 62, best fitness: 0.20332999999999996, average size: 14.5\n",
      "GA Iteration 63, best fitness: 0.20332999999999996, average size: 11.1\n",
      "GA Iteration 64, best fitness: 0.20332999999999996, average size: 10.3\n",
      "GA Iteration 65, best fitness: 0.20332999999999996, average size: 12.2\n",
      "GA Iteration 66, best fitness: 0.20332999999999996, average size: 12.2\n",
      "GA Iteration 67, best fitness: 0.20332999999999996, average size: 13.55\n",
      "GA Iteration 68, best fitness: 0.20332999999999996, average size: 15\n",
      "GA Iteration 69, best fitness: 0.20332999999999996, average size: 13.4\n",
      "GA Iteration 70, best fitness: 0.20332999999999996, average size: 15.55\n",
      "GA Iteration 71, best fitness: 0.20332999999999996, average size: 12.75\n",
      "GA Iteration 72, best fitness: 0.20332999999999996, average size: 11.8\n",
      "GA Iteration 73, best fitness: 0.20332999999999996, average size: 9.6\n",
      "GA Iteration 74, best fitness: 0.20332999999999996, average size: 8.55\n",
      "GA Iteration 75, best fitness: 0.20332999999999996, average size: 8.6\n",
      "GA Iteration 76, best fitness: 0.20332999999999996, average size: 8.3\n",
      "GA Iteration 77, best fitness: 0.20332999999999996, average size: 7.95\n",
      "GA Iteration 78, best fitness: 0.20332999999999996, average size: 7.9\n",
      "GA Iteration 79, best fitness: 0.20332999999999996, average size: 7.6\n",
      "GA Iteration 80, best fitness: 0.20332999999999996, average size: 8.2\n",
      "GA Iteration 81, best fitness: 0.20332999999999996, average size: 8.8\n",
      "GA Iteration 82, best fitness: 0.20332999999999996, average size: 8.9\n",
      "GA Iteration 83, best fitness: 0.20332999999999996, average size: 7.45\n",
      "GA Iteration 84, best fitness: 0.20332999999999996, average size: 7.8\n",
      "GA Iteration 85, best fitness: 0.20332999999999996, average size: 7.35\n",
      "GA Iteration 86, best fitness: 0.20332999999999996, average size: 9.05\n",
      "GA Iteration 87, best fitness: 0.20332999999999996, average size: 8.9\n",
      "GA Iteration 88, best fitness: 0.20332999999999996, average size: 7.45\n",
      "GA Iteration 89, best fitness: 0.20332999999999996, average size: 7.45\n",
      "GA Iteration 90, best fitness: 0.20332999999999996, average size: 7.4\n",
      "GA Iteration 91, best fitness: 0.20332999999999996, average size: 8\n",
      "GA Iteration 92, best fitness: 0.20332999999999996, average size: 9.35\n",
      "GA Iteration 93, best fitness: 0.20332999999999996, average size: 8.4\n",
      "GA Iteration 94, best fitness: 0.20332999999999996, average size: 11.4\n",
      "GA Iteration 95, best fitness: 0.20332999999999996, average size: 14.05\n",
      "GA Iteration 96, best fitness: 0.20332999999999996, average size: 16.05\n",
      "GA Iteration 97, best fitness: 0.20332999999999996, average size: 17.65\n",
      "GA Iteration 98, best fitness: 0.20332999999999996, average size: 17.4\n",
      "GA Iteration 99, best fitness: 0.20332999999999996, average size: 20.2\n",
      "GA Iteration 100, best fitness: 0.20332999999999996, average size: 19.3\n",
      "GA Iteration 101, best fitness: 0.20332999999999996, average size: 21.85\n",
      "GA Iteration 102, best fitness: 0.20332999999999996, average size: 22.25\n",
      "GA Iteration 103, best fitness: 0.20332999999999996, average size: 21.6\n",
      "GA Iteration 104, best fitness: 0.20332999999999996, average size: 17.55\n",
      "GA Iteration 105, best fitness: 0.20332999999999996, average size: 13.75\n",
      "GA Iteration 106, best fitness: 0.20332999999999996, average size: 17.95\n",
      "GA Iteration 107, best fitness: 0.20332999999999996, average size: 18.7\n",
      "GA Iteration 108, best fitness: 0.20332999999999996, average size: 19.5\n",
      "GA Iteration 109, best fitness: 0.20332999999999996, average size: 18.25\n",
      "GA Iteration 110, best fitness: 0.12795651328437146, average size: 17.85\n",
      "GA Iteration 111, best fitness: 0.12795651328437146, average size: 16.65\n",
      "GA Iteration 112, best fitness: 0.12795651328437146, average size: 14.55\n",
      "GA Iteration 113, best fitness: 0.12795651328437146, average size: 13.8\n",
      "GA Iteration 114, best fitness: 0.12795651328437146, average size: 17.5\n",
      "GA Iteration 115, best fitness: 0.12795651328437146, average size: 17.3\n",
      "GA Iteration 116, best fitness: 0.09340245657949876, average size: 24.25\n",
      "GA Iteration 117, best fitness: 0.09340245657949876, average size: 24.3\n",
      "GA Iteration 118, best fitness: 0.09340245657949876, average size: 27.35\n"
     ]
    },
    {
     "name": "stdout",
     "output_type": "stream",
     "text": [
      "GA Iteration 119, best fitness: 0.09340245657949876, average size: 36.65\n",
      "GA Iteration 120, best fitness: 0.09340245657949876, average size: 41.75\n",
      "GA Iteration 121, best fitness: 0.09340245657949876, average size: 52.3\n",
      "GA Iteration 122, best fitness: 0.09340245657949876, average size: 44.6\n",
      "GA Iteration 123, best fitness: 0.09340245657949876, average size: 51.9\n",
      "GA Iteration 124, best fitness: 0.09340245657949876, average size: 47.3\n",
      "GA Iteration 125, best fitness: 0.09340245657949876, average size: 44.4\n",
      "GA Iteration 126, best fitness: 0.09340245657949876, average size: 43.9\n",
      "GA Iteration 127, best fitness: 0.09340245657949876, average size: 58.65\n",
      "GA Iteration 128, best fitness: 0.09340245657949876, average size: 60.75\n",
      "GA Iteration 129, best fitness: 0.09340245657949876, average size: 63.65\n",
      "GA Iteration 130, best fitness: 0.09340245657949876, average size: 76\n",
      "GA Iteration 131, best fitness: 0.09340245657949876, average size: 69.7\n",
      "GA Iteration 132, best fitness: 0.09340245657949876, average size: 81.75\n",
      "GA Iteration 133, best fitness: 0.09340245657949876, average size: 78.65\n",
      "GA Iteration 134, best fitness: 0.09340245657949876, average size: 82.8\n",
      "GA Iteration 135, best fitness: 0.09340245657949876, average size: 91.25\n",
      "GA Iteration 136, best fitness: 0.09340245657949876, average size: 92\n",
      "GA Iteration 137, best fitness: 0.09340245657949876, average size: 92.8\n",
      "GA Iteration 138, best fitness: 0.09340245657949876, average size: 107.75\n",
      "GA Iteration 139, best fitness: 0.09340245657949876, average size: 118.25\n",
      "GA Iteration 140, best fitness: 0.09340245657949876, average size: 114.7\n",
      "GA Iteration 141, best fitness: 0.09340245657949876, average size: 114.15\n",
      "GA Iteration 142, best fitness: 0.09340245657949876, average size: 131.7\n",
      "GA Iteration 143, best fitness: 0.09340245657949876, average size: 174.75\n",
      "GA Iteration 144, best fitness: 0.09340245657949876, average size: 217.95\n",
      "GA Iteration 145, best fitness: 0.09340245657949876, average size: 204.95\n",
      "GA Iteration 146, best fitness: 0.09340245657949876, average size: 236.25\n",
      "GA Iteration 147, best fitness: 0.09340245657949876, average size: 187.1\n",
      "GA Iteration 148, best fitness: 0.09340245657949876, average size: 156.95\n",
      "GA Iteration 149, best fitness: 0.09340245657949876, average size: 195.95\n",
      "GA Iteration 150, best fitness: 0.09340245657949876, average size: 175.95\n",
      "GA Iteration 151, best fitness: 0.09340245657949876, average size: 181.15\n",
      "GA Iteration 152, best fitness: 0.09340245657949876, average size: 174.6\n",
      "GA Iteration 153, best fitness: 0.09340245657949876, average size: 149.5\n",
      "GA Iteration 154, best fitness: 0.09340245657949876, average size: 145.05\n",
      "GA Iteration 155, best fitness: 0.09340245657949876, average size: 149.1\n",
      "GA Iteration 156, best fitness: 0.09340245657949876, average size: 167.2\n",
      "GA Iteration 157, best fitness: 0.09340245657949876, average size: 150.35\n",
      "GA Iteration 158, best fitness: 0.09340245657949876, average size: 155.95\n",
      "GA Iteration 159, best fitness: 0.09340245657949876, average size: 186.4\n",
      "GA Iteration 160, best fitness: 0.09340245657949876, average size: 186.25\n",
      "GA Iteration 161, best fitness: 0.09340245657949876, average size: 146.8\n",
      "GA Iteration 162, best fitness: 0.09340245657949876, average size: 126.25\n",
      "GA Iteration 163, best fitness: 0.09340245657949876, average size: 95.95\n",
      "GA Iteration 164, best fitness: 0.09340245657949876, average size: 110.3\n",
      "GA Iteration 165, best fitness: 0.09340245657949876, average size: 104.35\n",
      "GA Iteration 166, best fitness: 0.09340245657949876, average size: 89.75\n",
      "GA Iteration 167, best fitness: 0.09340245657949876, average size: 71.65\n",
      "GA Iteration 168, best fitness: 0.09340245657949876, average size: 54.55\n",
      "GA Iteration 169, best fitness: 0.09340245657949876, average size: 56.95\n",
      "GA Iteration 170, best fitness: 0.09340245657949876, average size: 64.5\n",
      "GA Iteration 171, best fitness: 0.09340245657949876, average size: 52.7\n",
      "GA Iteration 172, best fitness: 0.09340245657949876, average size: 55.05\n",
      "GA Iteration 173, best fitness: 0.09340245657949876, average size: 39.05\n",
      "GA Iteration 174, best fitness: 0.09340245657949876, average size: 39.95\n",
      "GA Iteration 175, best fitness: 0.09340245657949876, average size: 27.15\n",
      "GA Iteration 176, best fitness: 0.09340245657949876, average size: 31.75\n",
      "GA Iteration 177, best fitness: 0.09233000000000001, average size: 41.1\n",
      "GA Iteration 178, best fitness: 0.09233000000000001, average size: 46.9\n",
      "GA Iteration 179, best fitness: 0.09233000000000001, average size: 44.95\n",
      "GA Iteration 180, best fitness: 0.09233000000000001, average size: 36.4\n",
      "GA Iteration 181, best fitness: 0.09233000000000001, average size: 36.85\n",
      "GA Iteration 182, best fitness: 0.09233000000000001, average size: 40\n",
      "GA Iteration 183, best fitness: 0.09233000000000001, average size: 52.75\n",
      "GA Iteration 184, best fitness: 0.09233000000000001, average size: 53.35\n",
      "GA Iteration 185, best fitness: 0.09233000000000001, average size: 50.1\n",
      "GA Iteration 186, best fitness: 0.09233000000000001, average size: 51.2\n",
      "GA Iteration 187, best fitness: 0.09233000000000001, average size: 62.1\n",
      "GA Iteration 188, best fitness: 0.09233000000000001, average size: 64.1\n",
      "GA Iteration 189, best fitness: 0.09233000000000001, average size: 59.05\n",
      "GA Iteration 190, best fitness: 0.09233000000000001, average size: 55.4\n",
      "GA Iteration 191, best fitness: 0.09233000000000001, average size: 65.55\n",
      "GA Iteration 192, best fitness: 0.09233000000000001, average size: 67.55\n",
      "GA Iteration 193, best fitness: 0.09233000000000001, average size: 68.85\n",
      "GA Iteration 194, best fitness: 0.09233000000000001, average size: 76.55\n",
      "GA Iteration 195, best fitness: 0.09233000000000001, average size: 76.4\n",
      "GA Iteration 196, best fitness: 0.09233000000000001, average size: 62.35\n",
      "GA Iteration 197, best fitness: 0.09233000000000001, average size: 52\n",
      "GA Iteration 198, best fitness: 0.09233000000000001, average size: 58.05\n",
      "GA Iteration 199, best fitness: 0.09233000000000001, average size: 49.5\n",
      "GA solution after 200 iterations, best fitness: 0.09233000000000001\n"
     ]
    },
    {
     "data": {
      "image/svg+xml": [
       "<?xml version=\"1.0\" encoding=\"UTF-8\" standalone=\"no\"?>\n",
       "<!DOCTYPE svg PUBLIC \"-//W3C//DTD SVG 1.1//EN\"\n",
       " \"http://www.w3.org/Graphics/SVG/1.1/DTD/svg11.dtd\">\n",
       "<!-- Generated by graphviz version 2.50.0 (20211204.2007)\n",
       " -->\n",
       "<!-- Pages: 1 -->\n",
       "<svg width=\"710pt\" height=\"908pt\"\n",
       " viewBox=\"0.00 0.00 710.00 908.00\" xmlns=\"http://www.w3.org/2000/svg\" xmlns:xlink=\"http://www.w3.org/1999/xlink\">\n",
       "<g id=\"graph0\" class=\"graph\" transform=\"scale(1 1) rotate(0) translate(4 904)\">\n",
       "<polygon fill=\"white\" stroke=\"transparent\" points=\"-4,4 -4,-904 706,-904 706,4 -4,4\"/>\n",
       "<!-- 4584642208 -->\n",
       "<g id=\"node1\" class=\"node\">\n",
       "<title>4584642208</title>\n",
       "<ellipse fill=\"none\" stroke=\"black\" cx=\"567\" cy=\"-882\" rx=\"27\" ry=\"18\"/>\n",
       "<text text-anchor=\"middle\" x=\"567\" y=\"-878.3\" font-family=\"Times,serif\" font-size=\"14.00\">add</text>\n",
       "</g>\n",
       "<!-- 4584643936 -->\n",
       "<g id=\"node2\" class=\"node\">\n",
       "<title>4584643936</title>\n",
       "<ellipse fill=\"none\" stroke=\"black\" cx=\"531\" cy=\"-810\" rx=\"27\" ry=\"18\"/>\n",
       "<text text-anchor=\"middle\" x=\"531\" y=\"-806.3\" font-family=\"Times,serif\" font-size=\"14.00\">add</text>\n",
       "</g>\n",
       "<!-- 4584642208&#45;&gt;4584643936 -->\n",
       "<g id=\"edge43\" class=\"edge\">\n",
       "<title>4584642208&#45;&gt;4584643936</title>\n",
       "<path fill=\"none\" stroke=\"black\" d=\"M558.65,-864.76C554.29,-856.28 548.85,-845.71 543.96,-836.2\"/>\n",
       "<polygon fill=\"black\" stroke=\"black\" points=\"546.99,-834.44 539.3,-827.15 540.77,-837.64 546.99,-834.44\"/>\n",
       "</g>\n",
       "<!-- 4585022320 -->\n",
       "<g id=\"node45\" class=\"node\">\n",
       "<title>4585022320</title>\n",
       "<ellipse fill=\"none\" stroke=\"black\" cx=\"603\" cy=\"-810\" rx=\"27\" ry=\"18\"/>\n",
       "<text text-anchor=\"middle\" x=\"603\" y=\"-806.3\" font-family=\"Times,serif\" font-size=\"14.00\">x</text>\n",
       "</g>\n",
       "<!-- 4584642208&#45;&gt;4585022320 -->\n",
       "<g id=\"edge44\" class=\"edge\">\n",
       "<title>4584642208&#45;&gt;4585022320</title>\n",
       "<path fill=\"none\" stroke=\"black\" d=\"M575.35,-864.76C579.71,-856.28 585.15,-845.71 590.04,-836.2\"/>\n",
       "<polygon fill=\"black\" stroke=\"black\" points=\"593.23,-837.64 594.7,-827.15 587.01,-834.44 593.23,-837.64\"/>\n",
       "</g>\n",
       "<!-- 4584642736 -->\n",
       "<g id=\"node3\" class=\"node\">\n",
       "<title>4584642736</title>\n",
       "<ellipse fill=\"none\" stroke=\"black\" cx=\"495\" cy=\"-738\" rx=\"27\" ry=\"18\"/>\n",
       "<text text-anchor=\"middle\" x=\"495\" y=\"-734.3\" font-family=\"Times,serif\" font-size=\"14.00\">div</text>\n",
       "</g>\n",
       "<!-- 4584643936&#45;&gt;4584642736 -->\n",
       "<g id=\"edge37\" class=\"edge\">\n",
       "<title>4584643936&#45;&gt;4584642736</title>\n",
       "<path fill=\"none\" stroke=\"black\" d=\"M522.65,-792.76C518.29,-784.28 512.85,-773.71 507.96,-764.2\"/>\n",
       "<polygon fill=\"black\" stroke=\"black\" points=\"510.99,-762.44 503.3,-755.15 504.77,-765.64 510.99,-762.44\"/>\n",
       "</g>\n",
       "<!-- 4585022752 -->\n",
       "<g id=\"node40\" class=\"node\">\n",
       "<title>4585022752</title>\n",
       "<ellipse fill=\"none\" stroke=\"black\" cx=\"567\" cy=\"-738\" rx=\"27\" ry=\"18\"/>\n",
       "<text text-anchor=\"middle\" x=\"567\" y=\"-734.3\" font-family=\"Times,serif\" font-size=\"14.00\">div</text>\n",
       "</g>\n",
       "<!-- 4584643936&#45;&gt;4585022752 -->\n",
       "<g id=\"edge42\" class=\"edge\">\n",
       "<title>4584643936&#45;&gt;4585022752</title>\n",
       "<path fill=\"none\" stroke=\"black\" d=\"M539.35,-792.76C543.71,-784.28 549.15,-773.71 554.04,-764.2\"/>\n",
       "<polygon fill=\"black\" stroke=\"black\" points=\"557.23,-765.64 558.7,-755.15 551.01,-762.44 557.23,-765.64\"/>\n",
       "</g>\n",
       "<!-- 4584641392 -->\n",
       "<g id=\"node4\" class=\"node\">\n",
       "<title>4584641392</title>\n",
       "<ellipse fill=\"none\" stroke=\"black\" cx=\"423\" cy=\"-666\" rx=\"27\" ry=\"18\"/>\n",
       "<text text-anchor=\"middle\" x=\"423\" y=\"-662.3\" font-family=\"Times,serif\" font-size=\"14.00\">add</text>\n",
       "</g>\n",
       "<!-- 4584642736&#45;&gt;4584641392 -->\n",
       "<g id=\"edge35\" class=\"edge\">\n",
       "<title>4584642736&#45;&gt;4584641392</title>\n",
       "<path fill=\"none\" stroke=\"black\" d=\"M480.43,-722.83C470.25,-712.94 456.48,-699.55 444.97,-688.36\"/>\n",
       "<polygon fill=\"black\" stroke=\"black\" points=\"447.41,-685.85 437.8,-681.38 442.53,-690.87 447.41,-685.85\"/>\n",
       "</g>\n",
       "<!-- 4585022464 -->\n",
       "<g id=\"node39\" class=\"node\">\n",
       "<title>4585022464</title>\n",
       "<ellipse fill=\"none\" stroke=\"black\" cx=\"495\" cy=\"-666\" rx=\"27\" ry=\"18\"/>\n",
       "<text text-anchor=\"middle\" x=\"495\" y=\"-662.3\" font-family=\"Times,serif\" font-size=\"14.00\">0</text>\n",
       "</g>\n",
       "<!-- 4584642736&#45;&gt;4585022464 -->\n",
       "<g id=\"edge36\" class=\"edge\">\n",
       "<title>4584642736&#45;&gt;4585022464</title>\n",
       "<path fill=\"none\" stroke=\"black\" d=\"M495,-719.7C495,-711.98 495,-702.71 495,-694.11\"/>\n",
       "<polygon fill=\"black\" stroke=\"black\" points=\"498.5,-694.1 495,-684.1 491.5,-694.1 498.5,-694.1\"/>\n",
       "</g>\n",
       "<!-- 4584641056 -->\n",
       "<g id=\"node5\" class=\"node\">\n",
       "<title>4584641056</title>\n",
       "<ellipse fill=\"none\" stroke=\"black\" cx=\"423\" cy=\"-594\" rx=\"27\" ry=\"18\"/>\n",
       "<text text-anchor=\"middle\" x=\"423\" y=\"-590.3\" font-family=\"Times,serif\" font-size=\"14.00\">sub</text>\n",
       "</g>\n",
       "<!-- 4584641392&#45;&gt;4584641056 -->\n",
       "<g id=\"edge33\" class=\"edge\">\n",
       "<title>4584641392&#45;&gt;4584641056</title>\n",
       "<path fill=\"none\" stroke=\"black\" d=\"M423,-647.7C423,-639.98 423,-630.71 423,-622.11\"/>\n",
       "<polygon fill=\"black\" stroke=\"black\" points=\"426.5,-622.1 423,-612.1 419.5,-622.1 426.5,-622.1\"/>\n",
       "</g>\n",
       "<!-- 4585025392 -->\n",
       "<g id=\"node38\" class=\"node\">\n",
       "<title>4585025392</title>\n",
       "<ellipse fill=\"none\" stroke=\"black\" cx=\"495\" cy=\"-594\" rx=\"27\" ry=\"18\"/>\n",
       "<text text-anchor=\"middle\" x=\"495\" y=\"-590.3\" font-family=\"Times,serif\" font-size=\"14.00\">x</text>\n",
       "</g>\n",
       "<!-- 4584641392&#45;&gt;4585025392 -->\n",
       "<g id=\"edge34\" class=\"edge\">\n",
       "<title>4584641392&#45;&gt;4585025392</title>\n",
       "<path fill=\"none\" stroke=\"black\" d=\"M437.57,-650.83C447.75,-640.94 461.52,-627.55 473.03,-616.36\"/>\n",
       "<polygon fill=\"black\" stroke=\"black\" points=\"475.47,-618.87 480.2,-609.38 470.59,-613.85 475.47,-618.87\"/>\n",
       "</g>\n",
       "<!-- 4584540816 -->\n",
       "<g id=\"node6\" class=\"node\">\n",
       "<title>4584540816</title>\n",
       "<ellipse fill=\"none\" stroke=\"black\" cx=\"387\" cy=\"-522\" rx=\"27\" ry=\"18\"/>\n",
       "<text text-anchor=\"middle\" x=\"387\" y=\"-518.3\" font-family=\"Times,serif\" font-size=\"14.00\">add</text>\n",
       "</g>\n",
       "<!-- 4584641056&#45;&gt;4584540816 -->\n",
       "<g id=\"edge31\" class=\"edge\">\n",
       "<title>4584641056&#45;&gt;4584540816</title>\n",
       "<path fill=\"none\" stroke=\"black\" d=\"M414.65,-576.76C410.29,-568.28 404.85,-557.71 399.96,-548.2\"/>\n",
       "<polygon fill=\"black\" stroke=\"black\" points=\"402.99,-546.44 395.3,-539.15 396.77,-549.64 402.99,-546.44\"/>\n",
       "</g>\n",
       "<!-- 4585023280 -->\n",
       "<g id=\"node37\" class=\"node\">\n",
       "<title>4585023280</title>\n",
       "<ellipse fill=\"none\" stroke=\"black\" cx=\"459\" cy=\"-522\" rx=\"27\" ry=\"18\"/>\n",
       "<text text-anchor=\"middle\" x=\"459\" y=\"-518.3\" font-family=\"Times,serif\" font-size=\"14.00\">x</text>\n",
       "</g>\n",
       "<!-- 4584641056&#45;&gt;4585023280 -->\n",
       "<g id=\"edge32\" class=\"edge\">\n",
       "<title>4584641056&#45;&gt;4585023280</title>\n",
       "<path fill=\"none\" stroke=\"black\" d=\"M431.35,-576.76C435.71,-568.28 441.15,-557.71 446.04,-548.2\"/>\n",
       "<polygon fill=\"black\" stroke=\"black\" points=\"449.23,-549.64 450.7,-539.15 443.01,-546.44 449.23,-549.64\"/>\n",
       "</g>\n",
       "<!-- 4584538176 -->\n",
       "<g id=\"node7\" class=\"node\">\n",
       "<title>4584538176</title>\n",
       "<ellipse fill=\"none\" stroke=\"black\" cx=\"351\" cy=\"-450\" rx=\"27\" ry=\"18\"/>\n",
       "<text text-anchor=\"middle\" x=\"351\" y=\"-446.3\" font-family=\"Times,serif\" font-size=\"14.00\">div</text>\n",
       "</g>\n",
       "<!-- 4584540816&#45;&gt;4584538176 -->\n",
       "<g id=\"edge29\" class=\"edge\">\n",
       "<title>4584540816&#45;&gt;4584538176</title>\n",
       "<path fill=\"none\" stroke=\"black\" d=\"M378.65,-504.76C374.29,-496.28 368.85,-485.71 363.96,-476.2\"/>\n",
       "<polygon fill=\"black\" stroke=\"black\" points=\"366.99,-474.44 359.3,-467.15 360.77,-477.64 366.99,-474.44\"/>\n",
       "</g>\n",
       "<!-- 4585021600 -->\n",
       "<g id=\"node36\" class=\"node\">\n",
       "<title>4585021600</title>\n",
       "<ellipse fill=\"none\" stroke=\"black\" cx=\"423\" cy=\"-450\" rx=\"27\" ry=\"18\"/>\n",
       "<text text-anchor=\"middle\" x=\"423\" y=\"-446.3\" font-family=\"Times,serif\" font-size=\"14.00\">0</text>\n",
       "</g>\n",
       "<!-- 4584540816&#45;&gt;4585021600 -->\n",
       "<g id=\"edge30\" class=\"edge\">\n",
       "<title>4584540816&#45;&gt;4585021600</title>\n",
       "<path fill=\"none\" stroke=\"black\" d=\"M395.35,-504.76C399.71,-496.28 405.15,-485.71 410.04,-476.2\"/>\n",
       "<polygon fill=\"black\" stroke=\"black\" points=\"413.23,-477.64 414.7,-467.15 407.01,-474.44 413.23,-477.64\"/>\n",
       "</g>\n",
       "<!-- 4584541104 -->\n",
       "<g id=\"node8\" class=\"node\">\n",
       "<title>4584541104</title>\n",
       "<ellipse fill=\"none\" stroke=\"black\" cx=\"315\" cy=\"-378\" rx=\"27\" ry=\"18\"/>\n",
       "<text text-anchor=\"middle\" x=\"315\" y=\"-374.3\" font-family=\"Times,serif\" font-size=\"14.00\">mul</text>\n",
       "</g>\n",
       "<!-- 4584538176&#45;&gt;4584541104 -->\n",
       "<g id=\"edge25\" class=\"edge\">\n",
       "<title>4584538176&#45;&gt;4584541104</title>\n",
       "<path fill=\"none\" stroke=\"black\" d=\"M342.65,-432.76C338.29,-424.28 332.85,-413.71 327.96,-404.2\"/>\n",
       "<polygon fill=\"black\" stroke=\"black\" points=\"330.99,-402.44 323.3,-395.15 324.77,-405.64 330.99,-402.44\"/>\n",
       "</g>\n",
       "<!-- 4585021744 -->\n",
       "<g id=\"node33\" class=\"node\">\n",
       "<title>4585021744</title>\n",
       "<ellipse fill=\"none\" stroke=\"black\" cx=\"387\" cy=\"-378\" rx=\"27\" ry=\"18\"/>\n",
       "<text text-anchor=\"middle\" x=\"387\" y=\"-374.3\" font-family=\"Times,serif\" font-size=\"14.00\">add</text>\n",
       "</g>\n",
       "<!-- 4584538176&#45;&gt;4585021744 -->\n",
       "<g id=\"edge28\" class=\"edge\">\n",
       "<title>4584538176&#45;&gt;4585021744</title>\n",
       "<path fill=\"none\" stroke=\"black\" d=\"M359.35,-432.76C363.71,-424.28 369.15,-413.71 374.04,-404.2\"/>\n",
       "<polygon fill=\"black\" stroke=\"black\" points=\"377.23,-405.64 378.7,-395.15 371.01,-402.44 377.23,-405.64\"/>\n",
       "</g>\n",
       "<!-- 4584541776 -->\n",
       "<g id=\"node9\" class=\"node\">\n",
       "<title>4584541776</title>\n",
       "<ellipse fill=\"none\" stroke=\"black\" cx=\"243\" cy=\"-306\" rx=\"27\" ry=\"18\"/>\n",
       "<text text-anchor=\"middle\" x=\"243\" y=\"-302.3\" font-family=\"Times,serif\" font-size=\"14.00\">div</text>\n",
       "</g>\n",
       "<!-- 4584541104&#45;&gt;4584541776 -->\n",
       "<g id=\"edge23\" class=\"edge\">\n",
       "<title>4584541104&#45;&gt;4584541776</title>\n",
       "<path fill=\"none\" stroke=\"black\" d=\"M300.43,-362.83C290.25,-352.94 276.48,-339.55 264.97,-328.36\"/>\n",
       "<polygon fill=\"black\" stroke=\"black\" points=\"267.41,-325.85 257.8,-321.38 262.53,-330.87 267.41,-325.85\"/>\n",
       "</g>\n",
       "<!-- 4585021648 -->\n",
       "<g id=\"node32\" class=\"node\">\n",
       "<title>4585021648</title>\n",
       "<ellipse fill=\"none\" stroke=\"black\" cx=\"315\" cy=\"-306\" rx=\"27\" ry=\"18\"/>\n",
       "<text text-anchor=\"middle\" x=\"315\" y=\"-302.3\" font-family=\"Times,serif\" font-size=\"14.00\">&#45;4</text>\n",
       "</g>\n",
       "<!-- 4584541104&#45;&gt;4585021648 -->\n",
       "<g id=\"edge24\" class=\"edge\">\n",
       "<title>4584541104&#45;&gt;4585021648</title>\n",
       "<path fill=\"none\" stroke=\"black\" d=\"M315,-359.7C315,-351.98 315,-342.71 315,-334.11\"/>\n",
       "<polygon fill=\"black\" stroke=\"black\" points=\"318.5,-334.1 315,-324.1 311.5,-334.1 318.5,-334.1\"/>\n",
       "</g>\n",
       "<!-- 4584538560 -->\n",
       "<g id=\"node10\" class=\"node\">\n",
       "<title>4584538560</title>\n",
       "<ellipse fill=\"none\" stroke=\"black\" cx=\"207\" cy=\"-234\" rx=\"27\" ry=\"18\"/>\n",
       "<text text-anchor=\"middle\" x=\"207\" y=\"-230.3\" font-family=\"Times,serif\" font-size=\"14.00\">div</text>\n",
       "</g>\n",
       "<!-- 4584541776&#45;&gt;4584538560 -->\n",
       "<g id=\"edge9\" class=\"edge\">\n",
       "<title>4584541776&#45;&gt;4584538560</title>\n",
       "<path fill=\"none\" stroke=\"black\" d=\"M234.65,-288.76C230.29,-280.28 224.85,-269.71 219.96,-260.2\"/>\n",
       "<polygon fill=\"black\" stroke=\"black\" points=\"222.99,-258.44 215.3,-251.15 216.77,-261.64 222.99,-258.44\"/>\n",
       "</g>\n",
       "<!-- 4584538608 -->\n",
       "<g id=\"node19\" class=\"node\">\n",
       "<title>4584538608</title>\n",
       "<ellipse fill=\"none\" stroke=\"black\" cx=\"351\" cy=\"-234\" rx=\"27\" ry=\"18\"/>\n",
       "<text text-anchor=\"middle\" x=\"351\" y=\"-230.3\" font-family=\"Times,serif\" font-size=\"14.00\">div</text>\n",
       "</g>\n",
       "<!-- 4584541776&#45;&gt;4584538608 -->\n",
       "<g id=\"edge22\" class=\"edge\">\n",
       "<title>4584541776&#45;&gt;4584538608</title>\n",
       "<path fill=\"none\" stroke=\"black\" d=\"M261.81,-292.81C279,-281.67 304.62,-265.06 323.99,-252.5\"/>\n",
       "<polygon fill=\"black\" stroke=\"black\" points=\"325.92,-255.43 332.4,-247.05 322.11,-249.56 325.92,-255.43\"/>\n",
       "</g>\n",
       "<!-- 4584541872 -->\n",
       "<g id=\"node11\" class=\"node\">\n",
       "<title>4584541872</title>\n",
       "<ellipse fill=\"none\" stroke=\"black\" cx=\"99\" cy=\"-162\" rx=\"27\" ry=\"18\"/>\n",
       "<text text-anchor=\"middle\" x=\"99\" y=\"-158.3\" font-family=\"Times,serif\" font-size=\"14.00\">mul</text>\n",
       "</g>\n",
       "<!-- 4584538560&#45;&gt;4584541872 -->\n",
       "<g id=\"edge3\" class=\"edge\">\n",
       "<title>4584538560&#45;&gt;4584541872</title>\n",
       "<path fill=\"none\" stroke=\"black\" d=\"M188.19,-220.81C171,-209.67 145.38,-193.06 126.01,-180.5\"/>\n",
       "<polygon fill=\"black\" stroke=\"black\" points=\"127.89,-177.56 117.6,-175.05 124.08,-183.43 127.89,-177.56\"/>\n",
       "</g>\n",
       "<!-- 4584542112 -->\n",
       "<g id=\"node14\" class=\"node\">\n",
       "<title>4584542112</title>\n",
       "<ellipse fill=\"none\" stroke=\"black\" cx=\"207\" cy=\"-162\" rx=\"27\" ry=\"18\"/>\n",
       "<text text-anchor=\"middle\" x=\"207\" y=\"-158.3\" font-family=\"Times,serif\" font-size=\"14.00\">sub</text>\n",
       "</g>\n",
       "<!-- 4584538560&#45;&gt;4584542112 -->\n",
       "<g id=\"edge8\" class=\"edge\">\n",
       "<title>4584538560&#45;&gt;4584542112</title>\n",
       "<path fill=\"none\" stroke=\"black\" d=\"M207,-215.7C207,-207.98 207,-198.71 207,-190.11\"/>\n",
       "<polygon fill=\"black\" stroke=\"black\" points=\"210.5,-190.1 207,-180.1 203.5,-190.1 210.5,-190.1\"/>\n",
       "</g>\n",
       "<!-- 4584541584 -->\n",
       "<g id=\"node12\" class=\"node\">\n",
       "<title>4584541584</title>\n",
       "<ellipse fill=\"none\" stroke=\"black\" cx=\"27\" cy=\"-90\" rx=\"27\" ry=\"18\"/>\n",
       "<text text-anchor=\"middle\" x=\"27\" y=\"-86.3\" font-family=\"Times,serif\" font-size=\"14.00\">x</text>\n",
       "</g>\n",
       "<!-- 4584541872&#45;&gt;4584541584 -->\n",
       "<g id=\"edge1\" class=\"edge\">\n",
       "<title>4584541872&#45;&gt;4584541584</title>\n",
       "<path fill=\"none\" stroke=\"black\" d=\"M84.43,-146.83C74.25,-136.94 60.48,-123.55 48.97,-112.36\"/>\n",
       "<polygon fill=\"black\" stroke=\"black\" points=\"51.41,-109.85 41.8,-105.38 46.53,-114.87 51.41,-109.85\"/>\n",
       "</g>\n",
       "<!-- 4584540864 -->\n",
       "<g id=\"node13\" class=\"node\">\n",
       "<title>4584540864</title>\n",
       "<ellipse fill=\"none\" stroke=\"black\" cx=\"99\" cy=\"-90\" rx=\"27\" ry=\"18\"/>\n",
       "<text text-anchor=\"middle\" x=\"99\" y=\"-86.3\" font-family=\"Times,serif\" font-size=\"14.00\">4</text>\n",
       "</g>\n",
       "<!-- 4584541872&#45;&gt;4584540864 -->\n",
       "<g id=\"edge2\" class=\"edge\">\n",
       "<title>4584541872&#45;&gt;4584540864</title>\n",
       "<path fill=\"none\" stroke=\"black\" d=\"M99,-143.7C99,-135.98 99,-126.71 99,-118.11\"/>\n",
       "<polygon fill=\"black\" stroke=\"black\" points=\"102.5,-118.1 99,-108.1 95.5,-118.1 102.5,-118.1\"/>\n",
       "</g>\n",
       "<!-- 4584541824 -->\n",
       "<g id=\"node15\" class=\"node\">\n",
       "<title>4584541824</title>\n",
       "<ellipse fill=\"none\" stroke=\"black\" cx=\"171\" cy=\"-90\" rx=\"27\" ry=\"18\"/>\n",
       "<text text-anchor=\"middle\" x=\"171\" y=\"-86.3\" font-family=\"Times,serif\" font-size=\"14.00\">add</text>\n",
       "</g>\n",
       "<!-- 4584542112&#45;&gt;4584541824 -->\n",
       "<g id=\"edge6\" class=\"edge\">\n",
       "<title>4584542112&#45;&gt;4584541824</title>\n",
       "<path fill=\"none\" stroke=\"black\" d=\"M198.65,-144.76C194.29,-136.28 188.85,-125.71 183.96,-116.2\"/>\n",
       "<polygon fill=\"black\" stroke=\"black\" points=\"186.99,-114.44 179.3,-107.15 180.77,-117.64 186.99,-114.44\"/>\n",
       "</g>\n",
       "<!-- 4584540960 -->\n",
       "<g id=\"node18\" class=\"node\">\n",
       "<title>4584540960</title>\n",
       "<ellipse fill=\"none\" stroke=\"black\" cx=\"243\" cy=\"-90\" rx=\"27\" ry=\"18\"/>\n",
       "<text text-anchor=\"middle\" x=\"243\" y=\"-86.3\" font-family=\"Times,serif\" font-size=\"14.00\">x</text>\n",
       "</g>\n",
       "<!-- 4584542112&#45;&gt;4584540960 -->\n",
       "<g id=\"edge7\" class=\"edge\">\n",
       "<title>4584542112&#45;&gt;4584540960</title>\n",
       "<path fill=\"none\" stroke=\"black\" d=\"M215.35,-144.76C219.71,-136.28 225.15,-125.71 230.04,-116.2\"/>\n",
       "<polygon fill=\"black\" stroke=\"black\" points=\"233.23,-117.64 234.7,-107.15 227.01,-114.44 233.23,-117.64\"/>\n",
       "</g>\n",
       "<!-- 4584538992 -->\n",
       "<g id=\"node16\" class=\"node\">\n",
       "<title>4584538992</title>\n",
       "<ellipse fill=\"none\" stroke=\"black\" cx=\"99\" cy=\"-18\" rx=\"27\" ry=\"18\"/>\n",
       "<text text-anchor=\"middle\" x=\"99\" y=\"-14.3\" font-family=\"Times,serif\" font-size=\"14.00\">x</text>\n",
       "</g>\n",
       "<!-- 4584541824&#45;&gt;4584538992 -->\n",
       "<g id=\"edge4\" class=\"edge\">\n",
       "<title>4584541824&#45;&gt;4584538992</title>\n",
       "<path fill=\"none\" stroke=\"black\" d=\"M156.43,-74.83C146.25,-64.94 132.48,-51.55 120.97,-40.36\"/>\n",
       "<polygon fill=\"black\" stroke=\"black\" points=\"123.41,-37.85 113.8,-33.38 118.53,-42.87 123.41,-37.85\"/>\n",
       "</g>\n",
       "<!-- 4584541344 -->\n",
       "<g id=\"node17\" class=\"node\">\n",
       "<title>4584541344</title>\n",
       "<ellipse fill=\"none\" stroke=\"black\" cx=\"171\" cy=\"-18\" rx=\"27\" ry=\"18\"/>\n",
       "<text text-anchor=\"middle\" x=\"171\" y=\"-14.3\" font-family=\"Times,serif\" font-size=\"14.00\">&#45;4</text>\n",
       "</g>\n",
       "<!-- 4584541824&#45;&gt;4584541344 -->\n",
       "<g id=\"edge5\" class=\"edge\">\n",
       "<title>4584541824&#45;&gt;4584541344</title>\n",
       "<path fill=\"none\" stroke=\"black\" d=\"M171,-71.7C171,-63.98 171,-54.71 171,-46.11\"/>\n",
       "<polygon fill=\"black\" stroke=\"black\" points=\"174.5,-46.1 171,-36.1 167.5,-46.1 174.5,-46.1\"/>\n",
       "</g>\n",
       "<!-- 4584542064 -->\n",
       "<g id=\"node20\" class=\"node\">\n",
       "<title>4584542064</title>\n",
       "<ellipse fill=\"none\" stroke=\"black\" cx=\"351\" cy=\"-162\" rx=\"27\" ry=\"18\"/>\n",
       "<text text-anchor=\"middle\" x=\"351\" y=\"-158.3\" font-family=\"Times,serif\" font-size=\"14.00\">mul</text>\n",
       "</g>\n",
       "<!-- 4584538608&#45;&gt;4584542064 -->\n",
       "<g id=\"edge14\" class=\"edge\">\n",
       "<title>4584538608&#45;&gt;4584542064</title>\n",
       "<path fill=\"none\" stroke=\"black\" d=\"M351,-215.7C351,-207.98 351,-198.71 351,-190.11\"/>\n",
       "<polygon fill=\"black\" stroke=\"black\" points=\"354.5,-190.1 351,-180.1 347.5,-190.1 354.5,-190.1\"/>\n",
       "</g>\n",
       "<!-- 4585021792 -->\n",
       "<g id=\"node25\" class=\"node\">\n",
       "<title>4585021792</title>\n",
       "<ellipse fill=\"none\" stroke=\"black\" cx=\"459\" cy=\"-162\" rx=\"27\" ry=\"18\"/>\n",
       "<text text-anchor=\"middle\" x=\"459\" y=\"-158.3\" font-family=\"Times,serif\" font-size=\"14.00\">sub</text>\n",
       "</g>\n",
       "<!-- 4584538608&#45;&gt;4585021792 -->\n",
       "<g id=\"edge21\" class=\"edge\">\n",
       "<title>4584538608&#45;&gt;4585021792</title>\n",
       "<path fill=\"none\" stroke=\"black\" d=\"M369.81,-220.81C387,-209.67 412.62,-193.06 431.99,-180.5\"/>\n",
       "<polygon fill=\"black\" stroke=\"black\" points=\"433.92,-183.43 440.4,-175.05 430.11,-177.56 433.92,-183.43\"/>\n",
       "</g>\n",
       "<!-- 4586173152 -->\n",
       "<g id=\"node21\" class=\"node\">\n",
       "<title>4586173152</title>\n",
       "<ellipse fill=\"none\" stroke=\"black\" cx=\"315\" cy=\"-90\" rx=\"27\" ry=\"18\"/>\n",
       "<text text-anchor=\"middle\" x=\"315\" y=\"-86.3\" font-family=\"Times,serif\" font-size=\"14.00\">sub</text>\n",
       "</g>\n",
       "<!-- 4584542064&#45;&gt;4586173152 -->\n",
       "<g id=\"edge12\" class=\"edge\">\n",
       "<title>4584542064&#45;&gt;4586173152</title>\n",
       "<path fill=\"none\" stroke=\"black\" d=\"M342.65,-144.76C338.29,-136.28 332.85,-125.71 327.96,-116.2\"/>\n",
       "<polygon fill=\"black\" stroke=\"black\" points=\"330.99,-114.44 323.3,-107.15 324.77,-117.64 330.99,-114.44\"/>\n",
       "</g>\n",
       "<!-- 4584142112 -->\n",
       "<g id=\"node24\" class=\"node\">\n",
       "<title>4584142112</title>\n",
       "<ellipse fill=\"none\" stroke=\"black\" cx=\"387\" cy=\"-90\" rx=\"27\" ry=\"18\"/>\n",
       "<text text-anchor=\"middle\" x=\"387\" y=\"-86.3\" font-family=\"Times,serif\" font-size=\"14.00\">x</text>\n",
       "</g>\n",
       "<!-- 4584542064&#45;&gt;4584142112 -->\n",
       "<g id=\"edge13\" class=\"edge\">\n",
       "<title>4584542064&#45;&gt;4584142112</title>\n",
       "<path fill=\"none\" stroke=\"black\" d=\"M359.35,-144.76C363.71,-136.28 369.15,-125.71 374.04,-116.2\"/>\n",
       "<polygon fill=\"black\" stroke=\"black\" points=\"377.23,-117.64 378.7,-107.15 371.01,-114.44 377.23,-117.64\"/>\n",
       "</g>\n",
       "<!-- 4586173872 -->\n",
       "<g id=\"node22\" class=\"node\">\n",
       "<title>4586173872</title>\n",
       "<ellipse fill=\"none\" stroke=\"black\" cx=\"243\" cy=\"-18\" rx=\"27\" ry=\"18\"/>\n",
       "<text text-anchor=\"middle\" x=\"243\" y=\"-14.3\" font-family=\"Times,serif\" font-size=\"14.00\">x</text>\n",
       "</g>\n",
       "<!-- 4586173152&#45;&gt;4586173872 -->\n",
       "<g id=\"edge10\" class=\"edge\">\n",
       "<title>4586173152&#45;&gt;4586173872</title>\n",
       "<path fill=\"none\" stroke=\"black\" d=\"M300.43,-74.83C290.25,-64.94 276.48,-51.55 264.97,-40.36\"/>\n",
       "<polygon fill=\"black\" stroke=\"black\" points=\"267.41,-37.85 257.8,-33.38 262.53,-42.87 267.41,-37.85\"/>\n",
       "</g>\n",
       "<!-- 4584142256 -->\n",
       "<g id=\"node23\" class=\"node\">\n",
       "<title>4584142256</title>\n",
       "<ellipse fill=\"none\" stroke=\"black\" cx=\"315\" cy=\"-18\" rx=\"27\" ry=\"18\"/>\n",
       "<text text-anchor=\"middle\" x=\"315\" y=\"-14.3\" font-family=\"Times,serif\" font-size=\"14.00\">1</text>\n",
       "</g>\n",
       "<!-- 4586173152&#45;&gt;4584142256 -->\n",
       "<g id=\"edge11\" class=\"edge\">\n",
       "<title>4586173152&#45;&gt;4584142256</title>\n",
       "<path fill=\"none\" stroke=\"black\" d=\"M315,-71.7C315,-63.98 315,-54.71 315,-46.11\"/>\n",
       "<polygon fill=\"black\" stroke=\"black\" points=\"318.5,-46.1 315,-36.1 311.5,-46.1 318.5,-46.1\"/>\n",
       "</g>\n",
       "<!-- 4585022704 -->\n",
       "<g id=\"node26\" class=\"node\">\n",
       "<title>4585022704</title>\n",
       "<ellipse fill=\"none\" stroke=\"black\" cx=\"459\" cy=\"-90\" rx=\"27\" ry=\"18\"/>\n",
       "<text text-anchor=\"middle\" x=\"459\" y=\"-86.3\" font-family=\"Times,serif\" font-size=\"14.00\">add</text>\n",
       "</g>\n",
       "<!-- 4585021792&#45;&gt;4585022704 -->\n",
       "<g id=\"edge17\" class=\"edge\">\n",
       "<title>4585021792&#45;&gt;4585022704</title>\n",
       "<path fill=\"none\" stroke=\"black\" d=\"M459,-143.7C459,-135.98 459,-126.71 459,-118.11\"/>\n",
       "<polygon fill=\"black\" stroke=\"black\" points=\"462.5,-118.1 459,-108.1 455.5,-118.1 462.5,-118.1\"/>\n",
       "</g>\n",
       "<!-- 4585025440 -->\n",
       "<g id=\"node29\" class=\"node\">\n",
       "<title>4585025440</title>\n",
       "<ellipse fill=\"none\" stroke=\"black\" cx=\"531\" cy=\"-90\" rx=\"27\" ry=\"18\"/>\n",
       "<text text-anchor=\"middle\" x=\"531\" y=\"-86.3\" font-family=\"Times,serif\" font-size=\"14.00\">mul</text>\n",
       "</g>\n",
       "<!-- 4585021792&#45;&gt;4585025440 -->\n",
       "<g id=\"edge20\" class=\"edge\">\n",
       "<title>4585021792&#45;&gt;4585025440</title>\n",
       "<path fill=\"none\" stroke=\"black\" d=\"M473.57,-146.83C483.75,-136.94 497.52,-123.55 509.03,-112.36\"/>\n",
       "<polygon fill=\"black\" stroke=\"black\" points=\"511.47,-114.87 516.2,-105.38 506.59,-109.85 511.47,-114.87\"/>\n",
       "</g>\n",
       "<!-- 4585022224 -->\n",
       "<g id=\"node27\" class=\"node\">\n",
       "<title>4585022224</title>\n",
       "<ellipse fill=\"none\" stroke=\"black\" cx=\"387\" cy=\"-18\" rx=\"27\" ry=\"18\"/>\n",
       "<text text-anchor=\"middle\" x=\"387\" y=\"-14.3\" font-family=\"Times,serif\" font-size=\"14.00\">x</text>\n",
       "</g>\n",
       "<!-- 4585022704&#45;&gt;4585022224 -->\n",
       "<g id=\"edge15\" class=\"edge\">\n",
       "<title>4585022704&#45;&gt;4585022224</title>\n",
       "<path fill=\"none\" stroke=\"black\" d=\"M444.43,-74.83C434.25,-64.94 420.48,-51.55 408.97,-40.36\"/>\n",
       "<polygon fill=\"black\" stroke=\"black\" points=\"411.41,-37.85 401.8,-33.38 406.53,-42.87 411.41,-37.85\"/>\n",
       "</g>\n",
       "<!-- 4585022176 -->\n",
       "<g id=\"node28\" class=\"node\">\n",
       "<title>4585022176</title>\n",
       "<ellipse fill=\"none\" stroke=\"black\" cx=\"459\" cy=\"-18\" rx=\"27\" ry=\"18\"/>\n",
       "<text text-anchor=\"middle\" x=\"459\" y=\"-14.3\" font-family=\"Times,serif\" font-size=\"14.00\">5</text>\n",
       "</g>\n",
       "<!-- 4585022704&#45;&gt;4585022176 -->\n",
       "<g id=\"edge16\" class=\"edge\">\n",
       "<title>4585022704&#45;&gt;4585022176</title>\n",
       "<path fill=\"none\" stroke=\"black\" d=\"M459,-71.7C459,-63.98 459,-54.71 459,-46.11\"/>\n",
       "<polygon fill=\"black\" stroke=\"black\" points=\"462.5,-46.1 459,-36.1 455.5,-46.1 462.5,-46.1\"/>\n",
       "</g>\n",
       "<!-- 4585023136 -->\n",
       "<g id=\"node30\" class=\"node\">\n",
       "<title>4585023136</title>\n",
       "<ellipse fill=\"none\" stroke=\"black\" cx=\"531\" cy=\"-18\" rx=\"27\" ry=\"18\"/>\n",
       "<text text-anchor=\"middle\" x=\"531\" y=\"-14.3\" font-family=\"Times,serif\" font-size=\"14.00\">2</text>\n",
       "</g>\n",
       "<!-- 4585025440&#45;&gt;4585023136 -->\n",
       "<g id=\"edge18\" class=\"edge\">\n",
       "<title>4585025440&#45;&gt;4585023136</title>\n",
       "<path fill=\"none\" stroke=\"black\" d=\"M531,-71.7C531,-63.98 531,-54.71 531,-46.11\"/>\n",
       "<polygon fill=\"black\" stroke=\"black\" points=\"534.5,-46.1 531,-36.1 527.5,-46.1 534.5,-46.1\"/>\n",
       "</g>\n",
       "<!-- 4585021936 -->\n",
       "<g id=\"node31\" class=\"node\">\n",
       "<title>4585021936</title>\n",
       "<ellipse fill=\"none\" stroke=\"black\" cx=\"603\" cy=\"-18\" rx=\"27\" ry=\"18\"/>\n",
       "<text text-anchor=\"middle\" x=\"603\" y=\"-14.3\" font-family=\"Times,serif\" font-size=\"14.00\">x</text>\n",
       "</g>\n",
       "<!-- 4585025440&#45;&gt;4585021936 -->\n",
       "<g id=\"edge19\" class=\"edge\">\n",
       "<title>4585025440&#45;&gt;4585021936</title>\n",
       "<path fill=\"none\" stroke=\"black\" d=\"M545.57,-74.83C555.75,-64.94 569.52,-51.55 581.03,-40.36\"/>\n",
       "<polygon fill=\"black\" stroke=\"black\" points=\"583.47,-42.87 588.2,-33.38 578.59,-37.85 583.47,-42.87\"/>\n",
       "</g>\n",
       "<!-- 4585023088 -->\n",
       "<g id=\"node34\" class=\"node\">\n",
       "<title>4585023088</title>\n",
       "<ellipse fill=\"none\" stroke=\"black\" cx=\"387\" cy=\"-306\" rx=\"27\" ry=\"18\"/>\n",
       "<text text-anchor=\"middle\" x=\"387\" y=\"-302.3\" font-family=\"Times,serif\" font-size=\"14.00\">x</text>\n",
       "</g>\n",
       "<!-- 4585021744&#45;&gt;4585023088 -->\n",
       "<g id=\"edge26\" class=\"edge\">\n",
       "<title>4585021744&#45;&gt;4585023088</title>\n",
       "<path fill=\"none\" stroke=\"black\" d=\"M387,-359.7C387,-351.98 387,-342.71 387,-334.11\"/>\n",
       "<polygon fill=\"black\" stroke=\"black\" points=\"390.5,-334.1 387,-324.1 383.5,-334.1 390.5,-334.1\"/>\n",
       "</g>\n",
       "<!-- 4585021840 -->\n",
       "<g id=\"node35\" class=\"node\">\n",
       "<title>4585021840</title>\n",
       "<ellipse fill=\"none\" stroke=\"black\" cx=\"459\" cy=\"-306\" rx=\"27\" ry=\"18\"/>\n",
       "<text text-anchor=\"middle\" x=\"459\" y=\"-302.3\" font-family=\"Times,serif\" font-size=\"14.00\">&#45;4</text>\n",
       "</g>\n",
       "<!-- 4585021744&#45;&gt;4585021840 -->\n",
       "<g id=\"edge27\" class=\"edge\">\n",
       "<title>4585021744&#45;&gt;4585021840</title>\n",
       "<path fill=\"none\" stroke=\"black\" d=\"M401.57,-362.83C411.75,-352.94 425.52,-339.55 437.03,-328.36\"/>\n",
       "<polygon fill=\"black\" stroke=\"black\" points=\"439.47,-330.87 444.2,-321.38 434.59,-325.85 439.47,-330.87\"/>\n",
       "</g>\n",
       "<!-- 4585021888 -->\n",
       "<g id=\"node41\" class=\"node\">\n",
       "<title>4585021888</title>\n",
       "<ellipse fill=\"none\" stroke=\"black\" cx=\"567\" cy=\"-666\" rx=\"27\" ry=\"18\"/>\n",
       "<text text-anchor=\"middle\" x=\"567\" y=\"-662.3\" font-family=\"Times,serif\" font-size=\"14.00\">&#45;3</text>\n",
       "</g>\n",
       "<!-- 4585022752&#45;&gt;4585021888 -->\n",
       "<g id=\"edge38\" class=\"edge\">\n",
       "<title>4585022752&#45;&gt;4585021888</title>\n",
       "<path fill=\"none\" stroke=\"black\" d=\"M567,-719.7C567,-711.98 567,-702.71 567,-694.11\"/>\n",
       "<polygon fill=\"black\" stroke=\"black\" points=\"570.5,-694.1 567,-684.1 563.5,-694.1 570.5,-694.1\"/>\n",
       "</g>\n",
       "<!-- 4585025488 -->\n",
       "<g id=\"node42\" class=\"node\">\n",
       "<title>4585025488</title>\n",
       "<ellipse fill=\"none\" stroke=\"black\" cx=\"639\" cy=\"-666\" rx=\"27\" ry=\"18\"/>\n",
       "<text text-anchor=\"middle\" x=\"639\" y=\"-662.3\" font-family=\"Times,serif\" font-size=\"14.00\">mul</text>\n",
       "</g>\n",
       "<!-- 4585022752&#45;&gt;4585025488 -->\n",
       "<g id=\"edge41\" class=\"edge\">\n",
       "<title>4585022752&#45;&gt;4585025488</title>\n",
       "<path fill=\"none\" stroke=\"black\" d=\"M581.57,-722.83C591.75,-712.94 605.52,-699.55 617.03,-688.36\"/>\n",
       "<polygon fill=\"black\" stroke=\"black\" points=\"619.47,-690.87 624.2,-681.38 614.59,-685.85 619.47,-690.87\"/>\n",
       "</g>\n",
       "<!-- 4585023184 -->\n",
       "<g id=\"node43\" class=\"node\">\n",
       "<title>4585023184</title>\n",
       "<ellipse fill=\"none\" stroke=\"black\" cx=\"603\" cy=\"-594\" rx=\"27\" ry=\"18\"/>\n",
       "<text text-anchor=\"middle\" x=\"603\" y=\"-590.3\" font-family=\"Times,serif\" font-size=\"14.00\">&#45;5</text>\n",
       "</g>\n",
       "<!-- 4585025488&#45;&gt;4585023184 -->\n",
       "<g id=\"edge39\" class=\"edge\">\n",
       "<title>4585025488&#45;&gt;4585023184</title>\n",
       "<path fill=\"none\" stroke=\"black\" d=\"M630.65,-648.76C626.29,-640.28 620.85,-629.71 615.96,-620.2\"/>\n",
       "<polygon fill=\"black\" stroke=\"black\" points=\"618.99,-618.44 611.3,-611.15 612.77,-621.64 618.99,-618.44\"/>\n",
       "</g>\n",
       "<!-- 4585022128 -->\n",
       "<g id=\"node44\" class=\"node\">\n",
       "<title>4585022128</title>\n",
       "<ellipse fill=\"none\" stroke=\"black\" cx=\"675\" cy=\"-594\" rx=\"27\" ry=\"18\"/>\n",
       "<text text-anchor=\"middle\" x=\"675\" y=\"-590.3\" font-family=\"Times,serif\" font-size=\"14.00\">2</text>\n",
       "</g>\n",
       "<!-- 4585025488&#45;&gt;4585022128 -->\n",
       "<g id=\"edge40\" class=\"edge\">\n",
       "<title>4585025488&#45;&gt;4585022128</title>\n",
       "<path fill=\"none\" stroke=\"black\" d=\"M647.35,-648.76C651.71,-640.28 657.15,-629.71 662.04,-620.2\"/>\n",
       "<polygon fill=\"black\" stroke=\"black\" points=\"665.23,-621.64 666.7,-611.15 659.01,-618.44 665.23,-621.64\"/>\n",
       "</g>\n",
       "</g>\n",
       "</svg>\n"
      ],
      "text/plain": [
       "<graphviz.dot.Digraph at 0x1113bfcd0>"
      ]
     },
     "execution_count": 50,
     "metadata": {},
     "output_type": "execute_result"
    }
   ],
   "source": [
    "max_iterations = 200\n",
    "selection = tournament_selection\n",
    "crossover = subtree_crossover\n",
    "P_xover = 0.7\n",
    "fitness_values = []\n",
    "size_values = []\n",
    "result = ga()\n",
    "print_tree(result)"
   ]
  },
  {
   "cell_type": "markdown",
   "metadata": {
    "slideshow": {
     "slide_type": "skip"
    }
   },
   "source": [
    "Is the solution actually correct? We can plot the results of this function vs the results of the actual target function to compare:"
   ]
  },
  {
   "cell_type": "code",
   "execution_count": 51,
   "metadata": {
    "slideshow": {
     "slide_type": "slide"
    }
   },
   "outputs": [
    {
     "data": {
      "text/plain": [
       "<matplotlib.legend.Legend at 0x11149a2e0>"
      ]
     },
     "execution_count": 51,
     "metadata": {},
     "output_type": "execute_result"
    },
    {
     "data": {
      "image/png": "[encoded data removed]",
      "text/plain": [
       "<Figure size 432x288 with 1 Axes>"
      ]
     },
     "metadata": {
      "needs_background": "light"
     },
     "output_type": "display_data"
    }
   ],
   "source": [
    "points = [x/10 for x in range(-10, 11)]\n",
    "real_values = [(x*x + x + 1) for x in points]\n",
    "gp_values = []\n",
    "for x in points:\n",
    "    assignment = {}\n",
    "    assignment[\"x\"] = x\n",
    "    gp_values.append(evaluate(result, assignment))\n",
    "plt.plot(points, gp_values)\n",
    "\n",
    "plt.plot(points, real_values, linestyle='--', label = \"Target\")\n",
    "plt.plot(points, gp_values,  linestyle=':', label = \"GP\")\n",
    "plt.legend()"
   ]
  },
  {
   "cell_type": "markdown",
   "metadata": {
    "slideshow": {
     "slide_type": "skip"
    }
   },
   "source": [
    "The solution is usually correct; if it is not, try again, and maybe try to adjust the parameters of the GA."
   ]
  },
  {
   "cell_type": "markdown",
   "metadata": {
    "slideshow": {
     "slide_type": "slide"
    }
   },
   "source": [
    "### Handling Bloat"
   ]
  },
  {
   "cell_type": "markdown",
   "metadata": {
    "slideshow": {
     "slide_type": "skip"
    }
   },
   "source": [
    "The solution is probably a fairly large tree. Indeed the size is sometimes quite problematic as genetic programming tends to suffer from _bloat_. Let's look at the average population size throughout the evolution:"
   ]
  },
  {
   "cell_type": "code",
   "execution_count": 52,
   "metadata": {
    "scrolled": true,
    "slideshow": {
     "slide_type": "fragment"
    }
   },
   "outputs": [
    {
     "data": {
      "text/plain": [
       "[<matplotlib.lines.Line2D at 0x1114c24c0>]"
      ]
     },
     "execution_count": 52,
     "metadata": {},
     "output_type": "execute_result"
    },
    {
     "data": {
      "image/png": "[encoded data removed]",
      "text/plain": [
       "<Figure size 432x288 with 1 Axes>"
      ]
     },
     "metadata": {
      "needs_background": "light"
     },
     "output_type": "display_data"
    }
   ],
   "source": [
    "plt.plot(size_values)"
   ]
  },
  {
   "cell_type": "markdown",
   "metadata": {
    "slideshow": {
     "slide_type": "skip"
    }
   },
   "source": [
    "We have already adapted our selection operator to counter bloat somewhat, but mutation and crossover also cause an increase in size. We therefore define alternative mutation and crossover operators."
   ]
  },
  {
   "cell_type": "markdown",
   "metadata": {
    "slideshow": {
     "slide_type": "skip"
    }
   },
   "source": [
    "Shrink mutation replaces a random subtree with a terminal node:"
   ]
  },
  {
   "cell_type": "code",
   "execution_count": 53,
   "metadata": {
    "slideshow": {
     "slide_type": "slide"
    }
   },
   "outputs": [],
   "source": [
    "def shrink_mutation(individual):\n",
    "    num_nodes = size(individual)\n",
    "    if num_nodes < 2:\n",
    "        return\n",
    "    \n",
    "    mutation_point = random.randint(2, num_nodes - 1)\n",
    "    node = Node()\n",
    "    node.data = get_random_terminal()\n",
    "    insert_subtree_at(individual, node, Counter(mutation_point))\n",
    "    \n",
    "    return individual"
   ]
  },
  {
   "cell_type": "code",
   "execution_count": 54,
   "metadata": {
    "slideshow": {
     "slide_type": "subslide"
    }
   },
   "outputs": [
    {
     "data": {
      "image/svg+xml": [
       "<?xml version=\"1.0\" encoding=\"UTF-8\" standalone=\"no\"?>\n",
       "<!DOCTYPE svg PUBLIC \"-//W3C//DTD SVG 1.1//EN\"\n",
       " \"http://www.w3.org/Graphics/SVG/1.1/DTD/svg11.dtd\">\n",
       "<!-- Generated by graphviz version 2.50.0 (20211204.2007)\n",
       " -->\n",
       "<!-- Pages: 1 -->\n",
       "<svg width=\"332pt\" height=\"260pt\"\n",
       " viewBox=\"0.00 0.00 332.00 260.00\" xmlns=\"http://www.w3.org/2000/svg\" xmlns:xlink=\"http://www.w3.org/1999/xlink\">\n",
       "<g id=\"graph0\" class=\"graph\" transform=\"scale(1 1) rotate(0) translate(4 256)\">\n",
       "<polygon fill=\"white\" stroke=\"transparent\" points=\"-4,4 -4,-256 328,-256 328,4 -4,4\"/>\n",
       "<!-- 4584081680 -->\n",
       "<g id=\"node1\" class=\"node\">\n",
       "<title>4584081680</title>\n",
       "<ellipse fill=\"none\" stroke=\"black\" cx=\"135\" cy=\"-234\" rx=\"27\" ry=\"18\"/>\n",
       "<text text-anchor=\"middle\" x=\"135\" y=\"-230.3\" font-family=\"Times,serif\" font-size=\"14.00\">sub</text>\n",
       "</g>\n",
       "<!-- 4584080192 -->\n",
       "<g id=\"node2\" class=\"node\">\n",
       "<title>4584080192</title>\n",
       "<ellipse fill=\"none\" stroke=\"black\" cx=\"99\" cy=\"-162\" rx=\"27\" ry=\"18\"/>\n",
       "<text text-anchor=\"middle\" x=\"99\" y=\"-158.3\" font-family=\"Times,serif\" font-size=\"14.00\">mul</text>\n",
       "</g>\n",
       "<!-- 4584081680&#45;&gt;4584080192 -->\n",
       "<g id=\"edge5\" class=\"edge\">\n",
       "<title>4584081680&#45;&gt;4584080192</title>\n",
       "<path fill=\"none\" stroke=\"black\" d=\"M126.65,-216.76C122.29,-208.28 116.85,-197.71 111.96,-188.2\"/>\n",
       "<polygon fill=\"black\" stroke=\"black\" points=\"114.99,-186.44 107.3,-179.15 108.77,-189.64 114.99,-186.44\"/>\n",
       "</g>\n",
       "<!-- 4584080816 -->\n",
       "<g id=\"node7\" class=\"node\">\n",
       "<title>4584080816</title>\n",
       "<ellipse fill=\"none\" stroke=\"black\" cx=\"171\" cy=\"-162\" rx=\"27\" ry=\"18\"/>\n",
       "<text text-anchor=\"middle\" x=\"171\" y=\"-158.3\" font-family=\"Times,serif\" font-size=\"14.00\">div</text>\n",
       "</g>\n",
       "<!-- 4584081680&#45;&gt;4584080816 -->\n",
       "<g id=\"edge10\" class=\"edge\">\n",
       "<title>4584081680&#45;&gt;4584080816</title>\n",
       "<path fill=\"none\" stroke=\"black\" d=\"M143.35,-216.76C147.71,-208.28 153.15,-197.71 158.04,-188.2\"/>\n",
       "<polygon fill=\"black\" stroke=\"black\" points=\"161.23,-189.64 162.7,-179.15 155.01,-186.44 161.23,-189.64\"/>\n",
       "</g>\n",
       "<!-- 4584082784 -->\n",
       "<g id=\"node3\" class=\"node\">\n",
       "<title>4584082784</title>\n",
       "<ellipse fill=\"none\" stroke=\"black\" cx=\"27\" cy=\"-90\" rx=\"27\" ry=\"18\"/>\n",
       "<text text-anchor=\"middle\" x=\"27\" y=\"-86.3\" font-family=\"Times,serif\" font-size=\"14.00\">A</text>\n",
       "</g>\n",
       "<!-- 4584080192&#45;&gt;4584082784 -->\n",
       "<g id=\"edge1\" class=\"edge\">\n",
       "<title>4584080192&#45;&gt;4584082784</title>\n",
       "<path fill=\"none\" stroke=\"black\" d=\"M84.43,-146.83C74.25,-136.94 60.48,-123.55 48.97,-112.36\"/>\n",
       "<polygon fill=\"black\" stroke=\"black\" points=\"51.41,-109.85 41.8,-105.38 46.53,-114.87 51.41,-109.85\"/>\n",
       "</g>\n",
       "<!-- 4584080672 -->\n",
       "<g id=\"node4\" class=\"node\">\n",
       "<title>4584080672</title>\n",
       "<ellipse fill=\"none\" stroke=\"black\" cx=\"99\" cy=\"-90\" rx=\"27\" ry=\"18\"/>\n",
       "<text text-anchor=\"middle\" x=\"99\" y=\"-86.3\" font-family=\"Times,serif\" font-size=\"14.00\">sub</text>\n",
       "</g>\n",
       "<!-- 4584080192&#45;&gt;4584080672 -->\n",
       "<g id=\"edge4\" class=\"edge\">\n",
       "<title>4584080192&#45;&gt;4584080672</title>\n",
       "<path fill=\"none\" stroke=\"black\" d=\"M99,-143.7C99,-135.98 99,-126.71 99,-118.11\"/>\n",
       "<polygon fill=\"black\" stroke=\"black\" points=\"102.5,-118.1 99,-108.1 95.5,-118.1 102.5,-118.1\"/>\n",
       "</g>\n",
       "<!-- 4584082592 -->\n",
       "<g id=\"node5\" class=\"node\">\n",
       "<title>4584082592</title>\n",
       "<ellipse fill=\"none\" stroke=\"black\" cx=\"63\" cy=\"-18\" rx=\"27\" ry=\"18\"/>\n",
       "<text text-anchor=\"middle\" x=\"63\" y=\"-14.3\" font-family=\"Times,serif\" font-size=\"14.00\">D</text>\n",
       "</g>\n",
       "<!-- 4584080672&#45;&gt;4584082592 -->\n",
       "<g id=\"edge2\" class=\"edge\">\n",
       "<title>4584080672&#45;&gt;4584082592</title>\n",
       "<path fill=\"none\" stroke=\"black\" d=\"M90.65,-72.76C86.29,-64.28 80.85,-53.71 75.96,-44.2\"/>\n",
       "<polygon fill=\"black\" stroke=\"black\" points=\"78.99,-42.44 71.3,-35.15 72.77,-45.64 78.99,-42.44\"/>\n",
       "</g>\n",
       "<!-- 4584082208 -->\n",
       "<g id=\"node6\" class=\"node\">\n",
       "<title>4584082208</title>\n",
       "<ellipse fill=\"none\" stroke=\"black\" cx=\"135\" cy=\"-18\" rx=\"27\" ry=\"18\"/>\n",
       "<text text-anchor=\"middle\" x=\"135\" y=\"-14.3\" font-family=\"Times,serif\" font-size=\"14.00\">A</text>\n",
       "</g>\n",
       "<!-- 4584080672&#45;&gt;4584082208 -->\n",
       "<g id=\"edge3\" class=\"edge\">\n",
       "<title>4584080672&#45;&gt;4584082208</title>\n",
       "<path fill=\"none\" stroke=\"black\" d=\"M107.35,-72.76C111.71,-64.28 117.15,-53.71 122.04,-44.2\"/>\n",
       "<polygon fill=\"black\" stroke=\"black\" points=\"125.23,-45.64 126.7,-35.15 119.01,-42.44 125.23,-45.64\"/>\n",
       "</g>\n",
       "<!-- 4584082256 -->\n",
       "<g id=\"node8\" class=\"node\">\n",
       "<title>4584082256</title>\n",
       "<ellipse fill=\"none\" stroke=\"black\" cx=\"171\" cy=\"-90\" rx=\"27\" ry=\"18\"/>\n",
       "<text text-anchor=\"middle\" x=\"171\" y=\"-86.3\" font-family=\"Times,serif\" font-size=\"14.00\">A</text>\n",
       "</g>\n",
       "<!-- 4584080816&#45;&gt;4584082256 -->\n",
       "<g id=\"edge6\" class=\"edge\">\n",
       "<title>4584080816&#45;&gt;4584082256</title>\n",
       "<path fill=\"none\" stroke=\"black\" d=\"M171,-143.7C171,-135.98 171,-126.71 171,-118.11\"/>\n",
       "<polygon fill=\"black\" stroke=\"black\" points=\"174.5,-118.1 171,-108.1 167.5,-118.1 174.5,-118.1\"/>\n",
       "</g>\n",
       "<!-- 4584082496 -->\n",
       "<g id=\"node9\" class=\"node\">\n",
       "<title>4584082496</title>\n",
       "<ellipse fill=\"none\" stroke=\"black\" cx=\"243\" cy=\"-90\" rx=\"27\" ry=\"18\"/>\n",
       "<text text-anchor=\"middle\" x=\"243\" y=\"-86.3\" font-family=\"Times,serif\" font-size=\"14.00\">add</text>\n",
       "</g>\n",
       "<!-- 4584080816&#45;&gt;4584082496 -->\n",
       "<g id=\"edge9\" class=\"edge\">\n",
       "<title>4584080816&#45;&gt;4584082496</title>\n",
       "<path fill=\"none\" stroke=\"black\" d=\"M185.57,-146.83C195.75,-136.94 209.52,-123.55 221.03,-112.36\"/>\n",
       "<polygon fill=\"black\" stroke=\"black\" points=\"223.47,-114.87 228.2,-105.38 218.59,-109.85 223.47,-114.87\"/>\n",
       "</g>\n",
       "<!-- 4584079568 -->\n",
       "<g id=\"node10\" class=\"node\">\n",
       "<title>4584079568</title>\n",
       "<ellipse fill=\"none\" stroke=\"black\" cx=\"225\" cy=\"-18\" rx=\"27\" ry=\"18\"/>\n",
       "<text text-anchor=\"middle\" x=\"225\" y=\"-14.3\" font-family=\"Times,serif\" font-size=\"14.00\">B</text>\n",
       "</g>\n",
       "<!-- 4584082496&#45;&gt;4584079568 -->\n",
       "<g id=\"edge7\" class=\"edge\">\n",
       "<title>4584082496&#45;&gt;4584079568</title>\n",
       "<path fill=\"none\" stroke=\"black\" d=\"M238.64,-72.05C236.61,-64.14 234.14,-54.54 231.86,-45.69\"/>\n",
       "<polygon fill=\"black\" stroke=\"black\" points=\"235.2,-44.6 229.32,-35.79 228.42,-46.35 235.2,-44.6\"/>\n",
       "</g>\n",
       "<!-- 4584079664 -->\n",
       "<g id=\"node11\" class=\"node\">\n",
       "<title>4584079664</title>\n",
       "<ellipse fill=\"none\" stroke=\"black\" cx=\"297\" cy=\"-18\" rx=\"27\" ry=\"18\"/>\n",
       "<text text-anchor=\"middle\" x=\"297\" y=\"-14.3\" font-family=\"Times,serif\" font-size=\"14.00\">D</text>\n",
       "</g>\n",
       "<!-- 4584082496&#45;&gt;4584079664 -->\n",
       "<g id=\"edge8\" class=\"edge\">\n",
       "<title>4584082496&#45;&gt;4584079664</title>\n",
       "<path fill=\"none\" stroke=\"black\" d=\"M254.98,-73.46C261.98,-64.4 270.94,-52.79 278.79,-42.61\"/>\n",
       "<polygon fill=\"black\" stroke=\"black\" points=\"281.71,-44.55 285.05,-34.49 276.17,-40.27 281.71,-44.55\"/>\n",
       "</g>\n",
       "</g>\n",
       "</svg>\n"
      ],
      "text/plain": [
       "<graphviz.dot.Digraph at 0x1114c0970>"
      ]
     },
     "execution_count": 54,
     "metadata": {},
     "output_type": "execute_result"
    }
   ],
   "source": [
    "print_tree(parent1)"
   ]
  },
  {
   "cell_type": "code",
   "execution_count": 74,
   "metadata": {
    "scrolled": true,
    "slideshow": {
     "slide_type": "fragment"
    }
   },
   "outputs": [
    {
     "data": {
      "image/svg+xml": [
       "<?xml version=\"1.0\" encoding=\"UTF-8\" standalone=\"no\"?>\n",
       "<!DOCTYPE svg PUBLIC \"-//W3C//DTD SVG 1.1//EN\"\n",
       " \"http://www.w3.org/Graphics/SVG/1.1/DTD/svg11.dtd\">\n",
       "<!-- Generated by graphviz version 2.50.0 (20211204.2007)\n",
       " -->\n",
       "<!-- Pages: 1 -->\n",
       "<svg width=\"278pt\" height=\"260pt\"\n",
       " viewBox=\"0.00 0.00 278.00 260.00\" xmlns=\"http://www.w3.org/2000/svg\" xmlns:xlink=\"http://www.w3.org/1999/xlink\">\n",
       "<g id=\"graph0\" class=\"graph\" transform=\"scale(1 1) rotate(0) translate(4 256)\">\n",
       "<polygon fill=\"white\" stroke=\"transparent\" points=\"-4,4 -4,-256 274,-256 274,4 -4,4\"/>\n",
       "<!-- 4585320112 -->\n",
       "<g id=\"node1\" class=\"node\">\n",
       "<title>4585320112</title>\n",
       "<ellipse fill=\"none\" stroke=\"black\" cx=\"135\" cy=\"-234\" rx=\"27\" ry=\"18\"/>\n",
       "<text text-anchor=\"middle\" x=\"135\" y=\"-230.3\" font-family=\"Times,serif\" font-size=\"14.00\">sub</text>\n",
       "</g>\n",
       "<!-- 4585320160 -->\n",
       "<g id=\"node2\" class=\"node\">\n",
       "<title>4585320160</title>\n",
       "<ellipse fill=\"none\" stroke=\"black\" cx=\"99\" cy=\"-162\" rx=\"27\" ry=\"18\"/>\n",
       "<text text-anchor=\"middle\" x=\"99\" y=\"-158.3\" font-family=\"Times,serif\" font-size=\"14.00\">mul</text>\n",
       "</g>\n",
       "<!-- 4585320112&#45;&gt;4585320160 -->\n",
       "<g id=\"edge5\" class=\"edge\">\n",
       "<title>4585320112&#45;&gt;4585320160</title>\n",
       "<path fill=\"none\" stroke=\"black\" d=\"M126.65,-216.76C122.29,-208.28 116.85,-197.71 111.96,-188.2\"/>\n",
       "<polygon fill=\"black\" stroke=\"black\" points=\"114.99,-186.44 107.3,-179.15 108.77,-189.64 114.99,-186.44\"/>\n",
       "</g>\n",
       "<!-- 4565778336 -->\n",
       "<g id=\"node7\" class=\"node\">\n",
       "<title>4565778336</title>\n",
       "<ellipse fill=\"none\" stroke=\"black\" cx=\"171\" cy=\"-162\" rx=\"27\" ry=\"18\"/>\n",
       "<text text-anchor=\"middle\" x=\"171\" y=\"-158.3\" font-family=\"Times,serif\" font-size=\"14.00\">div</text>\n",
       "</g>\n",
       "<!-- 4585320112&#45;&gt;4565778336 -->\n",
       "<g id=\"edge8\" class=\"edge\">\n",
       "<title>4585320112&#45;&gt;4565778336</title>\n",
       "<path fill=\"none\" stroke=\"black\" d=\"M143.35,-216.76C147.71,-208.28 153.15,-197.71 158.04,-188.2\"/>\n",
       "<polygon fill=\"black\" stroke=\"black\" points=\"161.23,-189.64 162.7,-179.15 155.01,-186.44 161.23,-189.64\"/>\n",
       "</g>\n",
       "<!-- 4585317136 -->\n",
       "<g id=\"node3\" class=\"node\">\n",
       "<title>4585317136</title>\n",
       "<ellipse fill=\"none\" stroke=\"black\" cx=\"27\" cy=\"-90\" rx=\"27\" ry=\"18\"/>\n",
       "<text text-anchor=\"middle\" x=\"27\" y=\"-86.3\" font-family=\"Times,serif\" font-size=\"14.00\">A</text>\n",
       "</g>\n",
       "<!-- 4585320160&#45;&gt;4585317136 -->\n",
       "<g id=\"edge1\" class=\"edge\">\n",
       "<title>4585320160&#45;&gt;4585317136</title>\n",
       "<path fill=\"none\" stroke=\"black\" d=\"M84.43,-146.83C74.25,-136.94 60.48,-123.55 48.97,-112.36\"/>\n",
       "<polygon fill=\"black\" stroke=\"black\" points=\"51.41,-109.85 41.8,-105.38 46.53,-114.87 51.41,-109.85\"/>\n",
       "</g>\n",
       "<!-- 4585319920 -->\n",
       "<g id=\"node4\" class=\"node\">\n",
       "<title>4585319920</title>\n",
       "<ellipse fill=\"none\" stroke=\"black\" cx=\"99\" cy=\"-90\" rx=\"27\" ry=\"18\"/>\n",
       "<text text-anchor=\"middle\" x=\"99\" y=\"-86.3\" font-family=\"Times,serif\" font-size=\"14.00\">sub</text>\n",
       "</g>\n",
       "<!-- 4585320160&#45;&gt;4585319920 -->\n",
       "<g id=\"edge4\" class=\"edge\">\n",
       "<title>4585320160&#45;&gt;4585319920</title>\n",
       "<path fill=\"none\" stroke=\"black\" d=\"M99,-143.7C99,-135.98 99,-126.71 99,-118.11\"/>\n",
       "<polygon fill=\"black\" stroke=\"black\" points=\"102.5,-118.1 99,-108.1 95.5,-118.1 102.5,-118.1\"/>\n",
       "</g>\n",
       "<!-- 4586294912 -->\n",
       "<g id=\"node5\" class=\"node\">\n",
       "<title>4586294912</title>\n",
       "<ellipse fill=\"none\" stroke=\"black\" cx=\"63\" cy=\"-18\" rx=\"27\" ry=\"18\"/>\n",
       "<text text-anchor=\"middle\" x=\"63\" y=\"-14.3\" font-family=\"Times,serif\" font-size=\"14.00\">D</text>\n",
       "</g>\n",
       "<!-- 4585319920&#45;&gt;4586294912 -->\n",
       "<g id=\"edge2\" class=\"edge\">\n",
       "<title>4585319920&#45;&gt;4586294912</title>\n",
       "<path fill=\"none\" stroke=\"black\" d=\"M90.65,-72.76C86.29,-64.28 80.85,-53.71 75.96,-44.2\"/>\n",
       "<polygon fill=\"black\" stroke=\"black\" points=\"78.99,-42.44 71.3,-35.15 72.77,-45.64 78.99,-42.44\"/>\n",
       "</g>\n",
       "<!-- 4585008000 -->\n",
       "<g id=\"node6\" class=\"node\">\n",
       "<title>4585008000</title>\n",
       "<ellipse fill=\"none\" stroke=\"black\" cx=\"135\" cy=\"-18\" rx=\"27\" ry=\"18\"/>\n",
       "<text text-anchor=\"middle\" x=\"135\" y=\"-14.3\" font-family=\"Times,serif\" font-size=\"14.00\">A</text>\n",
       "</g>\n",
       "<!-- 4585319920&#45;&gt;4585008000 -->\n",
       "<g id=\"edge3\" class=\"edge\">\n",
       "<title>4585319920&#45;&gt;4585008000</title>\n",
       "<path fill=\"none\" stroke=\"black\" d=\"M107.35,-72.76C111.71,-64.28 117.15,-53.71 122.04,-44.2\"/>\n",
       "<polygon fill=\"black\" stroke=\"black\" points=\"125.23,-45.64 126.7,-35.15 119.01,-42.44 125.23,-45.64\"/>\n",
       "</g>\n",
       "<!-- 4565398288 -->\n",
       "<g id=\"node8\" class=\"node\">\n",
       "<title>4565398288</title>\n",
       "<ellipse fill=\"none\" stroke=\"black\" cx=\"171\" cy=\"-90\" rx=\"27\" ry=\"18\"/>\n",
       "<text text-anchor=\"middle\" x=\"171\" y=\"-86.3\" font-family=\"Times,serif\" font-size=\"14.00\">A</text>\n",
       "</g>\n",
       "<!-- 4565778336&#45;&gt;4565398288 -->\n",
       "<g id=\"edge6\" class=\"edge\">\n",
       "<title>4565778336&#45;&gt;4565398288</title>\n",
       "<path fill=\"none\" stroke=\"black\" d=\"M171,-143.7C171,-135.98 171,-126.71 171,-118.11\"/>\n",
       "<polygon fill=\"black\" stroke=\"black\" points=\"174.5,-118.1 171,-108.1 167.5,-118.1 174.5,-118.1\"/>\n",
       "</g>\n",
       "<!-- 4565399008 -->\n",
       "<g id=\"node9\" class=\"node\">\n",
       "<title>4565399008</title>\n",
       "<ellipse fill=\"none\" stroke=\"black\" cx=\"243\" cy=\"-90\" rx=\"27\" ry=\"18\"/>\n",
       "<text text-anchor=\"middle\" x=\"243\" y=\"-86.3\" font-family=\"Times,serif\" font-size=\"14.00\">4</text>\n",
       "</g>\n",
       "<!-- 4565778336&#45;&gt;4565399008 -->\n",
       "<g id=\"edge7\" class=\"edge\">\n",
       "<title>4565778336&#45;&gt;4565399008</title>\n",
       "<path fill=\"none\" stroke=\"black\" d=\"M185.57,-146.83C195.75,-136.94 209.52,-123.55 221.03,-112.36\"/>\n",
       "<polygon fill=\"black\" stroke=\"black\" points=\"223.47,-114.87 228.2,-105.38 218.59,-109.85 223.47,-114.87\"/>\n",
       "</g>\n",
       "</g>\n",
       "</svg>\n"
      ],
      "text/plain": [
       "<graphviz.dot.Digraph at 0x11133ffa0>"
      ]
     },
     "execution_count": 74,
     "metadata": {},
     "output_type": "execute_result"
    }
   ],
   "source": [
    "offspring = copy(parent1)\n",
    "shrink_mutation(offspring)\n",
    "print_tree(offspring)"
   ]
  },
  {
   "cell_type": "markdown",
   "metadata": {
    "slideshow": {
     "slide_type": "skip"
    }
   },
   "source": [
    "Size-fair subtree mutation first picks a random subtree, and then replaces that with a new random subtree that is at most as big as the replaced subtree:"
   ]
  },
  {
   "cell_type": "code",
   "execution_count": 56,
   "metadata": {
    "slideshow": {
     "slide_type": "slide"
    }
   },
   "outputs": [],
   "source": [
    "def depth(node):\n",
    "    d = 0\n",
    "    if node.left:\n",
    "        d = max(d, depth(node.left))\n",
    "    if node.right:\n",
    "        d = max(d, depth(node.right))\n",
    "    return d + 1\n",
    "        "
   ]
  },
  {
   "cell_type": "code",
   "execution_count": 57,
   "metadata": {
    "slideshow": {
     "slide_type": "fragment"
    }
   },
   "outputs": [],
   "source": [
    "def sizefair_subtree_mutation(tree):\n",
    "    mutation_point = random.randint(1, size(tree))\n",
    "    replaced_tree = get_subtree_at(tree, Counter(mutation_point))\n",
    "    random_subtree = grow_random_tree(MAX_DEPTH - depth(replaced_tree) + 1)\n",
    "    insert_subtree_at(tree, random_subtree, Counter(mutation_point))"
   ]
  },
  {
   "cell_type": "code",
   "execution_count": 58,
   "metadata": {
    "slideshow": {
     "slide_type": "subslide"
    }
   },
   "outputs": [
    {
     "data": {
      "image/svg+xml": [
       "<?xml version=\"1.0\" encoding=\"UTF-8\" standalone=\"no\"?>\n",
       "<!DOCTYPE svg PUBLIC \"-//W3C//DTD SVG 1.1//EN\"\n",
       " \"http://www.w3.org/Graphics/SVG/1.1/DTD/svg11.dtd\">\n",
       "<!-- Generated by graphviz version 2.50.0 (20211204.2007)\n",
       " -->\n",
       "<!-- Pages: 1 -->\n",
       "<svg width=\"332pt\" height=\"260pt\"\n",
       " viewBox=\"0.00 0.00 332.00 260.00\" xmlns=\"http://www.w3.org/2000/svg\" xmlns:xlink=\"http://www.w3.org/1999/xlink\">\n",
       "<g id=\"graph0\" class=\"graph\" transform=\"scale(1 1) rotate(0) translate(4 256)\">\n",
       "<polygon fill=\"white\" stroke=\"transparent\" points=\"-4,4 -4,-256 328,-256 328,4 -4,4\"/>\n",
       "<!-- 4584081680 -->\n",
       "<g id=\"node1\" class=\"node\">\n",
       "<title>4584081680</title>\n",
       "<ellipse fill=\"none\" stroke=\"black\" cx=\"135\" cy=\"-234\" rx=\"27\" ry=\"18\"/>\n",
       "<text text-anchor=\"middle\" x=\"135\" y=\"-230.3\" font-family=\"Times,serif\" font-size=\"14.00\">sub</text>\n",
       "</g>\n",
       "<!-- 4584080192 -->\n",
       "<g id=\"node2\" class=\"node\">\n",
       "<title>4584080192</title>\n",
       "<ellipse fill=\"none\" stroke=\"black\" cx=\"99\" cy=\"-162\" rx=\"27\" ry=\"18\"/>\n",
       "<text text-anchor=\"middle\" x=\"99\" y=\"-158.3\" font-family=\"Times,serif\" font-size=\"14.00\">mul</text>\n",
       "</g>\n",
       "<!-- 4584081680&#45;&gt;4584080192 -->\n",
       "<g id=\"edge5\" class=\"edge\">\n",
       "<title>4584081680&#45;&gt;4584080192</title>\n",
       "<path fill=\"none\" stroke=\"black\" d=\"M126.65,-216.76C122.29,-208.28 116.85,-197.71 111.96,-188.2\"/>\n",
       "<polygon fill=\"black\" stroke=\"black\" points=\"114.99,-186.44 107.3,-179.15 108.77,-189.64 114.99,-186.44\"/>\n",
       "</g>\n",
       "<!-- 4584080816 -->\n",
       "<g id=\"node7\" class=\"node\">\n",
       "<title>4584080816</title>\n",
       "<ellipse fill=\"none\" stroke=\"black\" cx=\"171\" cy=\"-162\" rx=\"27\" ry=\"18\"/>\n",
       "<text text-anchor=\"middle\" x=\"171\" y=\"-158.3\" font-family=\"Times,serif\" font-size=\"14.00\">div</text>\n",
       "</g>\n",
       "<!-- 4584081680&#45;&gt;4584080816 -->\n",
       "<g id=\"edge10\" class=\"edge\">\n",
       "<title>4584081680&#45;&gt;4584080816</title>\n",
       "<path fill=\"none\" stroke=\"black\" d=\"M143.35,-216.76C147.71,-208.28 153.15,-197.71 158.04,-188.2\"/>\n",
       "<polygon fill=\"black\" stroke=\"black\" points=\"161.23,-189.64 162.7,-179.15 155.01,-186.44 161.23,-189.64\"/>\n",
       "</g>\n",
       "<!-- 4584082784 -->\n",
       "<g id=\"node3\" class=\"node\">\n",
       "<title>4584082784</title>\n",
       "<ellipse fill=\"none\" stroke=\"black\" cx=\"27\" cy=\"-90\" rx=\"27\" ry=\"18\"/>\n",
       "<text text-anchor=\"middle\" x=\"27\" y=\"-86.3\" font-family=\"Times,serif\" font-size=\"14.00\">A</text>\n",
       "</g>\n",
       "<!-- 4584080192&#45;&gt;4584082784 -->\n",
       "<g id=\"edge1\" class=\"edge\">\n",
       "<title>4584080192&#45;&gt;4584082784</title>\n",
       "<path fill=\"none\" stroke=\"black\" d=\"M84.43,-146.83C74.25,-136.94 60.48,-123.55 48.97,-112.36\"/>\n",
       "<polygon fill=\"black\" stroke=\"black\" points=\"51.41,-109.85 41.8,-105.38 46.53,-114.87 51.41,-109.85\"/>\n",
       "</g>\n",
       "<!-- 4584080672 -->\n",
       "<g id=\"node4\" class=\"node\">\n",
       "<title>4584080672</title>\n",
       "<ellipse fill=\"none\" stroke=\"black\" cx=\"99\" cy=\"-90\" rx=\"27\" ry=\"18\"/>\n",
       "<text text-anchor=\"middle\" x=\"99\" y=\"-86.3\" font-family=\"Times,serif\" font-size=\"14.00\">sub</text>\n",
       "</g>\n",
       "<!-- 4584080192&#45;&gt;4584080672 -->\n",
       "<g id=\"edge4\" class=\"edge\">\n",
       "<title>4584080192&#45;&gt;4584080672</title>\n",
       "<path fill=\"none\" stroke=\"black\" d=\"M99,-143.7C99,-135.98 99,-126.71 99,-118.11\"/>\n",
       "<polygon fill=\"black\" stroke=\"black\" points=\"102.5,-118.1 99,-108.1 95.5,-118.1 102.5,-118.1\"/>\n",
       "</g>\n",
       "<!-- 4584082592 -->\n",
       "<g id=\"node5\" class=\"node\">\n",
       "<title>4584082592</title>\n",
       "<ellipse fill=\"none\" stroke=\"black\" cx=\"63\" cy=\"-18\" rx=\"27\" ry=\"18\"/>\n",
       "<text text-anchor=\"middle\" x=\"63\" y=\"-14.3\" font-family=\"Times,serif\" font-size=\"14.00\">D</text>\n",
       "</g>\n",
       "<!-- 4584080672&#45;&gt;4584082592 -->\n",
       "<g id=\"edge2\" class=\"edge\">\n",
       "<title>4584080672&#45;&gt;4584082592</title>\n",
       "<path fill=\"none\" stroke=\"black\" d=\"M90.65,-72.76C86.29,-64.28 80.85,-53.71 75.96,-44.2\"/>\n",
       "<polygon fill=\"black\" stroke=\"black\" points=\"78.99,-42.44 71.3,-35.15 72.77,-45.64 78.99,-42.44\"/>\n",
       "</g>\n",
       "<!-- 4584082208 -->\n",
       "<g id=\"node6\" class=\"node\">\n",
       "<title>4584082208</title>\n",
       "<ellipse fill=\"none\" stroke=\"black\" cx=\"135\" cy=\"-18\" rx=\"27\" ry=\"18\"/>\n",
       "<text text-anchor=\"middle\" x=\"135\" y=\"-14.3\" font-family=\"Times,serif\" font-size=\"14.00\">A</text>\n",
       "</g>\n",
       "<!-- 4584080672&#45;&gt;4584082208 -->\n",
       "<g id=\"edge3\" class=\"edge\">\n",
       "<title>4584080672&#45;&gt;4584082208</title>\n",
       "<path fill=\"none\" stroke=\"black\" d=\"M107.35,-72.76C111.71,-64.28 117.15,-53.71 122.04,-44.2\"/>\n",
       "<polygon fill=\"black\" stroke=\"black\" points=\"125.23,-45.64 126.7,-35.15 119.01,-42.44 125.23,-45.64\"/>\n",
       "</g>\n",
       "<!-- 4584082256 -->\n",
       "<g id=\"node8\" class=\"node\">\n",
       "<title>4584082256</title>\n",
       "<ellipse fill=\"none\" stroke=\"black\" cx=\"171\" cy=\"-90\" rx=\"27\" ry=\"18\"/>\n",
       "<text text-anchor=\"middle\" x=\"171\" y=\"-86.3\" font-family=\"Times,serif\" font-size=\"14.00\">A</text>\n",
       "</g>\n",
       "<!-- 4584080816&#45;&gt;4584082256 -->\n",
       "<g id=\"edge6\" class=\"edge\">\n",
       "<title>4584080816&#45;&gt;4584082256</title>\n",
       "<path fill=\"none\" stroke=\"black\" d=\"M171,-143.7C171,-135.98 171,-126.71 171,-118.11\"/>\n",
       "<polygon fill=\"black\" stroke=\"black\" points=\"174.5,-118.1 171,-108.1 167.5,-118.1 174.5,-118.1\"/>\n",
       "</g>\n",
       "<!-- 4584082496 -->\n",
       "<g id=\"node9\" class=\"node\">\n",
       "<title>4584082496</title>\n",
       "<ellipse fill=\"none\" stroke=\"black\" cx=\"243\" cy=\"-90\" rx=\"27\" ry=\"18\"/>\n",
       "<text text-anchor=\"middle\" x=\"243\" y=\"-86.3\" font-family=\"Times,serif\" font-size=\"14.00\">add</text>\n",
       "</g>\n",
       "<!-- 4584080816&#45;&gt;4584082496 -->\n",
       "<g id=\"edge9\" class=\"edge\">\n",
       "<title>4584080816&#45;&gt;4584082496</title>\n",
       "<path fill=\"none\" stroke=\"black\" d=\"M185.57,-146.83C195.75,-136.94 209.52,-123.55 221.03,-112.36\"/>\n",
       "<polygon fill=\"black\" stroke=\"black\" points=\"223.47,-114.87 228.2,-105.38 218.59,-109.85 223.47,-114.87\"/>\n",
       "</g>\n",
       "<!-- 4584079568 -->\n",
       "<g id=\"node10\" class=\"node\">\n",
       "<title>4584079568</title>\n",
       "<ellipse fill=\"none\" stroke=\"black\" cx=\"225\" cy=\"-18\" rx=\"27\" ry=\"18\"/>\n",
       "<text text-anchor=\"middle\" x=\"225\" y=\"-14.3\" font-family=\"Times,serif\" font-size=\"14.00\">B</text>\n",
       "</g>\n",
       "<!-- 4584082496&#45;&gt;4584079568 -->\n",
       "<g id=\"edge7\" class=\"edge\">\n",
       "<title>4584082496&#45;&gt;4584079568</title>\n",
       "<path fill=\"none\" stroke=\"black\" d=\"M238.64,-72.05C236.61,-64.14 234.14,-54.54 231.86,-45.69\"/>\n",
       "<polygon fill=\"black\" stroke=\"black\" points=\"235.2,-44.6 229.32,-35.79 228.42,-46.35 235.2,-44.6\"/>\n",
       "</g>\n",
       "<!-- 4584079664 -->\n",
       "<g id=\"node11\" class=\"node\">\n",
       "<title>4584079664</title>\n",
       "<ellipse fill=\"none\" stroke=\"black\" cx=\"297\" cy=\"-18\" rx=\"27\" ry=\"18\"/>\n",
       "<text text-anchor=\"middle\" x=\"297\" y=\"-14.3\" font-family=\"Times,serif\" font-size=\"14.00\">D</text>\n",
       "</g>\n",
       "<!-- 4584082496&#45;&gt;4584079664 -->\n",
       "<g id=\"edge8\" class=\"edge\">\n",
       "<title>4584082496&#45;&gt;4584079664</title>\n",
       "<path fill=\"none\" stroke=\"black\" d=\"M254.98,-73.46C261.98,-64.4 270.94,-52.79 278.79,-42.61\"/>\n",
       "<polygon fill=\"black\" stroke=\"black\" points=\"281.71,-44.55 285.05,-34.49 276.17,-40.27 281.71,-44.55\"/>\n",
       "</g>\n",
       "</g>\n",
       "</svg>\n"
      ],
      "text/plain": [
       "<graphviz.dot.Digraph at 0x1113bf760>"
      ]
     },
     "execution_count": 58,
     "metadata": {},
     "output_type": "execute_result"
    }
   ],
   "source": [
    "print_tree(parent1)"
   ]
  },
  {
   "cell_type": "code",
   "execution_count": 79,
   "metadata": {
    "scrolled": true,
    "slideshow": {
     "slide_type": "fragment"
    }
   },
   "outputs": [
    {
     "data": {
      "image/svg+xml": [
       "<?xml version=\"1.0\" encoding=\"UTF-8\" standalone=\"no\"?>\n",
       "<!DOCTYPE svg PUBLIC \"-//W3C//DTD SVG 1.1//EN\"\n",
       " \"http://www.w3.org/Graphics/SVG/1.1/DTD/svg11.dtd\">\n",
       "<!-- Generated by graphviz version 2.50.0 (20211204.2007)\n",
       " -->\n",
       "<!-- Pages: 1 -->\n",
       "<svg width=\"332pt\" height=\"260pt\"\n",
       " viewBox=\"0.00 0.00 332.00 260.00\" xmlns=\"http://www.w3.org/2000/svg\" xmlns:xlink=\"http://www.w3.org/1999/xlink\">\n",
       "<g id=\"graph0\" class=\"graph\" transform=\"scale(1 1) rotate(0) translate(4 256)\">\n",
       "<polygon fill=\"white\" stroke=\"transparent\" points=\"-4,4 -4,-256 328,-256 328,4 -4,4\"/>\n",
       "<!-- 4586198688 -->\n",
       "<g id=\"node1\" class=\"node\">\n",
       "<title>4586198688</title>\n",
       "<ellipse fill=\"none\" stroke=\"black\" cx=\"135\" cy=\"-234\" rx=\"27\" ry=\"18\"/>\n",
       "<text text-anchor=\"middle\" x=\"135\" y=\"-230.3\" font-family=\"Times,serif\" font-size=\"14.00\">sub</text>\n",
       "</g>\n",
       "<!-- 4586200128 -->\n",
       "<g id=\"node2\" class=\"node\">\n",
       "<title>4586200128</title>\n",
       "<ellipse fill=\"none\" stroke=\"black\" cx=\"99\" cy=\"-162\" rx=\"27\" ry=\"18\"/>\n",
       "<text text-anchor=\"middle\" x=\"99\" y=\"-158.3\" font-family=\"Times,serif\" font-size=\"14.00\">sub</text>\n",
       "</g>\n",
       "<!-- 4586198688&#45;&gt;4586200128 -->\n",
       "<g id=\"edge5\" class=\"edge\">\n",
       "<title>4586198688&#45;&gt;4586200128</title>\n",
       "<path fill=\"none\" stroke=\"black\" d=\"M126.65,-216.76C122.29,-208.28 116.85,-197.71 111.96,-188.2\"/>\n",
       "<polygon fill=\"black\" stroke=\"black\" points=\"114.99,-186.44 107.3,-179.15 108.77,-189.64 114.99,-186.44\"/>\n",
       "</g>\n",
       "<!-- 4585319920 -->\n",
       "<g id=\"node7\" class=\"node\">\n",
       "<title>4585319920</title>\n",
       "<ellipse fill=\"none\" stroke=\"black\" cx=\"171\" cy=\"-162\" rx=\"27\" ry=\"18\"/>\n",
       "<text text-anchor=\"middle\" x=\"171\" y=\"-158.3\" font-family=\"Times,serif\" font-size=\"14.00\">div</text>\n",
       "</g>\n",
       "<!-- 4586198688&#45;&gt;4585319920 -->\n",
       "<g id=\"edge10\" class=\"edge\">\n",
       "<title>4586198688&#45;&gt;4585319920</title>\n",
       "<path fill=\"none\" stroke=\"black\" d=\"M143.35,-216.76C147.71,-208.28 153.15,-197.71 158.04,-188.2\"/>\n",
       "<polygon fill=\"black\" stroke=\"black\" points=\"161.23,-189.64 162.7,-179.15 155.01,-186.44 161.23,-189.64\"/>\n",
       "</g>\n",
       "<!-- 4586355200 -->\n",
       "<g id=\"node3\" class=\"node\">\n",
       "<title>4586355200</title>\n",
       "<ellipse fill=\"none\" stroke=\"black\" cx=\"27\" cy=\"-90\" rx=\"27\" ry=\"18\"/>\n",
       "<text text-anchor=\"middle\" x=\"27\" y=\"-86.3\" font-family=\"Times,serif\" font-size=\"14.00\">x</text>\n",
       "</g>\n",
       "<!-- 4586200128&#45;&gt;4586355200 -->\n",
       "<g id=\"edge1\" class=\"edge\">\n",
       "<title>4586200128&#45;&gt;4586355200</title>\n",
       "<path fill=\"none\" stroke=\"black\" d=\"M84.43,-146.83C74.25,-136.94 60.48,-123.55 48.97,-112.36\"/>\n",
       "<polygon fill=\"black\" stroke=\"black\" points=\"51.41,-109.85 41.8,-105.38 46.53,-114.87 51.41,-109.85\"/>\n",
       "</g>\n",
       "<!-- 4565401120 -->\n",
       "<g id=\"node4\" class=\"node\">\n",
       "<title>4565401120</title>\n",
       "<ellipse fill=\"none\" stroke=\"black\" cx=\"99\" cy=\"-90\" rx=\"27\" ry=\"18\"/>\n",
       "<text text-anchor=\"middle\" x=\"99\" y=\"-86.3\" font-family=\"Times,serif\" font-size=\"14.00\">add</text>\n",
       "</g>\n",
       "<!-- 4586200128&#45;&gt;4565401120 -->\n",
       "<g id=\"edge4\" class=\"edge\">\n",
       "<title>4586200128&#45;&gt;4565401120</title>\n",
       "<path fill=\"none\" stroke=\"black\" d=\"M99,-143.7C99,-135.98 99,-126.71 99,-118.11\"/>\n",
       "<polygon fill=\"black\" stroke=\"black\" points=\"102.5,-118.1 99,-108.1 95.5,-118.1 102.5,-118.1\"/>\n",
       "</g>\n",
       "<!-- 4565399008 -->\n",
       "<g id=\"node5\" class=\"node\">\n",
       "<title>4565399008</title>\n",
       "<ellipse fill=\"none\" stroke=\"black\" cx=\"63\" cy=\"-18\" rx=\"27\" ry=\"18\"/>\n",
       "<text text-anchor=\"middle\" x=\"63\" y=\"-14.3\" font-family=\"Times,serif\" font-size=\"14.00\">&#45;2</text>\n",
       "</g>\n",
       "<!-- 4565401120&#45;&gt;4565399008 -->\n",
       "<g id=\"edge2\" class=\"edge\">\n",
       "<title>4565401120&#45;&gt;4565399008</title>\n",
       "<path fill=\"none\" stroke=\"black\" d=\"M90.65,-72.76C86.29,-64.28 80.85,-53.71 75.96,-44.2\"/>\n",
       "<polygon fill=\"black\" stroke=\"black\" points=\"78.99,-42.44 71.3,-35.15 72.77,-45.64 78.99,-42.44\"/>\n",
       "</g>\n",
       "<!-- 4586250144 -->\n",
       "<g id=\"node6\" class=\"node\">\n",
       "<title>4586250144</title>\n",
       "<ellipse fill=\"none\" stroke=\"black\" cx=\"135\" cy=\"-18\" rx=\"27\" ry=\"18\"/>\n",
       "<text text-anchor=\"middle\" x=\"135\" y=\"-14.3\" font-family=\"Times,serif\" font-size=\"14.00\">x</text>\n",
       "</g>\n",
       "<!-- 4565401120&#45;&gt;4586250144 -->\n",
       "<g id=\"edge3\" class=\"edge\">\n",
       "<title>4565401120&#45;&gt;4586250144</title>\n",
       "<path fill=\"none\" stroke=\"black\" d=\"M107.35,-72.76C111.71,-64.28 117.15,-53.71 122.04,-44.2\"/>\n",
       "<polygon fill=\"black\" stroke=\"black\" points=\"125.23,-45.64 126.7,-35.15 119.01,-42.44 125.23,-45.64\"/>\n",
       "</g>\n",
       "<!-- 4585320112 -->\n",
       "<g id=\"node8\" class=\"node\">\n",
       "<title>4585320112</title>\n",
       "<ellipse fill=\"none\" stroke=\"black\" cx=\"171\" cy=\"-90\" rx=\"27\" ry=\"18\"/>\n",
       "<text text-anchor=\"middle\" x=\"171\" y=\"-86.3\" font-family=\"Times,serif\" font-size=\"14.00\">A</text>\n",
       "</g>\n",
       "<!-- 4585319920&#45;&gt;4585320112 -->\n",
       "<g id=\"edge6\" class=\"edge\">\n",
       "<title>4585319920&#45;&gt;4585320112</title>\n",
       "<path fill=\"none\" stroke=\"black\" d=\"M171,-143.7C171,-135.98 171,-126.71 171,-118.11\"/>\n",
       "<polygon fill=\"black\" stroke=\"black\" points=\"174.5,-118.1 171,-108.1 167.5,-118.1 174.5,-118.1\"/>\n",
       "</g>\n",
       "<!-- 4584640720 -->\n",
       "<g id=\"node9\" class=\"node\">\n",
       "<title>4584640720</title>\n",
       "<ellipse fill=\"none\" stroke=\"black\" cx=\"243\" cy=\"-90\" rx=\"27\" ry=\"18\"/>\n",
       "<text text-anchor=\"middle\" x=\"243\" y=\"-86.3\" font-family=\"Times,serif\" font-size=\"14.00\">add</text>\n",
       "</g>\n",
       "<!-- 4585319920&#45;&gt;4584640720 -->\n",
       "<g id=\"edge9\" class=\"edge\">\n",
       "<title>4585319920&#45;&gt;4584640720</title>\n",
       "<path fill=\"none\" stroke=\"black\" d=\"M185.57,-146.83C195.75,-136.94 209.52,-123.55 221.03,-112.36\"/>\n",
       "<polygon fill=\"black\" stroke=\"black\" points=\"223.47,-114.87 228.2,-105.38 218.59,-109.85 223.47,-114.87\"/>\n",
       "</g>\n",
       "<!-- 4586250192 -->\n",
       "<g id=\"node10\" class=\"node\">\n",
       "<title>4586250192</title>\n",
       "<ellipse fill=\"none\" stroke=\"black\" cx=\"225\" cy=\"-18\" rx=\"27\" ry=\"18\"/>\n",
       "<text text-anchor=\"middle\" x=\"225\" y=\"-14.3\" font-family=\"Times,serif\" font-size=\"14.00\">B</text>\n",
       "</g>\n",
       "<!-- 4584640720&#45;&gt;4586250192 -->\n",
       "<g id=\"edge7\" class=\"edge\">\n",
       "<title>4584640720&#45;&gt;4586250192</title>\n",
       "<path fill=\"none\" stroke=\"black\" d=\"M238.64,-72.05C236.61,-64.14 234.14,-54.54 231.86,-45.69\"/>\n",
       "<polygon fill=\"black\" stroke=\"black\" points=\"235.2,-44.6 229.32,-35.79 228.42,-46.35 235.2,-44.6\"/>\n",
       "</g>\n",
       "<!-- 4586246688 -->\n",
       "<g id=\"node11\" class=\"node\">\n",
       "<title>4586246688</title>\n",
       "<ellipse fill=\"none\" stroke=\"black\" cx=\"297\" cy=\"-18\" rx=\"27\" ry=\"18\"/>\n",
       "<text text-anchor=\"middle\" x=\"297\" y=\"-14.3\" font-family=\"Times,serif\" font-size=\"14.00\">D</text>\n",
       "</g>\n",
       "<!-- 4584640720&#45;&gt;4586246688 -->\n",
       "<g id=\"edge8\" class=\"edge\">\n",
       "<title>4584640720&#45;&gt;4586246688</title>\n",
       "<path fill=\"none\" stroke=\"black\" d=\"M254.98,-73.46C261.98,-64.4 270.94,-52.79 278.79,-42.61\"/>\n",
       "<polygon fill=\"black\" stroke=\"black\" points=\"281.71,-44.55 285.05,-34.49 276.17,-40.27 281.71,-44.55\"/>\n",
       "</g>\n",
       "</g>\n",
       "</svg>\n"
      ],
      "text/plain": [
       "<graphviz.dot.Digraph at 0x1115444f0>"
      ]
     },
     "execution_count": 79,
     "metadata": {},
     "output_type": "execute_result"
    }
   ],
   "source": [
    "offspring = copy(parent1)\n",
    "sizefair_subtree_mutation(offspring)\n",
    "print_tree(offspring)"
   ]
  },
  {
   "cell_type": "markdown",
   "metadata": {
    "slideshow": {
     "slide_type": "skip"
    }
   },
   "source": [
    "Permutation mutation shuffles the order of arguments for functions with arity > 1:"
   ]
  },
  {
   "cell_type": "code",
   "execution_count": 60,
   "metadata": {
    "slideshow": {
     "slide_type": "slide"
    }
   },
   "outputs": [],
   "source": [
    "def permutation_mutation(tree):\n",
    "    if random.random() < P_mutate:\n",
    "        if tree.data in FUNCTIONS: \n",
    "            tree.left, tree.right = tree.right, tree.left\n",
    "    \n",
    "    if tree.left:\n",
    "        permutation_mutation(tree.left)\n",
    "    if tree.right:\n",
    "        permutation_mutation(tree.right)"
   ]
  },
  {
   "cell_type": "code",
   "execution_count": 61,
   "metadata": {
    "slideshow": {
     "slide_type": "subslide"
    }
   },
   "outputs": [
    {
     "data": {
      "image/svg+xml": [
       "<?xml version=\"1.0\" encoding=\"UTF-8\" standalone=\"no\"?>\n",
       "<!DOCTYPE svg PUBLIC \"-//W3C//DTD SVG 1.1//EN\"\n",
       " \"http://www.w3.org/Graphics/SVG/1.1/DTD/svg11.dtd\">\n",
       "<!-- Generated by graphviz version 2.50.0 (20211204.2007)\n",
       " -->\n",
       "<!-- Pages: 1 -->\n",
       "<svg width=\"332pt\" height=\"260pt\"\n",
       " viewBox=\"0.00 0.00 332.00 260.00\" xmlns=\"http://www.w3.org/2000/svg\" xmlns:xlink=\"http://www.w3.org/1999/xlink\">\n",
       "<g id=\"graph0\" class=\"graph\" transform=\"scale(1 1) rotate(0) translate(4 256)\">\n",
       "<polygon fill=\"white\" stroke=\"transparent\" points=\"-4,4 -4,-256 328,-256 328,4 -4,4\"/>\n",
       "<!-- 4584081680 -->\n",
       "<g id=\"node1\" class=\"node\">\n",
       "<title>4584081680</title>\n",
       "<ellipse fill=\"none\" stroke=\"black\" cx=\"135\" cy=\"-234\" rx=\"27\" ry=\"18\"/>\n",
       "<text text-anchor=\"middle\" x=\"135\" y=\"-230.3\" font-family=\"Times,serif\" font-size=\"14.00\">sub</text>\n",
       "</g>\n",
       "<!-- 4584080192 -->\n",
       "<g id=\"node2\" class=\"node\">\n",
       "<title>4584080192</title>\n",
       "<ellipse fill=\"none\" stroke=\"black\" cx=\"99\" cy=\"-162\" rx=\"27\" ry=\"18\"/>\n",
       "<text text-anchor=\"middle\" x=\"99\" y=\"-158.3\" font-family=\"Times,serif\" font-size=\"14.00\">mul</text>\n",
       "</g>\n",
       "<!-- 4584081680&#45;&gt;4584080192 -->\n",
       "<g id=\"edge5\" class=\"edge\">\n",
       "<title>4584081680&#45;&gt;4584080192</title>\n",
       "<path fill=\"none\" stroke=\"black\" d=\"M126.65,-216.76C122.29,-208.28 116.85,-197.71 111.96,-188.2\"/>\n",
       "<polygon fill=\"black\" stroke=\"black\" points=\"114.99,-186.44 107.3,-179.15 108.77,-189.64 114.99,-186.44\"/>\n",
       "</g>\n",
       "<!-- 4584080816 -->\n",
       "<g id=\"node7\" class=\"node\">\n",
       "<title>4584080816</title>\n",
       "<ellipse fill=\"none\" stroke=\"black\" cx=\"171\" cy=\"-162\" rx=\"27\" ry=\"18\"/>\n",
       "<text text-anchor=\"middle\" x=\"171\" y=\"-158.3\" font-family=\"Times,serif\" font-size=\"14.00\">div</text>\n",
       "</g>\n",
       "<!-- 4584081680&#45;&gt;4584080816 -->\n",
       "<g id=\"edge10\" class=\"edge\">\n",
       "<title>4584081680&#45;&gt;4584080816</title>\n",
       "<path fill=\"none\" stroke=\"black\" d=\"M143.35,-216.76C147.71,-208.28 153.15,-197.71 158.04,-188.2\"/>\n",
       "<polygon fill=\"black\" stroke=\"black\" points=\"161.23,-189.64 162.7,-179.15 155.01,-186.44 161.23,-189.64\"/>\n",
       "</g>\n",
       "<!-- 4584082784 -->\n",
       "<g id=\"node3\" class=\"node\">\n",
       "<title>4584082784</title>\n",
       "<ellipse fill=\"none\" stroke=\"black\" cx=\"27\" cy=\"-90\" rx=\"27\" ry=\"18\"/>\n",
       "<text text-anchor=\"middle\" x=\"27\" y=\"-86.3\" font-family=\"Times,serif\" font-size=\"14.00\">A</text>\n",
       "</g>\n",
       "<!-- 4584080192&#45;&gt;4584082784 -->\n",
       "<g id=\"edge1\" class=\"edge\">\n",
       "<title>4584080192&#45;&gt;4584082784</title>\n",
       "<path fill=\"none\" stroke=\"black\" d=\"M84.43,-146.83C74.25,-136.94 60.48,-123.55 48.97,-112.36\"/>\n",
       "<polygon fill=\"black\" stroke=\"black\" points=\"51.41,-109.85 41.8,-105.38 46.53,-114.87 51.41,-109.85\"/>\n",
       "</g>\n",
       "<!-- 4584080672 -->\n",
       "<g id=\"node4\" class=\"node\">\n",
       "<title>4584080672</title>\n",
       "<ellipse fill=\"none\" stroke=\"black\" cx=\"99\" cy=\"-90\" rx=\"27\" ry=\"18\"/>\n",
       "<text text-anchor=\"middle\" x=\"99\" y=\"-86.3\" font-family=\"Times,serif\" font-size=\"14.00\">sub</text>\n",
       "</g>\n",
       "<!-- 4584080192&#45;&gt;4584080672 -->\n",
       "<g id=\"edge4\" class=\"edge\">\n",
       "<title>4584080192&#45;&gt;4584080672</title>\n",
       "<path fill=\"none\" stroke=\"black\" d=\"M99,-143.7C99,-135.98 99,-126.71 99,-118.11\"/>\n",
       "<polygon fill=\"black\" stroke=\"black\" points=\"102.5,-118.1 99,-108.1 95.5,-118.1 102.5,-118.1\"/>\n",
       "</g>\n",
       "<!-- 4584082592 -->\n",
       "<g id=\"node5\" class=\"node\">\n",
       "<title>4584082592</title>\n",
       "<ellipse fill=\"none\" stroke=\"black\" cx=\"63\" cy=\"-18\" rx=\"27\" ry=\"18\"/>\n",
       "<text text-anchor=\"middle\" x=\"63\" y=\"-14.3\" font-family=\"Times,serif\" font-size=\"14.00\">D</text>\n",
       "</g>\n",
       "<!-- 4584080672&#45;&gt;4584082592 -->\n",
       "<g id=\"edge2\" class=\"edge\">\n",
       "<title>4584080672&#45;&gt;4584082592</title>\n",
       "<path fill=\"none\" stroke=\"black\" d=\"M90.65,-72.76C86.29,-64.28 80.85,-53.71 75.96,-44.2\"/>\n",
       "<polygon fill=\"black\" stroke=\"black\" points=\"78.99,-42.44 71.3,-35.15 72.77,-45.64 78.99,-42.44\"/>\n",
       "</g>\n",
       "<!-- 4584082208 -->\n",
       "<g id=\"node6\" class=\"node\">\n",
       "<title>4584082208</title>\n",
       "<ellipse fill=\"none\" stroke=\"black\" cx=\"135\" cy=\"-18\" rx=\"27\" ry=\"18\"/>\n",
       "<text text-anchor=\"middle\" x=\"135\" y=\"-14.3\" font-family=\"Times,serif\" font-size=\"14.00\">A</text>\n",
       "</g>\n",
       "<!-- 4584080672&#45;&gt;4584082208 -->\n",
       "<g id=\"edge3\" class=\"edge\">\n",
       "<title>4584080672&#45;&gt;4584082208</title>\n",
       "<path fill=\"none\" stroke=\"black\" d=\"M107.35,-72.76C111.71,-64.28 117.15,-53.71 122.04,-44.2\"/>\n",
       "<polygon fill=\"black\" stroke=\"black\" points=\"125.23,-45.64 126.7,-35.15 119.01,-42.44 125.23,-45.64\"/>\n",
       "</g>\n",
       "<!-- 4584082256 -->\n",
       "<g id=\"node8\" class=\"node\">\n",
       "<title>4584082256</title>\n",
       "<ellipse fill=\"none\" stroke=\"black\" cx=\"171\" cy=\"-90\" rx=\"27\" ry=\"18\"/>\n",
       "<text text-anchor=\"middle\" x=\"171\" y=\"-86.3\" font-family=\"Times,serif\" font-size=\"14.00\">A</text>\n",
       "</g>\n",
       "<!-- 4584080816&#45;&gt;4584082256 -->\n",
       "<g id=\"edge6\" class=\"edge\">\n",
       "<title>4584080816&#45;&gt;4584082256</title>\n",
       "<path fill=\"none\" stroke=\"black\" d=\"M171,-143.7C171,-135.98 171,-126.71 171,-118.11\"/>\n",
       "<polygon fill=\"black\" stroke=\"black\" points=\"174.5,-118.1 171,-108.1 167.5,-118.1 174.5,-118.1\"/>\n",
       "</g>\n",
       "<!-- 4584082496 -->\n",
       "<g id=\"node9\" class=\"node\">\n",
       "<title>4584082496</title>\n",
       "<ellipse fill=\"none\" stroke=\"black\" cx=\"243\" cy=\"-90\" rx=\"27\" ry=\"18\"/>\n",
       "<text text-anchor=\"middle\" x=\"243\" y=\"-86.3\" font-family=\"Times,serif\" font-size=\"14.00\">add</text>\n",
       "</g>\n",
       "<!-- 4584080816&#45;&gt;4584082496 -->\n",
       "<g id=\"edge9\" class=\"edge\">\n",
       "<title>4584080816&#45;&gt;4584082496</title>\n",
       "<path fill=\"none\" stroke=\"black\" d=\"M185.57,-146.83C195.75,-136.94 209.52,-123.55 221.03,-112.36\"/>\n",
       "<polygon fill=\"black\" stroke=\"black\" points=\"223.47,-114.87 228.2,-105.38 218.59,-109.85 223.47,-114.87\"/>\n",
       "</g>\n",
       "<!-- 4584079568 -->\n",
       "<g id=\"node10\" class=\"node\">\n",
       "<title>4584079568</title>\n",
       "<ellipse fill=\"none\" stroke=\"black\" cx=\"225\" cy=\"-18\" rx=\"27\" ry=\"18\"/>\n",
       "<text text-anchor=\"middle\" x=\"225\" y=\"-14.3\" font-family=\"Times,serif\" font-size=\"14.00\">B</text>\n",
       "</g>\n",
       "<!-- 4584082496&#45;&gt;4584079568 -->\n",
       "<g id=\"edge7\" class=\"edge\">\n",
       "<title>4584082496&#45;&gt;4584079568</title>\n",
       "<path fill=\"none\" stroke=\"black\" d=\"M238.64,-72.05C236.61,-64.14 234.14,-54.54 231.86,-45.69\"/>\n",
       "<polygon fill=\"black\" stroke=\"black\" points=\"235.2,-44.6 229.32,-35.79 228.42,-46.35 235.2,-44.6\"/>\n",
       "</g>\n",
       "<!-- 4584079664 -->\n",
       "<g id=\"node11\" class=\"node\">\n",
       "<title>4584079664</title>\n",
       "<ellipse fill=\"none\" stroke=\"black\" cx=\"297\" cy=\"-18\" rx=\"27\" ry=\"18\"/>\n",
       "<text text-anchor=\"middle\" x=\"297\" y=\"-14.3\" font-family=\"Times,serif\" font-size=\"14.00\">D</text>\n",
       "</g>\n",
       "<!-- 4584082496&#45;&gt;4584079664 -->\n",
       "<g id=\"edge8\" class=\"edge\">\n",
       "<title>4584082496&#45;&gt;4584079664</title>\n",
       "<path fill=\"none\" stroke=\"black\" d=\"M254.98,-73.46C261.98,-64.4 270.94,-52.79 278.79,-42.61\"/>\n",
       "<polygon fill=\"black\" stroke=\"black\" points=\"281.71,-44.55 285.05,-34.49 276.17,-40.27 281.71,-44.55\"/>\n",
       "</g>\n",
       "</g>\n",
       "</svg>\n"
      ],
      "text/plain": [
       "<graphviz.dot.Digraph at 0x1114b9700>"
      ]
     },
     "execution_count": 61,
     "metadata": {},
     "output_type": "execute_result"
    }
   ],
   "source": [
    "print_tree(parent1)"
   ]
  },
  {
   "cell_type": "code",
   "execution_count": 82,
   "metadata": {
    "scrolled": true,
    "slideshow": {
     "slide_type": "fragment"
    }
   },
   "outputs": [
    {
     "data": {
      "image/svg+xml": [
       "<?xml version=\"1.0\" encoding=\"UTF-8\" standalone=\"no\"?>\n",
       "<!DOCTYPE svg PUBLIC \"-//W3C//DTD SVG 1.1//EN\"\n",
       " \"http://www.w3.org/Graphics/SVG/1.1/DTD/svg11.dtd\">\n",
       "<!-- Generated by graphviz version 2.50.0 (20211204.2007)\n",
       " -->\n",
       "<!-- Pages: 1 -->\n",
       "<svg width=\"332pt\" height=\"260pt\"\n",
       " viewBox=\"0.00 0.00 332.00 260.00\" xmlns=\"http://www.w3.org/2000/svg\" xmlns:xlink=\"http://www.w3.org/1999/xlink\">\n",
       "<g id=\"graph0\" class=\"graph\" transform=\"scale(1 1) rotate(0) translate(4 256)\">\n",
       "<polygon fill=\"white\" stroke=\"transparent\" points=\"-4,4 -4,-256 328,-256 328,4 -4,4\"/>\n",
       "<!-- 4586200416 -->\n",
       "<g id=\"node1\" class=\"node\">\n",
       "<title>4586200416</title>\n",
       "<ellipse fill=\"none\" stroke=\"black\" cx=\"135\" cy=\"-234\" rx=\"27\" ry=\"18\"/>\n",
       "<text text-anchor=\"middle\" x=\"135\" y=\"-230.3\" font-family=\"Times,serif\" font-size=\"14.00\">sub</text>\n",
       "</g>\n",
       "<!-- 4585134784 -->\n",
       "<g id=\"node2\" class=\"node\">\n",
       "<title>4585134784</title>\n",
       "<ellipse fill=\"none\" stroke=\"black\" cx=\"99\" cy=\"-162\" rx=\"27\" ry=\"18\"/>\n",
       "<text text-anchor=\"middle\" x=\"99\" y=\"-158.3\" font-family=\"Times,serif\" font-size=\"14.00\">div</text>\n",
       "</g>\n",
       "<!-- 4586200416&#45;&gt;4585134784 -->\n",
       "<g id=\"edge5\" class=\"edge\">\n",
       "<title>4586200416&#45;&gt;4585134784</title>\n",
       "<path fill=\"none\" stroke=\"black\" d=\"M126.65,-216.76C122.29,-208.28 116.85,-197.71 111.96,-188.2\"/>\n",
       "<polygon fill=\"black\" stroke=\"black\" points=\"114.99,-186.44 107.3,-179.15 108.77,-189.64 114.99,-186.44\"/>\n",
       "</g>\n",
       "<!-- 4586199840 -->\n",
       "<g id=\"node7\" class=\"node\">\n",
       "<title>4586199840</title>\n",
       "<ellipse fill=\"none\" stroke=\"black\" cx=\"171\" cy=\"-162\" rx=\"27\" ry=\"18\"/>\n",
       "<text text-anchor=\"middle\" x=\"171\" y=\"-158.3\" font-family=\"Times,serif\" font-size=\"14.00\">mul</text>\n",
       "</g>\n",
       "<!-- 4586200416&#45;&gt;4586199840 -->\n",
       "<g id=\"edge10\" class=\"edge\">\n",
       "<title>4586200416&#45;&gt;4586199840</title>\n",
       "<path fill=\"none\" stroke=\"black\" d=\"M143.35,-216.76C147.71,-208.28 153.15,-197.71 158.04,-188.2\"/>\n",
       "<polygon fill=\"black\" stroke=\"black\" points=\"161.23,-189.64 162.7,-179.15 155.01,-186.44 161.23,-189.64\"/>\n",
       "</g>\n",
       "<!-- 4585135792 -->\n",
       "<g id=\"node3\" class=\"node\">\n",
       "<title>4585135792</title>\n",
       "<ellipse fill=\"none\" stroke=\"black\" cx=\"27\" cy=\"-90\" rx=\"27\" ry=\"18\"/>\n",
       "<text text-anchor=\"middle\" x=\"27\" y=\"-86.3\" font-family=\"Times,serif\" font-size=\"14.00\">A</text>\n",
       "</g>\n",
       "<!-- 4585134784&#45;&gt;4585135792 -->\n",
       "<g id=\"edge1\" class=\"edge\">\n",
       "<title>4585134784&#45;&gt;4585135792</title>\n",
       "<path fill=\"none\" stroke=\"black\" d=\"M84.43,-146.83C74.25,-136.94 60.48,-123.55 48.97,-112.36\"/>\n",
       "<polygon fill=\"black\" stroke=\"black\" points=\"51.41,-109.85 41.8,-105.38 46.53,-114.87 51.41,-109.85\"/>\n",
       "</g>\n",
       "<!-- 4585133152 -->\n",
       "<g id=\"node4\" class=\"node\">\n",
       "<title>4585133152</title>\n",
       "<ellipse fill=\"none\" stroke=\"black\" cx=\"99\" cy=\"-90\" rx=\"27\" ry=\"18\"/>\n",
       "<text text-anchor=\"middle\" x=\"99\" y=\"-86.3\" font-family=\"Times,serif\" font-size=\"14.00\">add</text>\n",
       "</g>\n",
       "<!-- 4585134784&#45;&gt;4585133152 -->\n",
       "<g id=\"edge4\" class=\"edge\">\n",
       "<title>4585134784&#45;&gt;4585133152</title>\n",
       "<path fill=\"none\" stroke=\"black\" d=\"M99,-143.7C99,-135.98 99,-126.71 99,-118.11\"/>\n",
       "<polygon fill=\"black\" stroke=\"black\" points=\"102.5,-118.1 99,-108.1 95.5,-118.1 102.5,-118.1\"/>\n",
       "</g>\n",
       "<!-- 4585134832 -->\n",
       "<g id=\"node5\" class=\"node\">\n",
       "<title>4585134832</title>\n",
       "<ellipse fill=\"none\" stroke=\"black\" cx=\"63\" cy=\"-18\" rx=\"27\" ry=\"18\"/>\n",
       "<text text-anchor=\"middle\" x=\"63\" y=\"-14.3\" font-family=\"Times,serif\" font-size=\"14.00\">B</text>\n",
       "</g>\n",
       "<!-- 4585133152&#45;&gt;4585134832 -->\n",
       "<g id=\"edge2\" class=\"edge\">\n",
       "<title>4585133152&#45;&gt;4585134832</title>\n",
       "<path fill=\"none\" stroke=\"black\" d=\"M90.65,-72.76C86.29,-64.28 80.85,-53.71 75.96,-44.2\"/>\n",
       "<polygon fill=\"black\" stroke=\"black\" points=\"78.99,-42.44 71.3,-35.15 72.77,-45.64 78.99,-42.44\"/>\n",
       "</g>\n",
       "<!-- 4585171360 -->\n",
       "<g id=\"node6\" class=\"node\">\n",
       "<title>4585171360</title>\n",
       "<ellipse fill=\"none\" stroke=\"black\" cx=\"135\" cy=\"-18\" rx=\"27\" ry=\"18\"/>\n",
       "<text text-anchor=\"middle\" x=\"135\" y=\"-14.3\" font-family=\"Times,serif\" font-size=\"14.00\">D</text>\n",
       "</g>\n",
       "<!-- 4585133152&#45;&gt;4585171360 -->\n",
       "<g id=\"edge3\" class=\"edge\">\n",
       "<title>4585133152&#45;&gt;4585171360</title>\n",
       "<path fill=\"none\" stroke=\"black\" d=\"M107.35,-72.76C111.71,-64.28 117.15,-53.71 122.04,-44.2\"/>\n",
       "<polygon fill=\"black\" stroke=\"black\" points=\"125.23,-45.64 126.7,-35.15 119.01,-42.44 125.23,-45.64\"/>\n",
       "</g>\n",
       "<!-- 4586198784 -->\n",
       "<g id=\"node8\" class=\"node\">\n",
       "<title>4586198784</title>\n",
       "<ellipse fill=\"none\" stroke=\"black\" cx=\"171\" cy=\"-90\" rx=\"27\" ry=\"18\"/>\n",
       "<text text-anchor=\"middle\" x=\"171\" y=\"-86.3\" font-family=\"Times,serif\" font-size=\"14.00\">A</text>\n",
       "</g>\n",
       "<!-- 4586199840&#45;&gt;4586198784 -->\n",
       "<g id=\"edge6\" class=\"edge\">\n",
       "<title>4586199840&#45;&gt;4586198784</title>\n",
       "<path fill=\"none\" stroke=\"black\" d=\"M171,-143.7C171,-135.98 171,-126.71 171,-118.11\"/>\n",
       "<polygon fill=\"black\" stroke=\"black\" points=\"174.5,-118.1 171,-108.1 167.5,-118.1 174.5,-118.1\"/>\n",
       "</g>\n",
       "<!-- 4586200704 -->\n",
       "<g id=\"node9\" class=\"node\">\n",
       "<title>4586200704</title>\n",
       "<ellipse fill=\"none\" stroke=\"black\" cx=\"243\" cy=\"-90\" rx=\"27\" ry=\"18\"/>\n",
       "<text text-anchor=\"middle\" x=\"243\" y=\"-86.3\" font-family=\"Times,serif\" font-size=\"14.00\">sub</text>\n",
       "</g>\n",
       "<!-- 4586199840&#45;&gt;4586200704 -->\n",
       "<g id=\"edge9\" class=\"edge\">\n",
       "<title>4586199840&#45;&gt;4586200704</title>\n",
       "<path fill=\"none\" stroke=\"black\" d=\"M185.57,-146.83C195.75,-136.94 209.52,-123.55 221.03,-112.36\"/>\n",
       "<polygon fill=\"black\" stroke=\"black\" points=\"223.47,-114.87 228.2,-105.38 218.59,-109.85 223.47,-114.87\"/>\n",
       "</g>\n",
       "<!-- 4586199744 -->\n",
       "<g id=\"node10\" class=\"node\">\n",
       "<title>4586199744</title>\n",
       "<ellipse fill=\"none\" stroke=\"black\" cx=\"225\" cy=\"-18\" rx=\"27\" ry=\"18\"/>\n",
       "<text text-anchor=\"middle\" x=\"225\" y=\"-14.3\" font-family=\"Times,serif\" font-size=\"14.00\">D</text>\n",
       "</g>\n",
       "<!-- 4586200704&#45;&gt;4586199744 -->\n",
       "<g id=\"edge7\" class=\"edge\">\n",
       "<title>4586200704&#45;&gt;4586199744</title>\n",
       "<path fill=\"none\" stroke=\"black\" d=\"M238.64,-72.05C236.61,-64.14 234.14,-54.54 231.86,-45.69\"/>\n",
       "<polygon fill=\"black\" stroke=\"black\" points=\"235.2,-44.6 229.32,-35.79 228.42,-46.35 235.2,-44.6\"/>\n",
       "</g>\n",
       "<!-- 4586250144 -->\n",
       "<g id=\"node11\" class=\"node\">\n",
       "<title>4586250144</title>\n",
       "<ellipse fill=\"none\" stroke=\"black\" cx=\"297\" cy=\"-18\" rx=\"27\" ry=\"18\"/>\n",
       "<text text-anchor=\"middle\" x=\"297\" y=\"-14.3\" font-family=\"Times,serif\" font-size=\"14.00\">A</text>\n",
       "</g>\n",
       "<!-- 4586200704&#45;&gt;4586250144 -->\n",
       "<g id=\"edge8\" class=\"edge\">\n",
       "<title>4586200704&#45;&gt;4586250144</title>\n",
       "<path fill=\"none\" stroke=\"black\" d=\"M254.98,-73.46C261.98,-64.4 270.94,-52.79 278.79,-42.61\"/>\n",
       "<polygon fill=\"black\" stroke=\"black\" points=\"281.71,-44.55 285.05,-34.49 276.17,-40.27 281.71,-44.55\"/>\n",
       "</g>\n",
       "</g>\n",
       "</svg>\n"
      ],
      "text/plain": [
       "<graphviz.dot.Digraph at 0x1115c97f0>"
      ]
     },
     "execution_count": 82,
     "metadata": {},
     "output_type": "execute_result"
    }
   ],
   "source": [
    "offspring = copy(parent1)\n",
    "permutation_mutation(offspring)\n",
    "print_tree(offspring)"
   ]
  },
  {
   "cell_type": "markdown",
   "metadata": {
    "slideshow": {
     "slide_type": "skip"
    }
   },
   "source": [
    "There is also a size-fair variant of the crossover operator we defined earlier: We first pick a random crossover point in the first parent. Then, we pick a subtree in the other parent that is not larger than the subtree in the first parent, and perform the crossover with this. We thus define a helper function that gives us all valid positions with subtrees of a maximum size:"
   ]
  },
  {
   "cell_type": "code",
   "execution_count": 63,
   "metadata": {
    "slideshow": {
     "slide_type": "slide"
    }
   },
   "outputs": [],
   "source": [
    "def get_smaller_subtree_positions(tree, max_size, positions, counter):\n",
    "    if size(tree) <= max_size:\n",
    "        positions.append(counter.get_value())\n",
    "    counter.increase()\n",
    "    \n",
    "    if tree.left:\n",
    "        get_smaller_subtree_positions(tree.left, max_size, positions, counter)\n",
    "    if tree.right:\n",
    "        get_smaller_subtree_positions(tree.right, max_size, positions, counter)"
   ]
  },
  {
   "cell_type": "markdown",
   "metadata": {
    "slideshow": {
     "slide_type": "skip"
    }
   },
   "source": [
    "We apply this helper function by simply randomly picking one of the valid positions during crossover:"
   ]
  },
  {
   "cell_type": "code",
   "execution_count": 64,
   "metadata": {
    "slideshow": {
     "slide_type": "slide"
    }
   },
   "outputs": [],
   "source": [
    "def sizefair_crossover(parent1, parent2):\n",
    "    \n",
    "    # First pick a crossover point in parent1\n",
    "    pos1 = 1\n",
    "    if size(parent1) > 1:\n",
    "        pos1 = random.randint(1, size(parent1) - 1)\n",
    "\n",
    "    # Then select a subtree that isn't larger than what is being replaced from parent2\n",
    "    subtree = get_subtree_at(parent1, Counter(pos1))\n",
    "    subtree_size = size(subtree)    \n",
    "    positions = []\n",
    "    get_smaller_subtree_positions(parent2, subtree_size, positions, Counter(1))\n",
    "    pos2 = random.choice(positions)\n",
    "    subtree = get_subtree_at(parent2, Counter(pos2))\n",
    "    \n",
    "    # Then insert that into parent1\n",
    "    offspring = copy(parent1)\n",
    "    insert_subtree_at(offspring, subtree, Counter(pos1))\n",
    "    \n",
    "    assert size(offspring) <= size(parent1)\n",
    "    \n",
    "    return offspring"
   ]
  },
  {
   "cell_type": "code",
   "execution_count": 65,
   "metadata": {
    "slideshow": {
     "slide_type": "subslide"
    }
   },
   "outputs": [
    {
     "data": {
      "image/svg+xml": [
       "<?xml version=\"1.0\" encoding=\"UTF-8\" standalone=\"no\"?>\n",
       "<!DOCTYPE svg PUBLIC \"-//W3C//DTD SVG 1.1//EN\"\n",
       " \"http://www.w3.org/Graphics/SVG/1.1/DTD/svg11.dtd\">\n",
       "<!-- Generated by graphviz version 2.50.0 (20211204.2007)\n",
       " -->\n",
       "<!-- Pages: 1 -->\n",
       "<svg width=\"332pt\" height=\"260pt\"\n",
       " viewBox=\"0.00 0.00 332.00 260.00\" xmlns=\"http://www.w3.org/2000/svg\" xmlns:xlink=\"http://www.w3.org/1999/xlink\">\n",
       "<g id=\"graph0\" class=\"graph\" transform=\"scale(1 1) rotate(0) translate(4 256)\">\n",
       "<polygon fill=\"white\" stroke=\"transparent\" points=\"-4,4 -4,-256 328,-256 328,4 -4,4\"/>\n",
       "<!-- 4584081680 -->\n",
       "<g id=\"node1\" class=\"node\">\n",
       "<title>4584081680</title>\n",
       "<ellipse fill=\"none\" stroke=\"black\" cx=\"135\" cy=\"-234\" rx=\"27\" ry=\"18\"/>\n",
       "<text text-anchor=\"middle\" x=\"135\" y=\"-230.3\" font-family=\"Times,serif\" font-size=\"14.00\">sub</text>\n",
       "</g>\n",
       "<!-- 4584080192 -->\n",
       "<g id=\"node2\" class=\"node\">\n",
       "<title>4584080192</title>\n",
       "<ellipse fill=\"none\" stroke=\"black\" cx=\"99\" cy=\"-162\" rx=\"27\" ry=\"18\"/>\n",
       "<text text-anchor=\"middle\" x=\"99\" y=\"-158.3\" font-family=\"Times,serif\" font-size=\"14.00\">mul</text>\n",
       "</g>\n",
       "<!-- 4584081680&#45;&gt;4584080192 -->\n",
       "<g id=\"edge5\" class=\"edge\">\n",
       "<title>4584081680&#45;&gt;4584080192</title>\n",
       "<path fill=\"none\" stroke=\"black\" d=\"M126.65,-216.76C122.29,-208.28 116.85,-197.71 111.96,-188.2\"/>\n",
       "<polygon fill=\"black\" stroke=\"black\" points=\"114.99,-186.44 107.3,-179.15 108.77,-189.64 114.99,-186.44\"/>\n",
       "</g>\n",
       "<!-- 4584080816 -->\n",
       "<g id=\"node7\" class=\"node\">\n",
       "<title>4584080816</title>\n",
       "<ellipse fill=\"none\" stroke=\"black\" cx=\"171\" cy=\"-162\" rx=\"27\" ry=\"18\"/>\n",
       "<text text-anchor=\"middle\" x=\"171\" y=\"-158.3\" font-family=\"Times,serif\" font-size=\"14.00\">div</text>\n",
       "</g>\n",
       "<!-- 4584081680&#45;&gt;4584080816 -->\n",
       "<g id=\"edge10\" class=\"edge\">\n",
       "<title>4584081680&#45;&gt;4584080816</title>\n",
       "<path fill=\"none\" stroke=\"black\" d=\"M143.35,-216.76C147.71,-208.28 153.15,-197.71 158.04,-188.2\"/>\n",
       "<polygon fill=\"black\" stroke=\"black\" points=\"161.23,-189.64 162.7,-179.15 155.01,-186.44 161.23,-189.64\"/>\n",
       "</g>\n",
       "<!-- 4584082784 -->\n",
       "<g id=\"node3\" class=\"node\">\n",
       "<title>4584082784</title>\n",
       "<ellipse fill=\"none\" stroke=\"black\" cx=\"27\" cy=\"-90\" rx=\"27\" ry=\"18\"/>\n",
       "<text text-anchor=\"middle\" x=\"27\" y=\"-86.3\" font-family=\"Times,serif\" font-size=\"14.00\">A</text>\n",
       "</g>\n",
       "<!-- 4584080192&#45;&gt;4584082784 -->\n",
       "<g id=\"edge1\" class=\"edge\">\n",
       "<title>4584080192&#45;&gt;4584082784</title>\n",
       "<path fill=\"none\" stroke=\"black\" d=\"M84.43,-146.83C74.25,-136.94 60.48,-123.55 48.97,-112.36\"/>\n",
       "<polygon fill=\"black\" stroke=\"black\" points=\"51.41,-109.85 41.8,-105.38 46.53,-114.87 51.41,-109.85\"/>\n",
       "</g>\n",
       "<!-- 4584080672 -->\n",
       "<g id=\"node4\" class=\"node\">\n",
       "<title>4584080672</title>\n",
       "<ellipse fill=\"none\" stroke=\"black\" cx=\"99\" cy=\"-90\" rx=\"27\" ry=\"18\"/>\n",
       "<text text-anchor=\"middle\" x=\"99\" y=\"-86.3\" font-family=\"Times,serif\" font-size=\"14.00\">sub</text>\n",
       "</g>\n",
       "<!-- 4584080192&#45;&gt;4584080672 -->\n",
       "<g id=\"edge4\" class=\"edge\">\n",
       "<title>4584080192&#45;&gt;4584080672</title>\n",
       "<path fill=\"none\" stroke=\"black\" d=\"M99,-143.7C99,-135.98 99,-126.71 99,-118.11\"/>\n",
       "<polygon fill=\"black\" stroke=\"black\" points=\"102.5,-118.1 99,-108.1 95.5,-118.1 102.5,-118.1\"/>\n",
       "</g>\n",
       "<!-- 4584082592 -->\n",
       "<g id=\"node5\" class=\"node\">\n",
       "<title>4584082592</title>\n",
       "<ellipse fill=\"none\" stroke=\"black\" cx=\"63\" cy=\"-18\" rx=\"27\" ry=\"18\"/>\n",
       "<text text-anchor=\"middle\" x=\"63\" y=\"-14.3\" font-family=\"Times,serif\" font-size=\"14.00\">D</text>\n",
       "</g>\n",
       "<!-- 4584080672&#45;&gt;4584082592 -->\n",
       "<g id=\"edge2\" class=\"edge\">\n",
       "<title>4584080672&#45;&gt;4584082592</title>\n",
       "<path fill=\"none\" stroke=\"black\" d=\"M90.65,-72.76C86.29,-64.28 80.85,-53.71 75.96,-44.2\"/>\n",
       "<polygon fill=\"black\" stroke=\"black\" points=\"78.99,-42.44 71.3,-35.15 72.77,-45.64 78.99,-42.44\"/>\n",
       "</g>\n",
       "<!-- 4584082208 -->\n",
       "<g id=\"node6\" class=\"node\">\n",
       "<title>4584082208</title>\n",
       "<ellipse fill=\"none\" stroke=\"black\" cx=\"135\" cy=\"-18\" rx=\"27\" ry=\"18\"/>\n",
       "<text text-anchor=\"middle\" x=\"135\" y=\"-14.3\" font-family=\"Times,serif\" font-size=\"14.00\">A</text>\n",
       "</g>\n",
       "<!-- 4584080672&#45;&gt;4584082208 -->\n",
       "<g id=\"edge3\" class=\"edge\">\n",
       "<title>4584080672&#45;&gt;4584082208</title>\n",
       "<path fill=\"none\" stroke=\"black\" d=\"M107.35,-72.76C111.71,-64.28 117.15,-53.71 122.04,-44.2\"/>\n",
       "<polygon fill=\"black\" stroke=\"black\" points=\"125.23,-45.64 126.7,-35.15 119.01,-42.44 125.23,-45.64\"/>\n",
       "</g>\n",
       "<!-- 4584082256 -->\n",
       "<g id=\"node8\" class=\"node\">\n",
       "<title>4584082256</title>\n",
       "<ellipse fill=\"none\" stroke=\"black\" cx=\"171\" cy=\"-90\" rx=\"27\" ry=\"18\"/>\n",
       "<text text-anchor=\"middle\" x=\"171\" y=\"-86.3\" font-family=\"Times,serif\" font-size=\"14.00\">A</text>\n",
       "</g>\n",
       "<!-- 4584080816&#45;&gt;4584082256 -->\n",
       "<g id=\"edge6\" class=\"edge\">\n",
       "<title>4584080816&#45;&gt;4584082256</title>\n",
       "<path fill=\"none\" stroke=\"black\" d=\"M171,-143.7C171,-135.98 171,-126.71 171,-118.11\"/>\n",
       "<polygon fill=\"black\" stroke=\"black\" points=\"174.5,-118.1 171,-108.1 167.5,-118.1 174.5,-118.1\"/>\n",
       "</g>\n",
       "<!-- 4584082496 -->\n",
       "<g id=\"node9\" class=\"node\">\n",
       "<title>4584082496</title>\n",
       "<ellipse fill=\"none\" stroke=\"black\" cx=\"243\" cy=\"-90\" rx=\"27\" ry=\"18\"/>\n",
       "<text text-anchor=\"middle\" x=\"243\" y=\"-86.3\" font-family=\"Times,serif\" font-size=\"14.00\">add</text>\n",
       "</g>\n",
       "<!-- 4584080816&#45;&gt;4584082496 -->\n",
       "<g id=\"edge9\" class=\"edge\">\n",
       "<title>4584080816&#45;&gt;4584082496</title>\n",
       "<path fill=\"none\" stroke=\"black\" d=\"M185.57,-146.83C195.75,-136.94 209.52,-123.55 221.03,-112.36\"/>\n",
       "<polygon fill=\"black\" stroke=\"black\" points=\"223.47,-114.87 228.2,-105.38 218.59,-109.85 223.47,-114.87\"/>\n",
       "</g>\n",
       "<!-- 4584079568 -->\n",
       "<g id=\"node10\" class=\"node\">\n",
       "<title>4584079568</title>\n",
       "<ellipse fill=\"none\" stroke=\"black\" cx=\"225\" cy=\"-18\" rx=\"27\" ry=\"18\"/>\n",
       "<text text-anchor=\"middle\" x=\"225\" y=\"-14.3\" font-family=\"Times,serif\" font-size=\"14.00\">B</text>\n",
       "</g>\n",
       "<!-- 4584082496&#45;&gt;4584079568 -->\n",
       "<g id=\"edge7\" class=\"edge\">\n",
       "<title>4584082496&#45;&gt;4584079568</title>\n",
       "<path fill=\"none\" stroke=\"black\" d=\"M238.64,-72.05C236.61,-64.14 234.14,-54.54 231.86,-45.69\"/>\n",
       "<polygon fill=\"black\" stroke=\"black\" points=\"235.2,-44.6 229.32,-35.79 228.42,-46.35 235.2,-44.6\"/>\n",
       "</g>\n",
       "<!-- 4584079664 -->\n",
       "<g id=\"node11\" class=\"node\">\n",
       "<title>4584079664</title>\n",
       "<ellipse fill=\"none\" stroke=\"black\" cx=\"297\" cy=\"-18\" rx=\"27\" ry=\"18\"/>\n",
       "<text text-anchor=\"middle\" x=\"297\" y=\"-14.3\" font-family=\"Times,serif\" font-size=\"14.00\">D</text>\n",
       "</g>\n",
       "<!-- 4584082496&#45;&gt;4584079664 -->\n",
       "<g id=\"edge8\" class=\"edge\">\n",
       "<title>4584082496&#45;&gt;4584079664</title>\n",
       "<path fill=\"none\" stroke=\"black\" d=\"M254.98,-73.46C261.98,-64.4 270.94,-52.79 278.79,-42.61\"/>\n",
       "<polygon fill=\"black\" stroke=\"black\" points=\"281.71,-44.55 285.05,-34.49 276.17,-40.27 281.71,-44.55\"/>\n",
       "</g>\n",
       "</g>\n",
       "</svg>\n"
      ],
      "text/plain": [
       "<graphviz.dot.Digraph at 0x1114b9b80>"
      ]
     },
     "execution_count": 65,
     "metadata": {},
     "output_type": "execute_result"
    }
   ],
   "source": [
    "print_tree(parent1)"
   ]
  },
  {
   "cell_type": "code",
   "execution_count": 66,
   "metadata": {
    "slideshow": {
     "slide_type": "fragment"
    }
   },
   "outputs": [
    {
     "data": {
      "image/svg+xml": [
       "<?xml version=\"1.0\" encoding=\"UTF-8\" standalone=\"no\"?>\n",
       "<!DOCTYPE svg PUBLIC \"-//W3C//DTD SVG 1.1//EN\"\n",
       " \"http://www.w3.org/Graphics/SVG/1.1/DTD/svg11.dtd\">\n",
       "<!-- Generated by graphviz version 2.50.0 (20211204.2007)\n",
       " -->\n",
       "<!-- Pages: 1 -->\n",
       "<svg width=\"278pt\" height=\"260pt\"\n",
       " viewBox=\"0.00 0.00 278.00 260.00\" xmlns=\"http://www.w3.org/2000/svg\" xmlns:xlink=\"http://www.w3.org/1999/xlink\">\n",
       "<g id=\"graph0\" class=\"graph\" transform=\"scale(1 1) rotate(0) translate(4 256)\">\n",
       "<polygon fill=\"white\" stroke=\"transparent\" points=\"-4,4 -4,-256 274,-256 274,4 -4,4\"/>\n",
       "<!-- 4584080336 -->\n",
       "<g id=\"node1\" class=\"node\">\n",
       "<title>4584080336</title>\n",
       "<ellipse fill=\"none\" stroke=\"black\" cx=\"135\" cy=\"-234\" rx=\"27\" ry=\"18\"/>\n",
       "<text text-anchor=\"middle\" x=\"135\" y=\"-230.3\" font-family=\"Times,serif\" font-size=\"14.00\">sub</text>\n",
       "</g>\n",
       "<!-- 4584083216 -->\n",
       "<g id=\"node2\" class=\"node\">\n",
       "<title>4584083216</title>\n",
       "<ellipse fill=\"none\" stroke=\"black\" cx=\"99\" cy=\"-162\" rx=\"27\" ry=\"18\"/>\n",
       "<text text-anchor=\"middle\" x=\"99\" y=\"-158.3\" font-family=\"Times,serif\" font-size=\"14.00\">add</text>\n",
       "</g>\n",
       "<!-- 4584080336&#45;&gt;4584083216 -->\n",
       "<g id=\"edge5\" class=\"edge\">\n",
       "<title>4584080336&#45;&gt;4584083216</title>\n",
       "<path fill=\"none\" stroke=\"black\" d=\"M126.65,-216.76C122.29,-208.28 116.85,-197.71 111.96,-188.2\"/>\n",
       "<polygon fill=\"black\" stroke=\"black\" points=\"114.99,-186.44 107.3,-179.15 108.77,-189.64 114.99,-186.44\"/>\n",
       "</g>\n",
       "<!-- 4584082160 -->\n",
       "<g id=\"node7\" class=\"node\">\n",
       "<title>4584082160</title>\n",
       "<ellipse fill=\"none\" stroke=\"black\" cx=\"171\" cy=\"-162\" rx=\"27\" ry=\"18\"/>\n",
       "<text text-anchor=\"middle\" x=\"171\" y=\"-158.3\" font-family=\"Times,serif\" font-size=\"14.00\">div</text>\n",
       "</g>\n",
       "<!-- 4584080336&#45;&gt;4584082160 -->\n",
       "<g id=\"edge8\" class=\"edge\">\n",
       "<title>4584080336&#45;&gt;4584082160</title>\n",
       "<path fill=\"none\" stroke=\"black\" d=\"M143.35,-216.76C147.71,-208.28 153.15,-197.71 158.04,-188.2\"/>\n",
       "<polygon fill=\"black\" stroke=\"black\" points=\"161.23,-189.64 162.7,-179.15 155.01,-186.44 161.23,-189.64\"/>\n",
       "</g>\n",
       "<!-- 4584080480 -->\n",
       "<g id=\"node3\" class=\"node\">\n",
       "<title>4584080480</title>\n",
       "<ellipse fill=\"none\" stroke=\"black\" cx=\"27\" cy=\"-90\" rx=\"27\" ry=\"18\"/>\n",
       "<text text-anchor=\"middle\" x=\"27\" y=\"-86.3\" font-family=\"Times,serif\" font-size=\"14.00\">A</text>\n",
       "</g>\n",
       "<!-- 4584083216&#45;&gt;4584080480 -->\n",
       "<g id=\"edge1\" class=\"edge\">\n",
       "<title>4584083216&#45;&gt;4584080480</title>\n",
       "<path fill=\"none\" stroke=\"black\" d=\"M84.43,-146.83C74.25,-136.94 60.48,-123.55 48.97,-112.36\"/>\n",
       "<polygon fill=\"black\" stroke=\"black\" points=\"51.41,-109.85 41.8,-105.38 46.53,-114.87 51.41,-109.85\"/>\n",
       "</g>\n",
       "<!-- 4584083072 -->\n",
       "<g id=\"node4\" class=\"node\">\n",
       "<title>4584083072</title>\n",
       "<ellipse fill=\"none\" stroke=\"black\" cx=\"99\" cy=\"-90\" rx=\"27\" ry=\"18\"/>\n",
       "<text text-anchor=\"middle\" x=\"99\" y=\"-86.3\" font-family=\"Times,serif\" font-size=\"14.00\">sub</text>\n",
       "</g>\n",
       "<!-- 4584083216&#45;&gt;4584083072 -->\n",
       "<g id=\"edge4\" class=\"edge\">\n",
       "<title>4584083216&#45;&gt;4584083072</title>\n",
       "<path fill=\"none\" stroke=\"black\" d=\"M99,-143.7C99,-135.98 99,-126.71 99,-118.11\"/>\n",
       "<polygon fill=\"black\" stroke=\"black\" points=\"102.5,-118.1 99,-108.1 95.5,-118.1 102.5,-118.1\"/>\n",
       "</g>\n",
       "<!-- 4584083120 -->\n",
       "<g id=\"node5\" class=\"node\">\n",
       "<title>4584083120</title>\n",
       "<ellipse fill=\"none\" stroke=\"black\" cx=\"63\" cy=\"-18\" rx=\"27\" ry=\"18\"/>\n",
       "<text text-anchor=\"middle\" x=\"63\" y=\"-14.3\" font-family=\"Times,serif\" font-size=\"14.00\">&#45;4</text>\n",
       "</g>\n",
       "<!-- 4584083072&#45;&gt;4584083120 -->\n",
       "<g id=\"edge2\" class=\"edge\">\n",
       "<title>4584083072&#45;&gt;4584083120</title>\n",
       "<path fill=\"none\" stroke=\"black\" d=\"M90.65,-72.76C86.29,-64.28 80.85,-53.71 75.96,-44.2\"/>\n",
       "<polygon fill=\"black\" stroke=\"black\" points=\"78.99,-42.44 71.3,-35.15 72.77,-45.64 78.99,-42.44\"/>\n",
       "</g>\n",
       "<!-- 4584080432 -->\n",
       "<g id=\"node6\" class=\"node\">\n",
       "<title>4584080432</title>\n",
       "<ellipse fill=\"none\" stroke=\"black\" cx=\"135\" cy=\"-18\" rx=\"27\" ry=\"18\"/>\n",
       "<text text-anchor=\"middle\" x=\"135\" y=\"-14.3\" font-family=\"Times,serif\" font-size=\"14.00\">B</text>\n",
       "</g>\n",
       "<!-- 4584083072&#45;&gt;4584080432 -->\n",
       "<g id=\"edge3\" class=\"edge\">\n",
       "<title>4584083072&#45;&gt;4584080432</title>\n",
       "<path fill=\"none\" stroke=\"black\" d=\"M107.35,-72.76C111.71,-64.28 117.15,-53.71 122.04,-44.2\"/>\n",
       "<polygon fill=\"black\" stroke=\"black\" points=\"125.23,-45.64 126.7,-35.15 119.01,-42.44 125.23,-45.64\"/>\n",
       "</g>\n",
       "<!-- 4584081776 -->\n",
       "<g id=\"node8\" class=\"node\">\n",
       "<title>4584081776</title>\n",
       "<ellipse fill=\"none\" stroke=\"black\" cx=\"171\" cy=\"-90\" rx=\"27\" ry=\"18\"/>\n",
       "<text text-anchor=\"middle\" x=\"171\" y=\"-86.3\" font-family=\"Times,serif\" font-size=\"14.00\">D</text>\n",
       "</g>\n",
       "<!-- 4584082160&#45;&gt;4584081776 -->\n",
       "<g id=\"edge6\" class=\"edge\">\n",
       "<title>4584082160&#45;&gt;4584081776</title>\n",
       "<path fill=\"none\" stroke=\"black\" d=\"M171,-143.7C171,-135.98 171,-126.71 171,-118.11\"/>\n",
       "<polygon fill=\"black\" stroke=\"black\" points=\"174.5,-118.1 171,-108.1 167.5,-118.1 174.5,-118.1\"/>\n",
       "</g>\n",
       "<!-- 4584083168 -->\n",
       "<g id=\"node9\" class=\"node\">\n",
       "<title>4584083168</title>\n",
       "<ellipse fill=\"none\" stroke=\"black\" cx=\"243\" cy=\"-90\" rx=\"27\" ry=\"18\"/>\n",
       "<text text-anchor=\"middle\" x=\"243\" y=\"-86.3\" font-family=\"Times,serif\" font-size=\"14.00\">D</text>\n",
       "</g>\n",
       "<!-- 4584082160&#45;&gt;4584083168 -->\n",
       "<g id=\"edge7\" class=\"edge\">\n",
       "<title>4584082160&#45;&gt;4584083168</title>\n",
       "<path fill=\"none\" stroke=\"black\" d=\"M185.57,-146.83C195.75,-136.94 209.52,-123.55 221.03,-112.36\"/>\n",
       "<polygon fill=\"black\" stroke=\"black\" points=\"223.47,-114.87 228.2,-105.38 218.59,-109.85 223.47,-114.87\"/>\n",
       "</g>\n",
       "</g>\n",
       "</svg>\n"
      ],
      "text/plain": [
       "<graphviz.dot.Digraph at 0x1114b9bb0>"
      ]
     },
     "execution_count": 66,
     "metadata": {},
     "output_type": "execute_result"
    }
   ],
   "source": [
    "print_tree(parent2)"
   ]
  },
  {
   "cell_type": "code",
   "execution_count": 67,
   "metadata": {
    "scrolled": true,
    "slideshow": {
     "slide_type": "fragment"
    }
   },
   "outputs": [
    {
     "data": {
      "image/svg+xml": [
       "<?xml version=\"1.0\" encoding=\"UTF-8\" standalone=\"no\"?>\n",
       "<!DOCTYPE svg PUBLIC \"-//W3C//DTD SVG 1.1//EN\"\n",
       " \"http://www.w3.org/Graphics/SVG/1.1/DTD/svg11.dtd\">\n",
       "<!-- Generated by graphviz version 2.50.0 (20211204.2007)\n",
       " -->\n",
       "<!-- Pages: 1 -->\n",
       "<svg width=\"332pt\" height=\"260pt\"\n",
       " viewBox=\"0.00 0.00 332.00 260.00\" xmlns=\"http://www.w3.org/2000/svg\" xmlns:xlink=\"http://www.w3.org/1999/xlink\">\n",
       "<g id=\"graph0\" class=\"graph\" transform=\"scale(1 1) rotate(0) translate(4 256)\">\n",
       "<polygon fill=\"white\" stroke=\"transparent\" points=\"-4,4 -4,-256 328,-256 328,4 -4,4\"/>\n",
       "<!-- 4585171456 -->\n",
       "<g id=\"node1\" class=\"node\">\n",
       "<title>4585171456</title>\n",
       "<ellipse fill=\"none\" stroke=\"black\" cx=\"135\" cy=\"-234\" rx=\"27\" ry=\"18\"/>\n",
       "<text text-anchor=\"middle\" x=\"135\" y=\"-230.3\" font-family=\"Times,serif\" font-size=\"14.00\">sub</text>\n",
       "</g>\n",
       "<!-- 4585171264 -->\n",
       "<g id=\"node2\" class=\"node\">\n",
       "<title>4585171264</title>\n",
       "<ellipse fill=\"none\" stroke=\"black\" cx=\"99\" cy=\"-162\" rx=\"27\" ry=\"18\"/>\n",
       "<text text-anchor=\"middle\" x=\"99\" y=\"-158.3\" font-family=\"Times,serif\" font-size=\"14.00\">mul</text>\n",
       "</g>\n",
       "<!-- 4585171456&#45;&gt;4585171264 -->\n",
       "<g id=\"edge5\" class=\"edge\">\n",
       "<title>4585171456&#45;&gt;4585171264</title>\n",
       "<path fill=\"none\" stroke=\"black\" d=\"M126.65,-216.76C122.29,-208.28 116.85,-197.71 111.96,-188.2\"/>\n",
       "<polygon fill=\"black\" stroke=\"black\" points=\"114.99,-186.44 107.3,-179.15 108.77,-189.64 114.99,-186.44\"/>\n",
       "</g>\n",
       "<!-- 4583587744 -->\n",
       "<g id=\"node7\" class=\"node\">\n",
       "<title>4583587744</title>\n",
       "<ellipse fill=\"none\" stroke=\"black\" cx=\"171\" cy=\"-162\" rx=\"27\" ry=\"18\"/>\n",
       "<text text-anchor=\"middle\" x=\"171\" y=\"-158.3\" font-family=\"Times,serif\" font-size=\"14.00\">div</text>\n",
       "</g>\n",
       "<!-- 4585171456&#45;&gt;4583587744 -->\n",
       "<g id=\"edge10\" class=\"edge\">\n",
       "<title>4585171456&#45;&gt;4583587744</title>\n",
       "<path fill=\"none\" stroke=\"black\" d=\"M143.35,-216.76C147.71,-208.28 153.15,-197.71 158.04,-188.2\"/>\n",
       "<polygon fill=\"black\" stroke=\"black\" points=\"161.23,-189.64 162.7,-179.15 155.01,-186.44 161.23,-189.64\"/>\n",
       "</g>\n",
       "<!-- 4585705136 -->\n",
       "<g id=\"node3\" class=\"node\">\n",
       "<title>4585705136</title>\n",
       "<ellipse fill=\"none\" stroke=\"black\" cx=\"27\" cy=\"-90\" rx=\"27\" ry=\"18\"/>\n",
       "<text text-anchor=\"middle\" x=\"27\" y=\"-86.3\" font-family=\"Times,serif\" font-size=\"14.00\">A</text>\n",
       "</g>\n",
       "<!-- 4585171264&#45;&gt;4585705136 -->\n",
       "<g id=\"edge1\" class=\"edge\">\n",
       "<title>4585171264&#45;&gt;4585705136</title>\n",
       "<path fill=\"none\" stroke=\"black\" d=\"M84.43,-146.83C74.25,-136.94 60.48,-123.55 48.97,-112.36\"/>\n",
       "<polygon fill=\"black\" stroke=\"black\" points=\"51.41,-109.85 41.8,-105.38 46.53,-114.87 51.41,-109.85\"/>\n",
       "</g>\n",
       "<!-- 4586249184 -->\n",
       "<g id=\"node4\" class=\"node\">\n",
       "<title>4586249184</title>\n",
       "<ellipse fill=\"none\" stroke=\"black\" cx=\"99\" cy=\"-90\" rx=\"27\" ry=\"18\"/>\n",
       "<text text-anchor=\"middle\" x=\"99\" y=\"-86.3\" font-family=\"Times,serif\" font-size=\"14.00\">sub</text>\n",
       "</g>\n",
       "<!-- 4585171264&#45;&gt;4586249184 -->\n",
       "<g id=\"edge4\" class=\"edge\">\n",
       "<title>4585171264&#45;&gt;4586249184</title>\n",
       "<path fill=\"none\" stroke=\"black\" d=\"M99,-143.7C99,-135.98 99,-126.71 99,-118.11\"/>\n",
       "<polygon fill=\"black\" stroke=\"black\" points=\"102.5,-118.1 99,-108.1 95.5,-118.1 102.5,-118.1\"/>\n",
       "</g>\n",
       "<!-- 4586250144 -->\n",
       "<g id=\"node5\" class=\"node\">\n",
       "<title>4586250144</title>\n",
       "<ellipse fill=\"none\" stroke=\"black\" cx=\"63\" cy=\"-18\" rx=\"27\" ry=\"18\"/>\n",
       "<text text-anchor=\"middle\" x=\"63\" y=\"-14.3\" font-family=\"Times,serif\" font-size=\"14.00\">D</text>\n",
       "</g>\n",
       "<!-- 4586249184&#45;&gt;4586250144 -->\n",
       "<g id=\"edge2\" class=\"edge\">\n",
       "<title>4586249184&#45;&gt;4586250144</title>\n",
       "<path fill=\"none\" stroke=\"black\" d=\"M90.65,-72.76C86.29,-64.28 80.85,-53.71 75.96,-44.2\"/>\n",
       "<polygon fill=\"black\" stroke=\"black\" points=\"78.99,-42.44 71.3,-35.15 72.77,-45.64 78.99,-42.44\"/>\n",
       "</g>\n",
       "<!-- 4586248176 -->\n",
       "<g id=\"node6\" class=\"node\">\n",
       "<title>4586248176</title>\n",
       "<ellipse fill=\"none\" stroke=\"black\" cx=\"135\" cy=\"-18\" rx=\"27\" ry=\"18\"/>\n",
       "<text text-anchor=\"middle\" x=\"135\" y=\"-14.3\" font-family=\"Times,serif\" font-size=\"14.00\">A</text>\n",
       "</g>\n",
       "<!-- 4586249184&#45;&gt;4586248176 -->\n",
       "<g id=\"edge3\" class=\"edge\">\n",
       "<title>4586249184&#45;&gt;4586248176</title>\n",
       "<path fill=\"none\" stroke=\"black\" d=\"M107.35,-72.76C111.71,-64.28 117.15,-53.71 122.04,-44.2\"/>\n",
       "<polygon fill=\"black\" stroke=\"black\" points=\"125.23,-45.64 126.7,-35.15 119.01,-42.44 125.23,-45.64\"/>\n",
       "</g>\n",
       "<!-- 4585123216 -->\n",
       "<g id=\"node8\" class=\"node\">\n",
       "<title>4585123216</title>\n",
       "<ellipse fill=\"none\" stroke=\"black\" cx=\"171\" cy=\"-90\" rx=\"27\" ry=\"18\"/>\n",
       "<text text-anchor=\"middle\" x=\"171\" y=\"-86.3\" font-family=\"Times,serif\" font-size=\"14.00\">D</text>\n",
       "</g>\n",
       "<!-- 4583587744&#45;&gt;4585123216 -->\n",
       "<g id=\"edge6\" class=\"edge\">\n",
       "<title>4583587744&#45;&gt;4585123216</title>\n",
       "<path fill=\"none\" stroke=\"black\" d=\"M171,-143.7C171,-135.98 171,-126.71 171,-118.11\"/>\n",
       "<polygon fill=\"black\" stroke=\"black\" points=\"174.5,-118.1 171,-108.1 167.5,-118.1 174.5,-118.1\"/>\n",
       "</g>\n",
       "<!-- 4585120048 -->\n",
       "<g id=\"node9\" class=\"node\">\n",
       "<title>4585120048</title>\n",
       "<ellipse fill=\"none\" stroke=\"black\" cx=\"243\" cy=\"-90\" rx=\"27\" ry=\"18\"/>\n",
       "<text text-anchor=\"middle\" x=\"243\" y=\"-86.3\" font-family=\"Times,serif\" font-size=\"14.00\">add</text>\n",
       "</g>\n",
       "<!-- 4583587744&#45;&gt;4585120048 -->\n",
       "<g id=\"edge9\" class=\"edge\">\n",
       "<title>4583587744&#45;&gt;4585120048</title>\n",
       "<path fill=\"none\" stroke=\"black\" d=\"M185.57,-146.83C195.75,-136.94 209.52,-123.55 221.03,-112.36\"/>\n",
       "<polygon fill=\"black\" stroke=\"black\" points=\"223.47,-114.87 228.2,-105.38 218.59,-109.85 223.47,-114.87\"/>\n",
       "</g>\n",
       "<!-- 4585123600 -->\n",
       "<g id=\"node10\" class=\"node\">\n",
       "<title>4585123600</title>\n",
       "<ellipse fill=\"none\" stroke=\"black\" cx=\"225\" cy=\"-18\" rx=\"27\" ry=\"18\"/>\n",
       "<text text-anchor=\"middle\" x=\"225\" y=\"-14.3\" font-family=\"Times,serif\" font-size=\"14.00\">B</text>\n",
       "</g>\n",
       "<!-- 4585120048&#45;&gt;4585123600 -->\n",
       "<g id=\"edge7\" class=\"edge\">\n",
       "<title>4585120048&#45;&gt;4585123600</title>\n",
       "<path fill=\"none\" stroke=\"black\" d=\"M238.64,-72.05C236.61,-64.14 234.14,-54.54 231.86,-45.69\"/>\n",
       "<polygon fill=\"black\" stroke=\"black\" points=\"235.2,-44.6 229.32,-35.79 228.42,-46.35 235.2,-44.6\"/>\n",
       "</g>\n",
       "<!-- 4585121296 -->\n",
       "<g id=\"node11\" class=\"node\">\n",
       "<title>4585121296</title>\n",
       "<ellipse fill=\"none\" stroke=\"black\" cx=\"297\" cy=\"-18\" rx=\"27\" ry=\"18\"/>\n",
       "<text text-anchor=\"middle\" x=\"297\" y=\"-14.3\" font-family=\"Times,serif\" font-size=\"14.00\">D</text>\n",
       "</g>\n",
       "<!-- 4585120048&#45;&gt;4585121296 -->\n",
       "<g id=\"edge8\" class=\"edge\">\n",
       "<title>4585120048&#45;&gt;4585121296</title>\n",
       "<path fill=\"none\" stroke=\"black\" d=\"M254.98,-73.46C261.98,-64.4 270.94,-52.79 278.79,-42.61\"/>\n",
       "<polygon fill=\"black\" stroke=\"black\" points=\"281.71,-44.55 285.05,-34.49 276.17,-40.27 281.71,-44.55\"/>\n",
       "</g>\n",
       "</g>\n",
       "</svg>\n"
      ],
      "text/plain": [
       "<graphviz.dot.Digraph at 0x1112df040>"
      ]
     },
     "execution_count": 67,
     "metadata": {},
     "output_type": "execute_result"
    }
   ],
   "source": [
    "offspring = sizefair_crossover(parent1, parent2)\n",
    "print_tree(offspring)"
   ]
  },
  {
   "cell_type": "markdown",
   "metadata": {
    "slideshow": {
     "slide_type": "skip"
    }
   },
   "source": [
    "Now we just need to do some minor adaptations to make sure that these new operators are actually applied during the evolution:"
   ]
  },
  {
   "cell_type": "code",
   "execution_count": 68,
   "metadata": {
    "slideshow": {
     "slide_type": "slide"
    }
   },
   "outputs": [],
   "source": [
    "mutation_operators = [subtree_mutation, permutation_mutation, shrink_mutation, point_mutation, sizefair_subtree_mutation]\n",
    "crossover = sizefair_crossover"
   ]
  },
  {
   "cell_type": "markdown",
   "metadata": {
    "slideshow": {
     "slide_type": "skip"
    }
   },
   "source": [
    "Besides the adapted operators, another common approach is to apply an upper bound on the size, and reject offspring that exceeds that size. This can have negative implications if it is the only means to control bloat, as larger individuals will then become less likely to produce surviving offspring. However, we can use it in conjunction with out optimised operators:"
   ]
  },
  {
   "cell_type": "code",
   "execution_count": 69,
   "metadata": {
    "slideshow": {
     "slide_type": "fragment"
    }
   },
   "outputs": [],
   "source": [
    "REJECT_SIZE = 50"
   ]
  },
  {
   "cell_type": "code",
   "execution_count": 70,
   "metadata": {
    "slideshow": {
     "slide_type": "fragment"
    }
   },
   "outputs": [],
   "source": [
    "def evolution_step(population):\n",
    "    new_population = []\n",
    "    while len(new_population) < len(population):\n",
    "        parent1 = copy(selection(population))\n",
    "        parent2 = copy(selection(population))\n",
    "\n",
    "        if random.random() < P_xover:\n",
    "            offspring = crossover(parent1, parent2)\n",
    "        else:\n",
    "            offspring = random.choice([parent1, parent2])\n",
    "\n",
    "        if random.random() < 0.2:\n",
    "            mutation_operator = random.choice(mutation_operators)\n",
    "            mutation_operator(offspring)\n",
    "\n",
    "        if size(offspring) < REJECT_SIZE:\n",
    "            new_population.append(offspring)\n",
    "\n",
    "    population.clear()\n",
    "    population.extend(new_population)\n",
    "\n",
    "    best_fitness = min([get_fitness(k) for k in population])\n",
    "    return best_fitness"
   ]
  },
  {
   "cell_type": "markdown",
   "metadata": {
    "slideshow": {
     "slide_type": "skip"
    }
   },
   "source": [
    "Thus, finally, let's run the search again for the same target function."
   ]
  },
  {
   "cell_type": "code",
   "execution_count": 71,
   "metadata": {
    "slideshow": {
     "slide_type": "slide"
    }
   },
   "outputs": [
    {
     "name": "stdout",
     "output_type": "stream",
     "text": [
      "GA Iteration 0, best fitness: 0.20333000000000007, average size: 9.48\n",
      "GA Iteration 1, best fitness: 0.20333000000000007, average size: 8.5\n",
      "GA Iteration 2, best fitness: 0.05937476232444309, average size: 8.42\n",
      "GA Iteration 3, best fitness: 0.05937476232444309, average size: 7.92\n",
      "GA Iteration 4, best fitness: 0.05937476232444309, average size: 7.52\n",
      "GA Iteration 5, best fitness: 0.05937476232444309, average size: 7.06\n",
      "GA Iteration 6, best fitness: 0.05937476232444309, average size: 6.08\n",
      "GA Iteration 7, best fitness: 0.05937476232444309, average size: 6\n",
      "GA Iteration 8, best fitness: 0.05937476232444309, average size: 5\n",
      "GA Iteration 9, best fitness: 0.05937476232444309, average size: 4.64\n",
      "GA Iteration 10, best fitness: 0.05937476232444309, average size: 4.06\n",
      "GA Iteration 11, best fitness: 0.05937476232444309, average size: 3.9\n",
      "GA Iteration 12, best fitness: 0.05937476232444309, average size: 3.94\n",
      "GA Iteration 13, best fitness: 0.05937476232444309, average size: 3.96\n",
      "GA Iteration 14, best fitness: 0.05937476232444309, average size: 3.98\n",
      "GA Iteration 15, best fitness: 0.05937476232444309, average size: 3.98\n",
      "GA Iteration 16, best fitness: 0.05937476232444309, average size: 3.62\n",
      "GA Iteration 17, best fitness: 0.05937476232444309, average size: 3.64\n",
      "GA Iteration 18, best fitness: 0.05937476232444309, average size: 3.36\n",
      "GA Iteration 19, best fitness: 0.05937476232444309, average size: 3.28\n",
      "GA Iteration 20, best fitness: 0.05937476232444309, average size: 3.2\n",
      "GA Iteration 21, best fitness: 0.05937476232444309, average size: 2.76\n",
      "GA Iteration 22, best fitness: 0.05937476232444309, average size: 2.8\n",
      "GA Iteration 23, best fitness: 0.05937476232444309, average size: 2.56\n",
      "GA Iteration 24, best fitness: 0.05937476232444309, average size: 2.18\n",
      "GA Iteration 25, best fitness: 0.05937476232444309, average size: 2.24\n",
      "GA Iteration 26, best fitness: 0.05937476232444309, average size: 2.28\n",
      "GA Iteration 27, best fitness: 0.05937476232444309, average size: 2.2\n",
      "GA Iteration 28, best fitness: 0.05937476232444309, average size: 2.5\n",
      "GA Iteration 29, best fitness: 0.05937476232444309, average size: 2.54\n",
      "GA Iteration 30, best fitness: 0.05937476232444309, average size: 2.34\n",
      "GA Iteration 31, best fitness: 0.05937476232444309, average size: 2.42\n",
      "GA Iteration 32, best fitness: 0.05937476232444309, average size: 2.36\n",
      "GA Iteration 33, best fitness: 0.05937476232444309, average size: 2.4\n",
      "GA Iteration 34, best fitness: 0.05937476232444309, average size: 2.6\n",
      "GA Iteration 35, best fitness: 0.05937476232444309, average size: 2.48\n",
      "GA Iteration 36, best fitness: 0.05937476232444309, average size: 2.12\n",
      "GA Iteration 37, best fitness: 0.05937476232444309, average size: 2.48\n",
      "GA Iteration 38, best fitness: 0.05937476232444309, average size: 2.42\n",
      "GA Iteration 39, best fitness: 0.05937476232444309, average size: 2.52\n",
      "GA Iteration 40, best fitness: 0.05937476232444309, average size: 2.44\n",
      "GA Iteration 41, best fitness: 0.05937476232444309, average size: 2.26\n",
      "GA Iteration 42, best fitness: 0.05937476232444309, average size: 2.28\n",
      "GA solution after 43 iterations, best fitness: 0.0\n"
     ]
    },
    {
     "data": {
      "image/svg+xml": [
       "<?xml version=\"1.0\" encoding=\"UTF-8\" standalone=\"no\"?>\n",
       "<!DOCTYPE svg PUBLIC \"-//W3C//DTD SVG 1.1//EN\"\n",
       " \"http://www.w3.org/Graphics/SVG/1.1/DTD/svg11.dtd\">\n",
       "<!-- Generated by graphviz version 2.50.0 (20211204.2007)\n",
       " -->\n",
       "<!-- Pages: 1 -->\n",
       "<svg width=\"206pt\" height=\"260pt\"\n",
       " viewBox=\"0.00 0.00 206.00 260.00\" xmlns=\"http://www.w3.org/2000/svg\" xmlns:xlink=\"http://www.w3.org/1999/xlink\">\n",
       "<g id=\"graph0\" class=\"graph\" transform=\"scale(1 1) rotate(0) translate(4 256)\">\n",
       "<polygon fill=\"white\" stroke=\"transparent\" points=\"-4,4 -4,-256 202,-256 202,4 -4,4\"/>\n",
       "<!-- 4565041456 -->\n",
       "<g id=\"node1\" class=\"node\">\n",
       "<title>4565041456</title>\n",
       "<ellipse fill=\"none\" stroke=\"black\" cx=\"63\" cy=\"-234\" rx=\"27\" ry=\"18\"/>\n",
       "<text text-anchor=\"middle\" x=\"63\" y=\"-230.3\" font-family=\"Times,serif\" font-size=\"14.00\">add</text>\n",
       "</g>\n",
       "<!-- 4565778384 -->\n",
       "<g id=\"node2\" class=\"node\">\n",
       "<title>4565778384</title>\n",
       "<ellipse fill=\"none\" stroke=\"black\" cx=\"27\" cy=\"-162\" rx=\"27\" ry=\"18\"/>\n",
       "<text text-anchor=\"middle\" x=\"27\" y=\"-158.3\" font-family=\"Times,serif\" font-size=\"14.00\">1</text>\n",
       "</g>\n",
       "<!-- 4565041456&#45;&gt;4565778384 -->\n",
       "<g id=\"edge1\" class=\"edge\">\n",
       "<title>4565041456&#45;&gt;4565778384</title>\n",
       "<path fill=\"none\" stroke=\"black\" d=\"M54.65,-216.76C50.29,-208.28 44.85,-197.71 39.96,-188.2\"/>\n",
       "<polygon fill=\"black\" stroke=\"black\" points=\"42.99,-186.44 35.3,-179.15 36.77,-189.64 42.99,-186.44\"/>\n",
       "</g>\n",
       "<!-- 4583910224 -->\n",
       "<g id=\"node3\" class=\"node\">\n",
       "<title>4583910224</title>\n",
       "<ellipse fill=\"none\" stroke=\"black\" cx=\"99\" cy=\"-162\" rx=\"27\" ry=\"18\"/>\n",
       "<text text-anchor=\"middle\" x=\"99\" y=\"-158.3\" font-family=\"Times,serif\" font-size=\"14.00\">add</text>\n",
       "</g>\n",
       "<!-- 4565041456&#45;&gt;4583910224 -->\n",
       "<g id=\"edge6\" class=\"edge\">\n",
       "<title>4565041456&#45;&gt;4583910224</title>\n",
       "<path fill=\"none\" stroke=\"black\" d=\"M71.35,-216.76C75.71,-208.28 81.15,-197.71 86.04,-188.2\"/>\n",
       "<polygon fill=\"black\" stroke=\"black\" points=\"89.23,-189.64 90.7,-179.15 83.01,-186.44 89.23,-189.64\"/>\n",
       "</g>\n",
       "<!-- 4583909216 -->\n",
       "<g id=\"node4\" class=\"node\">\n",
       "<title>4583909216</title>\n",
       "<ellipse fill=\"none\" stroke=\"black\" cx=\"63\" cy=\"-90\" rx=\"27\" ry=\"18\"/>\n",
       "<text text-anchor=\"middle\" x=\"63\" y=\"-86.3\" font-family=\"Times,serif\" font-size=\"14.00\">x</text>\n",
       "</g>\n",
       "<!-- 4583910224&#45;&gt;4583909216 -->\n",
       "<g id=\"edge2\" class=\"edge\">\n",
       "<title>4583910224&#45;&gt;4583909216</title>\n",
       "<path fill=\"none\" stroke=\"black\" d=\"M90.65,-144.76C86.29,-136.28 80.85,-125.71 75.96,-116.2\"/>\n",
       "<polygon fill=\"black\" stroke=\"black\" points=\"78.99,-114.44 71.3,-107.15 72.77,-117.64 78.99,-114.44\"/>\n",
       "</g>\n",
       "<!-- 4583907920 -->\n",
       "<g id=\"node5\" class=\"node\">\n",
       "<title>4583907920</title>\n",
       "<ellipse fill=\"none\" stroke=\"black\" cx=\"135\" cy=\"-90\" rx=\"27\" ry=\"18\"/>\n",
       "<text text-anchor=\"middle\" x=\"135\" y=\"-86.3\" font-family=\"Times,serif\" font-size=\"14.00\">mul</text>\n",
       "</g>\n",
       "<!-- 4583910224&#45;&gt;4583907920 -->\n",
       "<g id=\"edge5\" class=\"edge\">\n",
       "<title>4583910224&#45;&gt;4583907920</title>\n",
       "<path fill=\"none\" stroke=\"black\" d=\"M107.35,-144.76C111.71,-136.28 117.15,-125.71 122.04,-116.2\"/>\n",
       "<polygon fill=\"black\" stroke=\"black\" points=\"125.23,-117.64 126.7,-107.15 119.01,-114.44 125.23,-117.64\"/>\n",
       "</g>\n",
       "<!-- 4583782624 -->\n",
       "<g id=\"node6\" class=\"node\">\n",
       "<title>4583782624</title>\n",
       "<ellipse fill=\"none\" stroke=\"black\" cx=\"99\" cy=\"-18\" rx=\"27\" ry=\"18\"/>\n",
       "<text text-anchor=\"middle\" x=\"99\" y=\"-14.3\" font-family=\"Times,serif\" font-size=\"14.00\">x</text>\n",
       "</g>\n",
       "<!-- 4583907920&#45;&gt;4583782624 -->\n",
       "<g id=\"edge3\" class=\"edge\">\n",
       "<title>4583907920&#45;&gt;4583782624</title>\n",
       "<path fill=\"none\" stroke=\"black\" d=\"M126.65,-72.76C122.29,-64.28 116.85,-53.71 111.96,-44.2\"/>\n",
       "<polygon fill=\"black\" stroke=\"black\" points=\"114.99,-42.44 107.3,-35.15 108.77,-45.64 114.99,-42.44\"/>\n",
       "</g>\n",
       "<!-- 4583783536 -->\n",
       "<g id=\"node7\" class=\"node\">\n",
       "<title>4583783536</title>\n",
       "<ellipse fill=\"none\" stroke=\"black\" cx=\"171\" cy=\"-18\" rx=\"27\" ry=\"18\"/>\n",
       "<text text-anchor=\"middle\" x=\"171\" y=\"-14.3\" font-family=\"Times,serif\" font-size=\"14.00\">x</text>\n",
       "</g>\n",
       "<!-- 4583907920&#45;&gt;4583783536 -->\n",
       "<g id=\"edge4\" class=\"edge\">\n",
       "<title>4583907920&#45;&gt;4583783536</title>\n",
       "<path fill=\"none\" stroke=\"black\" d=\"M143.35,-72.76C147.71,-64.28 153.15,-53.71 158.04,-44.2\"/>\n",
       "<polygon fill=\"black\" stroke=\"black\" points=\"161.23,-45.64 162.7,-35.15 155.01,-42.44 161.23,-45.64\"/>\n",
       "</g>\n",
       "</g>\n",
       "</svg>\n"
      ],
      "text/plain": [
       "<graphviz.dot.Digraph at 0x111441d60>"
      ]
     },
     "execution_count": 71,
     "metadata": {},
     "output_type": "execute_result"
    }
   ],
   "source": [
    "max_iterations = 200\n",
    "population_size = 100\n",
    "selection = tournament_selection\n",
    "crossover = sizefair_crossover\n",
    "P_xover = 0.7\n",
    "fitness_values = []\n",
    "size_values = []\n",
    "result = ga()\n",
    "print_tree(result)"
   ]
  },
  {
   "cell_type": "markdown",
   "metadata": {
    "slideshow": {
     "slide_type": "skip"
    }
   },
   "source": [
    "To validate whether we are still affected by bloat we can plot the evolution of size again:"
   ]
  },
  {
   "cell_type": "code",
   "execution_count": 72,
   "metadata": {
    "scrolled": true,
    "slideshow": {
     "slide_type": "slide"
    }
   },
   "outputs": [
    {
     "data": {
      "text/plain": [
       "[<matplotlib.lines.Line2D at 0x111469130>]"
      ]
     },
     "execution_count": 72,
     "metadata": {},
     "output_type": "execute_result"
    },
    {
     "data": {
      "image/png": "[encoded data removed]",
      "text/plain": [
       "<Figure size 432x288 with 1 Axes>"
      ]
     },
     "metadata": {
      "needs_background": "light"
     },
     "output_type": "display_data"
    }
   ],
   "source": [
    "plt.plot(size_values)"
   ]
  },
  {
   "cell_type": "markdown",
   "metadata": {
    "slideshow": {
     "slide_type": "skip"
    }
   },
   "source": [
    "We can also compare the resulting function with the desired target function:"
   ]
  },
  {
   "cell_type": "code",
   "execution_count": 73,
   "metadata": {
    "slideshow": {
     "slide_type": "slide"
    }
   },
   "outputs": [
    {
     "data": {
      "text/plain": [
       "<matplotlib.legend.Legend at 0x111493a60>"
      ]
     },
     "execution_count": 73,
     "metadata": {},
     "output_type": "execute_result"
    },
    {
     "data": {
      "image/png": "[encoded data removed]",
      "text/plain": [
       "<Figure size 432x288 with 1 Axes>"
      ]
     },
     "metadata": {
      "needs_background": "light"
     },
     "output_type": "display_data"
    }
   ],
   "source": [
    "points = [x/10 for x in range(-10, 11)]\n",
    "real_values = [(x*x + x + 1) for x in points]\n",
    "gp_values = []\n",
    "for x in points:\n",
    "    assignment = {}\n",
    "    assignment[\"x\"] = x\n",
    "    gp_values.append(evaluate(result, assignment))\n",
    "plt.plot(points, gp_values)\n",
    "\n",
    "plt.plot(points, real_values,  linestyle='--', label = \"Target\")\n",
    "plt.plot(points, gp_values,  linestyle=':', label = \"GP\")\n",
    "plt.legend()"
   ]
  }
 ],
 "metadata": {
  "celltoolbar": "Slideshow",
  "kernelspec": {
   "display_name": "3.8.6",
   "language": "python",
   "name": "3.8.6"
  },
  "language_info": {
   "codemirror_mode": {
    "name": "ipython",
    "version": 3
   },
   "file_extension": ".py",
   "mimetype": "text/x-python",
   "name": "python",
   "nbconvert_exporter": "python",
   "pygments_lexer": "ipython3",
   "version": "3.8.6"
  },
  "rise": {
   "enable_chalkboard": true,
   "scroll": true
  }
 },
 "nbformat": 4,
 "nbformat_minor": 4
}
