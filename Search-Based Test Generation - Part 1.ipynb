{
 "cells": [
  {
   "cell_type": "markdown",
   "metadata": {
    "slideshow": {
     "slide_type": "slide"
    }
   },
   "source": [
    "# Search-Based Test Generation - Part 1"
   ]
  },
  {
   "cell_type": "code",
   "execution_count": 1,
   "metadata": {
    "slideshow": {
     "slide_type": "skip"
    }
   },
   "outputs": [],
   "source": [
    "import random\n",
    "import matplotlib.pyplot as plt\n",
    "import numpy as np\n",
    "from mpl_toolkits.mplot3d import Axes3D\n",
    "\n",
    "import inspect\n",
    "import ast\n",
    "import astor\n",
    "\n",
    "import sys\n",
    "\n",
    "# For presenting as slides\n",
    "#plt.rcParams['figure.figsize'] = [12, 8]\n",
    "#plt.rcParams.update({'font.size': 22})\n",
    "#plt.rcParams['lines.linewidth'] = 3"
   ]
  },
  {
   "cell_type": "markdown",
   "metadata": {
    "slideshow": {
     "slide_type": "skip"
    }
   },
   "source": [
    "## The Test Data Generation Problem"
   ]
  },
  {
   "cell_type": "markdown",
   "metadata": {
    "slideshow": {
     "slide_type": "skip"
    }
   },
   "source": [
    "The problem we will consider in this chapter is the following: Given an entry point to a program (a function), we want to find values for the parameters of this function such that the execution of the function reaches a particular point in the program. In other words, we aim to find a test input to the program that covers a target statement. We will then generalise this problem to finding test inputs to cover _all_ statements in the program."
   ]
  },
  {
   "cell_type": "markdown",
   "metadata": {
    "slideshow": {
     "slide_type": "skip"
    }
   },
   "source": [
    "Assume we are aiming to test the following function under test:"
   ]
  },
  {
   "cell_type": "code",
   "execution_count": 2,
   "metadata": {
    "slideshow": {
     "slide_type": "fragment"
    }
   },
   "outputs": [],
   "source": [
    "def test_me(x, y):\n",
    "    if x == 2 * (y + 1):\n",
    "        return True\n",
    "    else:\n",
    "        return False"
   ]
  },
  {
   "cell_type": "markdown",
   "metadata": {
    "slideshow": {
     "slide_type": "skip"
    }
   },
   "source": [
    "The `test_me` function has two input parameters, `x`and `y`, and it returns `True` or `False` depending on how the parameters relate:"
   ]
  },
  {
   "cell_type": "code",
   "execution_count": 3,
   "metadata": {
    "slideshow": {
     "slide_type": "fragment"
    }
   },
   "outputs": [
    {
     "data": {
      "text/plain": [
       "False"
      ]
     },
     "execution_count": 3,
     "metadata": {},
     "output_type": "execute_result"
    }
   ],
   "source": [
    "test_me(10, 10)"
   ]
  },
  {
   "cell_type": "code",
   "execution_count": 4,
   "metadata": {
    "slideshow": {
     "slide_type": "fragment"
    }
   },
   "outputs": [
    {
     "data": {
      "text/plain": [
       "True"
      ]
     },
     "execution_count": 4,
     "metadata": {},
     "output_type": "execute_result"
    }
   ],
   "source": [
    "test_me(22, 10)"
   ]
  },
  {
   "cell_type": "markdown",
   "metadata": {
    "slideshow": {
     "slide_type": "skip"
    }
   },
   "source": [
    "In order to address the test generation problem as a search problem, we need to decide on an encoding, and derive appropriate search operators. It is possible to use bitvectors like we did on previous problems; however, a simpler interpretation of the parameters of a function is a list of the actual parameters. That is, we encode a test input as a list of parameters; we will start by assuming that all parameters are numeric."
   ]
  },
  {
   "cell_type": "markdown",
   "metadata": {
    "slideshow": {
     "slide_type": "skip"
    }
   },
   "source": [
    "The representation for inputs of this function is lists of length two, one element for `x` and one for `y`. As numeric values in Python are unbounded, we need to decide on some finite bounds for these values, e.g.:"
   ]
  },
  {
   "cell_type": "code",
   "execution_count": 5,
   "metadata": {
    "slideshow": {
     "slide_type": "slide"
    }
   },
   "outputs": [],
   "source": [
    "MAX = 1000\n",
    "MIN = -MAX"
   ]
  },
  {
   "cell_type": "markdown",
   "metadata": {
    "slideshow": {
     "slide_type": "skip"
    }
   },
   "source": [
    "For generating inputs we can now uniformly sample in the range (MIN, MAX). The length of the vector shall be the number of parameters of the function under test. Rather than hard coding such a parameter, we can also make our approach generalise better by using inspection to determine how many parameters the function under test has:"
   ]
  },
  {
   "cell_type": "code",
   "execution_count": 6,
   "metadata": {
    "scrolled": true,
    "slideshow": {
     "slide_type": "fragment"
    }
   },
   "outputs": [
    {
     "data": {
      "text/plain": [
       "2"
      ]
     },
     "execution_count": 6,
     "metadata": {},
     "output_type": "execute_result"
    }
   ],
   "source": [
    "from inspect import signature\n",
    "sig = signature(test_me)\n",
    "num_parameters = len(sig.parameters)\n",
    "num_parameters"
   ]
  },
  {
   "cell_type": "markdown",
   "metadata": {
    "slideshow": {
     "slide_type": "skip"
    }
   },
   "source": [
    "As usual, we will define the representation implicitly using a function that produces random instances."
   ]
  },
  {
   "cell_type": "code",
   "execution_count": 7,
   "metadata": {
    "slideshow": {
     "slide_type": "fragment"
    }
   },
   "outputs": [],
   "source": [
    "def get_random_individual():\n",
    "    return [random.randint(MIN, MAX) for _ in range(num_parameters)]"
   ]
  },
  {
   "cell_type": "code",
   "execution_count": 8,
   "metadata": {
    "slideshow": {
     "slide_type": "fragment"
    }
   },
   "outputs": [
    {
     "data": {
      "text/plain": [
       "[515, 686]"
      ]
     },
     "execution_count": 8,
     "metadata": {},
     "output_type": "execute_result"
    }
   ],
   "source": [
    "get_random_individual()"
   ]
  },
  {
   "cell_type": "markdown",
   "metadata": {
    "slideshow": {
     "slide_type": "skip"
    }
   },
   "source": [
    "We need to define search operators matching this representation. To apply local search, we need to define the neighbourhood. For example, we could define one upper and one lower neighbour for each parameter:\n",
    "\n",
    "- `x-1, y`\n",
    "- `x+1, y`\n",
    "- `x, y+1`\n",
    "- `x, y-1`"
   ]
  },
  {
   "cell_type": "code",
   "execution_count": 9,
   "metadata": {
    "slideshow": {
     "slide_type": "slide"
    }
   },
   "outputs": [],
   "source": [
    "def get_neighbours(individual):\n",
    "    neighbours = []\n",
    "    for p in range(len(individual)): \n",
    "        if individual[p] > MIN:\n",
    "            neighbour = individual[:]\n",
    "            neighbour[p] = individual[p] - 1\n",
    "            neighbours.append(neighbour)\n",
    "        if individual[p] < MAX:\n",
    "            neighbour = individual[:]\n",
    "            neighbour[p] = individual[p] + 1\n",
    "            neighbours.append(neighbour)\n",
    "            \n",
    "    return neighbours"
   ]
  },
  {
   "cell_type": "code",
   "execution_count": 10,
   "metadata": {
    "slideshow": {
     "slide_type": "fragment"
    }
   },
   "outputs": [
    {
     "data": {
      "text/plain": [
       "[310, -428]"
      ]
     },
     "execution_count": 10,
     "metadata": {},
     "output_type": "execute_result"
    }
   ],
   "source": [
    "x = get_random_individual()\n",
    "x"
   ]
  },
  {
   "cell_type": "code",
   "execution_count": 11,
   "metadata": {
    "slideshow": {
     "slide_type": "fragment"
    }
   },
   "outputs": [
    {
     "data": {
      "text/plain": [
       "[[309, -428], [311, -428], [310, -429], [310, -427]]"
      ]
     },
     "execution_count": 11,
     "metadata": {},
     "output_type": "execute_result"
    }
   ],
   "source": [
    "get_neighbours(x)"
   ]
  },
  {
   "cell_type": "markdown",
   "metadata": {
    "slideshow": {
     "slide_type": "skip"
    }
   },
   "source": [
    "Before we can apply search, we also need to define a fitness function.  Suppose that we are interested in covering the `True` branch of the if-condition in the `test_me()` function, i.e. `x == 2 * (y + 1)`."
   ]
  },
  {
   "cell_type": "code",
   "execution_count": 12,
   "metadata": {
    "slideshow": {
     "slide_type": "slide"
    }
   },
   "outputs": [],
   "source": [
    "def test_me(x, y):\n",
    "    if x == 2 * (y + 1):\n",
    "        return True\n",
    "    else:\n",
    "        return False"
   ]
  },
  {
   "cell_type": "markdown",
   "metadata": {
    "slideshow": {
     "slide_type": "skip"
    }
   },
   "source": [
    "How close is a given input tuple for this function from reaching the target (true) branch of `x == 2 * (y + 1)`?"
   ]
  },
  {
   "cell_type": "markdown",
   "metadata": {
    "slideshow": {
     "slide_type": "skip"
    }
   },
   "source": [
    "Let's consider an arbitrary point in the search space, e.g. `(274, 153)`. The if-condition compares the following values:"
   ]
  },
  {
   "cell_type": "code",
   "execution_count": 13,
   "metadata": {
    "slideshow": {
     "slide_type": "fragment"
    }
   },
   "outputs": [
    {
     "data": {
      "text/plain": [
       "(274, 308)"
      ]
     },
     "execution_count": 13,
     "metadata": {},
     "output_type": "execute_result"
    }
   ],
   "source": [
    "x = 274\n",
    "y = 153\n",
    "x, 2 * (y + 1)"
   ]
  },
  {
   "cell_type": "markdown",
   "metadata": {
    "slideshow": {
     "slide_type": "skip"
    }
   },
   "source": [
    "In order to make the branch true, both values need to be the same. Thus, the more they differ, the further we are away from making the comparison true, and the less they differ, the closer we are from making the comparison true. Thus, we can quantify \"how false\" the comparison is by calculating the difference between `x` and `2 * (y + 1)`. Thus, we can calculate this distance as `abs(x - 2 * (y + 1))`:"
   ]
  },
  {
   "cell_type": "code",
   "execution_count": 14,
   "metadata": {
    "slideshow": {
     "slide_type": "fragment"
    }
   },
   "outputs": [],
   "source": [
    "def calculate_distance(x, y):\n",
    "    return abs(x - 2 * (y + 1))"
   ]
  },
  {
   "cell_type": "code",
   "execution_count": 15,
   "metadata": {
    "slideshow": {
     "slide_type": "fragment"
    }
   },
   "outputs": [
    {
     "data": {
      "text/plain": [
       "34"
      ]
     },
     "execution_count": 15,
     "metadata": {},
     "output_type": "execute_result"
    }
   ],
   "source": [
    "calculate_distance(274, 153)"
   ]
  },
  {
   "cell_type": "markdown",
   "metadata": {
    "slideshow": {
     "slide_type": "skip"
    }
   },
   "source": [
    "We can use this distance value as our fitness function, since we can nicely measure how close we are to an optimal solution. Note, however, that \"better\" doesn't mean \"bigger\" in this case; the smaller the distance the better. This is not a problem, since any algorithm that can maximize a value can also be made to minimize it instead.\n",
    "\n",
    "For each value in the search space of integer tuples, this distance value defines the elevation in our search landscape. Since our example search space is two-dimensional, the search landscape is three-dimensional and we can plot it to see what it looks like:"
   ]
  },
  {
   "cell_type": "code",
   "execution_count": 16,
   "metadata": {
    "slideshow": {
     "slide_type": "subslide"
    }
   },
   "outputs": [
    {
     "data": {
      "image/png": "[encoded data removed]",
      "text/plain": [
       "<Figure size 864x864 with 1 Axes>"
      ]
     },
     "metadata": {
      "needs_background": "light"
     },
     "output_type": "display_data"
    }
   ],
   "source": [
    "x = np.outer(np.linspace(-10, 10, 30), np.ones(30))\n",
    "y = x.copy().T\n",
    "z = calculate_distance(x, y)\n",
    "\n",
    "fig = plt.figure(figsize=(12, 12))\n",
    "ax  = plt.axes(projection='3d')\n",
    "\n",
    "ax.plot_surface(x, y, z, cmap=plt.cm.jet, rstride=1, cstride=1, linewidth=0);"
   ]
  },
  {
   "cell_type": "markdown",
   "metadata": {
    "slideshow": {
     "slide_type": "skip"
    }
   },
   "source": [
    "The optimal values, i.e. those that make the if-condition true, have fitness value 0 and can be clearly seen at the bottom of the plot. The further away from the optimal values, the higher elevated the points in the search space."
   ]
  },
  {
   "cell_type": "markdown",
   "metadata": {
    "slideshow": {
     "slide_type": "skip"
    }
   },
   "source": [
    "This distance can serve as our fitness function if we aim to cover the true branch of the program in our example:"
   ]
  },
  {
   "cell_type": "code",
   "execution_count": 17,
   "metadata": {
    "slideshow": {
     "slide_type": "slide"
    }
   },
   "outputs": [],
   "source": [
    "def get_fitness(individual):\n",
    "    x = individual[0]\n",
    "    y = individual[1]\n",
    "    return abs(x - 2 * (y + 1))"
   ]
  },
  {
   "cell_type": "markdown",
   "metadata": {
    "slideshow": {
     "slide_type": "skip"
    }
   },
   "source": [
    "We can now use any local search algorithm we have defined previously, with only one modification: In the prior examples where we applied local search we were always maximising fitness values; now we are minimising, so a hillclimber, for example, should only move to neighbours with _smaller_ fitness values:"
   ]
  },
  {
   "cell_type": "code",
   "execution_count": 18,
   "metadata": {
    "slideshow": {
     "slide_type": "skip"
    }
   },
   "outputs": [],
   "source": [
    "max_steps = 10000\n",
    "fitness_values = []"
   ]
  },
  {
   "cell_type": "markdown",
   "metadata": {
    "slideshow": {
     "slide_type": "skip"
    }
   },
   "source": [
    "Let's use a steepest ascent hillclimber:"
   ]
  },
  {
   "cell_type": "code",
   "execution_count": 19,
   "metadata": {
    "slideshow": {
     "slide_type": "slide"
    }
   },
   "outputs": [],
   "source": [
    "def hillclimbing():\n",
    "    current = get_random_individual()\n",
    "    fitness = get_fitness(current)\n",
    "    best, best_fitness = current[:], fitness\n",
    "    print(f\"Starting at fitness {best_fitness}: {best}\")\n",
    "\n",
    "    step = 0\n",
    "    while step < max_steps and best_fitness > 0:\n",
    "        neighbours = [(x, get_fitness(x)) for x in get_neighbours(current)]\n",
    "        best_neighbour, neighbour_fitness = min(neighbours, key=lambda i: i[1])\n",
    "        step += len(neighbours)        \n",
    "        fitness_values.extend([best_fitness] * len(neighbours))\n",
    "        if neighbour_fitness < fitness:\n",
    "            current = best_neighbour\n",
    "            fitness = neighbour_fitness\n",
    "            if fitness < best_fitness:\n",
    "                best = current[:]\n",
    "                best_fitness = fitness\n",
    "        else:\n",
    "            # Random restart if no neighbour is better\n",
    "            current = get_random_individual()\n",
    "            fitness = get_fitness(current)\n",
    "            step += 1\n",
    "            if fitness < best_fitness:\n",
    "                best = current[:]\n",
    "                best_fitness = fitness\n",
    "            fitness_values.append(best_fitness)\n",
    "\n",
    "\n",
    "    print(f\"Solution fitness after {step} fitness evaluations: {best_fitness}: {best}\")\n",
    "    return best"
   ]
  },
  {
   "cell_type": "code",
   "execution_count": 20,
   "metadata": {
    "slideshow": {
     "slide_type": "subslide"
    }
   },
   "outputs": [
    {
     "name": "stdout",
     "output_type": "stream",
     "text": [
      "Starting at fitness 482: [-964, -242]\n",
      "Solution fitness after 964 fitness evaluations: 0: [-964, -483]\n"
     ]
    },
    {
     "data": {
      "text/plain": [
       "[-964, -483]"
      ]
     },
     "execution_count": 20,
     "metadata": {},
     "output_type": "execute_result"
    }
   ],
   "source": [
    "max_steps = 10000\n",
    "fitness_values = []\n",
    "hillclimbing()"
   ]
  },
  {
   "cell_type": "code",
   "execution_count": 21,
   "metadata": {
    "scrolled": true,
    "slideshow": {
     "slide_type": "fragment"
    }
   },
   "outputs": [
    {
     "data": {
      "text/plain": [
       "[<matplotlib.lines.Line2D at 0x113d49580>]"
      ]
     },
     "execution_count": 21,
     "metadata": {},
     "output_type": "execute_result"
    },
    {
     "data": {
      "image/png": "[encoded data removed]",
      "text/plain": [
       "<Figure size 432x288 with 1 Axes>"
      ]
     },
     "metadata": {
      "needs_background": "light"
     },
     "output_type": "display_data"
    }
   ],
   "source": [
    "plt.plot(fitness_values)"
   ]
  },
  {
   "cell_type": "markdown",
   "metadata": {
    "slideshow": {
     "slide_type": "skip"
    }
   },
   "source": [
    "Since there are no local optima, the hillclimber will easily find the solution, even without restarts. However, this can take a while, in particular if we use a larger input space:"
   ]
  },
  {
   "cell_type": "code",
   "execution_count": 22,
   "metadata": {
    "slideshow": {
     "slide_type": "slide"
    }
   },
   "outputs": [],
   "source": [
    "MAX = 100000\n",
    "MIN = -MAX"
   ]
  },
  {
   "cell_type": "code",
   "execution_count": 23,
   "metadata": {
    "slideshow": {
     "slide_type": "fragment"
    }
   },
   "outputs": [
    {
     "name": "stdout",
     "output_type": "stream",
     "text": [
      "Starting at fitness 224596: [-40916, 91839]\n",
      "Solution fitness after 10000 fitness evaluations: 219596: [-40916, 89339]\n"
     ]
    },
    {
     "data": {
      "text/plain": [
       "[<matplotlib.lines.Line2D at 0x113d5adf0>]"
      ]
     },
     "execution_count": 23,
     "metadata": {},
     "output_type": "execute_result"
    },
    {
     "data": {
      "image/png": "[encoded data removed]",
      "text/plain": [
       "<Figure size 432x288 with 1 Axes>"
      ]
     },
     "metadata": {
      "needs_background": "light"
     },
     "output_type": "display_data"
    }
   ],
   "source": [
    "fitness_values = []\n",
    "hillclimbing()\n",
    "plt.plot(fitness_values)"
   ]
  },
  {
   "cell_type": "markdown",
   "metadata": {
    "slideshow": {
     "slide_type": "skip"
    }
   },
   "source": [
    "Unless the randomly chosen initial point is already close to an optimal solution, the hillclimber is going to be hopeless in moving through the search space within a reasonable number of iterations."
   ]
  },
  {
   "cell_type": "markdown",
   "metadata": {
    "slideshow": {
     "slide_type": "slide"
    }
   },
   "source": [
    "## Alternating Variable Method"
   ]
  },
  {
   "cell_type": "markdown",
   "metadata": {
    "slideshow": {
     "slide_type": "skip"
    }
   },
   "source": [
    "The search problem represented by the `test_me` function has an easy fitness landscape with no local optima. However, it still takes quite long to reach the optimum, depending on where the random starting point lies in the search space. This is because the neighbourhood for real program inputs can be quite large, depending on the number of parameters, and even just the search space for each parameter individually can already be very large. In our example we restricted `MAX` and `MIN` to a very narrow range, but imagine doing this for 32 bit integers. Both these problems are addressed with an adapted version of our hillclimber known as the _Alternating Variable Method_, which differs from the hillclimber in two ways: \n",
    "1. Rather than considering the neighbourhood of all input parameters at once, we apply search to each parameter individually in turn\n",
    "2. Rather than taking only small steps of size 1, we allow larger jumps in the search space."
   ]
  },
  {
   "cell_type": "markdown",
   "metadata": {
    "slideshow": {
     "slide_type": "skip"
    }
   },
   "source": [
    "Let's first consider the second aspect, larger jumps in the search space. The idea is to apply a _pattern_ search where we first decide on a direction in the search space to move, and then apply increasingly larger steps in that direction as long as the fitness improves. We only consider a single parameter, thus the \"direction\" simply refers to whether one increases or decreases this value. The function thus takes (1) the individual on which to perform the search, (2) a particular parameter we are considering, (3) the direction of the search, and (4) the starting fitness values. "
   ]
  },
  {
   "cell_type": "code",
   "execution_count": 24,
   "metadata": {
    "slideshow": {
     "slide_type": "fragment"
    }
   },
   "outputs": [],
   "source": [
    "def pattern_search(individual, parameter, direction, fitness):\n",
    "    print(f\"  {individual}, direction {direction}, fitness {fitness}\")\n",
    "\n",
    "    individual[parameter] = individual[parameter] + direction\n",
    "    new_fitness = get_fitness(individual)\n",
    "    if new_fitness < fitness:\n",
    "        fitness_values.append(new_fitness)\n",
    "        return pattern_search(individual, parameter, 2 * direction, new_fitness)\n",
    "    else:\n",
    "        # If fitness is not better we overshot. Undo last move, and return\n",
    "        fitness_values.append(fitness)\n",
    "        individual[parameter] = individual[parameter] - direction\n",
    "        return fitness"
   ]
  },
  {
   "cell_type": "markdown",
   "metadata": {
    "slideshow": {
     "slide_type": "skip"
    }
   },
   "source": [
    "For example, let's assume `y` is a large value(1000), and `x` is considerably smaller. For our example function, the optimal value for `x` would thus be at 2200. Applying the search to `x` we thus need to move in the positive direction (`1`), and the function will do this with increasing steps until it \"overshoots\"."
   ]
  },
  {
   "cell_type": "code",
   "execution_count": 25,
   "metadata": {
    "slideshow": {
     "slide_type": "slide"
    }
   },
   "outputs": [
    {
     "name": "stdout",
     "output_type": "stream",
     "text": [
      "  [0, 1000], direction 1, fitness 2002\n",
      "  [1, 1000], direction 2, fitness 2001\n",
      "  [3, 1000], direction 4, fitness 1999\n",
      "  [7, 1000], direction 8, fitness 1995\n",
      "  [15, 1000], direction 16, fitness 1987\n",
      "  [31, 1000], direction 32, fitness 1971\n",
      "  [63, 1000], direction 64, fitness 1939\n",
      "  [127, 1000], direction 128, fitness 1875\n",
      "  [255, 1000], direction 256, fitness 1747\n",
      "  [511, 1000], direction 512, fitness 1491\n",
      "  [1023, 1000], direction 1024, fitness 979\n",
      "  [2047, 1000], direction 2048, fitness 45\n"
     ]
    },
    {
     "data": {
      "text/plain": [
       "45"
      ]
     },
     "execution_count": 25,
     "metadata": {},
     "output_type": "execute_result"
    }
   ],
   "source": [
    "x = [0, 1000]\n",
    "f = get_fitness(x)\n",
    "pattern_search(x, 0, 1, get_fitness(x))"
   ]
  },
  {
   "cell_type": "markdown",
   "metadata": {
    "slideshow": {
     "slide_type": "skip"
    }
   },
   "source": [
    "If `x` is larger than `y` we would need to move in the other direction, and the search does this until it undershoots the target of 2200:"
   ]
  },
  {
   "cell_type": "code",
   "execution_count": 26,
   "metadata": {
    "slideshow": {
     "slide_type": "subslide"
    }
   },
   "outputs": [
    {
     "name": "stdout",
     "output_type": "stream",
     "text": [
      "  [10000, 1000], direction -1, fitness 7998\n",
      "  [9999, 1000], direction -2, fitness 7997\n",
      "  [9997, 1000], direction -4, fitness 7995\n",
      "  [9993, 1000], direction -8, fitness 7991\n",
      "  [9985, 1000], direction -16, fitness 7983\n",
      "  [9969, 1000], direction -32, fitness 7967\n",
      "  [9937, 1000], direction -64, fitness 7935\n",
      "  [9873, 1000], direction -128, fitness 7871\n",
      "  [9745, 1000], direction -256, fitness 7743\n",
      "  [9489, 1000], direction -512, fitness 7487\n",
      "  [8977, 1000], direction -1024, fitness 6975\n",
      "  [7953, 1000], direction -2048, fitness 5951\n",
      "  [5905, 1000], direction -4096, fitness 3903\n",
      "  [1809, 1000], direction -8192, fitness 193\n"
     ]
    },
    {
     "data": {
      "text/plain": [
       "193"
      ]
     },
     "execution_count": 26,
     "metadata": {},
     "output_type": "execute_result"
    }
   ],
   "source": [
    "x = [10000, 1000]\n",
    "f = get_fitness(x)\n",
    "pattern_search(x, 0, -1, get_fitness(x))"
   ]
  },
  {
   "cell_type": "markdown",
   "metadata": {
    "slideshow": {
     "slide_type": "skip"
    }
   },
   "source": [
    "The AVM algorithm applies the pattern search as follows:\n",
    "1. Start with the first parameter\n",
    "2. Probe the neighbourhood of the parameter to find the direction of the search\n",
    "3. Apply pattern search in that direction\n",
    "4. Repeat probing + pattern search until no more improvement can be made\n",
    "5. Move to the next parameter, and go to step 2\n",
    "\n",
    "Like a regular hillclimber, the search may get stuck in local optima and needs to use random restarts. The algorithm is stuck if it probed all parameters in sequence and none of the parameters allowed a move that improved fitness."
   ]
  },
  {
   "cell_type": "code",
   "execution_count": 27,
   "metadata": {
    "slideshow": {
     "slide_type": "slide"
    }
   },
   "outputs": [],
   "source": [
    "def probe_and_search(individual, parameter, fitness):\n",
    "    new_parameters = individual[:]\n",
    "    value = new_parameters[parameter]\n",
    "    new_fitness = fitness\n",
    "    # Try +1\n",
    "    new_parameters[parameter] = individual[parameter] + 1\n",
    "    print(f\"Trying +1 at fitness {fitness}: {new_parameters}\")\n",
    "    new_fitness = get_fitness(new_parameters)\n",
    "    if new_fitness < fitness:\n",
    "        fitness_values.append(new_fitness)\n",
    "        new_fitness = pattern_search(new_parameters, parameter, 2, new_fitness)\n",
    "    else:\n",
    "        # Try -1\n",
    "        fitness_values.append(fitness)\n",
    "        new_parameters[parameter] = individual[parameter] - 1\n",
    "        print(f\"Trying -1 at fitness {fitness}: {new_parameters}\")\n",
    "        new_fitness = get_fitness(new_parameters)\n",
    "        if new_fitness < fitness:\n",
    "            fitness_values.append(new_fitness)\n",
    "            new_fitness = pattern_search(new_parameters, parameter, -2, new_fitness)\n",
    "        else:\n",
    "            fitness_values.append(fitness)\n",
    "            new_parameters[parameter] = individual[parameter]\n",
    "            new_fitness = fitness\n",
    "            \n",
    "    return new_parameters, new_fitness"
   ]
  },
  {
   "cell_type": "code",
   "execution_count": 28,
   "metadata": {
    "slideshow": {
     "slide_type": "slide"
    }
   },
   "outputs": [],
   "source": [
    "def avm():\n",
    "    current = get_random_individual()\n",
    "    fitness = get_fitness(current)\n",
    "    best, best_fitness = current[:], fitness\n",
    "    fitness_values.append(best_fitness)    \n",
    "    print(f\"Starting at fitness {best_fitness}: {current}\")\n",
    "\n",
    "    changed = True\n",
    "    while len(fitness_values) < max_steps and best_fitness > 0:\n",
    "        # Random restart\n",
    "        if not changed: \n",
    "            current = get_random_individual()\n",
    "            fitness = get_fitness(current)\n",
    "            fitness_values.append(fitness)\n",
    "        changed = False\n",
    "            \n",
    "        parameter = 0\n",
    "        while parameter < len(current):\n",
    "            print(f\"Current parameter: {parameter}\")\n",
    "            new_parameters, new_fitness = probe_and_search(current, parameter, fitness)\n",
    "            if current != new_parameters:\n",
    "                # Keep on searching\n",
    "                changed = True\n",
    "                current = new_parameters\n",
    "                fitness = new_fitness\n",
    "                if fitness < best_fitness:\n",
    "                    best_fitness = fitness\n",
    "                    best = current[:]\n",
    "            else:\n",
    "                parameter += 1\n",
    "\n",
    "    print(f\"Solution fitness {best_fitness}: {best}\")\n",
    "    return best"
   ]
  },
  {
   "cell_type": "code",
   "execution_count": 29,
   "metadata": {
    "scrolled": true,
    "slideshow": {
     "slide_type": "slide"
    }
   },
   "outputs": [
    {
     "name": "stdout",
     "output_type": "stream",
     "text": [
      "Starting at fitness 157663: [4113, 80887]\n",
      "Current parameter: 0\n",
      "Trying +1 at fitness 157663: [4114, 80887]\n",
      "  [4114, 80887], direction 2, fitness 157662\n",
      "  [4116, 80887], direction 4, fitness 157660\n",
      "  [4120, 80887], direction 8, fitness 157656\n",
      "  [4128, 80887], direction 16, fitness 157648\n",
      "  [4144, 80887], direction 32, fitness 157632\n",
      "  [4176, 80887], direction 64, fitness 157600\n",
      "  [4240, 80887], direction 128, fitness 157536\n",
      "  [4368, 80887], direction 256, fitness 157408\n",
      "  [4624, 80887], direction 512, fitness 157152\n",
      "  [5136, 80887], direction 1024, fitness 156640\n",
      "  [6160, 80887], direction 2048, fitness 155616\n",
      "  [8208, 80887], direction 4096, fitness 153568\n",
      "  [12304, 80887], direction 8192, fitness 149472\n",
      "  [20496, 80887], direction 16384, fitness 141280\n",
      "  [36880, 80887], direction 32768, fitness 124896\n",
      "  [69648, 80887], direction 65536, fitness 92128\n",
      "  [135184, 80887], direction 131072, fitness 26592\n",
      "Current parameter: 0\n",
      "Trying +1 at fitness 26592: [135185, 80887]\n",
      "  [135185, 80887], direction 2, fitness 26591\n",
      "  [135187, 80887], direction 4, fitness 26589\n",
      "  [135191, 80887], direction 8, fitness 26585\n",
      "  [135199, 80887], direction 16, fitness 26577\n",
      "  [135215, 80887], direction 32, fitness 26561\n",
      "  [135247, 80887], direction 64, fitness 26529\n",
      "  [135311, 80887], direction 128, fitness 26465\n",
      "  [135439, 80887], direction 256, fitness 26337\n",
      "  [135695, 80887], direction 512, fitness 26081\n",
      "  [136207, 80887], direction 1024, fitness 25569\n",
      "  [137231, 80887], direction 2048, fitness 24545\n",
      "  [139279, 80887], direction 4096, fitness 22497\n",
      "  [143375, 80887], direction 8192, fitness 18401\n",
      "  [151567, 80887], direction 16384, fitness 10209\n",
      "  [167951, 80887], direction 32768, fitness 6175\n",
      "Current parameter: 0\n",
      "Trying +1 at fitness 6175: [167952, 80887]\n",
      "Trying -1 at fitness 6175: [167950, 80887]\n",
      "  [167950, 80887], direction -2, fitness 6174\n",
      "  [167948, 80887], direction -4, fitness 6172\n",
      "  [167944, 80887], direction -8, fitness 6168\n",
      "  [167936, 80887], direction -16, fitness 6160\n",
      "  [167920, 80887], direction -32, fitness 6144\n",
      "  [167888, 80887], direction -64, fitness 6112\n",
      "  [167824, 80887], direction -128, fitness 6048\n",
      "  [167696, 80887], direction -256, fitness 5920\n",
      "  [167440, 80887], direction -512, fitness 5664\n",
      "  [166928, 80887], direction -1024, fitness 5152\n",
      "  [165904, 80887], direction -2048, fitness 4128\n",
      "  [163856, 80887], direction -4096, fitness 2080\n",
      "  [159760, 80887], direction -8192, fitness 2016\n",
      "Current parameter: 0\n",
      "Trying +1 at fitness 2016: [159761, 80887]\n",
      "  [159761, 80887], direction 2, fitness 2015\n",
      "  [159763, 80887], direction 4, fitness 2013\n",
      "  [159767, 80887], direction 8, fitness 2009\n",
      "  [159775, 80887], direction 16, fitness 2001\n",
      "  [159791, 80887], direction 32, fitness 1985\n",
      "  [159823, 80887], direction 64, fitness 1953\n",
      "  [159887, 80887], direction 128, fitness 1889\n",
      "  [160015, 80887], direction 256, fitness 1761\n",
      "  [160271, 80887], direction 512, fitness 1505\n",
      "  [160783, 80887], direction 1024, fitness 993\n",
      "  [161807, 80887], direction 2048, fitness 31\n",
      "Current parameter: 0\n",
      "Trying +1 at fitness 31: [161808, 80887]\n",
      "Trying -1 at fitness 31: [161806, 80887]\n",
      "  [161806, 80887], direction -2, fitness 30\n",
      "  [161804, 80887], direction -4, fitness 28\n",
      "  [161800, 80887], direction -8, fitness 24\n",
      "  [161792, 80887], direction -16, fitness 16\n",
      "  [161776, 80887], direction -32, fitness 0\n",
      "Current parameter: 0\n",
      "Trying +1 at fitness 0: [161777, 80887]\n",
      "Trying -1 at fitness 0: [161775, 80887]\n",
      "Current parameter: 1\n",
      "Trying +1 at fitness 0: [161776, 80888]\n",
      "Trying -1 at fitness 0: [161776, 80886]\n",
      "Solution fitness 0: [161776, 80887]\n"
     ]
    },
    {
     "data": {
      "text/plain": [
       "[161776, 80887]"
      ]
     },
     "execution_count": 29,
     "metadata": {},
     "output_type": "execute_result"
    }
   ],
   "source": [
    "fitness_values = []\n",
    "avm()"
   ]
  },
  {
   "cell_type": "code",
   "execution_count": 30,
   "metadata": {
    "slideshow": {
     "slide_type": "subslide"
    }
   },
   "outputs": [
    {
     "data": {
      "text/plain": [
       "[<matplotlib.lines.Line2D at 0x113df3d60>]"
      ]
     },
     "execution_count": 30,
     "metadata": {},
     "output_type": "execute_result"
    },
    {
     "data": {
      "image/png": "[encoded data removed]",
      "text/plain": [
       "<Figure size 432x288 with 1 Axes>"
      ]
     },
     "metadata": {
      "needs_background": "light"
     },
     "output_type": "display_data"
    }
   ],
   "source": [
    "plt.plot(fitness_values)"
   ]
  },
  {
   "cell_type": "markdown",
   "metadata": {
    "slideshow": {
     "slide_type": "skip"
    }
   },
   "source": [
    "The pattern search even works efficiently if we increase the size of the search space to 64-bit numbers:"
   ]
  },
  {
   "cell_type": "code",
   "execution_count": 31,
   "metadata": {
    "slideshow": {
     "slide_type": "slide"
    }
   },
   "outputs": [],
   "source": [
    "MAX = 2**32\n",
    "MIN = -MAX"
   ]
  },
  {
   "cell_type": "code",
   "execution_count": 32,
   "metadata": {
    "scrolled": true,
    "slideshow": {
     "slide_type": "fragment"
    }
   },
   "outputs": [
    {
     "name": "stdout",
     "output_type": "stream",
     "text": [
      "Starting at fitness 4828155800: [1588855176, -1619650313]\n",
      "Current parameter: 0\n",
      "Trying +1 at fitness 4828155800: [1588855177, -1619650313]\n",
      "Trying -1 at fitness 4828155800: [1588855175, -1619650313]\n",
      "  [1588855175, -1619650313], direction -2, fitness 4828155799\n",
      "  [1588855173, -1619650313], direction -4, fitness 4828155797\n",
      "  [1588855169, -1619650313], direction -8, fitness 4828155793\n",
      "  [1588855161, -1619650313], direction -16, fitness 4828155785\n",
      "  [1588855145, -1619650313], direction -32, fitness 4828155769\n",
      "  [1588855113, -1619650313], direction -64, fitness 4828155737\n",
      "  [1588855049, -1619650313], direction -128, fitness 4828155673\n",
      "  [1588854921, -1619650313], direction -256, fitness 4828155545\n",
      "  [1588854665, -1619650313], direction -512, fitness 4828155289\n",
      "  [1588854153, -1619650313], direction -1024, fitness 4828154777\n",
      "  [1588853129, -1619650313], direction -2048, fitness 4828153753\n",
      "  [1588851081, -1619650313], direction -4096, fitness 4828151705\n",
      "  [1588846985, -1619650313], direction -8192, fitness 4828147609\n",
      "  [1588838793, -1619650313], direction -16384, fitness 4828139417\n",
      "  [1588822409, -1619650313], direction -32768, fitness 4828123033\n",
      "  [1588789641, -1619650313], direction -65536, fitness 4828090265\n",
      "  [1588724105, -1619650313], direction -131072, fitness 4828024729\n",
      "  [1588593033, -1619650313], direction -262144, fitness 4827893657\n",
      "  [1588330889, -1619650313], direction -524288, fitness 4827631513\n",
      "  [1587806601, -1619650313], direction -1048576, fitness 4827107225\n",
      "  [1586758025, -1619650313], direction -2097152, fitness 4826058649\n",
      "  [1584660873, -1619650313], direction -4194304, fitness 4823961497\n",
      "  [1580466569, -1619650313], direction -8388608, fitness 4819767193\n",
      "  [1572077961, -1619650313], direction -16777216, fitness 4811378585\n",
      "  [1555300745, -1619650313], direction -33554432, fitness 4794601369\n",
      "  [1521746313, -1619650313], direction -67108864, fitness 4761046937\n",
      "  [1454637449, -1619650313], direction -134217728, fitness 4693938073\n",
      "  [1320419721, -1619650313], direction -268435456, fitness 4559720345\n",
      "  [1051984265, -1619650313], direction -536870912, fitness 4291284889\n",
      "  [515113353, -1619650313], direction -1073741824, fitness 3754413977\n",
      "  [-558628471, -1619650313], direction -2147483648, fitness 2680672153\n",
      "  [-2706112119, -1619650313], direction -4294967296, fitness 533188505\n",
      "Current parameter: 0\n",
      "Trying +1 at fitness 533188505: [-2706112118, -1619650313]\n",
      "Trying -1 at fitness 533188505: [-2706112120, -1619650313]\n",
      "  [-2706112120, -1619650313], direction -2, fitness 533188504\n",
      "  [-2706112122, -1619650313], direction -4, fitness 533188502\n",
      "  [-2706112126, -1619650313], direction -8, fitness 533188498\n",
      "  [-2706112134, -1619650313], direction -16, fitness 533188490\n",
      "  [-2706112150, -1619650313], direction -32, fitness 533188474\n",
      "  [-2706112182, -1619650313], direction -64, fitness 533188442\n",
      "  [-2706112246, -1619650313], direction -128, fitness 533188378\n",
      "  [-2706112374, -1619650313], direction -256, fitness 533188250\n",
      "  [-2706112630, -1619650313], direction -512, fitness 533187994\n",
      "  [-2706113142, -1619650313], direction -1024, fitness 533187482\n",
      "  [-2706114166, -1619650313], direction -2048, fitness 533186458\n",
      "  [-2706116214, -1619650313], direction -4096, fitness 533184410\n",
      "  [-2706120310, -1619650313], direction -8192, fitness 533180314\n",
      "  [-2706128502, -1619650313], direction -16384, fitness 533172122\n",
      "  [-2706144886, -1619650313], direction -32768, fitness 533155738\n",
      "  [-2706177654, -1619650313], direction -65536, fitness 533122970\n",
      "  [-2706243190, -1619650313], direction -131072, fitness 533057434\n",
      "  [-2706374262, -1619650313], direction -262144, fitness 532926362\n",
      "  [-2706636406, -1619650313], direction -524288, fitness 532664218\n",
      "  [-2707160694, -1619650313], direction -1048576, fitness 532139930\n",
      "  [-2708209270, -1619650313], direction -2097152, fitness 531091354\n",
      "  [-2710306422, -1619650313], direction -4194304, fitness 528994202\n",
      "  [-2714500726, -1619650313], direction -8388608, fitness 524799898\n",
      "  [-2722889334, -1619650313], direction -16777216, fitness 516411290\n",
      "  [-2739666550, -1619650313], direction -33554432, fitness 499634074\n",
      "  [-2773220982, -1619650313], direction -67108864, fitness 466079642\n",
      "  [-2840329846, -1619650313], direction -134217728, fitness 398970778\n",
      "  [-2974547574, -1619650313], direction -268435456, fitness 264753050\n",
      "  [-3242983030, -1619650313], direction -536870912, fitness 3682406\n",
      "Current parameter: 0\n",
      "Trying +1 at fitness 3682406: [-3242983029, -1619650313]\n",
      "  [-3242983029, -1619650313], direction 2, fitness 3682405\n",
      "  [-3242983027, -1619650313], direction 4, fitness 3682403\n",
      "  [-3242983023, -1619650313], direction 8, fitness 3682399\n",
      "  [-3242983015, -1619650313], direction 16, fitness 3682391\n",
      "  [-3242982999, -1619650313], direction 32, fitness 3682375\n",
      "  [-3242982967, -1619650313], direction 64, fitness 3682343\n",
      "  [-3242982903, -1619650313], direction 128, fitness 3682279\n",
      "  [-3242982775, -1619650313], direction 256, fitness 3682151\n",
      "  [-3242982519, -1619650313], direction 512, fitness 3681895\n",
      "  [-3242982007, -1619650313], direction 1024, fitness 3681383\n",
      "  [-3242980983, -1619650313], direction 2048, fitness 3680359\n",
      "  [-3242978935, -1619650313], direction 4096, fitness 3678311\n",
      "  [-3242974839, -1619650313], direction 8192, fitness 3674215\n",
      "  [-3242966647, -1619650313], direction 16384, fitness 3666023\n",
      "  [-3242950263, -1619650313], direction 32768, fitness 3649639\n",
      "  [-3242917495, -1619650313], direction 65536, fitness 3616871\n",
      "  [-3242851959, -1619650313], direction 131072, fitness 3551335\n",
      "  [-3242720887, -1619650313], direction 262144, fitness 3420263\n",
      "  [-3242458743, -1619650313], direction 524288, fitness 3158119\n",
      "  [-3241934455, -1619650313], direction 1048576, fitness 2633831\n",
      "  [-3240885879, -1619650313], direction 2097152, fitness 1585255\n",
      "  [-3238788727, -1619650313], direction 4194304, fitness 511897\n",
      "Current parameter: 0\n",
      "Trying +1 at fitness 511897: [-3238788726, -1619650313]\n",
      "Trying -1 at fitness 511897: [-3238788728, -1619650313]\n",
      "  [-3238788728, -1619650313], direction -2, fitness 511896\n",
      "  [-3238788730, -1619650313], direction -4, fitness 511894\n",
      "  [-3238788734, -1619650313], direction -8, fitness 511890\n",
      "  [-3238788742, -1619650313], direction -16, fitness 511882\n",
      "  [-3238788758, -1619650313], direction -32, fitness 511866\n",
      "  [-3238788790, -1619650313], direction -64, fitness 511834\n",
      "  [-3238788854, -1619650313], direction -128, fitness 511770\n",
      "  [-3238788982, -1619650313], direction -256, fitness 511642\n",
      "  [-3238789238, -1619650313], direction -512, fitness 511386\n",
      "  [-3238789750, -1619650313], direction -1024, fitness 510874\n",
      "  [-3238790774, -1619650313], direction -2048, fitness 509850\n",
      "  [-3238792822, -1619650313], direction -4096, fitness 507802\n",
      "  [-3238796918, -1619650313], direction -8192, fitness 503706\n",
      "  [-3238805110, -1619650313], direction -16384, fitness 495514\n",
      "  [-3238821494, -1619650313], direction -32768, fitness 479130\n",
      "  [-3238854262, -1619650313], direction -65536, fitness 446362\n",
      "  [-3238919798, -1619650313], direction -131072, fitness 380826\n",
      "  [-3239050870, -1619650313], direction -262144, fitness 249754\n",
      "  [-3239313014, -1619650313], direction -524288, fitness 12390\n",
      "Current parameter: 0\n",
      "Trying +1 at fitness 12390: [-3239313013, -1619650313]\n",
      "  [-3239313013, -1619650313], direction 2, fitness 12389\n",
      "  [-3239313011, -1619650313], direction 4, fitness 12387\n",
      "  [-3239313007, -1619650313], direction 8, fitness 12383\n",
      "  [-3239312999, -1619650313], direction 16, fitness 12375\n",
      "  [-3239312983, -1619650313], direction 32, fitness 12359\n",
      "  [-3239312951, -1619650313], direction 64, fitness 12327\n",
      "  [-3239312887, -1619650313], direction 128, fitness 12263\n",
      "  [-3239312759, -1619650313], direction 256, fitness 12135\n",
      "  [-3239312503, -1619650313], direction 512, fitness 11879\n",
      "  [-3239311991, -1619650313], direction 1024, fitness 11367\n",
      "  [-3239310967, -1619650313], direction 2048, fitness 10343\n",
      "  [-3239308919, -1619650313], direction 4096, fitness 8295\n",
      "  [-3239304823, -1619650313], direction 8192, fitness 4199\n",
      "  [-3239296631, -1619650313], direction 16384, fitness 3993\n",
      "Current parameter: 0\n",
      "Trying +1 at fitness 3993: [-3239296630, -1619650313]\n",
      "Trying -1 at fitness 3993: [-3239296632, -1619650313]\n",
      "  [-3239296632, -1619650313], direction -2, fitness 3992\n",
      "  [-3239296634, -1619650313], direction -4, fitness 3990\n",
      "  [-3239296638, -1619650313], direction -8, fitness 3986\n",
      "  [-3239296646, -1619650313], direction -16, fitness 3978\n",
      "  [-3239296662, -1619650313], direction -32, fitness 3962\n",
      "  [-3239296694, -1619650313], direction -64, fitness 3930\n",
      "  [-3239296758, -1619650313], direction -128, fitness 3866\n",
      "  [-3239296886, -1619650313], direction -256, fitness 3738\n",
      "  [-3239297142, -1619650313], direction -512, fitness 3482\n",
      "  [-3239297654, -1619650313], direction -1024, fitness 2970\n",
      "  [-3239298678, -1619650313], direction -2048, fitness 1946\n",
      "  [-3239300726, -1619650313], direction -4096, fitness 102\n",
      "Current parameter: 0\n",
      "Trying +1 at fitness 102: [-3239300725, -1619650313]\n",
      "  [-3239300725, -1619650313], direction 2, fitness 101\n",
      "  [-3239300723, -1619650313], direction 4, fitness 99\n",
      "  [-3239300719, -1619650313], direction 8, fitness 95\n",
      "  [-3239300711, -1619650313], direction 16, fitness 87\n",
      "  [-3239300695, -1619650313], direction 32, fitness 71\n",
      "  [-3239300663, -1619650313], direction 64, fitness 39\n",
      "  [-3239300599, -1619650313], direction 128, fitness 25\n",
      "Current parameter: 0\n",
      "Trying +1 at fitness 25: [-3239300598, -1619650313]\n",
      "Trying -1 at fitness 25: [-3239300600, -1619650313]\n",
      "  [-3239300600, -1619650313], direction -2, fitness 24\n",
      "  [-3239300602, -1619650313], direction -4, fitness 22\n",
      "  [-3239300606, -1619650313], direction -8, fitness 18\n",
      "  [-3239300614, -1619650313], direction -16, fitness 10\n",
      "  [-3239300630, -1619650313], direction -32, fitness 6\n",
      "Current parameter: 0\n",
      "Trying +1 at fitness 6: [-3239300629, -1619650313]\n",
      "  [-3239300629, -1619650313], direction 2, fitness 5\n",
      "  [-3239300627, -1619650313], direction 4, fitness 3\n",
      "  [-3239300623, -1619650313], direction 8, fitness 1\n",
      "Current parameter: 0\n",
      "Trying +1 at fitness 1: [-3239300622, -1619650313]\n",
      "Trying -1 at fitness 1: [-3239300624, -1619650313]\n",
      "  [-3239300624, -1619650313], direction -2, fitness 0\n",
      "Current parameter: 0\n",
      "Trying +1 at fitness 0: [-3239300623, -1619650313]\n",
      "Trying -1 at fitness 0: [-3239300625, -1619650313]\n",
      "Current parameter: 1\n",
      "Trying +1 at fitness 0: [-3239300624, -1619650312]\n",
      "Trying -1 at fitness 0: [-3239300624, -1619650314]\n",
      "Solution fitness 0: [-3239300624, -1619650313]\n"
     ]
    },
    {
     "data": {
      "text/plain": [
       "[-3239300624, -1619650313]"
      ]
     },
     "execution_count": 32,
     "metadata": {},
     "output_type": "execute_result"
    }
   ],
   "source": [
    "fitness_values = []\n",
    "avm()"
   ]
  },
  {
   "cell_type": "code",
   "execution_count": 33,
   "metadata": {
    "slideshow": {
     "slide_type": "subslide"
    }
   },
   "outputs": [
    {
     "data": {
      "text/plain": [
       "[<matplotlib.lines.Line2D at 0x113e51b80>]"
      ]
     },
     "execution_count": 33,
     "metadata": {},
     "output_type": "execute_result"
    },
    {
     "data": {
      "image/png": "[encoded data removed]",
      "text/plain": [
       "<Figure size 432x288 with 1 Axes>"
      ]
     },
     "metadata": {
      "needs_background": "light"
     },
     "output_type": "display_data"
    }
   ],
   "source": [
    "plt.plot(fitness_values)"
   ]
  },
  {
   "cell_type": "markdown",
   "metadata": {
    "slideshow": {
     "slide_type": "slide"
    }
   },
   "source": [
    "## Program Instrumentation"
   ]
  },
  {
   "cell_type": "markdown",
   "metadata": {
    "slideshow": {
     "slide_type": "skip"
    }
   },
   "source": [
    "Deriving fitness functions is not quite so easy. Of course we could come up with an equation that captures the relation between the sides of the triangle, but then essentially we would need to reproduce the entire program logic again in a function, which certainly does not help generalising to other programs. For example, consider how the fitness function would look like if the comparison was not made on the input parameters, but on values derived through computation within the function under test. Ideally, what we would want is to be able to pick a point in the program and come up with a fitness function automatically that describes how close we are to reaching this point."
   ]
  },
  {
   "cell_type": "markdown",
   "metadata": {
    "slideshow": {
     "slide_type": "skip"
    }
   },
   "source": [
    "There are two central ideas in order to achieve this:\n",
    "\n",
    "- First, rather than trying to guess how close a program inputs gets to a target statement, we simply _run_ the program with the input and observe how close it actually gets.\n",
    "\n",
    "- Second, during the execution we keep track of distance estimates like the one we calculated for the `test_me` function whenever we come across conditional statements."
   ]
  },
  {
   "cell_type": "markdown",
   "metadata": {
    "slideshow": {
     "slide_type": "skip"
    }
   },
   "source": [
    "In order to observe what an execution does, we need to *instrument* the program: We add new code immediately before or after the branching condition to keep track of the values observed and calculate the distance using these values."
   ]
  },
  {
   "cell_type": "markdown",
   "metadata": {
    "slideshow": {
     "slide_type": "skip"
    }
   },
   "source": [
    "Let's first consider what is done here conceptually. We first define a global variable in which we will store the distance, so that we can access it after the execution:"
   ]
  },
  {
   "cell_type": "code",
   "execution_count": 34,
   "metadata": {
    "slideshow": {
     "slide_type": "slide"
    }
   },
   "outputs": [],
   "source": [
    "distance = 0"
   ]
  },
  {
   "cell_type": "markdown",
   "metadata": {
    "slideshow": {
     "slide_type": "skip"
    }
   },
   "source": [
    "Now the instrumented version just has to update the global variable immediately before executing the branching condition:"
   ]
  },
  {
   "cell_type": "code",
   "execution_count": 35,
   "metadata": {
    "slideshow": {
     "slide_type": "fragment"
    }
   },
   "outputs": [],
   "source": [
    "def test_me_instrumented(x, y):\n",
    "    global distance\n",
    "    distance = abs(x - 2 * (y + 1))\n",
    "    if x == 2 * (y + 1):\n",
    "        return True\n",
    "    else:\n",
    "        return False"
   ]
  },
  {
   "cell_type": "markdown",
   "metadata": {
    "slideshow": {
     "slide_type": "skip"
    }
   },
   "source": [
    "Let's try this out for a couple of example values:"
   ]
  },
  {
   "cell_type": "code",
   "execution_count": 36,
   "metadata": {
    "slideshow": {
     "slide_type": "fragment"
    }
   },
   "outputs": [
    {
     "data": {
      "text/plain": [
       "2"
      ]
     },
     "execution_count": 36,
     "metadata": {},
     "output_type": "execute_result"
    }
   ],
   "source": [
    "test_me_instrumented(0, 0)\n",
    "distance"
   ]
  },
  {
   "cell_type": "code",
   "execution_count": 37,
   "metadata": {
    "slideshow": {
     "slide_type": "skip"
    }
   },
   "outputs": [
    {
     "data": {
      "text/plain": [
       "0"
      ]
     },
     "execution_count": 37,
     "metadata": {},
     "output_type": "execute_result"
    }
   ],
   "source": [
    "test_me_instrumented(22, 10)\n",
    "distance"
   ]
  },
  {
   "cell_type": "markdown",
   "metadata": {
    "slideshow": {
     "slide_type": "skip"
    }
   },
   "source": [
    "Using this instrumented version of `test_me()`, we can define a fitness function which simply calculates the distance for the condition being true:"
   ]
  },
  {
   "cell_type": "code",
   "execution_count": 38,
   "metadata": {
    "slideshow": {
     "slide_type": "fragment"
    }
   },
   "outputs": [],
   "source": [
    "def get_fitness(individual):\n",
    "    global distance\n",
    "    test_me_instrumented(*individual)\n",
    "    fitness = distance\n",
    "    return fitness"
   ]
  },
  {
   "cell_type": "markdown",
   "metadata": {
    "slideshow": {
     "slide_type": "skip"
    }
   },
   "source": [
    "Let's try this on some example inputs:"
   ]
  },
  {
   "cell_type": "code",
   "execution_count": 39,
   "metadata": {
    "slideshow": {
     "slide_type": "fragment"
    }
   },
   "outputs": [
    {
     "data": {
      "text/plain": [
       "2"
      ]
     },
     "execution_count": 39,
     "metadata": {},
     "output_type": "execute_result"
    }
   ],
   "source": [
    "get_fitness([0, 0])"
   ]
  },
  {
   "cell_type": "markdown",
   "metadata": {
    "slideshow": {
     "slide_type": "skip"
    }
   },
   "source": [
    "When we have reached the target branch, the distance will be 0:"
   ]
  },
  {
   "cell_type": "code",
   "execution_count": 40,
   "metadata": {
    "slideshow": {
     "slide_type": "fragment"
    }
   },
   "outputs": [
    {
     "data": {
      "text/plain": [
       "0"
      ]
     },
     "execution_count": 40,
     "metadata": {},
     "output_type": "execute_result"
    }
   ],
   "source": [
    "get_fitness([22, 10])"
   ]
  },
  {
   "cell_type": "markdown",
   "metadata": {
    "slideshow": {
     "slide_type": "skip"
    }
   },
   "source": [
    "When implementing the instrumentation, we need to consider that the branching condition may have side-effects. For example, suppose that the branching condition were `x == 2 * foo(y)`, where `foo()` is a function that takes an integer as input. Naively instrumenting would lead to the following code:\n",
    "\n",
    "```\n",
    "    distance = abs(x - 2 * foo(y))\n",
    "\tif x == 2 * foo(y):\n",
    "\t...\n",
    "```"
   ]
  },
  {
   "cell_type": "markdown",
   "metadata": {
    "slideshow": {
     "slide_type": "skip"
    }
   },
   "source": [
    "Thus, the instrumentation would lead to `foo()` being executed *twice*. Suppose `foo()` changes the state of the system (e.g., by printing something, accessing the file system, changing some state variables, etc.), then clearly invoking `foo()` a second time is a bad idea. One way to overcome this problem is to _transform_ the conditions, rather than _adding_ tracing calls. For example, one can create temporary variables that hold the values necessary for the distance calculation and then use these in the branching condition:\n",
    "\n",
    "```\n",
    "\ttmp1 = x\n",
    "\ttmp2 = 2 * foo(y)\n",
    "\tdistance = compute_distance(tmp1, tmp2)\n",
    "\tif tmp1 == tmp2:\n",
    "\t...\n",
    "```"
   ]
  },
  {
   "cell_type": "code",
   "execution_count": 41,
   "metadata": {
    "slideshow": {
     "slide_type": "slide"
    }
   },
   "outputs": [],
   "source": [
    "def evaluate_equals(op1, op2):\n",
    "    global distance\n",
    "    distance = abs(op1 - op2)\n",
    "    if distance == 0:\n",
    "        return True\n",
    "    else:\n",
    "        return False;"
   ]
  },
  {
   "cell_type": "markdown",
   "metadata": {
    "slideshow": {
     "slide_type": "skip"
    }
   },
   "source": [
    "Now the aim would be to transform the program automatically such that it looks like so:"
   ]
  },
  {
   "cell_type": "code",
   "execution_count": 42,
   "metadata": {
    "slideshow": {
     "slide_type": "fragment"
    }
   },
   "outputs": [],
   "source": [
    "def test_me_instrumented(x, y):\n",
    "    tmp1 = x\n",
    "    tmp2 = 2 * (y + 1)    \n",
    "    if evaluate_equals(tmp1, tmp2):\n",
    "        return True\n",
    "    else:\n",
    "        return False"
   ]
  },
  {
   "cell_type": "markdown",
   "metadata": {
    "slideshow": {
     "slide_type": "skip"
    }
   },
   "source": [
    "Replacing comparisons automatically is actually quite easy in Python, using the abstract syntax tree (AST) of the program. In the AST, a comparison will typically be a tree node with an operator attribute and two children for the left-hand and right-hand operators. To replace such comparisons with a call to `calculate_distance()` one simply needs to replace the comparison node in the AST with a function call node, and this is what the `BranchTransformer` class does using a NodeTransformer from Python's `ast` module:"
   ]
  },
  {
   "cell_type": "code",
   "execution_count": 43,
   "metadata": {
    "slideshow": {
     "slide_type": "skip"
    }
   },
   "outputs": [],
   "source": [
    "import ast"
   ]
  },
  {
   "cell_type": "code",
   "execution_count": 44,
   "metadata": {
    "slideshow": {
     "slide_type": "slide"
    }
   },
   "outputs": [],
   "source": [
    "class BranchTransformer(ast.NodeTransformer):\n",
    "\n",
    "    def visit_FunctionDef(self, node):\n",
    "        node.name = node.name + \"_instrumented\"\n",
    "        return self.generic_visit(node)\n",
    "\n",
    "    def visit_Compare(self, node):\n",
    "        if not isinstance(node.ops[0], ast.Eq):\n",
    "            return node\n",
    "\n",
    "        return ast.Call(func=ast.Name(\"evaluate_equals\", ast.Load()),\n",
    "                        args=[node.left,\n",
    "                              node.comparators[0]],\n",
    "                        keywords=[],\n",
    "                        starargs=None,\n",
    "                        kwargs=None)"
   ]
  },
  {
   "cell_type": "markdown",
   "metadata": {
    "slideshow": {
     "slide_type": "skip"
    }
   },
   "source": [
    "The `BranchTransformer` parses a target Python program using the built-in parser `ast.parse()`, which returns the AST. Python provides an API to traverse and modify this AST. To replace the comparison with a function call we use an `ast.NodeTransformer`, which uses the visitor pattern where there is one `visit_*` function for each type of node in the AST. As we are interested in replacing comparisons, we override `visit_Compare`, where instead of the original comparison node we return a new node of type `ast.Func`, which is a function call node. The first parameter of this node is the name of the function `calculate_distance`, and the arguments are the two operands that our `calculate_distance` function expects.\n",
    "\n",
    "You will notice that we also override `visit_FunctionDef`; this is just to change the name of the method by appending `_instrumented`, so that we can continue to use the original function together with the instrumented one."
   ]
  },
  {
   "cell_type": "markdown",
   "metadata": {
    "slideshow": {
     "slide_type": "skip"
    }
   },
   "source": [
    "The following code parses the source code of the `test_me()` function to an AST, then transforms it, and prints it out again (using the `to_source()` function from the `astor` library):"
   ]
  },
  {
   "cell_type": "code",
   "execution_count": 45,
   "metadata": {
    "slideshow": {
     "slide_type": "skip"
    }
   },
   "outputs": [],
   "source": [
    "import inspect\n",
    "import ast\n",
    "import astor"
   ]
  },
  {
   "cell_type": "code",
   "execution_count": 46,
   "metadata": {
    "slideshow": {
     "slide_type": "subslide"
    }
   },
   "outputs": [
    {
     "name": "stdout",
     "output_type": "stream",
     "text": [
      "def test_me_instrumented(x, y):\n",
      "    if evaluate_equals(x, 2 * (y + 1)):\n",
      "        return True\n",
      "    else:\n",
      "        return False\n",
      "\n"
     ]
    }
   ],
   "source": [
    "source = inspect.getsource(test_me)\n",
    "node = ast.parse(source)\n",
    "BranchTransformer().visit(node)\n",
    "\n",
    "# Make sure the line numbers are ok before printing\n",
    "node = ast.fix_missing_locations(node)\n",
    "print(astor.to_source(node))"
   ]
  },
  {
   "cell_type": "markdown",
   "metadata": {
    "slideshow": {
     "slide_type": "skip"
    }
   },
   "source": [
    "To calculate a fitness value with the instrumented version, we need to compile the instrumented AST again, which is done using Python's `compile()` function. We then need to make the compiled function accessible, for which we first retrieve the current module from `sys.modules`, and then add the compiled code of the instrumented function to the list of functions of the current module using `exec`. After this, the `cgi_decode_instrumented()` function can be accessed."
   ]
  },
  {
   "cell_type": "code",
   "execution_count": 47,
   "metadata": {
    "slideshow": {
     "slide_type": "skip"
    }
   },
   "outputs": [],
   "source": [
    "import sys"
   ]
  },
  {
   "cell_type": "code",
   "execution_count": 48,
   "metadata": {
    "slideshow": {
     "slide_type": "slide"
    }
   },
   "outputs": [],
   "source": [
    "def create_instrumented_function(f):\n",
    "    source = inspect.getsource(f)\n",
    "    node = ast.parse(source)\n",
    "    node = BranchTransformer().visit(node)\n",
    "\n",
    "    # Make sure the line numbers are ok so that it compiles\n",
    "    node = ast.fix_missing_locations(node)\n",
    "\n",
    "    # Compile and add the instrumented function to the current module\n",
    "    current_module = sys.modules[__name__]\n",
    "    code = compile(node, filename=\"<ast>\", mode=\"exec\")\n",
    "    exec(code, current_module.__dict__)"
   ]
  },
  {
   "cell_type": "code",
   "execution_count": 49,
   "metadata": {
    "slideshow": {
     "slide_type": "subslide"
    }
   },
   "outputs": [],
   "source": [
    "create_instrumented_function(test_me)"
   ]
  },
  {
   "cell_type": "code",
   "execution_count": 50,
   "metadata": {
    "slideshow": {
     "slide_type": "fragment"
    }
   },
   "outputs": [
    {
     "data": {
      "text/plain": [
       "False"
      ]
     },
     "execution_count": 50,
     "metadata": {},
     "output_type": "execute_result"
    }
   ],
   "source": [
    "test_me_instrumented(0, 0)"
   ]
  },
  {
   "cell_type": "code",
   "execution_count": 51,
   "metadata": {
    "slideshow": {
     "slide_type": "fragment"
    }
   },
   "outputs": [
    {
     "data": {
      "text/plain": [
       "2"
      ]
     },
     "execution_count": 51,
     "metadata": {},
     "output_type": "execute_result"
    }
   ],
   "source": [
    "distance"
   ]
  },
  {
   "cell_type": "code",
   "execution_count": 52,
   "metadata": {
    "slideshow": {
     "slide_type": "fragment"
    }
   },
   "outputs": [
    {
     "data": {
      "text/plain": [
       "True"
      ]
     },
     "execution_count": 52,
     "metadata": {},
     "output_type": "execute_result"
    }
   ],
   "source": [
    "test_me_instrumented(22, 10)"
   ]
  },
  {
   "cell_type": "code",
   "execution_count": 53,
   "metadata": {
    "slideshow": {
     "slide_type": "fragment"
    }
   },
   "outputs": [
    {
     "data": {
      "text/plain": [
       "0"
      ]
     },
     "execution_count": 53,
     "metadata": {},
     "output_type": "execute_result"
    }
   ],
   "source": [
    "distance"
   ]
  },
  {
   "cell_type": "markdown",
   "metadata": {
    "slideshow": {
     "slide_type": "skip"
    }
   },
   "source": [
    "The estimate for any relational comparison of two values is defined in terms of the _branch distance_. Our `evaluate_equals` function indeed implements the branch distance function for an equality comparison. To generalise this we need similar estimates for other types of relational comparisons. Furthermore, we also have to consider the distance to such conditions evaluating to false, not just to true. Thus, each if-condition actually has two distance estimates, one to estimate how close it is to being true, and one how close it is to being false. If the condition is true, then the true distance is 0; if the condition is false, then the false distance is 0. That is, in a comparison `a == b`, if `a` is smaller than `b`, then the false distance is `0` by definition. \n",
    "\n",
    "The following table shows how to calculate the distance for different types of comparisons:\n",
    "\n",
    "| Condition | Distance True | Distance False |\n",
    "| ------------- |:-------------:| -----:|\n",
    "| a == b      | abs(a - b) | 1 |\n",
    "| a != b      | 1          | abs(a - b) |\n",
    "| a < b       | b - a + 1  | a - b      |\n",
    "| a <= b      | b - a      | a - b + 1  |\n",
    "| a > b       | a - b + 1  | b - a      |\n",
    "\n",
    "\n",
    "Note that several of the calculations add a constant `1`. The reason for this is quite simple: Suppose we want to have `a < b` evaluate to true, and let `a = 27` and `b = 27`. The condition is not true, but simply taking the difference would give us a result of `0`. To avoid this, we have to add a constant value. It is not important whether this value is `1` -- any positive constant works."
   ]
  },
  {
   "cell_type": "markdown",
   "metadata": {
    "slideshow": {
     "slide_type": "skip"
    }
   },
   "source": [
    "We generalise our `evaluate_equals` function to an `evaluate_condition` function that takes the operator as an additional parameter, and then implements the above table. In contrast to the previous `calculate_equals`, we will now calculate both, the true and the false distance:"
   ]
  },
  {
   "cell_type": "code",
   "execution_count": 54,
   "metadata": {
    "slideshow": {
     "slide_type": "slide"
    }
   },
   "outputs": [],
   "source": [
    "def evaluate_condition(op, lhs, rhs):\n",
    "    distance_true = 0\n",
    "    distance_false = 0\n",
    "    if op == \"Eq\":\n",
    "        if lhs == rhs:\n",
    "            distance_false = 1\n",
    "        else:\n",
    "            distance_true = abs(lhs - rhs)\n",
    "\n",
    "    # ... code for other types of conditions\n",
    "\n",
    "    if distance_true == 0:\n",
    "        return True\n",
    "    else:\n",
    "        return False"
   ]
  },
  {
   "cell_type": "markdown",
   "metadata": {
    "slideshow": {
     "slide_type": "skip"
    }
   },
   "source": [
    "Let's consider a slightly larger function under test. We will use the well known triangle example, originating in Glenford Meyer's classical Art of Software Testing book "
   ]
  },
  {
   "cell_type": "code",
   "execution_count": 55,
   "metadata": {
    "slideshow": {
     "slide_type": "slide"
    }
   },
   "outputs": [],
   "source": [
    "def triangle(a, b, c):\n",
    "    if a <= 0 or b <= 0 or c <= 0:\n",
    "        return 4 # invalid\n",
    "    \n",
    "    if a + b <= c or a + c <= b or b + c <= a:\n",
    "        return 4 # invalid\n",
    "    \n",
    "    if a == b and b == c:\n",
    "        return 1 # equilateral\n",
    "    \n",
    "    if a == b or b == c or a == c:\n",
    "        return 2 # isosceles\n",
    "    \n",
    "    return 3 # scalene"
   ]
  },
  {
   "cell_type": "markdown",
   "metadata": {
    "slideshow": {
     "slide_type": "skip"
    }
   },
   "source": [
    "The function takes as input the length of the three sides of a triangle, and returns a number representing the type of triangle:"
   ]
  },
  {
   "cell_type": "code",
   "execution_count": 56,
   "metadata": {
    "slideshow": {
     "slide_type": "skip"
    }
   },
   "outputs": [
    {
     "data": {
      "text/plain": [
       "1"
      ]
     },
     "execution_count": 56,
     "metadata": {},
     "output_type": "execute_result"
    }
   ],
   "source": [
    "triangle(4,4,4)"
   ]
  },
  {
   "cell_type": "markdown",
   "metadata": {
    "slideshow": {
     "slide_type": "skip"
    }
   },
   "source": [
    "Adapting our representation is easy, we just need to correctly set the number of parameters:"
   ]
  },
  {
   "cell_type": "code",
   "execution_count": 57,
   "metadata": {
    "slideshow": {
     "slide_type": "fragment"
    }
   },
   "outputs": [
    {
     "data": {
      "text/plain": [
       "3"
      ]
     },
     "execution_count": 57,
     "metadata": {},
     "output_type": "execute_result"
    }
   ],
   "source": [
    "sig = signature(triangle)\n",
    "num_parameters = len(sig.parameters)\n",
    "num_parameters"
   ]
  },
  {
   "cell_type": "markdown",
   "metadata": {
    "slideshow": {
     "slide_type": "skip"
    }
   },
   "source": [
    "For the `triangle` function, however, we have multiple if-conditions; we have to add instrumentation to each of these using `evaluate_condition`. We also need to generalise from our global `distance` variable, since we now have two distance values per branch, and potentially multiple branches. Furthermore, a condition might be executed multiple times within a single execution (e.g., if it is in a loop), so rather than storing all values, we will only keep the _minimum_ value observed for each condition:"
   ]
  },
  {
   "cell_type": "code",
   "execution_count": 58,
   "metadata": {
    "slideshow": {
     "slide_type": "slide"
    }
   },
   "outputs": [],
   "source": [
    "distances_true = {}\n",
    "distances_false = {}"
   ]
  },
  {
   "cell_type": "code",
   "execution_count": 59,
   "metadata": {
    "slideshow": {
     "slide_type": "fragment"
    }
   },
   "outputs": [],
   "source": [
    "def update_maps(condition_num, d_true, d_false):\n",
    "    global distances_true, distances_false\n",
    "\n",
    "    if condition_num in distances_true.keys():\n",
    "        distances_true[condition_num] = min(distances_true[condition_num], d_true)\n",
    "    else:\n",
    "        distances_true[condition_num] = d_true\n",
    "\n",
    "    if condition_num in distances_false.keys():\n",
    "        distances_false[condition_num] = min(distances_false[condition_num], d_false)\n",
    "    else:\n",
    "        distances_false[condition_num] = d_false"
   ]
  },
  {
   "cell_type": "markdown",
   "metadata": {
    "slideshow": {
     "slide_type": "skip"
    }
   },
   "source": [
    "Now we need to finish implementing the `evaluate_condition` function. We add yet another parameter to denote the ID of the branch we are instrumenting:"
   ]
  },
  {
   "cell_type": "code",
   "execution_count": 60,
   "metadata": {
    "slideshow": {
     "slide_type": "slide"
    }
   },
   "outputs": [],
   "source": [
    "def evaluate_condition(num, op, lhs, rhs):\n",
    "    distance_true = 0\n",
    "    distance_false = 0\n",
    "\n",
    "    # Make sure the distance can be calculated on number and character\n",
    "    # comparisons (needed for cgi_decode later)\n",
    "    if isinstance(lhs, str):\n",
    "        lhs = ord(lhs)\n",
    "    if isinstance(rhs, str):\n",
    "        rhs = ord(rhs)\n",
    "\n",
    "    if op == \"Eq\":\n",
    "        if lhs == rhs:\n",
    "            distance_false = 1\n",
    "        else:\n",
    "            distance_true = abs(lhs - rhs)\n",
    "\n",
    "    elif op == \"Gt\":\n",
    "        if lhs > rhs:\n",
    "            distance_false = lhs - rhs\n",
    "        else:\n",
    "            distance_true = rhs - lhs + 1\n",
    "    elif op == \"Lt\":\n",
    "        if lhs < rhs:\n",
    "            distance_false = rhs - lhs\n",
    "        else:\n",
    "            distance_true = lhs - rhs + 1\n",
    "    elif op == \"LtE\":\n",
    "        if lhs <= rhs:\n",
    "            distance_false = rhs - lhs + 1\n",
    "        else:\n",
    "            distance_true = lhs - rhs\n",
    "    # ...\n",
    "    # handle other comparison operators\n",
    "    # ...\n",
    "\n",
    "    elif op == \"In\":\n",
    "        minimum = sys.maxsize\n",
    "        for elem in rhs.keys():\n",
    "            distance = abs(lhs - ord(elem))\n",
    "            if distance < minimum:\n",
    "                minimum = distance\n",
    "\n",
    "        distance_true = minimum\n",
    "        if distance_true == 0:\n",
    "            distance_false = 1\n",
    "    else:\n",
    "        assert False\n",
    "\n",
    "    update_maps(num, normalise(distance_true), normalise(distance_false))\n",
    "\n",
    "    if distance_true == 0:\n",
    "        return True\n",
    "    else:\n",
    "        return False"
   ]
  },
  {
   "cell_type": "markdown",
   "metadata": {
    "slideshow": {
     "slide_type": "skip"
    }
   },
   "source": [
    "We need to normalise branch distances since different comparisons will be on different scales, and this would bias the search. We will use the normalisaction function defined in the previous chapter:"
   ]
  },
  {
   "cell_type": "code",
   "execution_count": 61,
   "metadata": {
    "slideshow": {
     "slide_type": "subslide"
    }
   },
   "outputs": [],
   "source": [
    "def normalise(x):\n",
    "    return x / (1.0 + x)"
   ]
  },
  {
   "cell_type": "markdown",
   "metadata": {
    "slideshow": {
     "slide_type": "skip"
    }
   },
   "source": [
    "We also need to extend our instrumentation function to take care of all comparisons, and not just equality comparisons:"
   ]
  },
  {
   "cell_type": "code",
   "execution_count": 62,
   "metadata": {
    "slideshow": {
     "slide_type": "slide"
    }
   },
   "outputs": [],
   "source": [
    "import ast\n",
    "class BranchTransformer(ast.NodeTransformer):\n",
    "\n",
    "    branch_num = 0\n",
    "\n",
    "    def visit_FunctionDef(self, node):\n",
    "        node.name = node.name + \"_instrumented\"\n",
    "        return self.generic_visit(node)\n",
    "\n",
    "    def visit_Compare(self, node):\n",
    "        if node.ops[0] in [ast.Is, ast.IsNot, ast.In, ast.NotIn]:\n",
    "            return node\n",
    "\n",
    "        self.branch_num += 1\n",
    "        return ast.Call(func=ast.Name(\"evaluate_condition\", ast.Load()),\n",
    "                        args=[ast.Num(self.branch_num - 1),\n",
    "                              ast.Str(node.ops[0].__class__.__name__),\n",
    "                              node.left,\n",
    "                              node.comparators[0]],\n",
    "                        keywords=[],\n",
    "                        starargs=None,\n",
    "                        kwargs=None)"
   ]
  },
  {
   "cell_type": "markdown",
   "metadata": {
    "slideshow": {
     "slide_type": "skip"
    }
   },
   "source": [
    "We can now take a look at the instrumented version of `triangle`:"
   ]
  },
  {
   "cell_type": "code",
   "execution_count": 63,
   "metadata": {
    "slideshow": {
     "slide_type": "slide"
    }
   },
   "outputs": [
    {
     "name": "stdout",
     "output_type": "stream",
     "text": [
      "def triangle_instrumented(a, b, c):\n",
      "    if evaluate_condition(0, 'LtE', a, 0) or evaluate_condition(1, 'LtE', b, 0\n",
      "        ) or evaluate_condition(2, 'LtE', c, 0):\n",
      "        return 4\n",
      "    if evaluate_condition(3, 'LtE', a + b, c) or evaluate_condition(4,\n",
      "        'LtE', a + c, b) or evaluate_condition(5, 'LtE', b + c, a):\n",
      "        return 4\n",
      "    if evaluate_condition(6, 'Eq', a, b) and evaluate_condition(7, 'Eq', b, c):\n",
      "        return 1\n",
      "    if evaluate_condition(8, 'Eq', a, b) or evaluate_condition(9, 'Eq', b, c\n",
      "        ) or evaluate_condition(10, 'Eq', a, c):\n",
      "        return 2\n",
      "    return 3\n",
      "\n"
     ]
    }
   ],
   "source": [
    "source = inspect.getsource(triangle)\n",
    "node = ast.parse(source)\n",
    "transformer = BranchTransformer()\n",
    "transformer.visit(node)\n",
    "\n",
    "# Make sure the line numbers are ok before printing\n",
    "node = ast.fix_missing_locations(node)\n",
    "num_branches = transformer.branch_num\n",
    "\n",
    "print(astor.to_source(node))"
   ]
  },
  {
   "cell_type": "markdown",
   "metadata": {
    "slideshow": {
     "slide_type": "skip"
    }
   },
   "source": [
    "To define an executable version of the instrumented triangle function, we can use our `create_instrumented_function` function again:"
   ]
  },
  {
   "cell_type": "code",
   "execution_count": 64,
   "metadata": {
    "slideshow": {
     "slide_type": "slide"
    }
   },
   "outputs": [],
   "source": [
    "create_instrumented_function(triangle)"
   ]
  },
  {
   "cell_type": "code",
   "execution_count": 65,
   "metadata": {
    "slideshow": {
     "slide_type": "fragment"
    }
   },
   "outputs": [
    {
     "data": {
      "text/plain": [
       "1"
      ]
     },
     "execution_count": 65,
     "metadata": {},
     "output_type": "execute_result"
    }
   ],
   "source": [
    "triangle_instrumented(4, 4, 4)"
   ]
  },
  {
   "cell_type": "code",
   "execution_count": 66,
   "metadata": {
    "slideshow": {
     "slide_type": "fragment"
    }
   },
   "outputs": [
    {
     "data": {
      "text/plain": [
       "{0: 0.8, 1: 0.8, 2: 0.8, 3: 0.8, 4: 0.8, 5: 0.8, 6: 0.0, 7: 0.0}"
      ]
     },
     "execution_count": 66,
     "metadata": {},
     "output_type": "execute_result"
    }
   ],
   "source": [
    "distances_true"
   ]
  },
  {
   "cell_type": "code",
   "execution_count": 67,
   "metadata": {
    "slideshow": {
     "slide_type": "fragment"
    }
   },
   "outputs": [
    {
     "data": {
      "text/plain": [
       "{0: 0.0, 1: 0.0, 2: 0.0, 3: 0.0, 4: 0.0, 5: 0.0, 6: 0.5, 7: 0.5}"
      ]
     },
     "execution_count": 67,
     "metadata": {},
     "output_type": "execute_result"
    }
   ],
   "source": [
    "distances_false"
   ]
  },
  {
   "cell_type": "markdown",
   "metadata": {
    "slideshow": {
     "slide_type": "skip"
    }
   },
   "source": [
    "The branch distance functions above are defined only for atomic comparisons. However, in the `triangle` program all of the atomic comparisons are part of larger predicates, joined together by `and` and `or` connectors. \n",
    "\n",
    "For conjunctions the branch distance is defined such that the distance to make `A and B` true equals the sum of the branch distances for `A` and `B`, as both of the two conditions would need to be true. Similarly, the branch distance to make `A or B` true would be the _minimum_ of the two branch distances of `A` and `B`, as it suffices if one of the two conditions is true to make the entire expression true (and the false distance would be the sum of false distances of the conditions). For a negation `not A`, we can simply switch from the true distance to the false distance, or vice versa. Since predicates can consist of nested conditions, one would need to recursively calculate the branch distance.\n"
   ]
  },
  {
   "cell_type": "markdown",
   "metadata": {
    "slideshow": {
     "slide_type": "skip"
    }
   },
   "source": [
    "Assume we want to find an input that covers the third if-condition, i.e., it produces a triangle where all sides have equal length. Considering the instrumented version of the triangle function we printed above, in order for this if-condition to evaluate to true we require conditions 0, 1, 2, 3, 4, and 5 to evaluate to false, and 6 and 7 to evaluate to true. Thus, the fitness function for this branch would be the sum of false distances for branches 0-5, and true distances for branches 6 and 7."
   ]
  },
  {
   "cell_type": "code",
   "execution_count": 68,
   "metadata": {
    "slideshow": {
     "slide_type": "slide"
    }
   },
   "outputs": [],
   "source": [
    "def get_fitness(x):\n",
    "    # Reset any distance values from previous executions\n",
    "    global distances_true, distances_false\n",
    "    distances_true  = {x: 1.0 for x in range(num_branches)}\n",
    "    distances_false = {x: 1.0 for x in range(num_branches)}\n",
    "\n",
    "    # Run the function under test\n",
    "    triangle_instrumented(*x)\n",
    "\n",
    "    # Sum up branch distances for our specific target branch\n",
    "    fitness = 0.0\n",
    "    for branch in [6, 7]:\n",
    "        fitness += distances_true[branch]\n",
    "\n",
    "    for branch in [0, 1, 2, 3, 4, 5]:\n",
    "        fitness += distances_false[branch]\n",
    "\n",
    "    return fitness"
   ]
  },
  {
   "cell_type": "code",
   "execution_count": 69,
   "metadata": {
    "slideshow": {
     "slide_type": "fragment"
    }
   },
   "outputs": [
    {
     "data": {
      "text/plain": [
       "0.0"
      ]
     },
     "execution_count": 69,
     "metadata": {},
     "output_type": "execute_result"
    }
   ],
   "source": [
    "get_fitness([5,5,5])"
   ]
  },
  {
   "cell_type": "code",
   "execution_count": 70,
   "metadata": {
    "slideshow": {
     "slide_type": "fragment"
    }
   },
   "outputs": [
    {
     "data": {
      "text/plain": [
       "5.999999999523672"
      ]
     },
     "execution_count": 70,
     "metadata": {},
     "output_type": "execute_result"
    }
   ],
   "source": [
    "get_fitness(get_random_individual())"
   ]
  },
  {
   "cell_type": "code",
   "execution_count": 71,
   "metadata": {
    "slideshow": {
     "slide_type": "slide"
    }
   },
   "outputs": [
    {
     "name": "stdout",
     "output_type": "stream",
     "text": [
      "Starting at fitness 7.999764150943396: [-4238, -9454, 6802]\n",
      "Solution fitness after 10002 fitness evaluations: 7.999611348620288: [-2571, -9454, 6802]\n"
     ]
    },
    {
     "data": {
      "text/plain": [
       "[-2571, -9454, 6802]"
      ]
     },
     "execution_count": 71,
     "metadata": {},
     "output_type": "execute_result"
    }
   ],
   "source": [
    "MAX = 10000\n",
    "MIN = -MAX\n",
    "fitness_values = []\n",
    "max_gen = 1000\n",
    "hillclimbing()"
   ]
  },
  {
   "cell_type": "code",
   "execution_count": 72,
   "metadata": {
    "scrolled": true,
    "slideshow": {
     "slide_type": "subslide"
    }
   },
   "outputs": [
    {
     "data": {
      "text/plain": [
       "[<matplotlib.lines.Line2D at 0x113a18e20>]"
      ]
     },
     "execution_count": 72,
     "metadata": {},
     "output_type": "execute_result"
    },
    {
     "data": {
      "image/png": "[encoded data removed]",
      "text/plain": [
       "<Figure size 432x288 with 1 Axes>"
      ]
     },
     "metadata": {
      "needs_background": "light"
     },
     "output_type": "display_data"
    }
   ],
   "source": [
    "plt.plot(fitness_values)"
   ]
  },
  {
   "cell_type": "code",
   "execution_count": 73,
   "metadata": {
    "slideshow": {
     "slide_type": "slide"
    }
   },
   "outputs": [
    {
     "name": "stdout",
     "output_type": "stream",
     "text": [
      "Starting at fitness 5.999817751047932: [6578, 6300, -5485]\n",
      "Current parameter: 0\n",
      "Trying +1 at fitness 5.999817751047932: [6579, 6300, -5485]\n",
      "Trying -1 at fitness 5.999817751047932: [6577, 6300, -5485]\n",
      "Current parameter: 1\n",
      "Trying +1 at fitness 5.999817751047932: [6578, 6301, -5485]\n",
      "Trying -1 at fitness 5.999817751047932: [6578, 6299, -5485]\n",
      "Current parameter: 2\n",
      "Trying +1 at fitness 5.999817751047932: [6578, 6300, -5484]\n",
      "  [6578, 6300, -5484], direction 2, fitness 5.999817717827197\n",
      "  [6578, 6300, -5482], direction 4, fitness 5.99981765134938\n",
      "  [6578, 6300, -5478], direction 8, fitness 5.999817518248175\n",
      "  [6578, 6300, -5470], direction 16, fitness 5.999817251461988\n",
      "  [6578, 6300, -5454], direction 32, fitness 5.999816715542522\n",
      "  [6578, 6300, -5422], direction 64, fitness 5.999815634218289\n",
      "  [6578, 6300, -5358], direction 128, fitness 5.999813432835821\n",
      "  [6578, 6300, -5230], direction 256, fitness 5.999808868501529\n",
      "  [6578, 6300, -4974], direction 512, fitness 5.999799035369775\n",
      "  [6578, 6300, -4462], direction 1024, fitness 5.999775985663082\n",
      "  [6578, 6300, -3438], direction 2048, fitness 5.999709302325582\n",
      "  [6578, 6300, -1390], direction 4096, fitness 5.999281609195402\n",
      "  [6578, 6300, 2706], direction 8192, fitness 1.9964157706093189\n",
      "Current parameter: 2\n",
      "Trying +1 at fitness 1.9964157706093189: [6578, 6300, 2707]\n",
      "Trying -1 at fitness 1.9964157706093189: [6578, 6300, 2705]\n",
      "Current parameter: 0\n",
      "Trying +1 at fitness 1.9964157706093189: [6579, 6300, 2706]\n",
      "Trying -1 at fitness 1.9964157706093189: [6577, 6300, 2706]\n",
      "  [6577, 6300, 2706], direction -2, fitness 1.9964028776978417\n",
      "  [6575, 6300, 2706], direction -4, fitness 1.9963768115942029\n",
      "  [6571, 6300, 2706], direction -8, fitness 1.9963235294117647\n",
      "  [6563, 6300, 2706], direction -16, fitness 1.996212121212121\n",
      "  [6547, 6300, 2706], direction -32, fitness 1.995967741935484\n",
      "  [6515, 6300, 2706], direction -64, fitness 1.9953703703703702\n",
      "  [6451, 6300, 2706], direction -128, fitness 1.993421052631579\n",
      "  [6323, 6300, 2706], direction -256, fitness 1.9583333333333335\n",
      "Current parameter: 0\n",
      "Trying +1 at fitness 1.9583333333333335: [6324, 6300, 2706]\n",
      "Trying -1 at fitness 1.9583333333333335: [6322, 6300, 2706]\n",
      "  [6322, 6300, 2706], direction -2, fitness 1.9565217391304348\n",
      "  [6320, 6300, 2706], direction -4, fitness 1.9523809523809523\n",
      "  [6316, 6300, 2706], direction -8, fitness 1.9411764705882353\n",
      "  [6308, 6300, 2706], direction -16, fitness 1.8888888888888888\n",
      "Current parameter: 0\n",
      "Trying +1 at fitness 1.8888888888888888: [6309, 6300, 2706]\n",
      "Trying -1 at fitness 1.8888888888888888: [6307, 6300, 2706]\n",
      "  [6307, 6300, 2706], direction -2, fitness 1.875\n",
      "  [6305, 6300, 2706], direction -4, fitness 1.8333333333333335\n",
      "  [6301, 6300, 2706], direction -8, fitness 1.5\n",
      "Current parameter: 0\n",
      "Trying +1 at fitness 1.5: [6302, 6300, 2706]\n",
      "Trying -1 at fitness 1.5: [6300, 6300, 2706]\n",
      "  [6300, 6300, 2706], direction -2, fitness 0.9997218358831711\n",
      "Current parameter: 0\n",
      "Trying +1 at fitness 0.9997218358831711: [6301, 6300, 2706]\n",
      "Trying -1 at fitness 0.9997218358831711: [6299, 6300, 2706]\n",
      "Current parameter: 1\n",
      "Trying +1 at fitness 0.9997218358831711: [6300, 6301, 2706]\n",
      "Trying -1 at fitness 0.9997218358831711: [6300, 6299, 2706]\n",
      "Current parameter: 2\n",
      "Trying +1 at fitness 0.9997218358831711: [6300, 6300, 2707]\n",
      "  [6300, 6300, 2707], direction 2, fitness 0.9997217584863661\n",
      "  [6300, 6300, 2709], direction 4, fitness 0.9997216035634744\n",
      "  [6300, 6300, 2713], direction 8, fitness 0.999721293199554\n",
      "  [6300, 6300, 2721], direction 16, fitness 0.9997206703910615\n",
      "  [6300, 6300, 2737], direction 32, fitness 0.9997194163860831\n",
      "  [6300, 6300, 2769], direction 64, fitness 0.9997168742921857\n",
      "  [6300, 6300, 2833], direction 128, fitness 0.9997116493656286\n",
      "  [6300, 6300, 2961], direction 256, fitness 0.9997005988023953\n",
      "  [6300, 6300, 3217], direction 512, fitness 0.9996757457846952\n",
      "  [6300, 6300, 3729], direction 1024, fitness 0.999611197511664\n",
      "  [6300, 6300, 4753], direction 2048, fitness 0.9993540051679587\n",
      "  [6300, 6300, 6801], direction 4096, fitness 0.99800796812749\n",
      "Current parameter: 2\n",
      "Trying +1 at fitness 0.99800796812749: [6300, 6300, 6802]\n",
      "Trying -1 at fitness 0.99800796812749: [6300, 6300, 6800]\n",
      "  [6300, 6300, 6800], direction -2, fitness 0.998003992015968\n",
      "  [6300, 6300, 6798], direction -4, fitness 0.9979959919839679\n",
      "  [6300, 6300, 6794], direction -8, fitness 0.997979797979798\n",
      "  [6300, 6300, 6786], direction -16, fitness 0.997946611909651\n",
      "  [6300, 6300, 6770], direction -32, fitness 0.9978768577494692\n",
      "  [6300, 6300, 6738], direction -64, fitness 0.9977220956719818\n",
      "  [6300, 6300, 6674], direction -128, fitness 0.9973333333333333\n",
      "  [6300, 6300, 6546], direction -256, fitness 0.9959514170040485\n",
      "  [6300, 6300, 6290], direction -512, fitness 0.9090909090909091\n",
      "Current parameter: 2\n",
      "Trying +1 at fitness 0.9090909090909091: [6300, 6300, 6291]\n",
      "  [6300, 6300, 6291], direction 2, fitness 0.9\n",
      "  [6300, 6300, 6293], direction 4, fitness 0.875\n",
      "  [6300, 6300, 6297], direction 8, fitness 0.75\n",
      "Current parameter: 2\n",
      "Trying +1 at fitness 0.75: [6300, 6300, 6298]\n",
      "  [6300, 6300, 6298], direction 2, fitness 0.6666666666666666\n",
      "  [6300, 6300, 6300], direction 4, fitness 0.0\n",
      "Current parameter: 2\n",
      "Trying +1 at fitness 0.0: [6300, 6300, 6301]\n",
      "Trying -1 at fitness 0.0: [6300, 6300, 6299]\n",
      "Solution fitness 0.0: [6300, 6300, 6300]\n"
     ]
    },
    {
     "data": {
      "text/plain": [
       "[6300, 6300, 6300]"
      ]
     },
     "execution_count": 73,
     "metadata": {},
     "output_type": "execute_result"
    }
   ],
   "source": [
    "fitness_values = []\n",
    "avm()"
   ]
  },
  {
   "cell_type": "code",
   "execution_count": 74,
   "metadata": {
    "scrolled": true,
    "slideshow": {
     "slide_type": "subslide"
    }
   },
   "outputs": [
    {
     "data": {
      "text/plain": [
       "[<matplotlib.lines.Line2D at 0x113f26ee0>]"
      ]
     },
     "execution_count": 74,
     "metadata": {},
     "output_type": "execute_result"
    },
    {
     "data": {
      "image/png": "[encoded data removed]",
      "text/plain": [
       "<Figure size 432x288 with 1 Axes>"
      ]
     },
     "metadata": {
      "needs_background": "light"
     },
     "output_type": "display_data"
    }
   ],
   "source": [
    "plt.plot(fitness_values)"
   ]
  },
  {
   "cell_type": "markdown",
   "metadata": {
    "slideshow": {
     "slide_type": "skip"
    }
   },
   "source": [
    "Besides the local search algorithms, we can also use evolutionary search in order to find solutions to our test generation problem. We therefore need to define the usual search operators:"
   ]
  },
  {
   "cell_type": "code",
   "execution_count": 75,
   "metadata": {
    "slideshow": {
     "slide_type": "slide"
    }
   },
   "outputs": [],
   "source": [
    "tournament_size = 3\n",
    "def tournament_selection(population):\n",
    "    candidates = random.sample(population, tournament_size)        \n",
    "    winner = min(candidates, key = lambda x: get_fitness(x))\n",
    "    return winner"
   ]
  },
  {
   "cell_type": "code",
   "execution_count": 76,
   "metadata": {
    "slideshow": {
     "slide_type": "fragment"
    }
   },
   "outputs": [],
   "source": [
    "elite_size = 2\n",
    "def elitism_standard(population):\n",
    "    population.sort(key = lambda k: get_fitness(k))\n",
    "    return population[:elite_size]"
   ]
  },
  {
   "cell_type": "code",
   "execution_count": 77,
   "metadata": {
    "slideshow": {
     "slide_type": "fragment"
    }
   },
   "outputs": [],
   "source": [
    "def mutate(solution):\n",
    "    P_mutate = 1/len(solution)\n",
    "    mutated = solution[:]\n",
    "    for position in range(len(solution)):\n",
    "        if random.random() < P_mutate:\n",
    "            mutated[position] = int(random.gauss(mutated[position], 20))\n",
    "    return mutated"
   ]
  },
  {
   "cell_type": "code",
   "execution_count": 78,
   "metadata": {
    "slideshow": {
     "slide_type": "fragment"
    }
   },
   "outputs": [],
   "source": [
    "def singlepoint_crossover(parent1, parent2):\n",
    "    pos = random.randint(0, len(parent1))\n",
    "    offspring1 = parent1[:pos] + parent2[pos:]\n",
    "    offspring2 = parent2[:pos] + parent1[pos:]\n",
    "    return (offspring1, offspring2)"
   ]
  },
  {
   "cell_type": "code",
   "execution_count": 79,
   "metadata": {
    "slideshow": {
     "slide_type": "slide"
    }
   },
   "outputs": [],
   "source": [
    "population_size = 20\n",
    "P_xover = 0.7\n",
    "max_gen = 100\n",
    "selection = tournament_selection\n",
    "crossover = singlepoint_crossover\n",
    "elitism = elitism_standard\n",
    "MAX = 1000\n",
    "MIN = -MAX"
   ]
  },
  {
   "cell_type": "code",
   "execution_count": 80,
   "metadata": {
    "slideshow": {
     "slide_type": "subslide"
    }
   },
   "outputs": [],
   "source": [
    "def ga():\n",
    "    population = [get_random_individual() for _ in range(population_size)]\n",
    "    best_fitness = sys.maxsize\n",
    "    for p in population:\n",
    "        fitness = get_fitness(p)\n",
    "        if fitness < best_fitness:\n",
    "            best_fitness = fitness\n",
    "            best_solution = p\n",
    "    print(f\"Iteration 0, best fitness: {best_fitness}\")\n",
    "\n",
    "    for iteration in range(max_gen):\n",
    "        fitness_values.append(best_fitness)\n",
    "        new_population = elitism(population)\n",
    "        while len(new_population) < len(population):\n",
    "            parent1 = selection(population)\n",
    "            parent2 = selection(population)\n",
    "\n",
    "            if random.random() < P_xover:\n",
    "                offspring1, offspring2 = crossover(parent1, parent2)\n",
    "            else:\n",
    "                offspring1, offspring2 = parent1, parent2\n",
    "\n",
    "            offspring1 = mutate(offspring1)\n",
    "            offspring2 = mutate(offspring2)\n",
    "            \n",
    "            new_population.append(offspring1)\n",
    "            new_population.append(offspring2)\n",
    "\n",
    "        population = new_population\n",
    "        for p in population:\n",
    "            fitness = get_fitness(p)\n",
    "            if fitness < best_fitness:\n",
    "                best_fitness = fitness\n",
    "                best_solution = p\n",
    "        print(f\"Iteration {iteration}, best fitness: {best_fitness}, size {len(best_solution)}\")\n",
    "\n",
    "    return best_solution"
   ]
  },
  {
   "cell_type": "code",
   "execution_count": 81,
   "metadata": {
    "slideshow": {
     "slide_type": "slide"
    }
   },
   "outputs": [
    {
     "name": "stdout",
     "output_type": "stream",
     "text": [
      "Iteration 0, best fitness: 1.9956896551724137\n",
      "Iteration 0, best fitness: 1.9956896551724137, size 3\n",
      "Iteration 1, best fitness: 1.9947643979057592, size 3\n",
      "Iteration 2, best fitness: 1.9947643979057592, size 3\n",
      "Iteration 3, best fitness: 1.9836065573770492, size 3\n",
      "Iteration 4, best fitness: 1.9836065573770492, size 3\n",
      "Iteration 5, best fitness: 1.9285714285714286, size 3\n",
      "Iteration 6, best fitness: 1.9166666666666665, size 3\n",
      "Iteration 7, best fitness: 1.8333333333333335, size 3\n",
      "Iteration 8, best fitness: 1.75, size 3\n",
      "Iteration 9, best fitness: 1.6666666666666665, size 3\n",
      "Iteration 10, best fitness: 1.6666666666666665, size 3\n",
      "Iteration 11, best fitness: 1.6666666666666665, size 3\n",
      "Iteration 12, best fitness: 1.6666666666666665, size 3\n",
      "Iteration 13, best fitness: 1.6666666666666665, size 3\n",
      "Iteration 14, best fitness: 1.6666666666666665, size 3\n",
      "Iteration 15, best fitness: 1.6666666666666665, size 3\n",
      "Iteration 16, best fitness: 1.6666666666666665, size 3\n",
      "Iteration 17, best fitness: 1.6666666666666665, size 3\n",
      "Iteration 18, best fitness: 1.5, size 3\n",
      "Iteration 19, best fitness: 1.5, size 3\n",
      "Iteration 20, best fitness: 1.5, size 3\n",
      "Iteration 21, best fitness: 1.5, size 3\n",
      "Iteration 22, best fitness: 1.5, size 3\n",
      "Iteration 23, best fitness: 1.5, size 3\n",
      "Iteration 24, best fitness: 0.9908256880733946, size 3\n",
      "Iteration 25, best fitness: 0.989247311827957, size 3\n",
      "Iteration 26, best fitness: 0.9836065573770492, size 3\n",
      "Iteration 27, best fitness: 0.9836065573770492, size 3\n",
      "Iteration 28, best fitness: 0.9830508474576272, size 3\n",
      "Iteration 29, best fitness: 0.9818181818181818, size 3\n",
      "Iteration 30, best fitness: 0.9818181818181818, size 3\n",
      "Iteration 31, best fitness: 0.9782608695652174, size 3\n",
      "Iteration 32, best fitness: 0.9782608695652174, size 3\n",
      "Iteration 33, best fitness: 0.9782608695652174, size 3\n",
      "Iteration 34, best fitness: 0.9761904761904762, size 3\n",
      "Iteration 35, best fitness: 0.9761904761904762, size 3\n",
      "Iteration 36, best fitness: 0.975609756097561, size 3\n",
      "Iteration 37, best fitness: 0.975609756097561, size 3\n",
      "Iteration 38, best fitness: 0.9615384615384616, size 3\n",
      "Iteration 39, best fitness: 0.9615384615384616, size 3\n",
      "Iteration 40, best fitness: 0.9166666666666666, size 3\n",
      "Iteration 41, best fitness: 0.8333333333333334, size 3\n",
      "Iteration 42, best fitness: 0.8333333333333334, size 3\n",
      "Iteration 43, best fitness: 0.8, size 3\n",
      "Iteration 44, best fitness: 0.8, size 3\n",
      "Iteration 45, best fitness: 0.8, size 3\n",
      "Iteration 46, best fitness: 0.8, size 3\n",
      "Iteration 47, best fitness: 0.8, size 3\n",
      "Iteration 48, best fitness: 0.8, size 3\n",
      "Iteration 49, best fitness: 0.8, size 3\n",
      "Iteration 50, best fitness: 0.8, size 3\n",
      "Iteration 51, best fitness: 0.6666666666666666, size 3\n",
      "Iteration 52, best fitness: 0.5, size 3\n",
      "Iteration 53, best fitness: 0.5, size 3\n",
      "Iteration 54, best fitness: 0.5, size 3\n",
      "Iteration 55, best fitness: 0.5, size 3\n",
      "Iteration 56, best fitness: 0.5, size 3\n",
      "Iteration 57, best fitness: 0.5, size 3\n",
      "Iteration 58, best fitness: 0.5, size 3\n",
      "Iteration 59, best fitness: 0.5, size 3\n",
      "Iteration 60, best fitness: 0.5, size 3\n",
      "Iteration 61, best fitness: 0.5, size 3\n",
      "Iteration 62, best fitness: 0.5, size 3\n",
      "Iteration 63, best fitness: 0.5, size 3\n",
      "Iteration 64, best fitness: 0.5, size 3\n",
      "Iteration 65, best fitness: 0.5, size 3\n",
      "Iteration 66, best fitness: 0.5, size 3\n",
      "Iteration 67, best fitness: 0.5, size 3\n",
      "Iteration 68, best fitness: 0.5, size 3\n",
      "Iteration 69, best fitness: 0.5, size 3\n",
      "Iteration 70, best fitness: 0.5, size 3\n",
      "Iteration 71, best fitness: 0.5, size 3\n",
      "Iteration 72, best fitness: 0.5, size 3\n",
      "Iteration 73, best fitness: 0.5, size 3\n",
      "Iteration 74, best fitness: 0.5, size 3\n",
      "Iteration 75, best fitness: 0.5, size 3\n",
      "Iteration 76, best fitness: 0.5, size 3\n",
      "Iteration 77, best fitness: 0.5, size 3\n",
      "Iteration 78, best fitness: 0.5, size 3\n",
      "Iteration 79, best fitness: 0.5, size 3\n",
      "Iteration 80, best fitness: 0.5, size 3\n",
      "Iteration 81, best fitness: 0.5, size 3\n",
      "Iteration 82, best fitness: 0.5, size 3\n",
      "Iteration 83, best fitness: 0.5, size 3\n",
      "Iteration 84, best fitness: 0.5, size 3\n",
      "Iteration 85, best fitness: 0.5, size 3\n",
      "Iteration 86, best fitness: 0.5, size 3\n",
      "Iteration 87, best fitness: 0.5, size 3\n",
      "Iteration 88, best fitness: 0.5, size 3\n",
      "Iteration 89, best fitness: 0.5, size 3\n",
      "Iteration 90, best fitness: 0.5, size 3\n",
      "Iteration 91, best fitness: 0.5, size 3\n",
      "Iteration 92, best fitness: 0.5, size 3\n",
      "Iteration 93, best fitness: 0.5, size 3\n",
      "Iteration 94, best fitness: 0.5, size 3\n",
      "Iteration 95, best fitness: 0.0, size 3\n",
      "Iteration 96, best fitness: 0.0, size 3\n",
      "Iteration 97, best fitness: 0.0, size 3\n",
      "Iteration 98, best fitness: 0.0, size 3\n",
      "Iteration 99, best fitness: 0.0, size 3\n"
     ]
    },
    {
     "data": {
      "text/plain": [
       "[446, 446, 446]"
      ]
     },
     "execution_count": 81,
     "metadata": {},
     "output_type": "execute_result"
    }
   ],
   "source": [
    "fitness_values = []\n",
    "ga()"
   ]
  },
  {
   "cell_type": "code",
   "execution_count": 82,
   "metadata": {
    "slideshow": {
     "slide_type": "subslide"
    }
   },
   "outputs": [
    {
     "data": {
      "text/plain": [
       "[<matplotlib.lines.Line2D at 0x113f8e610>]"
      ]
     },
     "execution_count": 82,
     "metadata": {},
     "output_type": "execute_result"
    },
    {
     "data": {
      "image/png": "[encoded data removed]",
      "text/plain": [
       "<Figure size 432x288 with 1 Axes>"
      ]
     },
     "metadata": {
      "needs_background": "light"
     },
     "output_type": "display_data"
    }
   ],
   "source": [
    "plt.plot(fitness_values)"
   ]
  },
  {
   "cell_type": "markdown",
   "metadata": {
    "slideshow": {
     "slide_type": "skip"
    }
   },
   "source": [
    "We set `MAX` to a value as low as 1000, because the optimisation with our small mutational steps may take long to achieve that multiple values are equal, which some of the branches of the triangle program require (such as the one we are optimising for currently)."
   ]
  },
  {
   "cell_type": "code",
   "execution_count": 83,
   "metadata": {
    "slideshow": {
     "slide_type": "slide"
    }
   },
   "outputs": [
    {
     "name": "stdout",
     "output_type": "stream",
     "text": [
      "Iteration 0, best fitness: 1.9997578106078953\n",
      "Iteration 0, best fitness: 1.9997553816046967, size 3\n",
      "Iteration 1, best fitness: 1.9997553816046967, size 3\n",
      "Iteration 2, best fitness: 1.999752658916646, size 3\n",
      "Iteration 3, best fitness: 1.999751491053678, size 3\n",
      "Iteration 4, best fitness: 1.9997483010319659, size 3\n",
      "Iteration 5, best fitness: 1.9997459994919988, size 3\n",
      "Iteration 6, best fitness: 1.9997459994919988, size 3\n",
      "Iteration 7, best fitness: 1.9997445068983137, size 3\n",
      "Iteration 8, best fitness: 1.9997426659804427, size 3\n",
      "Iteration 9, best fitness: 1.9997424008243172, size 3\n",
      "Iteration 10, best fitness: 1.9997424008243172, size 3\n",
      "Iteration 11, best fitness: 1.9997404619776797, size 3\n",
      "Iteration 12, best fitness: 1.9997391757955139, size 3\n",
      "Iteration 13, best fitness: 1.999738219895288, size 3\n",
      "Iteration 14, best fitness: 1.9997357992073976, size 3\n",
      "Iteration 15, best fitness: 1.9997357992073976, size 3\n",
      "Iteration 16, best fitness: 1.9997335464961363, size 3\n",
      "Iteration 17, best fitness: 1.9997324772605671, size 3\n",
      "Iteration 18, best fitness: 1.9997317596566524, size 3\n",
      "Iteration 19, best fitness: 1.9997295835586804, size 3\n",
      "Iteration 20, best fitness: 1.999728555917481, size 3\n",
      "Iteration 21, best fitness: 1.9997265518184304, size 3\n",
      "Iteration 22, best fitness: 1.9997250481165796, size 3\n",
      "Iteration 23, best fitness: 1.9997242900468706, size 3\n",
      "Iteration 24, best fitness: 1.9997206703910615, size 3\n",
      "Iteration 25, best fitness: 1.9997179125528914, size 3\n",
      "Iteration 26, best fitness: 1.9997179125528914, size 3\n",
      "Iteration 27, best fitness: 1.999716151007664, size 3\n",
      "Iteration 28, best fitness: 1.999715018523796, size 3\n",
      "Iteration 29, best fitness: 1.9997122302158274, size 3\n",
      "Iteration 30, best fitness: 1.9997076023391813, size 3\n",
      "Iteration 31, best fitness: 1.9997076023391813, size 3\n",
      "Iteration 32, best fitness: 1.9997059688326964, size 3\n",
      "Iteration 33, best fitness: 1.9997025580011898, size 3\n",
      "Iteration 34, best fitness: 1.999700777977259, size 3\n",
      "Iteration 35, best fitness: 1.9996964177292047, size 3\n",
      "Iteration 36, best fitness: 1.9996964177292047, size 3\n",
      "Iteration 37, best fitness: 1.9996955859969558, size 3\n",
      "Iteration 38, best fitness: 1.9996953077391835, size 3\n",
      "Iteration 39, best fitness: 1.9996935335580754, size 3\n",
      "Iteration 40, best fitness: 1.9996919285274184, size 3\n",
      "Iteration 41, best fitness: 1.9996887643946466, size 3\n",
      "Iteration 42, best fitness: 1.9996802046690119, size 3\n",
      "Iteration 43, best fitness: 1.9996802046690119, size 3\n",
      "Iteration 44, best fitness: 1.9996770025839794, size 3\n",
      "Iteration 45, best fitness: 1.9996770025839794, size 3\n",
      "Iteration 46, best fitness: 1.999673202614379, size 3\n",
      "Iteration 47, best fitness: 1.9996723460026211, size 3\n",
      "Iteration 48, best fitness: 1.9996709443896017, size 3\n",
      "Iteration 49, best fitness: 1.9996685449121645, size 3\n",
      "Iteration 50, best fitness: 1.999664767013074, size 3\n",
      "Iteration 51, best fitness: 1.9996591683708247, size 3\n",
      "Iteration 52, best fitness: 1.9996591683708247, size 3\n",
      "Iteration 53, best fitness: 1.9996546961325967, size 3\n",
      "Iteration 54, best fitness: 1.9996538594669437, size 3\n",
      "Iteration 55, best fitness: 1.9996498599439776, size 3\n",
      "Iteration 56, best fitness: 1.9996498599439776, size 3\n",
      "Iteration 57, best fitness: 1.9996480112636394, size 3\n",
      "Iteration 58, best fitness: 1.9996431120628122, size 3\n",
      "Iteration 59, best fitness: 1.9996392496392497, size 3\n",
      "Iteration 60, best fitness: 1.9996357012750456, size 3\n",
      "Iteration 61, best fitness: 1.9996345029239766, size 3\n",
      "Iteration 62, best fitness: 1.999630450849963, size 3\n",
      "Iteration 63, best fitness: 1.999630450849963, size 3\n",
      "Iteration 64, best fitness: 1.9996200607902734, size 3\n",
      "Iteration 65, best fitness: 1.9996187571483035, size 3\n",
      "Iteration 66, best fitness: 1.9996110462854921, size 3\n",
      "Iteration 67, best fitness: 1.9996090695856137, size 3\n",
      "Iteration 68, best fitness: 1.999601593625498, size 3\n",
      "Iteration 69, best fitness: 1.9995959595959596, size 3\n",
      "Iteration 70, best fitness: 1.99959266802444, size 3\n",
      "Iteration 71, best fitness: 1.9995913363302003, size 3\n",
      "Iteration 72, best fitness: 1.999587118084228, size 3\n",
      "Iteration 73, best fitness: 1.999580360889635, size 3\n",
      "Iteration 74, best fitness: 1.999580360889635, size 3\n",
      "Iteration 75, best fitness: 1.9995794785534062, size 3\n",
      "Iteration 76, best fitness: 1.9995722840034218, size 3\n",
      "Iteration 77, best fitness: 1.9995713673381912, size 3\n",
      "Iteration 78, best fitness: 1.9995704467353952, size 3\n",
      "Iteration 79, best fitness: 1.999562937062937, size 3\n",
      "Iteration 80, best fitness: 1.999562937062937, size 3\n",
      "Iteration 81, best fitness: 1.9995598591549295, size 3\n",
      "Iteration 82, best fitness: 1.9995590828924161, size 3\n",
      "Iteration 83, best fitness: 1.9995569339831634, size 3\n",
      "Iteration 84, best fitness: 1.9995515695067265, size 3\n",
      "Iteration 85, best fitness: 1.999548124717578, size 3\n",
      "Iteration 86, best fitness: 1.9995423340961098, size 3\n",
      "Iteration 87, best fitness: 1.9995355318160706, size 3\n",
      "Iteration 88, best fitness: 1.9995285242809995, size 3\n",
      "Iteration 89, best fitness: 1.9995278564683665, size 3\n",
      "Iteration 90, best fitness: 1.999523128278493, size 3\n",
      "Iteration 91, best fitness: 1.9995131450827652, size 3\n",
      "Iteration 92, best fitness: 1.9995019920318726, size 3\n",
      "Iteration 93, best fitness: 1.9994934143870315, size 3\n",
      "Iteration 94, best fitness: 1.999492385786802, size 3\n",
      "Iteration 95, best fitness: 1.9994910941475827, size 3\n",
      "Iteration 96, best fitness: 1.9994805194805196, size 3\n",
      "Iteration 97, best fitness: 1.9994805194805196, size 3\n",
      "Iteration 98, best fitness: 1.9994742376445847, size 3\n",
      "Iteration 99, best fitness: 1.9994643813604713, size 3\n"
     ]
    },
    {
     "data": {
      "text/plain": [
       "[<matplotlib.lines.Line2D at 0x113fe72b0>]"
      ]
     },
     "execution_count": 83,
     "metadata": {},
     "output_type": "execute_result"
    },
    {
     "data": {
      "image/png": "[encoded data removed]",
      "text/plain": [
       "<Figure size 432x288 with 1 Axes>"
      ]
     },
     "metadata": {
      "needs_background": "light"
     },
     "output_type": "display_data"
    }
   ],
   "source": [
    "MAX = 100000\n",
    "MIN = -MAX\n",
    "fitness_values = []\n",
    "ga()\n",
    "plt.plot(fitness_values)"
   ]
  },
  {
   "cell_type": "markdown",
   "metadata": {
    "slideshow": {
     "slide_type": "skip"
    }
   },
   "source": [
    "Different mutation operators may yield different results: For example, rather than just adding random noise to the individual parameters, we can also probabilistically copy values from other parameters:"
   ]
  },
  {
   "cell_type": "code",
   "execution_count": 84,
   "metadata": {
    "slideshow": {
     "slide_type": "slide"
    }
   },
   "outputs": [],
   "source": [
    "def mutate(solution):\n",
    "    P_mutate = 1/len(solution)\n",
    "    mutated = solution[:]\n",
    "    for position in range(len(solution)):\n",
    "        if random.random() < P_mutate:\n",
    "            if random.random() < 0.9:\n",
    "                mutated[position] = int(random.gauss(mutated[position], 20))\n",
    "            else:\n",
    "                mutated[position] = random.choice(solution)\n",
    "    return mutated"
   ]
  },
  {
   "cell_type": "markdown",
   "metadata": {
    "slideshow": {
     "slide_type": "skip"
    }
   },
   "source": [
    "Let's see the performance of the resulting algorithm:"
   ]
  },
  {
   "cell_type": "code",
   "execution_count": 85,
   "metadata": {
    "slideshow": {
     "slide_type": "subslide"
    }
   },
   "outputs": [
    {
     "name": "stdout",
     "output_type": "stream",
     "text": [
      "Iteration 0, best fitness: 1.999297259311314\n",
      "Iteration 0, best fitness: 1.999297259311314, size 3\n",
      "Iteration 1, best fitness: 1.999287241625089, size 3\n",
      "Iteration 2, best fitness: 1.9992857142857143, size 3\n",
      "Iteration 3, best fitness: 1.9992641648270788, size 3\n",
      "Iteration 4, best fitness: 1.9992592592592593, size 3\n",
      "Iteration 5, best fitness: 1.9814814814814814, size 3\n",
      "Iteration 6, best fitness: 1.9722222222222223, size 3\n",
      "Iteration 7, best fitness: 0.9999590817954909, size 3\n",
      "Iteration 8, best fitness: 0.9999590817954909, size 3\n",
      "Iteration 9, best fitness: 0.0, size 3\n",
      "Iteration 10, best fitness: 0.0, size 3\n",
      "Iteration 11, best fitness: 0.0, size 3\n",
      "Iteration 12, best fitness: 0.0, size 3\n",
      "Iteration 13, best fitness: 0.0, size 3\n",
      "Iteration 14, best fitness: 0.0, size 3\n",
      "Iteration 15, best fitness: 0.0, size 3\n",
      "Iteration 16, best fitness: 0.0, size 3\n",
      "Iteration 17, best fitness: 0.0, size 3\n",
      "Iteration 18, best fitness: 0.0, size 3\n",
      "Iteration 19, best fitness: 0.0, size 3\n",
      "Iteration 20, best fitness: 0.0, size 3\n",
      "Iteration 21, best fitness: 0.0, size 3\n",
      "Iteration 22, best fitness: 0.0, size 3\n",
      "Iteration 23, best fitness: 0.0, size 3\n",
      "Iteration 24, best fitness: 0.0, size 3\n",
      "Iteration 25, best fitness: 0.0, size 3\n",
      "Iteration 26, best fitness: 0.0, size 3\n",
      "Iteration 27, best fitness: 0.0, size 3\n",
      "Iteration 28, best fitness: 0.0, size 3\n",
      "Iteration 29, best fitness: 0.0, size 3\n",
      "Iteration 30, best fitness: 0.0, size 3\n",
      "Iteration 31, best fitness: 0.0, size 3\n",
      "Iteration 32, best fitness: 0.0, size 3\n",
      "Iteration 33, best fitness: 0.0, size 3\n",
      "Iteration 34, best fitness: 0.0, size 3\n",
      "Iteration 35, best fitness: 0.0, size 3\n",
      "Iteration 36, best fitness: 0.0, size 3\n",
      "Iteration 37, best fitness: 0.0, size 3\n",
      "Iteration 38, best fitness: 0.0, size 3\n",
      "Iteration 39, best fitness: 0.0, size 3\n",
      "Iteration 40, best fitness: 0.0, size 3\n",
      "Iteration 41, best fitness: 0.0, size 3\n",
      "Iteration 42, best fitness: 0.0, size 3\n",
      "Iteration 43, best fitness: 0.0, size 3\n",
      "Iteration 44, best fitness: 0.0, size 3\n",
      "Iteration 45, best fitness: 0.0, size 3\n",
      "Iteration 46, best fitness: 0.0, size 3\n",
      "Iteration 47, best fitness: 0.0, size 3\n",
      "Iteration 48, best fitness: 0.0, size 3\n",
      "Iteration 49, best fitness: 0.0, size 3\n",
      "Iteration 50, best fitness: 0.0, size 3\n",
      "Iteration 51, best fitness: 0.0, size 3\n",
      "Iteration 52, best fitness: 0.0, size 3\n",
      "Iteration 53, best fitness: 0.0, size 3\n",
      "Iteration 54, best fitness: 0.0, size 3\n",
      "Iteration 55, best fitness: 0.0, size 3\n",
      "Iteration 56, best fitness: 0.0, size 3\n",
      "Iteration 57, best fitness: 0.0, size 3\n",
      "Iteration 58, best fitness: 0.0, size 3\n",
      "Iteration 59, best fitness: 0.0, size 3\n",
      "Iteration 60, best fitness: 0.0, size 3\n",
      "Iteration 61, best fitness: 0.0, size 3\n",
      "Iteration 62, best fitness: 0.0, size 3\n",
      "Iteration 63, best fitness: 0.0, size 3\n",
      "Iteration 64, best fitness: 0.0, size 3\n",
      "Iteration 65, best fitness: 0.0, size 3\n",
      "Iteration 66, best fitness: 0.0, size 3\n",
      "Iteration 67, best fitness: 0.0, size 3\n",
      "Iteration 68, best fitness: 0.0, size 3\n",
      "Iteration 69, best fitness: 0.0, size 3\n",
      "Iteration 70, best fitness: 0.0, size 3\n",
      "Iteration 71, best fitness: 0.0, size 3\n",
      "Iteration 72, best fitness: 0.0, size 3\n",
      "Iteration 73, best fitness: 0.0, size 3\n",
      "Iteration 74, best fitness: 0.0, size 3\n",
      "Iteration 75, best fitness: 0.0, size 3\n",
      "Iteration 76, best fitness: 0.0, size 3\n",
      "Iteration 77, best fitness: 0.0, size 3\n",
      "Iteration 78, best fitness: 0.0, size 3\n",
      "Iteration 79, best fitness: 0.0, size 3\n",
      "Iteration 80, best fitness: 0.0, size 3\n",
      "Iteration 81, best fitness: 0.0, size 3\n",
      "Iteration 82, best fitness: 0.0, size 3\n",
      "Iteration 83, best fitness: 0.0, size 3\n",
      "Iteration 84, best fitness: 0.0, size 3\n",
      "Iteration 85, best fitness: 0.0, size 3\n",
      "Iteration 86, best fitness: 0.0, size 3\n",
      "Iteration 87, best fitness: 0.0, size 3\n",
      "Iteration 88, best fitness: 0.0, size 3\n",
      "Iteration 89, best fitness: 0.0, size 3\n",
      "Iteration 90, best fitness: 0.0, size 3\n",
      "Iteration 91, best fitness: 0.0, size 3\n",
      "Iteration 92, best fitness: 0.0, size 3\n",
      "Iteration 93, best fitness: 0.0, size 3\n",
      "Iteration 94, best fitness: 0.0, size 3\n",
      "Iteration 95, best fitness: 0.0, size 3\n",
      "Iteration 96, best fitness: 0.0, size 3\n",
      "Iteration 97, best fitness: 0.0, size 3\n",
      "Iteration 98, best fitness: 0.0, size 3\n",
      "Iteration 99, best fitness: 0.0, size 3\n"
     ]
    },
    {
     "data": {
      "text/plain": [
       "[59448, 59448, 59448]"
      ]
     },
     "execution_count": 85,
     "metadata": {},
     "output_type": "execute_result"
    }
   ],
   "source": [
    "fitness_values = []\n",
    "MAX = 100000\n",
    "MIN = -MAX\n",
    "ga()"
   ]
  },
  {
   "cell_type": "code",
   "execution_count": 86,
   "metadata": {
    "slideshow": {
     "slide_type": "subslide"
    }
   },
   "outputs": [
    {
     "data": {
      "text/plain": [
       "[<matplotlib.lines.Line2D at 0x114036af0>]"
      ]
     },
     "execution_count": 86,
     "metadata": {},
     "output_type": "execute_result"
    },
    {
     "data": {
      "image/png": "[encoded data removed]",
      "text/plain": [
       "<Figure size 432x288 with 1 Axes>"
      ]
     },
     "metadata": {
      "needs_background": "light"
     },
     "output_type": "display_data"
    }
   ],
   "source": [
    "plt.plot(fitness_values)"
   ]
  },
  {
   "cell_type": "markdown",
   "metadata": {
    "slideshow": {
     "slide_type": "skip"
    }
   },
   "source": [
    "In our fitness function, we manually determined which branches need to evaluate which way, and how to sum up the fitness functions. In practice, this can be automated by combining the branch distance metric with the _approach level_, which was introduced (originally named approximation level) in this paper:\n",
    "\n",
    "Wegener, J., Baresel, A., & Sthamer, H. (2001). Evolutionary test environment for automatic structural testing. Information and software technology, 43(14), 841-854.\n",
    "\n",
    "The approach level calculates the distances of an execution from a target node in terms of graph distances on the control dependence graph. However, we will not cover the approach level in this chapter."
   ]
  },
  {
   "cell_type": "markdown",
   "metadata": {
    "slideshow": {
     "slide_type": "slide"
    }
   },
   "source": [
    "## Whole Test Suite Optimisation"
   ]
  },
  {
   "cell_type": "markdown",
   "metadata": {
    "slideshow": {
     "slide_type": "skip"
    }
   },
   "source": [
    "Besides the question of how the best fitness function for a coverage goal looks like, there are some related questions: How much time should we spend on optimising for each coverage goal? It is possible that some coverage goals are infeasible (e.g., dead code, or or infeasible branches), so any time spent on these is wasted, while it may be missing for other goals that are feasible but would need more time. Test cases typically cover multiple goals at the same time; even if a test is optimised for one specific line or branch, it may coincidentally cover others along the execution. Thus, the order in which we select coverage goals for optimisation may influence the overall result, and the number of tests we require. In principle, one way to address these issues would be by casting test generation as a multi-objective optimisation problem, and aiming to produce tests for _all_ coverage goals at the same time. However, there is an issue with this: Multi-objective algorithms like the ones we considered in the previous chapter typically work well on 2-3 objectives, but code will generally have many more coverage objectives, rendering classical multi-objective algorithms infeasible (Pareto-dominance happens rarely with higher numbers of objectives). We will therefore now consider some alternatives."
   ]
  },
  {
   "cell_type": "markdown",
   "metadata": {
    "slideshow": {
     "slide_type": "skip"
    }
   },
   "source": [
    "The first alternative we consider is to switch our representation: Rather than optimising individual test cases for individual coverage objectives, we optimise entire test _suites_ to cover _all_ coverage objectives at the same time. Our encoding thus should describe multiple tests. But how many? This is very much problem specific. Thus, rather than hard coding the number of tests, we will only define an upper bound, and let the search decide what is the necessary number of tests."
   ]
  },
  {
   "cell_type": "code",
   "execution_count": 87,
   "metadata": {
    "slideshow": {
     "slide_type": "slide"
    }
   },
   "outputs": [],
   "source": [
    "num_tests = 30"
   ]
  },
  {
   "cell_type": "code",
   "execution_count": 88,
   "metadata": {
    "slideshow": {
     "slide_type": "fragment"
    }
   },
   "outputs": [],
   "source": [
    "def get_random_individual():\n",
    "    num = random.randint(1, num_tests)\n",
    "    return [[random.randint(MIN, MAX) for _ in range(num_parameters)] for _ in range(num)]"
   ]
  },
  {
   "cell_type": "markdown",
   "metadata": {
    "slideshow": {
     "slide_type": "skip"
    }
   },
   "source": [
    "When applying mutation, we need to be able to modify individual tests as before. To keep things challenging, we will not use our optimised mutation that copies parameters, but aim to achieve the entire optimisation just using small steps:"
   ]
  },
  {
   "cell_type": "code",
   "execution_count": 89,
   "metadata": {
    "slideshow": {
     "slide_type": "subslide"
    }
   },
   "outputs": [],
   "source": [
    "def mutate_test(solution):\n",
    "    P_mutate = 1/len(solution)\n",
    "    mutated = solution[:]\n",
    "    for position in range(len(solution)):\n",
    "        if random.random() < P_mutate:\n",
    "            mutated[position] = min(MAX, max(MIN, int(random.gauss(mutated[position], MAX*0.01))))\n",
    "            \n",
    "    return mutated"
   ]
  },
  {
   "cell_type": "markdown",
   "metadata": {
    "slideshow": {
     "slide_type": "skip"
    }
   },
   "source": [
    "However, modifying tests is only one of the things we can do when mutating our actual individuals, which consist of multiple tests. Besides modifying existing tests, we could also delete or add tests, for example like this."
   ]
  },
  {
   "cell_type": "code",
   "execution_count": 90,
   "metadata": {
    "slideshow": {
     "slide_type": "fragment"
    }
   },
   "outputs": [],
   "source": [
    "def mutate_set(solution):\n",
    "    P_mutate = 1/len(solution)\n",
    "    mutated = []\n",
    "    for position in range(len(solution)):\n",
    "        if random.random() >= P_mutate:\n",
    "            mutated.append(solution[position][:])\n",
    "            \n",
    "    if not mutated:\n",
    "        mutated = solution[:]\n",
    "    for position in range(len(mutated)):\n",
    "        if random.random() < P_mutate:\n",
    "            mutated[position] = mutate_test(mutated[position])\n",
    " \n",
    "    ALPHA = 1/3\n",
    "    count = 1\n",
    "    while random.random() < ALPHA ** count:\n",
    "        count += 1\n",
    "        mutated.append([random.randint(MIN, MAX) for _ in range(num_parameters)])\n",
    "    \n",
    "    return mutated"
   ]
  },
  {
   "cell_type": "markdown",
   "metadata": {
    "slideshow": {
     "slide_type": "skip"
    }
   },
   "source": [
    "With a certain probability, each of the tests can be removed from a test suite; similarly, each remaining test may be mutated like we mutated tests previously. Finally, with a probability `ALPHA` we insert a new test; if we do so, we insert another one with probability `ALPHA`$^2$, and so on."
   ]
  },
  {
   "cell_type": "markdown",
   "metadata": {
    "slideshow": {
     "slide_type": "skip"
    }
   },
   "source": [
    "When crossing over two individuals, they might have different length, which makes choosing a crossover point difficult. For example, we might pick a crossover point that is longer than one of the parent chromosomes, and then what do we do? A simple solution would be to pick two different crossover points."
   ]
  },
  {
   "cell_type": "code",
   "execution_count": 91,
   "metadata": {
    "slideshow": {
     "slide_type": "slide"
    }
   },
   "outputs": [],
   "source": [
    "def variable_crossover(parent1, parent2):\n",
    "    pos1 = random.randint(1, len(parent1))\n",
    "    pos2 = random.randint(1, len(parent2))\n",
    "    offspring1 = parent1[:pos1] + parent2[pos2:]\n",
    "    offspring2 = parent2[:pos2] + parent1[pos1:]\n",
    "    return (offspring1, offspring2)"
   ]
  },
  {
   "cell_type": "markdown",
   "metadata": {
    "slideshow": {
     "slide_type": "skip"
    }
   },
   "source": [
    "To see this works, we need to define the fitness function. Since we want to cover _everything_ we simply need to make sure that every single branch is covered at least once in a test suite. A branch is covered if its minimum branch distance is 0; thus, if everything is covered, then the sum of minimal branch distances should be 0."
   ]
  },
  {
   "cell_type": "markdown",
   "metadata": {
    "slideshow": {
     "slide_type": "skip"
    }
   },
   "source": [
    "There is one special case: If an if-statement is executed only once, then optimising the true/false distance may lead to a suboptimal, oscillising evolution. We therefore also count how often each if-condition was executed. If it was only executed once, then the fitness value for that branch needs to be higher than if it was executed twice. For this, we extend our `update_maps` function to also keep track of the execution count:"
   ]
  },
  {
   "cell_type": "code",
   "execution_count": 92,
   "metadata": {
    "slideshow": {
     "slide_type": "slide"
    }
   },
   "outputs": [],
   "source": [
    "condition_count = {}\n",
    "def update_maps(condition_num, d_true, d_false):\n",
    "    global distances_true, distances_false, condition_count\n",
    "\n",
    "    if condition_num in condition_count.keys():\n",
    "        condition_count[condition_num] = condition_count[condition_num] + 1\n",
    "    else:\n",
    "        condition_count[condition_num] = 1\n",
    "        \n",
    "    if condition_num in distances_true.keys():\n",
    "        distances_true[condition_num] = min(\n",
    "            distances_true[condition_num], d_true)\n",
    "    else:\n",
    "        distances_true[condition_num] = d_true\n",
    "\n",
    "    if condition_num in distances_false.keys():\n",
    "        distances_false[condition_num] = min(\n",
    "            distances_false[condition_num], d_false)\n",
    "    else:\n",
    "        distances_false[condition_num] = d_false"
   ]
  },
  {
   "cell_type": "markdown",
   "metadata": {
    "slideshow": {
     "slide_type": "skip"
    }
   },
   "source": [
    "The actual fitness function now is the sum of minimal distances after all tests have been executed. If an if-condition was not executed at all, then the true distance and the false distance will be 1, resulting in a sum of 2 for the if-condition. If the condition was covered only once, we set the fitness to exactly 1. If the condition was executed more than once, then at least either the true or false distance has to be 0, such that in sum, true and false distances will be less than 0."
   ]
  },
  {
   "cell_type": "code",
   "execution_count": 93,
   "metadata": {
    "slideshow": {
     "slide_type": "slide"
    }
   },
   "outputs": [],
   "source": [
    "def get_fitness(x):\n",
    "    # Reset any distance values from previous executions\n",
    "    global distances_true, distances_false, condition_count\n",
    "    distances_true =  {x: 1.0 for x in range(num_branches)}\n",
    "    distances_false = {x: 1.0 for x in range(num_branches)}\n",
    "    condition_count = {x:   0 for x in range(num_branches)}\n",
    "\n",
    "    # Run the function under test\n",
    "    for test in x:\n",
    "        triangle_instrumented(*test)\n",
    "\n",
    "    # Sum up branch distances\n",
    "    fitness = 0.0\n",
    "    for branch in range(num_branches):\n",
    "        if condition_count[branch] == 1:\n",
    "            fitness += 1\n",
    "        else:\n",
    "            fitness += distances_true[branch]\n",
    "            fitness += distances_false[branch]\n",
    "\n",
    "    return fitness"
   ]
  },
  {
   "cell_type": "markdown",
   "metadata": {
    "slideshow": {
     "slide_type": "skip"
    }
   },
   "source": [
    "Before we run some experiments on this, let's make a small addition to our genetic algorithm: Since the size of individuals is variable it will be interesting to observe how this evolves. We'll captures the average population size in a separate list. Since the costs of evaluating fitness are no longer constant per individual but depend on the number of tests executed, we will also change our stopping criterion to the number of executed tests."
   ]
  },
  {
   "cell_type": "code",
   "execution_count": 94,
   "metadata": {
    "slideshow": {
     "slide_type": "slide"
    }
   },
   "outputs": [],
   "source": [
    "from statistics import mean\n",
    "\n",
    "length_values = []\n",
    "max_executions = 10000\n",
    "\n",
    "def ga():\n",
    "    population = [get_random_individual() for _ in range(population_size)]\n",
    "    best_fitness = sys.maxsize\n",
    "    tests_executed = 0\n",
    "    for p in population:\n",
    "        fitness = get_fitness(p)\n",
    "        tests_executed += len(p)\n",
    "        if fitness < best_fitness:\n",
    "            best_fitness = fitness\n",
    "            best_solution = p\n",
    "    while tests_executed < max_executions:\n",
    "        fitness_values.append(best_fitness)\n",
    "        length_values.append(mean([len(x) for x in population]))\n",
    "        new_population = elitism(population)\n",
    "        while len(new_population) < len(population):\n",
    "            parent1 = selection(population)\n",
    "            parent2 = selection(population)\n",
    "\n",
    "            if random.random() < P_xover:\n",
    "                offspring1, offspring2 = crossover(parent1, parent2)\n",
    "            else:\n",
    "                offspring1, offspring2 = parent1, parent2\n",
    "\n",
    "            offspring1 = mutate(offspring1)\n",
    "            offspring2 = mutate(offspring2)\n",
    "            \n",
    "            new_population.append(offspring1)\n",
    "            new_population.append(offspring2)\n",
    "            tests_executed += len(offspring1) + len(offspring2)\n",
    "\n",
    "        population = new_population\n",
    "        for p in population:\n",
    "            fitness = get_fitness(p)\n",
    "            if fitness < best_fitness:\n",
    "                best_fitness = fitness\n",
    "                best_solution = p\n",
    "    print(f\"Best fitness: {best_fitness}, size {len(best_solution)}\")\n",
    "\n",
    "    return best_solution"
   ]
  },
  {
   "cell_type": "markdown",
   "metadata": {
    "slideshow": {
     "slide_type": "skip"
    }
   },
   "source": [
    "Since we now have all the operators we need in place, let's run a first experiment aiming to achieve 100% coverage on the triangle example."
   ]
  },
  {
   "cell_type": "code",
   "execution_count": 95,
   "metadata": {
    "slideshow": {
     "slide_type": "slide"
    }
   },
   "outputs": [
    {
     "name": "stdout",
     "output_type": "stream",
     "text": [
      "Best fitness: 4.1, size 112\n"
     ]
    },
    {
     "data": {
      "text/plain": [
       "[[839, 835, 294],\n",
       " [-981, 914, 815],\n",
       " [507, 104, 371],\n",
       " [26, 702, 628],\n",
       " [662, -223, 756],\n",
       " [-390, 530, -257],\n",
       " [134, 161, 624],\n",
       " [-565, -261, 698],\n",
       " [625, -169, 573],\n",
       " [956, 733, 976],\n",
       " [-528, 167, -698],\n",
       " [-565, -261, 698],\n",
       " [-111, 431, 961],\n",
       " [134, 161, 622],\n",
       " [-811, -818, -83],\n",
       " [625, -168, 561],\n",
       " [966, 728, 966],\n",
       " [818, 989, -853],\n",
       " [134, 161, 622],\n",
       " [235, 102, -23],\n",
       " [-362, 125, -565],\n",
       " [683, -540, -411],\n",
       " [976, 721, 980],\n",
       " [-360, 125, -565],\n",
       " [683, -540, -411],\n",
       " [194, -831, -603],\n",
       " [198, -204, -539],\n",
       " [-630, -515, 162],\n",
       " [662, -223, 756],\n",
       " [-390, 530, -257],\n",
       " [134, 161, 622],\n",
       " [-823, -818, -83],\n",
       " [-565, -261, 698],\n",
       " [639, -164, 573],\n",
       " [976, 721, 980],\n",
       " [818, 989, -853],\n",
       " [426, -725, 515],\n",
       " [835, 989, -853],\n",
       " [-406, -588, 373],\n",
       " [-729, 980, 506],\n",
       " [-630, -515, 163],\n",
       " [818, 989, -853],\n",
       " [134, 161, 622],\n",
       " [235, 102, -23],\n",
       " [-362, 125, -565],\n",
       " [683, -540, -411],\n",
       " [198, -204, -539],\n",
       " [-630, -515, 162],\n",
       " [662, -223, 756],\n",
       " [-390, 530, -257],\n",
       " [134, 161, 622],\n",
       " [-823, -818, -83],\n",
       " [639, -164, 573],\n",
       " [976, 721, 980],\n",
       " [-360, 125, -565],\n",
       " [683, -540, -411],\n",
       " [194, -831, -603],\n",
       " [198, -204, -539],\n",
       " [-630, -515, 162],\n",
       " [662, -223, 756],\n",
       " [134, 161, 622],\n",
       " [-823, -818, -83],\n",
       " [198, -204, -539],\n",
       " [-630, -515, 162],\n",
       " [662, -223, 756],\n",
       " [-390, 530, -257],\n",
       " [134, 161, 622],\n",
       " [-823, -818, -83],\n",
       " [621, -164, 573],\n",
       " [976, 721, 980],\n",
       " [-360, 125, -565],\n",
       " [683, -540, -411],\n",
       " [194, -831, -603],\n",
       " [198, -204, -539],\n",
       " [-630, -515, 162],\n",
       " [662, -223, 756],\n",
       " [-390, 530, -257],\n",
       " [134, 161, 622],\n",
       " [-823, -818, -83],\n",
       " [-565, -261, 698],\n",
       " [639, -164, 573],\n",
       " [976, 721, 980],\n",
       " [818, 989, -853],\n",
       " [426, -725, 515],\n",
       " [835, 989, -853],\n",
       " [-406, -588, 373],\n",
       " [-729, 980, 506],\n",
       " [-630, -515, 163],\n",
       " [662, -223, 756],\n",
       " [-392, 541, -257],\n",
       " [-823, -818, -83],\n",
       " [-565, -261, 698],\n",
       " [625, -170, 581],\n",
       " [966, 721, 980],\n",
       " [818, 989, -853],\n",
       " [625, -169, 573],\n",
       " [835, 989, -853],\n",
       " [426, -725, 515],\n",
       " [624, -876, 397],\n",
       " [-700, -793, -418],\n",
       " [780, 458, 429],\n",
       " [107, 907, -743],\n",
       " [932, -743, 180],\n",
       " [761, -738, -453],\n",
       " [-924, 509, -257],\n",
       " [343, 302, 303],\n",
       " [-345, -524, 927],\n",
       " [-93, -20, -895],\n",
       " [376, -176, 209],\n",
       " [267, -500, 929],\n",
       " [-537, -497, 826],\n",
       " [968, 135, -983]]"
      ]
     },
     "execution_count": 95,
     "metadata": {},
     "output_type": "execute_result"
    }
   ],
   "source": [
    "max_executions = 1000000\n",
    "MAX = 1000\n",
    "MIN = -MAX\n",
    "crossover = variable_crossover\n",
    "selection = tournament_selection\n",
    "elitism   = elitism_standard \n",
    "mutate    = mutate_set\n",
    "tournament_size = 4\n",
    "population_size = 50\n",
    "fitness_values = []\n",
    "length_values = []\n",
    "ga()"
   ]
  },
  {
   "cell_type": "code",
   "execution_count": 96,
   "metadata": {
    "scrolled": true,
    "slideshow": {
     "slide_type": "subslide"
    }
   },
   "outputs": [
    {
     "data": {
      "text/plain": [
       "[<matplotlib.lines.Line2D at 0x113d708e0>]"
      ]
     },
     "execution_count": 96,
     "metadata": {},
     "output_type": "execute_result"
    },
    {
     "data": {
      "image/png": "[encoded data removed]",
      "text/plain": [
       "<Figure size 432x288 with 1 Axes>"
      ]
     },
     "metadata": {
      "needs_background": "light"
     },
     "output_type": "display_data"
    }
   ],
   "source": [
    "plt.plot(fitness_values)"
   ]
  },
  {
   "cell_type": "markdown",
   "metadata": {
    "slideshow": {
     "slide_type": "skip"
    }
   },
   "source": [
    "The plot shows iterations of the genetic algorithm on the x-axis. Very likely, the result likely isn't great. But why? Let's look at the average population length."
   ]
  },
  {
   "cell_type": "code",
   "execution_count": 97,
   "metadata": {
    "scrolled": true,
    "slideshow": {
     "slide_type": "subslide"
    }
   },
   "outputs": [
    {
     "data": {
      "text/plain": [
       "[<matplotlib.lines.Line2D at 0x114090a90>]"
      ]
     },
     "execution_count": 97,
     "metadata": {},
     "output_type": "execute_result"
    },
    {
     "data": {
      "image/png": "[encoded data removed]",
      "text/plain": [
       "<Figure size 432x288 with 1 Axes>"
      ]
     },
     "metadata": {
      "needs_background": "light"
     },
     "output_type": "display_data"
    }
   ],
   "source": [
    "plt.plot(length_values)"
   ]
  },
  {
   "cell_type": "markdown",
   "metadata": {
    "slideshow": {
     "slide_type": "skip"
    }
   },
   "source": [
    "What you can see here is a phenomenon called _bloat_: Individuals grow in size through mutation and crossover, and the search has no incentive to reduce their size (adding a test can never decrease coverage; removing a test can). As a result the individuals just keep growing, and quickly eat up all the available resources for the search. How to deal with this problem will be covered in the next chapter."
   ]
  }
 ],
 "metadata": {
  "celltoolbar": "Slideshow",
  "kernelspec": {
   "display_name": "3.8.6",
   "language": "python",
   "name": "3.8.6"
  },
  "language_info": {
   "codemirror_mode": {
    "name": "ipython",
    "version": 3
   },
   "file_extension": ".py",
   "mimetype": "text/x-python",
   "name": "python",
   "nbconvert_exporter": "python",
   "pygments_lexer": "ipython3",
   "version": "3.8.6"
  },
  "rise": {
   "enable_chalkboard": true,
   "scroll": true
  }
 },
 "nbformat": 4,
 "nbformat_minor": 4
}
