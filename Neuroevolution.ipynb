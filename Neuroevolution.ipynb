{
 "cells": [
  {
   "cell_type": "markdown",
   "metadata": {
    "slideshow": {
     "slide_type": "slide"
    }
   },
   "source": [
    "# NEAT\n",
    "\n",
    "- **N**euro**E**volution of **A**ugmenting **T**opologies\n",
    "- Evolves network topologies (hyper parameter) and connection weights (parameters) simultaneously\n",
    "- Based on Reinforcement Learning\n",
    "- Application areas: playing games, game AI, developing evacuation models, vehicle warning system\n",
    "- Most popular neuroevolution approach but others exist as well"
   ]
  },
  {
   "cell_type": "markdown",
   "metadata": {
    "pycharm": {
     "name": "#%% md\n"
    },
    "slideshow": {
     "slide_type": "slide"
    }
   },
   "source": [
    "## XOR-Problem\n",
    "\n",
    "We want to evolve a network capable of representing an XOR-Gate:"
   ]
  },
  {
   "cell_type": "code",
   "execution_count": 1,
   "metadata": {
    "pycharm": {
     "name": "#%%\n"
    },
    "slideshow": {
     "slide_type": "fragment"
    }
   },
   "outputs": [
    {
     "data": {
      "text/html": [
       "<table border=\"1\" class=\"dataframe\">\n",
       "  <thead>\n",
       "    <tr style=\"text-align: right;\">\n",
       "      <th>Input1</th>\n",
       "      <th>Input2</th>\n",
       "      <th>Output</th>\n",
       "    </tr>\n",
       "  </thead>\n",
       "  <tbody>\n",
       "    <tr>\n",
       "      <td>0</td>\n",
       "      <td>0</td>\n",
       "      <td>0</td>\n",
       "    </tr>\n",
       "    <tr>\n",
       "      <td>0</td>\n",
       "      <td>1</td>\n",
       "      <td>1</td>\n",
       "    </tr>\n",
       "    <tr>\n",
       "      <td>1</td>\n",
       "      <td>0</td>\n",
       "      <td>1</td>\n",
       "    </tr>\n",
       "    <tr>\n",
       "      <td>1</td>\n",
       "      <td>1</td>\n",
       "      <td>0</td>\n",
       "    </tr>\n",
       "  </tbody>\n",
       "</table>"
      ],
      "text/plain": [
       "<IPython.core.display.HTML object>"
      ]
     },
     "execution_count": 1,
     "metadata": {},
     "output_type": "execute_result"
    }
   ],
   "source": [
    "from __future__ import annotations\n",
    "import pandas as pd\n",
    "\n",
    "from IPython.display import HTML\n",
    "xor = [[0, 0, 0], [0, 1, 1], [1, 0, 1], [1, 1, 0]]\n",
    "xor_df = pd.DataFrame(xor, columns=[\"Input1\", \"Input2\", \"Output\"])\n",
    "HTML(xor_df.to_html(index=False))"
   ]
  },
  {
   "cell_type": "markdown",
   "metadata": {
    "slideshow": {
     "slide_type": "slide"
    }
   },
   "source": [
    "The XOR-Problem is a __binary classification problem__, which cannot be solved using a linear separation line."
   ]
  },
  {
   "cell_type": "code",
   "execution_count": 2,
   "metadata": {
    "slideshow": {
     "slide_type": "fragment"
    }
   },
   "outputs": [
    {
     "data": {
      "image/png": "[encoded data removed]",
      "text/plain": [
       "<Figure size 432x288 with 1 Axes>"
      ]
     },
     "metadata": {
      "needs_background": "light"
     },
     "output_type": "display_data"
    }
   ],
   "source": [
    "import matplotlib.pyplot as plt\n",
    "\n",
    "zero_x = [0, 1]\n",
    "zero_y = [0, 1]\n",
    "one_x = [0, 1]\n",
    "one_y = [1, 0]\n",
    "\n",
    "# Plot XOR-Dots\n",
    "plt.scatter(zero_x, zero_y, color='red')\n",
    "plt.scatter(one_x, one_y, color='blue')\n",
    "\n",
    "# Try out different separation lines\n",
    "#plt.plot(zero_x, one_y)\n",
    "#plt.plot(one_x, zero_y)\n",
    "plt.plot([0.5, 0.5], [0, 1])\n",
    "#plt.plot([0, 1], [0.5, 0.5])\n",
    "plt.show()"
   ]
  },
  {
   "cell_type": "markdown",
   "metadata": {
    "slideshow": {
     "slide_type": "slide"
    }
   },
   "source": [
    "Since we need a __non linear__ separation line, NEAT has to evolve networks with at least one hidden node."
   ]
  },
  {
   "cell_type": "code",
   "execution_count": 3,
   "metadata": {
    "slideshow": {
     "slide_type": "fragment"
    }
   },
   "outputs": [
    {
     "data": {
      "image/png": "[encoded data removed]",
      "text/plain": [
       "<Figure size 432x288 with 1 Axes>"
      ]
     },
     "metadata": {
      "needs_background": "light"
     },
     "output_type": "display_data"
    }
   ],
   "source": [
    "zero_x = [0, 1]\n",
    "zero_y = [0, 1]\n",
    "one_x = [0, 1]\n",
    "one_y = [1, 0]\n",
    "\n",
    "# Plot XOR-Dots\n",
    "plt.scatter(zero_x, zero_y, color='red')\n",
    "plt.scatter(one_x, one_y, color='blue')\n",
    "\n",
    "plt.plot([0, 1], [0.8, -0.2], color='orange')\n",
    "plt.plot([0, 1], [1.2, 0.2], color='orange')\n",
    "plt.show()"
   ]
  },
  {
   "cell_type": "code",
   "execution_count": 4,
   "metadata": {
    "slideshow": {
     "slide_type": "fragment"
    }
   },
   "outputs": [
    {
     "data": {
      "image/svg+xml": [
       "<?xml version=\"1.0\" encoding=\"UTF-8\" standalone=\"no\"?>\n",
       "<!DOCTYPE svg PUBLIC \"-//W3C//DTD SVG 1.1//EN\"\n",
       " \"http://www.w3.org/Graphics/SVG/1.1/DTD/svg11.dtd\">\n",
       "<!-- Generated by graphviz version 2.50.0 (20211204.2007)\n",
       " -->\n",
       "<!-- Pages: 1 -->\n",
       "<svg width=\"211pt\" height=\"188pt\"\n",
       " viewBox=\"0.00 0.00 211.09 188.00\" xmlns=\"http://www.w3.org/2000/svg\" xmlns:xlink=\"http://www.w3.org/1999/xlink\">\n",
       "<g id=\"graph0\" class=\"graph\" transform=\"scale(1 1) rotate(0) translate(4 184)\">\n",
       "<polygon fill=\"white\" stroke=\"transparent\" points=\"-4,4 -4,-184 207.09,-184 207.09,4 -4,4\"/>\n",
       "<!-- 0 -->\n",
       "<g id=\"node1\" class=\"node\">\n",
       "<title>0</title>\n",
       "<ellipse fill=\"white\" stroke=\"black\" cx=\"43.55\" cy=\"-18\" rx=\"43.59\" ry=\"18\"/>\n",
       "<text text-anchor=\"middle\" x=\"43.55\" y=\"-14.3\" font-family=\"Times,serif\" font-size=\"14.00\">INPUT&#45;0</text>\n",
       "</g>\n",
       "<!-- 2 -->\n",
       "<g id=\"node3\" class=\"node\">\n",
       "<title>2</title>\n",
       "<ellipse fill=\"white\" stroke=\"black\" cx=\"101.55\" cy=\"-90\" rx=\"36.29\" ry=\"18\"/>\n",
       "<text text-anchor=\"middle\" x=\"101.55\" y=\"-86.3\" font-family=\"Times,serif\" font-size=\"14.00\">Hidden</text>\n",
       "</g>\n",
       "<!-- 0&#45;&gt;2 -->\n",
       "<g id=\"edge1\" class=\"edge\">\n",
       "<title>0&#45;&gt;2</title>\n",
       "<path fill=\"none\" stroke=\"black\" d=\"M57,-35.24C64.32,-44.07 73.52,-55.17 81.65,-64.99\"/>\n",
       "<polygon fill=\"black\" stroke=\"black\" points=\"79.09,-67.39 88.17,-72.85 84.48,-62.92 79.09,-67.39\"/>\n",
       "</g>\n",
       "<!-- 3 -->\n",
       "<g id=\"node4\" class=\"node\">\n",
       "<title>3</title>\n",
       "<ellipse fill=\"white\" stroke=\"black\" cx=\"101.55\" cy=\"-162\" rx=\"45.49\" ry=\"18\"/>\n",
       "<text text-anchor=\"middle\" x=\"101.55\" y=\"-158.3\" font-family=\"Times,serif\" font-size=\"14.00\">OUTPUT</text>\n",
       "</g>\n",
       "<!-- 0&#45;&gt;3 -->\n",
       "<g id=\"edge3\" class=\"edge\">\n",
       "<title>0&#45;&gt;3</title>\n",
       "<path fill=\"none\" stroke=\"black\" d=\"M43.29,-36.18C43.63,-54.7 46,-84.66 56.55,-108 61.42,-118.78 69.15,-129.07 76.85,-137.67\"/>\n",
       "<polygon fill=\"black\" stroke=\"black\" points=\"74.41,-140.19 83.82,-145.06 79.5,-135.38 74.41,-140.19\"/>\n",
       "</g>\n",
       "<!-- 1 -->\n",
       "<g id=\"node2\" class=\"node\">\n",
       "<title>1</title>\n",
       "<ellipse fill=\"white\" stroke=\"black\" cx=\"159.55\" cy=\"-18\" rx=\"43.59\" ry=\"18\"/>\n",
       "<text text-anchor=\"middle\" x=\"159.55\" y=\"-14.3\" font-family=\"Times,serif\" font-size=\"14.00\">INPUT&#45;1</text>\n",
       "</g>\n",
       "<!-- 1&#45;&gt;2 -->\n",
       "<g id=\"edge2\" class=\"edge\">\n",
       "<title>1&#45;&gt;2</title>\n",
       "<path fill=\"none\" stroke=\"black\" d=\"M146.09,-35.24C138.77,-44.07 129.58,-55.17 121.44,-64.99\"/>\n",
       "<polygon fill=\"black\" stroke=\"black\" points=\"118.61,-62.92 114.93,-72.85 124,-67.39 118.61,-62.92\"/>\n",
       "</g>\n",
       "<!-- 1&#45;&gt;3 -->\n",
       "<g id=\"edge4\" class=\"edge\">\n",
       "<title>1&#45;&gt;3</title>\n",
       "<path fill=\"none\" stroke=\"black\" d=\"M159.8,-36.18C159.46,-54.7 157.09,-84.66 146.55,-108 141.67,-118.78 133.94,-129.07 126.24,-137.67\"/>\n",
       "<polygon fill=\"black\" stroke=\"black\" points=\"123.59,-135.38 119.27,-145.06 128.68,-140.19 123.59,-135.38\"/>\n",
       "</g>\n",
       "<!-- 2&#45;&gt;3 -->\n",
       "<g id=\"edge5\" class=\"edge\">\n",
       "<title>2&#45;&gt;3</title>\n",
       "<path fill=\"none\" stroke=\"black\" d=\"M101.55,-108.3C101.55,-116.02 101.55,-125.29 101.55,-133.89\"/>\n",
       "<polygon fill=\"black\" stroke=\"black\" points=\"98.05,-133.9 101.55,-143.9 105.05,-133.9 98.05,-133.9\"/>\n",
       "</g>\n",
       "</g>\n",
       "</svg>\n"
      ],
      "text/plain": [
       "<graphviz.sources.Source at 0x10ed3c640>"
      ]
     },
     "execution_count": 4,
     "metadata": {},
     "output_type": "execute_result"
    }
   ],
   "source": [
    "import graphviz\n",
    "\n",
    "with open(\"./data/Neuroevolution/XOR-Network.dot\") as f:\n",
    "    solution_network = f.read()\n",
    "\n",
    "graphviz.Source(solution_network)"
   ]
  },
  {
   "cell_type": "markdown",
   "metadata": {
    "slideshow": {
     "slide_type": "slide"
    }
   },
   "source": [
    "## Encoding\n",
    "\n",
    "- How to represent neural networks such that they …\n",
    "    1. are modifiable using mutation & crossover\n",
    "    2. have a consistent mapping from genotype to phenotype \n",
    "- __Critical__ decision in every evolutionary algorithm"
   ]
  },
  {
   "cell_type": "markdown",
   "metadata": {
    "slideshow": {
     "slide_type": "slide"
    }
   },
   "source": [
    "## Encoding in NEAT\n",
    "\n",
    "Each genome in NEAT consists of two separate gene lists:\n",
    "   - Node Genes contain all nodes of a network\n",
    "   - Connection Genes contain all connections of a network\n"
   ]
  },
  {
   "cell_type": "markdown",
   "metadata": {
    "slideshow": {
     "slide_type": "slide"
    }
   },
   "source": [
    "## Node Genes\n",
    "\n",
    "Nodes have the following attributes:\n",
    " - Unique ID\n",
    " - Node type: Input, Bias, Hidden, Output\n",
    " - Node value: the weighted sum of all incoming connections\n",
    " - Activation value: the value after activating the activation function with the node value as input\n",
    " - List of incoming connections"
   ]
  },
  {
   "cell_type": "code",
   "execution_count": 5,
   "metadata": {
    "pycharm": {
     "name": "#%%\n"
    },
    "slideshow": {
     "slide_type": "fragment"
    }
   },
   "outputs": [],
   "source": [
    "# Basic neuron definition from which all node genes will be derived.\n",
    "class NodeGene:\n",
    "\n",
    "    def __init__(self):\n",
    "        self.uid = 0\n",
    "        self.type = None\n",
    "        self.node_value = 0\n",
    "        self.activation_value = 0\n",
    "        self.incoming_connections = []"
   ]
  },
  {
   "cell_type": "markdown",
   "metadata": {
    "slideshow": {
     "slide_type": "slide"
    }
   },
   "source": [
    "## Input Node\n",
    "\n",
    " - Has no activation function"
   ]
  },
  {
   "cell_type": "code",
   "execution_count": 6,
   "metadata": {
    "slideshow": {
     "slide_type": "fragment"
    }
   },
   "outputs": [],
   "source": [
    "class InputNode(NodeGene):\n",
    "\n",
    "    def __init__(self, uid: str):\n",
    "        super().__init__()\n",
    "        self.uid = uid\n",
    "        self.type = \"INPUT\"\n",
    "\n",
    "    def activate(self):\n",
    "        self.activation_value = self.node_value\n",
    "        return self.activation_value"
   ]
  },
  {
   "cell_type": "markdown",
   "metadata": {
    "slideshow": {
     "slide_type": "slide"
    }
   },
   "source": [
    "## Bias Node\n",
    "\n",
    "- Sends a constant signal of 1 into the network without applying any activation function\n",
    "- Required to have some influence on the [0, 0] input, as otherwise we would always get the same output value regardless of the network structure and weights"
   ]
  },
  {
   "cell_type": "code",
   "execution_count": 7,
   "metadata": {
    "slideshow": {
     "slide_type": "fragment"
    }
   },
   "outputs": [],
   "source": [
    "class BiasNode(NodeGene):\n",
    "\n",
    "    def __init__(self, uid: str):\n",
    "        super().__init__()\n",
    "        self.uid = uid\n",
    "        self.type = \"BIAS\"\n",
    "        self.node_value = 1\n",
    "        self.activation_value = 1\n",
    "\n",
    "    def activate(self):\n",
    "        return 1"
   ]
  },
  {
   "cell_type": "markdown",
   "metadata": {
    "slideshow": {
     "slide_type": "slide"
    }
   },
   "source": [
    "## Hidden Node\n",
    "\n",
    "- Resides between input and output nodes\n",
    "- Applies a __steepened__ sigmoid activation function to obtain a precise value distribution in the range [-1, 1]"
   ]
  },
  {
   "cell_type": "code",
   "execution_count": 8,
   "metadata": {
    "pycharm": {
     "name": "#%%\n"
    },
    "slideshow": {
     "slide_type": "fragment"
    }
   },
   "outputs": [
    {
     "data": {
      "image/png": "[encoded data removed]",
      "text/plain": [
       "<Figure size 432x288 with 1 Axes>"
      ]
     },
     "metadata": {
      "needs_background": "light"
     },
     "output_type": "display_data"
    }
   ],
   "source": [
    "import math\n",
    "import numpy as np\n",
    "\n",
    "def sigmoid(x: float):\n",
    "    return 1 / (1 + math.exp(-4.9*x))   # Steepen factor of -4.9\n",
    "\n",
    "x_range = np.arange(-1.5, 1.5, 0.01)\n",
    "sigmoid_values = [sigmoid(x) for x in x_range]\n",
    "plt.plot(x_range, sigmoid_values)\n",
    "plt.title('Sigmoid function', fontsize=17)\n",
    "plt.show()"
   ]
  },
  {
   "cell_type": "code",
   "execution_count": 9,
   "metadata": {
    "slideshow": {
     "slide_type": "fragment"
    }
   },
   "outputs": [],
   "source": [
    "class HiddenNode(NodeGene):\n",
    "\n",
    "    def __init__(self, uid: str):\n",
    "        super().__init__()\n",
    "        self.uid = uid\n",
    "        self.type = \"HIDDEN\"\n",
    "\n",
    "    def activate(self):\n",
    "        self.activation_value = sigmoid(self.node_value)\n",
    "        return self.activation_value"
   ]
  },
  {
   "cell_type": "markdown",
   "metadata": {
    "slideshow": {
     "slide_type": "slide"
    }
   },
   "source": [
    "## Output Node\n",
    "\n",
    "- The activated output of the output node will be treated as network output\n",
    "- Applies a __steepened__ sigmoid activation function to obtain a precise value distribution in the range [-1, 1]"
   ]
  },
  {
   "cell_type": "code",
   "execution_count": 10,
   "metadata": {
    "slideshow": {
     "slide_type": "fragment"
    }
   },
   "outputs": [],
   "source": [
    "class OutputNode(NodeGene):\n",
    "\n",
    "    def __init__(self, uid: str):\n",
    "        super().__init__()\n",
    "        self.uid = uid\n",
    "        self.type = \"OUTPUT\"\n",
    "\n",
    "    def activate(self):\n",
    "        self.activation_value = sigmoid(self.node_value)\n",
    "        return self.activation_value"
   ]
  },
  {
   "cell_type": "markdown",
   "metadata": {
    "slideshow": {
     "slide_type": "slide"
    }
   },
   "source": [
    "To map the activation value of the output node $a \\in [0, 1]$ to an XOR-Output $o \\in (0, 1)$, we use a simple step function."
   ]
  },
  {
   "cell_type": "code",
   "execution_count": 11,
   "metadata": {
    "slideshow": {
     "slide_type": "fragment"
    }
   },
   "outputs": [
    {
     "data": {
      "image/png": "[encoded data removed]",
      "text/plain": [
       "<Figure size 432x288 with 1 Axes>"
      ]
     },
     "metadata": {
      "needs_background": "light"
     },
     "output_type": "display_data"
    }
   ],
   "source": [
    "def step_function(x):\n",
    "    if x>= 0.5:\n",
    "        return 1\n",
    "    else:\n",
    "        return 0\n",
    "    \n",
    "x_range = np.arange(0, 1, 0.001)\n",
    "step_values = [step_function(x) for x in x_range]\n",
    "plt.plot(x_range, step_values)\n",
    "plt.title('Step function', fontsize=17)\n",
    "plt.show()"
   ]
  },
  {
   "cell_type": "markdown",
   "metadata": {
    "slideshow": {
     "slide_type": "slide"
    }
   },
   "source": [
    "## Connection Genes\n",
    "\n",
    "Connection have the following attributes: \n",
    " - Source node \n",
    " - Target node \n",
    " - Weight\n",
    " - Enabled state\n",
    " - Innovation number: implemented as a counter and used as an identifier (more on that later)"
   ]
  },
  {
   "cell_type": "code",
   "execution_count": 12,
   "metadata": {
    "pycharm": {
     "name": "#%%\n"
    },
    "slideshow": {
     "slide_type": "fragment"
    }
   },
   "outputs": [],
   "source": [
    "class ConnectionGene:\n",
    "    innovationCounter = 0\n",
    "    innovations = {}\n",
    "\n",
    "    def __init__(self, source: NodeGene, target: NodeGene, weight: float, enabled: bool, innovation: int):\n",
    "        self.source = source\n",
    "        self.target = target\n",
    "        self.weight = weight\n",
    "        self.enabled = enabled\n",
    "        self.innovation = innovation\n",
    "\n",
    "    @staticmethod\n",
    "    def next_innovation_number():\n",
    "        ConnectionGene.innovationCounter += 1\n",
    "        return ConnectionGene.innovationCounter"
   ]
  },
  {
   "cell_type": "markdown",
   "metadata": {
    "slideshow": {
     "slide_type": "slide"
    }
   },
   "source": [
    "## Network Chromosome\n",
    "\n",
    "By combining node and connection genes, we can generate network chromosomes."
   ]
  },
  {
   "cell_type": "code",
   "execution_count": 13,
   "metadata": {
    "pycharm": {
     "name": "#%%\n"
    },
    "slideshow": {
     "slide_type": "fragment"
    }
   },
   "outputs": [],
   "source": [
    "class NetworkChromosome:\n",
    "\n",
    "    def __init__(self, nodes: list[NodeGene], connections: list[ConnectionGene]):\n",
    "        self.nodes = nodes\n",
    "        self.connections = connections\n",
    "        self.input_nodes = []\n",
    "        self.output_node = []\n",
    "        self.fitness = 0\n",
    "        self.shared_fitness = 0\n",
    "        self.expected_children = 0\n",
    "        self.parent = False\n",
    "        self.winner = False\n",
    "        self.generate()\n",
    "        \n",
    "    def generate(self):\n",
    "        self.input_nodes = [node for node in self.nodes if node.type == 'INPUT']\n",
    "        self.output_node = next(node for node in self.nodes if node.type == 'OUTPUT')\n",
    "\n",
    "        # Iterate through the connection gene and add the incoming connections to the target nodes.\n",
    "        self.connections.sort(key=lambda x: x.innovation)\n",
    "        for connection in self.connections:\n",
    "            target_node = connection.target\n",
    "            if connection not in target_node.incoming_connections and connection.enabled:\n",
    "                target_node.incoming_connections.append(connection)\n",
    "        \n",
    "    def reset(self):\n",
    "        self.fitness = 0\n",
    "        self.shared_fitness = 0\n",
    "        self.parent = False\n",
    "        self.expected_children = 0\n",
    "        for node in self.nodes:\n",
    "            if node.type != \"INPUT\" and node.type != \"BIAS\":\n",
    "                node.activated = False\n",
    "                node.node_value = 0\n",
    "                node.activation_value = 0"
   ]
  },
  {
   "cell_type": "markdown",
   "metadata": {
    "pycharm": {
     "name": "#%% md\n"
    },
    "slideshow": {
     "slide_type": "slide"
    }
   },
   "source": [
    "## Incremental Growth\n",
    "\n",
    "- NEAT starts with __minimal topologies__ that do __not__ contain any hidden nodes.\n",
    "- Each input node and the bias node is connected to every output node.\n",
    "- Random weight initialisation\n",
    "- Advantages\n",
    "    - Minimises search space\n",
    "    - Only useful structures survive during the incremental growth"
   ]
  },
  {
   "cell_type": "code",
   "execution_count": 14,
   "metadata": {
    "pycharm": {
     "name": "#%%\n"
    },
    "slideshow": {
     "slide_type": "fragment"
    }
   },
   "outputs": [],
   "source": [
    "import random\n",
    "\n",
    "def get_random_individual():\n",
    "    # Generate two input, one bias and one output node\n",
    "    input_nodes = [InputNode(str(x)) for x in range(2)]\n",
    "    bias_node = BiasNode(\"2\")\n",
    "    output_node = OutputNode(\"3\")\n",
    "\n",
    "    # We reset the innovation number, as every network of the starting population\n",
    "    # has the same historical origins\n",
    "    innovation = 0\n",
    "    connections = []\n",
    "    \n",
    "    # Connect input nodes\n",
    "    for i_node in input_nodes:\n",
    "        connections.append(ConnectionGene(i_node, output_node, random.uniform(-1, 1), True, innovation))\n",
    "        innovation += 1\n",
    "    \n",
    "    # Connect the bias node\n",
    "    connections.append(ConnectionGene(bias_node, output_node, random.uniform(-1, 1), True, innovation))\n",
    "    ConnectionGene.innovationCounter = innovation\n",
    "\n",
    "    return NetworkChromosome(input_nodes + [bias_node, output_node], connections)"
   ]
  },
  {
   "cell_type": "markdown",
   "metadata": {
    "slideshow": {
     "slide_type": "slide"
    }
   },
   "source": [
    "We visualise chromosomes using the Graphviz library."
   ]
  },
  {
   "cell_type": "code",
   "execution_count": 15,
   "metadata": {
    "slideshow": {
     "slide_type": "fragment"
    }
   },
   "outputs": [],
   "source": [
    "from graphviz import Digraph\n",
    "\n",
    "class NetworkChromosome(NetworkChromosome):\n",
    "    def show(self):\n",
    "        dot = Digraph(graph_attr={'rankdir': 'BT', 'splines': \"line\"})\n",
    "        # Make sure input nodes are at the bottom and output nodes at the top by assigning them to subgraphs.\n",
    "        input_graph = Digraph(graph_attr={'rank': 'min', 'splines': \"line\"})\n",
    "        output_graph = Digraph(graph_attr={'rank': 'max', 'splines': \"line\"})\n",
    "        hidden_graph = Digraph(graph_attr={'splines': \"line\"})\n",
    "\n",
    "        # Add the nodes to the corresponding subgraphs.\n",
    "        for node in self.nodes:\n",
    "            if node.type == 'INPUT' or node.type == 'BIAS':\n",
    "                input_graph.node(node.uid, node.type + \"-\" + node.uid, color='black', fillcolor='white',\n",
    "                                 style='filled')\n",
    "            elif node.type == 'OUTPUT':\n",
    "                output_graph.node(node.uid, node.type + \"-\" + node.uid, color='black', fillcolor='white',\n",
    "                                  style='filled')\n",
    "            else:\n",
    "                hidden_graph.node(node.uid, node.type + \"-\" + node.uid, color='black', fillcolor='white',\n",
    "                                  style='filled')\n",
    "\n",
    "        # Combine the subgraphs to a single graph\n",
    "        dot.subgraph(input_graph)\n",
    "        dot.subgraph(hidden_graph)\n",
    "        dot.subgraph(output_graph)\n",
    "\n",
    "        # Link the nodes based on the connection gene.\n",
    "        for connection in self.connections:\n",
    "            style = \"solid\" if connection.enabled else \"dotted\"\n",
    "            dot.edge(connection.source.uid, connection.target.uid, label=str(round(connection.weight, 2)), style=style)\n",
    "        return dot"
   ]
  },
  {
   "cell_type": "code",
   "execution_count": 16,
   "metadata": {
    "slideshow": {
     "slide_type": "fragment"
    }
   },
   "outputs": [
    {
     "data": {
      "image/svg+xml": [
       "<?xml version=\"1.0\" encoding=\"UTF-8\" standalone=\"no\"?>\n",
       "<!DOCTYPE svg PUBLIC \"-//W3C//DTD SVG 1.1//EN\"\n",
       " \"http://www.w3.org/Graphics/SVG/1.1/DTD/svg11.dtd\">\n",
       "<!-- Generated by graphviz version 2.50.0 (20211204.2007)\n",
       " -->\n",
       "<!-- Pages: 1 -->\n",
       "<svg width=\"295pt\" height=\"131pt\"\n",
       " viewBox=\"0.00 0.00 294.89 131.00\" xmlns=\"http://www.w3.org/2000/svg\" xmlns:xlink=\"http://www.w3.org/1999/xlink\">\n",
       "<g id=\"graph0\" class=\"graph\" transform=\"scale(1 1) rotate(0) translate(4 127)\">\n",
       "<polygon fill=\"white\" stroke=\"transparent\" points=\"-4,4 -4,-127 290.89,-127 290.89,4 -4,4\"/>\n",
       "<!-- 0 -->\n",
       "<g id=\"node1\" class=\"node\">\n",
       "<title>0</title>\n",
       "<ellipse fill=\"white\" stroke=\"black\" cx=\"43.55\" cy=\"-18\" rx=\"43.59\" ry=\"18\"/>\n",
       "<text text-anchor=\"middle\" x=\"43.55\" y=\"-14.3\" font-family=\"Times,serif\" font-size=\"14.00\">INPUT&#45;0</text>\n",
       "</g>\n",
       "<!-- 3 -->\n",
       "<g id=\"node4\" class=\"node\">\n",
       "<title>3</title>\n",
       "<ellipse fill=\"white\" stroke=\"black\" cx=\"148.55\" cy=\"-105\" rx=\"51.99\" ry=\"18\"/>\n",
       "<text text-anchor=\"middle\" x=\"148.55\" y=\"-101.3\" font-family=\"Times,serif\" font-size=\"14.00\">OUTPUT&#45;3</text>\n",
       "</g>\n",
       "<!-- 0&#45;&gt;3 -->\n",
       "<g id=\"edge1\" class=\"edge\">\n",
       "<title>0&#45;&gt;3</title>\n",
       "<path fill=\"none\" stroke=\"black\" d=\"M62.8,-34.59C79.13,-47.81 102.74,-66.92 121.06,-81.75\"/>\n",
       "<polygon fill=\"black\" stroke=\"black\" points=\"119.08,-84.65 129.05,-88.22 123.48,-79.21 119.08,-84.65\"/>\n",
       "<text text-anchor=\"middle\" x=\"117.05\" y=\"-57.8\" font-family=\"Times,serif\" font-size=\"14.00\">&#45;0.45</text>\n",
       "</g>\n",
       "<!-- 1 -->\n",
       "<g id=\"node2\" class=\"node\">\n",
       "<title>1</title>\n",
       "<ellipse fill=\"white\" stroke=\"black\" cx=\"148.55\" cy=\"-18\" rx=\"43.59\" ry=\"18\"/>\n",
       "<text text-anchor=\"middle\" x=\"148.55\" y=\"-14.3\" font-family=\"Times,serif\" font-size=\"14.00\">INPUT&#45;1</text>\n",
       "</g>\n",
       "<!-- 1&#45;&gt;3 -->\n",
       "<g id=\"edge2\" class=\"edge\">\n",
       "<title>1&#45;&gt;3</title>\n",
       "<path fill=\"none\" stroke=\"black\" d=\"M148.55,-36.2C148.55,-47.84 148.55,-63.45 148.55,-76.76\"/>\n",
       "<polygon fill=\"black\" stroke=\"black\" points=\"145.05,-76.82 148.55,-86.82 152.05,-76.82 145.05,-76.82\"/>\n",
       "<text text-anchor=\"middle\" x=\"163.05\" y=\"-57.8\" font-family=\"Times,serif\" font-size=\"14.00\">&#45;0.47</text>\n",
       "</g>\n",
       "<!-- 2 -->\n",
       "<g id=\"node3\" class=\"node\">\n",
       "<title>2</title>\n",
       "<ellipse fill=\"white\" stroke=\"black\" cx=\"248.55\" cy=\"-18\" rx=\"38.19\" ry=\"18\"/>\n",
       "<text text-anchor=\"middle\" x=\"248.55\" y=\"-14.3\" font-family=\"Times,serif\" font-size=\"14.00\">BIAS&#45;2</text>\n",
       "</g>\n",
       "<!-- 2&#45;&gt;3 -->\n",
       "<g id=\"edge3\" class=\"edge\">\n",
       "<title>2&#45;&gt;3</title>\n",
       "<path fill=\"none\" stroke=\"black\" d=\"M230.67,-34.2C215.18,-47.36 192.55,-66.6 174.97,-81.54\"/>\n",
       "<polygon fill=\"black\" stroke=\"black\" points=\"172.64,-78.93 167.29,-88.07 177.17,-84.26 172.64,-78.93\"/>\n",
       "<text text-anchor=\"middle\" x=\"216.05\" y=\"-57.8\" font-family=\"Times,serif\" font-size=\"14.00\">0.27</text>\n",
       "</g>\n",
       "</g>\n",
       "</svg>\n"
      ],
      "text/plain": [
       "<graphviz.graphs.Digraph at 0x10f061c10>"
      ]
     },
     "execution_count": 16,
     "metadata": {},
     "output_type": "execute_result"
    }
   ],
   "source": [
    "get_random_individual().show()"
   ]
  },
  {
   "cell_type": "markdown",
   "metadata": {
    "slideshow": {
     "slide_type": "slide"
    }
   },
   "source": [
    "## Network Activation\n",
    "\n",
    "We keep sending the input signal into the network until it stabilises."
   ]
  },
  {
   "cell_type": "code",
   "execution_count": 17,
   "metadata": {
    "slideshow": {
     "slide_type": "fragment"
    }
   },
   "outputs": [],
   "source": [
    "class NetworkChromosome(NetworkChromosome):\n",
    "\n",
    "    def activate(self, inputs: [int, int]):\n",
    "        self.generate()\n",
    "        self.reset()\n",
    "        \n",
    "        stabilise_count = 0\n",
    "        previous_output = 0\n",
    "        activation_rounds = 0\n",
    "        \n",
    "        for n, i_node in enumerate(self.input_nodes): # Load inputs \n",
    "            i_node.node_value = inputs[n]\n",
    "        \n",
    "        # Keep sending the input signal into the network until it stabilises for three\n",
    "        # successive rounds.\n",
    "        while stabilise_count < 3:\n",
    "            activation_rounds += 1\n",
    "            \n",
    "            # For each node compute the weighted sum of all incoming connections.\n",
    "            for node in self.nodes:\n",
    "                if node.type != 'INPUT' and node.type != 'BIAS':\n",
    "                    node.node_value = 0\n",
    "                    for connection in node.incoming_connections:\n",
    "                        if connection.enabled:\n",
    "                            node.node_value += (connection.weight * connection.source.activate())\n",
    "            \n",
    "            # Check if output has stabilised.\n",
    "            if previous_output == self.output_node.node_value:\n",
    "                stabilise_count += 1\n",
    "            else:\n",
    "                stabilise_count = 0\n",
    "            previous_output = self.output_node.node_value\n",
    "\n",
    "            # Sometimes mutation/crossover leads to defect networks.\n",
    "            if activation_rounds > 100:\n",
    "                return self.output_node.activate()\n",
    "\n",
    "        return self.output_node.activate()"
   ]
  },
  {
   "cell_type": "code",
   "execution_count": 18,
   "metadata": {
    "slideshow": {
     "slide_type": "slide"
    }
   },
   "outputs": [
    {
     "data": {
      "image/svg+xml": [
       "<?xml version=\"1.0\" encoding=\"UTF-8\" standalone=\"no\"?>\n",
       "<!DOCTYPE svg PUBLIC \"-//W3C//DTD SVG 1.1//EN\"\n",
       " \"http://www.w3.org/Graphics/SVG/1.1/DTD/svg11.dtd\">\n",
       "<!-- Generated by graphviz version 2.50.0 (20211204.2007)\n",
       " -->\n",
       "<!-- Pages: 1 -->\n",
       "<svg width=\"295pt\" height=\"131pt\"\n",
       " viewBox=\"0.00 0.00 294.89 131.00\" xmlns=\"http://www.w3.org/2000/svg\" xmlns:xlink=\"http://www.w3.org/1999/xlink\">\n",
       "<g id=\"graph0\" class=\"graph\" transform=\"scale(1 1) rotate(0) translate(4 127)\">\n",
       "<polygon fill=\"white\" stroke=\"transparent\" points=\"-4,4 -4,-127 290.89,-127 290.89,4 -4,4\"/>\n",
       "<!-- 0 -->\n",
       "<g id=\"node1\" class=\"node\">\n",
       "<title>0</title>\n",
       "<ellipse fill=\"white\" stroke=\"black\" cx=\"43.55\" cy=\"-18\" rx=\"43.59\" ry=\"18\"/>\n",
       "<text text-anchor=\"middle\" x=\"43.55\" y=\"-14.3\" font-family=\"Times,serif\" font-size=\"14.00\">INPUT&#45;0</text>\n",
       "</g>\n",
       "<!-- 3 -->\n",
       "<g id=\"node4\" class=\"node\">\n",
       "<title>3</title>\n",
       "<ellipse fill=\"white\" stroke=\"black\" cx=\"148.55\" cy=\"-105\" rx=\"51.99\" ry=\"18\"/>\n",
       "<text text-anchor=\"middle\" x=\"148.55\" y=\"-101.3\" font-family=\"Times,serif\" font-size=\"14.00\">OUTPUT&#45;3</text>\n",
       "</g>\n",
       "<!-- 0&#45;&gt;3 -->\n",
       "<g id=\"edge1\" class=\"edge\">\n",
       "<title>0&#45;&gt;3</title>\n",
       "<path fill=\"none\" stroke=\"black\" d=\"M62.8,-34.59C79.13,-47.81 102.74,-66.92 121.06,-81.75\"/>\n",
       "<polygon fill=\"black\" stroke=\"black\" points=\"119.08,-84.65 129.05,-88.22 123.48,-79.21 119.08,-84.65\"/>\n",
       "<text text-anchor=\"middle\" x=\"115.05\" y=\"-57.8\" font-family=\"Times,serif\" font-size=\"14.00\">0.92</text>\n",
       "</g>\n",
       "<!-- 1 -->\n",
       "<g id=\"node2\" class=\"node\">\n",
       "<title>1</title>\n",
       "<ellipse fill=\"white\" stroke=\"black\" cx=\"148.55\" cy=\"-18\" rx=\"43.59\" ry=\"18\"/>\n",
       "<text text-anchor=\"middle\" x=\"148.55\" y=\"-14.3\" font-family=\"Times,serif\" font-size=\"14.00\">INPUT&#45;1</text>\n",
       "</g>\n",
       "<!-- 1&#45;&gt;3 -->\n",
       "<g id=\"edge2\" class=\"edge\">\n",
       "<title>1&#45;&gt;3</title>\n",
       "<path fill=\"none\" stroke=\"black\" d=\"M148.55,-36.2C148.55,-47.84 148.55,-63.45 148.55,-76.76\"/>\n",
       "<polygon fill=\"black\" stroke=\"black\" points=\"145.05,-76.82 148.55,-86.82 152.05,-76.82 145.05,-76.82\"/>\n",
       "<text text-anchor=\"middle\" x=\"163.05\" y=\"-57.8\" font-family=\"Times,serif\" font-size=\"14.00\">&#45;0.04</text>\n",
       "</g>\n",
       "<!-- 2 -->\n",
       "<g id=\"node3\" class=\"node\">\n",
       "<title>2</title>\n",
       "<ellipse fill=\"white\" stroke=\"black\" cx=\"248.55\" cy=\"-18\" rx=\"38.19\" ry=\"18\"/>\n",
       "<text text-anchor=\"middle\" x=\"248.55\" y=\"-14.3\" font-family=\"Times,serif\" font-size=\"14.00\">BIAS&#45;2</text>\n",
       "</g>\n",
       "<!-- 2&#45;&gt;3 -->\n",
       "<g id=\"edge3\" class=\"edge\">\n",
       "<title>2&#45;&gt;3</title>\n",
       "<path fill=\"none\" stroke=\"black\" d=\"M230.67,-34.2C215.18,-47.36 192.55,-66.6 174.97,-81.54\"/>\n",
       "<polygon fill=\"black\" stroke=\"black\" points=\"172.64,-78.93 167.29,-88.07 177.17,-84.26 172.64,-78.93\"/>\n",
       "<text text-anchor=\"middle\" x=\"218.05\" y=\"-57.8\" font-family=\"Times,serif\" font-size=\"14.00\">&#45;0.43</text>\n",
       "</g>\n",
       "</g>\n",
       "</svg>\n"
      ],
      "text/plain": [
       "<graphviz.graphs.Digraph at 0x10990ae80>"
      ]
     },
     "execution_count": 18,
     "metadata": {},
     "output_type": "execute_result"
    }
   ],
   "source": [
    "# Allows us to show networks and other output simultanously\n",
    "from IPython.core.interactiveshell import InteractiveShell\n",
    "InteractiveShell.ast_node_interactivity = \"all\"\n",
    "\n",
    "network = get_random_individual()\n",
    "inputs = [1, 0]\n",
    "network.activate(inputs)\n",
    "network.show()"
   ]
  },
  {
   "cell_type": "markdown",
   "metadata": {
    "slideshow": {
     "slide_type": "slide"
    }
   },
   "source": [
    "## Competing Conventions\n",
    "\n",
    "- Also known as __Permutations Problem__\n",
    "- Same phenotype can be expressed by __more__ than one genotype\n",
    "- Risk of information loss during crossover"
   ]
  },
  {
   "cell_type": "markdown",
   "metadata": {
    "slideshow": {
     "slide_type": "fragment"
    }
   },
   "source": [
    "![Competing Conventions](./data/Neuroevolution/CompetingConventions.png)"
   ]
  },
  {
   "cell_type": "markdown",
   "metadata": {
    "slideshow": {
     "slide_type": "slide"
    }
   },
   "source": [
    "## Innovation Numbers\n",
    "\n",
    "- Neat solves the Competing Conventions problem by introducing __innovation numbers__\n",
    "- Identifies connection genes through their __historical origin__\n",
    "- Whenever a __new__ structural change appears due to mutation, a new innovation number has to be assigned\n",
    "- If the same structural change across several networks is observed, we assign the same innovation number as before"
   ]
  },
  {
   "cell_type": "markdown",
   "metadata": {
    "slideshow": {
     "slide_type": "slide"
    }
   },
   "source": [
    "## Crossover\n",
    "\n",
    " 1. Align the connection genes of both parents\n",
    " 2. Apply different rules based on the innovation numbers. We differentiate:\n",
    "    - Matching genes (white) have the same innovation number &rarr; Inherited randomly.\n",
    "    - Disjoint genes (blue) have diverging innovation numbers within both parents' gene ranges &rarr; Inherited from the more fit parent.\n",
    "    - Excess genes (red) exceed the connection gene range of the opposing parent &rarr; Inherited from the more fit parent.\n",
    "    \n",
    "![Crossover](./data/Neuroevolution/Crossover.png)"
   ]
  },
  {
   "cell_type": "markdown",
   "metadata": {
    "slideshow": {
     "slide_type": "slide"
    }
   },
   "source": [
    "We will use a helper function to determine the type of gene pairs"
   ]
  },
  {
   "cell_type": "code",
   "execution_count": 19,
   "metadata": {
    "pycharm": {
     "name": "#%%\n"
    },
    "slideshow": {
     "slide_type": "fragment"
    }
   },
   "outputs": [],
   "source": [
    "def get_gene_category(parent1: NetworkChromosome, i1: int, parent2: NetworkChromosome, i2: int):\n",
    "    \n",
    "    # We have excess genes if a gene iterator exceeds the length of a parents' gene list.\n",
    "    # Excess genes coming from parent1.\n",
    "    if i2 >= len(parent2.connections):\n",
    "        return \"EXCESS1\"\n",
    "\n",
    "    # Excess genes from parent 2\n",
    "    elif i1 >= len(parent1.connections):\n",
    "        return \"EXCESS2\"\n",
    "\n",
    "    # At this point we know that both parents have a connection gene at the current iterator position.\n",
    "    # To find out whether they are matching or disjoint genes we compare the innovation numbers.\n",
    "    # If the innovation numbers match, we have matching genes at our hands.\n",
    "    elif parent1.connections[i1].innovation == parent2.connections[i2].innovation:\n",
    "        return \"MATCH\"\n",
    "\n",
    "    # If they do not match we must have disjoint genes.\n",
    "    else:\n",
    "        if parent1.connections[i1].innovation < parent2.connections[i2].innovation:\n",
    "            return \"DISJOINT1\"\n",
    "        else:\n",
    "            return \"DISJOINT2\""
   ]
  },
  {
   "cell_type": "code",
   "execution_count": 20,
   "metadata": {
    "slideshow": {
     "slide_type": "slide"
    }
   },
   "outputs": [],
   "source": [
    "import copy\n",
    "\n",
    "def crossover(parent1: NetworkChromosome, parent2: NetworkChromosome):\n",
    "    # Sort the connections to line them up appropriately.\n",
    "    parent1.connections = sorted(parent1.connections, key=lambda x: x.innovation)\n",
    "    parent2.connections = sorted(parent2.connections, key=lambda x: x.innovation)\n",
    "\n",
    "    # Determine which parent is more fit.\n",
    "    if parent1.fitness > parent2.fitness:\n",
    "        parent1_fitter = True\n",
    "    elif parent1.fitness < parent2.fitness:\n",
    "        parent1_fitter = False\n",
    "    else:\n",
    "        parent1_fitter = random.choice([True, False])\n",
    "\n",
    "    child_nodes = []\n",
    "    child_connections = []\n",
    "\n",
    "    # Iterators for both parents\n",
    "    i1 = 0\n",
    "    i2 = 0\n",
    "\n",
    "    # Iterate until we reach the end of both connection gene lists.\n",
    "    while i1 < len(parent1.connections) or i2 < len(parent2.connections):\n",
    "        connection_to_add = None\n",
    "\n",
    "        # Determine type of gene pair\n",
    "        gene_category = get_gene_category(parent1, i1, parent2, i2)\n",
    "\n",
    "        # Only inherit excess genes from the more fit parent.\n",
    "        if gene_category == \"EXCESS1\":\n",
    "            if parent1_fitter:\n",
    "                connection_to_add = copy.deepcopy(parent1.connections[i1])\n",
    "            i1 += 1\n",
    "        elif gene_category == \"EXCESS2\":\n",
    "            if not parent1_fitter:\n",
    "                connection_to_add = copy.deepcopy(parent2.connections[i2])\n",
    "            i2 += 1\n",
    "\n",
    "        # Only inherit disjoint genes from the more fit parent.\n",
    "        elif gene_category == \"DISJOINT1\":\n",
    "            if parent1_fitter:\n",
    "                connection_to_add = copy.deepcopy(parent1.connections[i1])\n",
    "            i1 += 1\n",
    "        elif gene_category == \"DISJOINT2\":\n",
    "            if not parent1_fitter:\n",
    "                connection_to_add = copy.deepcopy(parent2.connections[i2])\n",
    "            i2 += 1\n",
    "\n",
    "        # Matching genes are inherited randomly.\n",
    "        elif gene_category == \"MATCH\":\n",
    "            random_connection = random.choice([parent1.connections[i1], parent2.connections[i2]])\n",
    "            connection_to_add = copy.deepcopy(random_connection)\n",
    "            i1 += 1\n",
    "            i2 += 1\n",
    "\n",
    "        # If we found a connection add it to the child network.\n",
    "        if connection_to_add is not None:\n",
    "            child_connections.append(connection_to_add)\n",
    "\n",
    "            # Check if source node is present in child network.\n",
    "            if not any(node.uid == connection_to_add.source.uid for node in child_nodes):\n",
    "                child_nodes.append(connection_to_add.source)\n",
    "\n",
    "            # Check if target node is present in child network.\n",
    "            if not any(node.uid == connection_to_add.target.uid for node in child_nodes):\n",
    "                child_nodes.append(connection_to_add.target)\n",
    "\n",
    "    return NetworkChromosome(child_nodes, child_connections)"
   ]
  },
  {
   "cell_type": "markdown",
   "metadata": {
    "pycharm": {
     "name": "#%% md\n"
    },
    "slideshow": {
     "slide_type": "slide"
    }
   },
   "source": [
    "The crossover operator only inherits genes from the more fit parent and discards genes from the less fit parent."
   ]
  },
  {
   "cell_type": "code",
   "execution_count": 21,
   "metadata": {
    "pycharm": {
     "name": "#%%\n"
    },
    "slideshow": {
     "slide_type": "fragment"
    }
   },
   "outputs": [],
   "source": [
    "# Add a node to parent 1 to get some diversity between both networks\n",
    "parent_1 = get_random_individual()\n",
    "split_connection = parent_1.connections[1] # Choose the first connection and split it\n",
    "source = split_connection.source\n",
    "target = split_connection.target\n",
    "\n",
    "# Create and add the hidden node to the network\n",
    "hidden = HiddenNode(\"4\")\n",
    "parent_1.nodes.append(hidden)\n",
    "\n",
    "# Establish connections between the hidden node and the split connection's source and target nodes\n",
    "in_connection = ConnectionGene(source, hidden, 1, True, 4)\n",
    "parent_1.connections.append(in_connection)\n",
    "out_connection = ConnectionGene(hidden, target, split_connection.weight, True, 5)\n",
    "parent_1.connections.append(out_connection)\n",
    "parent_1.generate()\n",
    "\n",
    "parent_2 = get_random_individual()"
   ]
  },
  {
   "cell_type": "code",
   "execution_count": 22,
   "metadata": {
    "slideshow": {
     "slide_type": "slide"
    }
   },
   "outputs": [
    {
     "name": "stdout",
     "output_type": "stream",
     "text": [
      "Parent 1\n"
     ]
    },
    {
     "data": {
      "image/svg+xml": [
       "<?xml version=\"1.0\" encoding=\"UTF-8\" standalone=\"no\"?>\n",
       "<!DOCTYPE svg PUBLIC \"-//W3C//DTD SVG 1.1//EN\"\n",
       " \"http://www.w3.org/Graphics/SVG/1.1/DTD/svg11.dtd\">\n",
       "<!-- Generated by graphviz version 2.50.0 (20211204.2007)\n",
       " -->\n",
       "<!-- Pages: 1 -->\n",
       "<svg width=\"338pt\" height=\"218pt\"\n",
       " viewBox=\"0.00 0.00 337.89 218.00\" xmlns=\"http://www.w3.org/2000/svg\" xmlns:xlink=\"http://www.w3.org/1999/xlink\">\n",
       "<g id=\"graph0\" class=\"graph\" transform=\"scale(1 1) rotate(0) translate(4 214)\">\n",
       "<polygon fill=\"white\" stroke=\"transparent\" points=\"-4,4 -4,-214 333.89,-214 333.89,4 -4,4\"/>\n",
       "<!-- 0 -->\n",
       "<g id=\"node1\" class=\"node\">\n",
       "<title>0</title>\n",
       "<ellipse fill=\"white\" stroke=\"black\" cx=\"43.55\" cy=\"-18\" rx=\"43.59\" ry=\"18\"/>\n",
       "<text text-anchor=\"middle\" x=\"43.55\" y=\"-14.3\" font-family=\"Times,serif\" font-size=\"14.00\">INPUT&#45;0</text>\n",
       "</g>\n",
       "<!-- 3 -->\n",
       "<g id=\"node5\" class=\"node\">\n",
       "<title>3</title>\n",
       "<ellipse fill=\"white\" stroke=\"black\" cx=\"208.55\" cy=\"-192\" rx=\"51.99\" ry=\"18\"/>\n",
       "<text text-anchor=\"middle\" x=\"208.55\" y=\"-188.3\" font-family=\"Times,serif\" font-size=\"14.00\">OUTPUT&#45;3</text>\n",
       "</g>\n",
       "<!-- 0&#45;&gt;3 -->\n",
       "<g id=\"edge1\" class=\"edge\">\n",
       "<title>0&#45;&gt;3</title>\n",
       "<path fill=\"none\" stroke=\"black\" d=\"M49.14,-36.22C57.56,-63.68 72.55,-112.5 72.55,-112.5 72.55,-112.5 132.94,-147.8 173.24,-171.36\"/>\n",
       "<polygon fill=\"black\" stroke=\"black\" points=\"171.6,-174.46 182,-176.48 175.13,-168.41 171.6,-174.46\"/>\n",
       "<text text-anchor=\"middle\" x=\"58.05\" y=\"-101.3\" font-family=\"Times,serif\" font-size=\"14.00\">&#45;0.66</text>\n",
       "</g>\n",
       "<!-- 1 -->\n",
       "<g id=\"node2\" class=\"node\">\n",
       "<title>1</title>\n",
       "<ellipse fill=\"white\" stroke=\"black\" cx=\"170.55\" cy=\"-18\" rx=\"43.59\" ry=\"18\"/>\n",
       "<text text-anchor=\"middle\" x=\"170.55\" y=\"-14.3\" font-family=\"Times,serif\" font-size=\"14.00\">INPUT&#45;1</text>\n",
       "</g>\n",
       "<!-- 4 -->\n",
       "<g id=\"node4\" class=\"node\">\n",
       "<title>4</title>\n",
       "<ellipse fill=\"white\" stroke=\"black\" cx=\"142.55\" cy=\"-105\" rx=\"51.99\" ry=\"18\"/>\n",
       "<text text-anchor=\"middle\" x=\"142.55\" y=\"-101.3\" font-family=\"Times,serif\" font-size=\"14.00\">HIDDEN&#45;4</text>\n",
       "</g>\n",
       "<!-- 1&#45;&gt;4 -->\n",
       "<g id=\"edge4\" class=\"edge\">\n",
       "<title>1&#45;&gt;4</title>\n",
       "<path fill=\"none\" stroke=\"black\" d=\"M164.88,-36.2C161.01,-47.95 155.8,-63.76 151.39,-77.16\"/>\n",
       "<polygon fill=\"black\" stroke=\"black\" points=\"148.01,-76.23 148.2,-86.82 154.66,-78.42 148.01,-76.23\"/>\n",
       "<text text-anchor=\"middle\" x=\"162.05\" y=\"-57.8\" font-family=\"Times,serif\" font-size=\"14.00\">1</text>\n",
       "</g>\n",
       "<!-- 1&#45;&gt;3 -->\n",
       "<g id=\"edge2\" class=\"edge\">\n",
       "<title>1&#45;&gt;3</title>\n",
       "<path fill=\"none\" stroke=\"black\" d=\"M183.57,-35.25C201.21,-58.63 230.55,-97.5 230.55,-97.5 230.55,-97.5 221.61,-135.88 215.13,-163.73\"/>\n",
       "<polygon fill=\"black\" stroke=\"black\" points=\"211.65,-163.25 212.79,-173.78 218.46,-164.83 211.65,-163.25\"/>\n",
       "<text text-anchor=\"middle\" x=\"243.05\" y=\"-101.3\" font-family=\"Times,serif\" font-size=\"14.00\">0.43</text>\n",
       "</g>\n",
       "<!-- 2 -->\n",
       "<g id=\"node3\" class=\"node\">\n",
       "<title>2</title>\n",
       "<ellipse fill=\"white\" stroke=\"black\" cx=\"291.55\" cy=\"-18\" rx=\"38.19\" ry=\"18\"/>\n",
       "<text text-anchor=\"middle\" x=\"291.55\" y=\"-14.3\" font-family=\"Times,serif\" font-size=\"14.00\">BIAS&#45;2</text>\n",
       "</g>\n",
       "<!-- 2&#45;&gt;3 -->\n",
       "<g id=\"edge3\" class=\"edge\">\n",
       "<title>2&#45;&gt;3</title>\n",
       "<path fill=\"none\" stroke=\"black\" d=\"M291.55,-36.04C291.55,-59.5 291.55,-97.5 291.55,-97.5 291.55,-97.5 255.25,-138.82 230.66,-166.82\"/>\n",
       "<polygon fill=\"black\" stroke=\"black\" points=\"227.74,-164.84 223.77,-174.67 233,-169.46 227.74,-164.84\"/>\n",
       "<text text-anchor=\"middle\" x=\"306.05\" y=\"-101.3\" font-family=\"Times,serif\" font-size=\"14.00\">&#45;0.44</text>\n",
       "</g>\n",
       "<!-- 4&#45;&gt;3 -->\n",
       "<g id=\"edge5\" class=\"edge\">\n",
       "<title>4&#45;&gt;3</title>\n",
       "<path fill=\"none\" stroke=\"black\" d=\"M155.59,-122.79C165.23,-135.21 178.52,-152.33 189.37,-166.3\"/>\n",
       "<polygon fill=\"black\" stroke=\"black\" points=\"186.86,-168.78 195.76,-174.53 192.39,-164.49 186.86,-168.78\"/>\n",
       "<text text-anchor=\"middle\" x=\"192.05\" y=\"-144.8\" font-family=\"Times,serif\" font-size=\"14.00\">0.43</text>\n",
       "</g>\n",
       "</g>\n",
       "</svg>\n"
      ],
      "text/plain": [
       "<graphviz.graphs.Digraph at 0x10efb7430>"
      ]
     },
     "execution_count": 22,
     "metadata": {},
     "output_type": "execute_result"
    },
    {
     "name": "stdout",
     "output_type": "stream",
     "text": [
      "Parent 2\n"
     ]
    },
    {
     "data": {
      "image/svg+xml": [
       "<?xml version=\"1.0\" encoding=\"UTF-8\" standalone=\"no\"?>\n",
       "<!DOCTYPE svg PUBLIC \"-//W3C//DTD SVG 1.1//EN\"\n",
       " \"http://www.w3.org/Graphics/SVG/1.1/DTD/svg11.dtd\">\n",
       "<!-- Generated by graphviz version 2.50.0 (20211204.2007)\n",
       " -->\n",
       "<!-- Pages: 1 -->\n",
       "<svg width=\"295pt\" height=\"131pt\"\n",
       " viewBox=\"0.00 0.00 294.89 131.00\" xmlns=\"http://www.w3.org/2000/svg\" xmlns:xlink=\"http://www.w3.org/1999/xlink\">\n",
       "<g id=\"graph0\" class=\"graph\" transform=\"scale(1 1) rotate(0) translate(4 127)\">\n",
       "<polygon fill=\"white\" stroke=\"transparent\" points=\"-4,4 -4,-127 290.89,-127 290.89,4 -4,4\"/>\n",
       "<!-- 0 -->\n",
       "<g id=\"node1\" class=\"node\">\n",
       "<title>0</title>\n",
       "<ellipse fill=\"white\" stroke=\"black\" cx=\"43.55\" cy=\"-18\" rx=\"43.59\" ry=\"18\"/>\n",
       "<text text-anchor=\"middle\" x=\"43.55\" y=\"-14.3\" font-family=\"Times,serif\" font-size=\"14.00\">INPUT&#45;0</text>\n",
       "</g>\n",
       "<!-- 3 -->\n",
       "<g id=\"node4\" class=\"node\">\n",
       "<title>3</title>\n",
       "<ellipse fill=\"white\" stroke=\"black\" cx=\"148.55\" cy=\"-105\" rx=\"51.99\" ry=\"18\"/>\n",
       "<text text-anchor=\"middle\" x=\"148.55\" y=\"-101.3\" font-family=\"Times,serif\" font-size=\"14.00\">OUTPUT&#45;3</text>\n",
       "</g>\n",
       "<!-- 0&#45;&gt;3 -->\n",
       "<g id=\"edge1\" class=\"edge\">\n",
       "<title>0&#45;&gt;3</title>\n",
       "<path fill=\"none\" stroke=\"black\" d=\"M62.8,-34.59C79.13,-47.81 102.74,-66.92 121.06,-81.75\"/>\n",
       "<polygon fill=\"black\" stroke=\"black\" points=\"119.08,-84.65 129.05,-88.22 123.48,-79.21 119.08,-84.65\"/>\n",
       "<text text-anchor=\"middle\" x=\"115.05\" y=\"-57.8\" font-family=\"Times,serif\" font-size=\"14.00\">0.24</text>\n",
       "</g>\n",
       "<!-- 1 -->\n",
       "<g id=\"node2\" class=\"node\">\n",
       "<title>1</title>\n",
       "<ellipse fill=\"white\" stroke=\"black\" cx=\"148.55\" cy=\"-18\" rx=\"43.59\" ry=\"18\"/>\n",
       "<text text-anchor=\"middle\" x=\"148.55\" y=\"-14.3\" font-family=\"Times,serif\" font-size=\"14.00\">INPUT&#45;1</text>\n",
       "</g>\n",
       "<!-- 1&#45;&gt;3 -->\n",
       "<g id=\"edge2\" class=\"edge\">\n",
       "<title>1&#45;&gt;3</title>\n",
       "<path fill=\"none\" stroke=\"black\" d=\"M148.55,-36.2C148.55,-47.84 148.55,-63.45 148.55,-76.76\"/>\n",
       "<polygon fill=\"black\" stroke=\"black\" points=\"145.05,-76.82 148.55,-86.82 152.05,-76.82 145.05,-76.82\"/>\n",
       "<text text-anchor=\"middle\" x=\"163.05\" y=\"-57.8\" font-family=\"Times,serif\" font-size=\"14.00\">&#45;0.49</text>\n",
       "</g>\n",
       "<!-- 2 -->\n",
       "<g id=\"node3\" class=\"node\">\n",
       "<title>2</title>\n",
       "<ellipse fill=\"white\" stroke=\"black\" cx=\"248.55\" cy=\"-18\" rx=\"38.19\" ry=\"18\"/>\n",
       "<text text-anchor=\"middle\" x=\"248.55\" y=\"-14.3\" font-family=\"Times,serif\" font-size=\"14.00\">BIAS&#45;2</text>\n",
       "</g>\n",
       "<!-- 2&#45;&gt;3 -->\n",
       "<g id=\"edge3\" class=\"edge\">\n",
       "<title>2&#45;&gt;3</title>\n",
       "<path fill=\"none\" stroke=\"black\" d=\"M230.67,-34.2C215.18,-47.36 192.55,-66.6 174.97,-81.54\"/>\n",
       "<polygon fill=\"black\" stroke=\"black\" points=\"172.64,-78.93 167.29,-88.07 177.17,-84.26 172.64,-78.93\"/>\n",
       "<text text-anchor=\"middle\" x=\"212.55\" y=\"-57.8\" font-family=\"Times,serif\" font-size=\"14.00\">1.0</text>\n",
       "</g>\n",
       "</g>\n",
       "</svg>\n"
      ],
      "text/plain": [
       "<graphviz.graphs.Digraph at 0x10f0616a0>"
      ]
     },
     "execution_count": 22,
     "metadata": {},
     "output_type": "execute_result"
    },
    {
     "name": "stdout",
     "output_type": "stream",
     "text": [
      "Crossover Child\n"
     ]
    },
    {
     "data": {
      "image/svg+xml": [
       "<?xml version=\"1.0\" encoding=\"UTF-8\" standalone=\"no\"?>\n",
       "<!DOCTYPE svg PUBLIC \"-//W3C//DTD SVG 1.1//EN\"\n",
       " \"http://www.w3.org/Graphics/SVG/1.1/DTD/svg11.dtd\">\n",
       "<!-- Generated by graphviz version 2.50.0 (20211204.2007)\n",
       " -->\n",
       "<!-- Pages: 1 -->\n",
       "<svg width=\"295pt\" height=\"131pt\"\n",
       " viewBox=\"0.00 0.00 294.89 131.00\" xmlns=\"http://www.w3.org/2000/svg\" xmlns:xlink=\"http://www.w3.org/1999/xlink\">\n",
       "<g id=\"graph0\" class=\"graph\" transform=\"scale(1 1) rotate(0) translate(4 127)\">\n",
       "<polygon fill=\"white\" stroke=\"transparent\" points=\"-4,4 -4,-127 290.89,-127 290.89,4 -4,4\"/>\n",
       "<!-- 0 -->\n",
       "<g id=\"node1\" class=\"node\">\n",
       "<title>0</title>\n",
       "<ellipse fill=\"white\" stroke=\"black\" cx=\"43.55\" cy=\"-18\" rx=\"43.59\" ry=\"18\"/>\n",
       "<text text-anchor=\"middle\" x=\"43.55\" y=\"-14.3\" font-family=\"Times,serif\" font-size=\"14.00\">INPUT&#45;0</text>\n",
       "</g>\n",
       "<!-- 3 -->\n",
       "<g id=\"node4\" class=\"node\">\n",
       "<title>3</title>\n",
       "<ellipse fill=\"white\" stroke=\"black\" cx=\"148.55\" cy=\"-105\" rx=\"51.99\" ry=\"18\"/>\n",
       "<text text-anchor=\"middle\" x=\"148.55\" y=\"-101.3\" font-family=\"Times,serif\" font-size=\"14.00\">OUTPUT&#45;3</text>\n",
       "</g>\n",
       "<!-- 0&#45;&gt;3 -->\n",
       "<g id=\"edge1\" class=\"edge\">\n",
       "<title>0&#45;&gt;3</title>\n",
       "<path fill=\"none\" stroke=\"black\" d=\"M62.8,-34.59C79.13,-47.81 102.74,-66.92 121.06,-81.75\"/>\n",
       "<polygon fill=\"black\" stroke=\"black\" points=\"119.08,-84.65 129.05,-88.22 123.48,-79.21 119.08,-84.65\"/>\n",
       "<text text-anchor=\"middle\" x=\"115.05\" y=\"-57.8\" font-family=\"Times,serif\" font-size=\"14.00\">0.24</text>\n",
       "</g>\n",
       "<!-- 1 -->\n",
       "<g id=\"node2\" class=\"node\">\n",
       "<title>1</title>\n",
       "<ellipse fill=\"white\" stroke=\"black\" cx=\"148.55\" cy=\"-18\" rx=\"43.59\" ry=\"18\"/>\n",
       "<text text-anchor=\"middle\" x=\"148.55\" y=\"-14.3\" font-family=\"Times,serif\" font-size=\"14.00\">INPUT&#45;1</text>\n",
       "</g>\n",
       "<!-- 1&#45;&gt;3 -->\n",
       "<g id=\"edge2\" class=\"edge\">\n",
       "<title>1&#45;&gt;3</title>\n",
       "<path fill=\"none\" stroke=\"black\" d=\"M148.55,-36.2C148.55,-47.84 148.55,-63.45 148.55,-76.76\"/>\n",
       "<polygon fill=\"black\" stroke=\"black\" points=\"145.05,-76.82 148.55,-86.82 152.05,-76.82 145.05,-76.82\"/>\n",
       "<text text-anchor=\"middle\" x=\"163.05\" y=\"-57.8\" font-family=\"Times,serif\" font-size=\"14.00\">&#45;0.49</text>\n",
       "</g>\n",
       "<!-- 2 -->\n",
       "<g id=\"node3\" class=\"node\">\n",
       "<title>2</title>\n",
       "<ellipse fill=\"white\" stroke=\"black\" cx=\"248.55\" cy=\"-18\" rx=\"38.19\" ry=\"18\"/>\n",
       "<text text-anchor=\"middle\" x=\"248.55\" y=\"-14.3\" font-family=\"Times,serif\" font-size=\"14.00\">BIAS&#45;2</text>\n",
       "</g>\n",
       "<!-- 2&#45;&gt;3 -->\n",
       "<g id=\"edge3\" class=\"edge\">\n",
       "<title>2&#45;&gt;3</title>\n",
       "<path fill=\"none\" stroke=\"black\" d=\"M230.67,-34.2C215.18,-47.36 192.55,-66.6 174.97,-81.54\"/>\n",
       "<polygon fill=\"black\" stroke=\"black\" points=\"172.64,-78.93 167.29,-88.07 177.17,-84.26 172.64,-78.93\"/>\n",
       "<text text-anchor=\"middle\" x=\"212.55\" y=\"-57.8\" font-family=\"Times,serif\" font-size=\"14.00\">1.0</text>\n",
       "</g>\n",
       "</g>\n",
       "</svg>\n"
      ],
      "text/plain": [
       "<graphviz.graphs.Digraph at 0x10f061880>"
      ]
     },
     "execution_count": 22,
     "metadata": {},
     "output_type": "execute_result"
    }
   ],
   "source": [
    "# Change fitness to see the more fit parent prevail.\n",
    "parent_1.fitness = 5\n",
    "parent_2.fitness = 5\n",
    "print(\"Parent 1\")\n",
    "parent_1.show()\n",
    "print(\"Parent 2\")\n",
    "parent_2.show()\n",
    "\n",
    "print(\"Crossover Child\")\n",
    "crossover(parent_1, parent_2).show()"
   ]
  },
  {
   "cell_type": "markdown",
   "metadata": {
    "slideshow": {
     "slide_type": "slide"
    }
   },
   "source": [
    "## Mutation\n",
    "\n",
    "   - Structural mutations change the structure of a network and lead to new innovation numbers:\n",
    "        - Add Node Mutation: Adds a new node to the network by placing the new node inbetween an existing connection\n",
    "        - Add Connection Mutation: Adds a new connection between currently disconnected nodes\n",
    "   - Non-Structural mutations change non-structural attributes of the network and do __not__ introduce novel innovation numbers:\n",
    "        - Weight Mutation: Mutate all weights of a network\n",
    "        - Enabled Mutation: Toggles the enable state of a randomly chosen connection"
   ]
  },
  {
   "cell_type": "markdown",
   "metadata": {
    "slideshow": {
     "slide_type": "slide"
    }
   },
   "source": [
    "## Add Node Mutation\n",
    " - Adds a hidden node to the network by splitting an existing connection\n",
    " - __Source Node &rarr; new node__: connection obtains a weight of 1\n",
    " - __New node &rarr; target node__: connection inherits the old connection value\n",
    " - Reasoning of weight distribution is to keep the influence of the new node as small as possible\n",
    " - For the two new connections, we have to check whether the same structural change has already occurred in the past when assigning an innovation number"
   ]
  },
  {
   "cell_type": "code",
   "execution_count": 23,
   "metadata": {
    "pycharm": {
     "name": "#%%\n"
    },
    "slideshow": {
     "slide_type": "slide"
    }
   },
   "outputs": [],
   "source": [
    "import re\n",
    "\n",
    "def add_node(chromosome: NetworkChromosome, current_innovations:dict):\n",
    "    # Pick a random connection inbetween which the new node will we placed. The old connection is disabled.\n",
    "    split_connection = random.choice(chromosome.connections)\n",
    "    split_connection.enabled = False\n",
    "    source = split_connection.source\n",
    "    target = split_connection.target\n",
    "\n",
    "    # Create the hidden node; as an id we concatenate the source node id with the target node id.\n",
    "    uid = source.uid + target.uid\n",
    "    regex = re.compile(uid+\"-[0-9]*\")\n",
    "    uid += str(sum(1 for node in chromosome.nodes if regex.match(node.uid)))\n",
    "    hidden = HiddenNode(uid)\n",
    "    chromosome.nodes.append(hidden)\n",
    "\n",
    "    # Check if we have previously seen a structural change between source -> hidden.\n",
    "    innovation_key = source.uid + \"-\" + hidden.uid\n",
    "    if innovation_key not in current_innovations:\n",
    "        current_innovations[innovation_key] = ConnectionGene.next_innovation_number()\n",
    "        \n",
    "    # Source -> hidden gets a weight of 1.\n",
    "    in_connection = ConnectionGene(source, hidden, 1, True, current_innovations[innovation_key])\n",
    "    chromosome.connections.append(in_connection)\n",
    "\n",
    "    # Check if we have previously seen a structural change between hidden -> target.\n",
    "    innovation_key = hidden.uid + \"-\" + target.uid\n",
    "    if innovation_key not in current_innovations:\n",
    "        current_innovations[innovation_key] = ConnectionGene.next_innovation_number()\n",
    "        \n",
    "    # Hidden -> target gets the same weight as the old connection.\n",
    "    out_connection = ConnectionGene(hidden, target, split_connection.weight, True, current_innovations[innovation_key])\n",
    "    chromosome.connections.append(out_connection)"
   ]
  },
  {
   "cell_type": "code",
   "execution_count": 24,
   "metadata": {
    "slideshow": {
     "slide_type": "slide"
    }
   },
   "outputs": [
    {
     "name": "stdout",
     "output_type": "stream",
     "text": [
      "Original\n"
     ]
    },
    {
     "data": {
      "image/svg+xml": [
       "<?xml version=\"1.0\" encoding=\"UTF-8\" standalone=\"no\"?>\n",
       "<!DOCTYPE svg PUBLIC \"-//W3C//DTD SVG 1.1//EN\"\n",
       " \"http://www.w3.org/Graphics/SVG/1.1/DTD/svg11.dtd\">\n",
       "<!-- Generated by graphviz version 2.50.0 (20211204.2007)\n",
       " -->\n",
       "<!-- Pages: 1 -->\n",
       "<svg width=\"295pt\" height=\"131pt\"\n",
       " viewBox=\"0.00 0.00 294.89 131.00\" xmlns=\"http://www.w3.org/2000/svg\" xmlns:xlink=\"http://www.w3.org/1999/xlink\">\n",
       "<g id=\"graph0\" class=\"graph\" transform=\"scale(1 1) rotate(0) translate(4 127)\">\n",
       "<polygon fill=\"white\" stroke=\"transparent\" points=\"-4,4 -4,-127 290.89,-127 290.89,4 -4,4\"/>\n",
       "<!-- 0 -->\n",
       "<g id=\"node1\" class=\"node\">\n",
       "<title>0</title>\n",
       "<ellipse fill=\"white\" stroke=\"black\" cx=\"43.55\" cy=\"-18\" rx=\"43.59\" ry=\"18\"/>\n",
       "<text text-anchor=\"middle\" x=\"43.55\" y=\"-14.3\" font-family=\"Times,serif\" font-size=\"14.00\">INPUT&#45;0</text>\n",
       "</g>\n",
       "<!-- 3 -->\n",
       "<g id=\"node4\" class=\"node\">\n",
       "<title>3</title>\n",
       "<ellipse fill=\"white\" stroke=\"black\" cx=\"148.55\" cy=\"-105\" rx=\"51.99\" ry=\"18\"/>\n",
       "<text text-anchor=\"middle\" x=\"148.55\" y=\"-101.3\" font-family=\"Times,serif\" font-size=\"14.00\">OUTPUT&#45;3</text>\n",
       "</g>\n",
       "<!-- 0&#45;&gt;3 -->\n",
       "<g id=\"edge1\" class=\"edge\">\n",
       "<title>0&#45;&gt;3</title>\n",
       "<path fill=\"none\" stroke=\"black\" d=\"M62.8,-34.59C79.13,-47.81 102.74,-66.92 121.06,-81.75\"/>\n",
       "<polygon fill=\"black\" stroke=\"black\" points=\"119.08,-84.65 129.05,-88.22 123.48,-79.21 119.08,-84.65\"/>\n",
       "<text text-anchor=\"middle\" x=\"115.05\" y=\"-57.8\" font-family=\"Times,serif\" font-size=\"14.00\">0.05</text>\n",
       "</g>\n",
       "<!-- 1 -->\n",
       "<g id=\"node2\" class=\"node\">\n",
       "<title>1</title>\n",
       "<ellipse fill=\"white\" stroke=\"black\" cx=\"148.55\" cy=\"-18\" rx=\"43.59\" ry=\"18\"/>\n",
       "<text text-anchor=\"middle\" x=\"148.55\" y=\"-14.3\" font-family=\"Times,serif\" font-size=\"14.00\">INPUT&#45;1</text>\n",
       "</g>\n",
       "<!-- 1&#45;&gt;3 -->\n",
       "<g id=\"edge2\" class=\"edge\">\n",
       "<title>1&#45;&gt;3</title>\n",
       "<path fill=\"none\" stroke=\"black\" d=\"M148.55,-36.2C148.55,-47.84 148.55,-63.45 148.55,-76.76\"/>\n",
       "<polygon fill=\"black\" stroke=\"black\" points=\"145.05,-76.82 148.55,-86.82 152.05,-76.82 145.05,-76.82\"/>\n",
       "<text text-anchor=\"middle\" x=\"163.05\" y=\"-57.8\" font-family=\"Times,serif\" font-size=\"14.00\">&#45;0.74</text>\n",
       "</g>\n",
       "<!-- 2 -->\n",
       "<g id=\"node3\" class=\"node\">\n",
       "<title>2</title>\n",
       "<ellipse fill=\"white\" stroke=\"black\" cx=\"248.55\" cy=\"-18\" rx=\"38.19\" ry=\"18\"/>\n",
       "<text text-anchor=\"middle\" x=\"248.55\" y=\"-14.3\" font-family=\"Times,serif\" font-size=\"14.00\">BIAS&#45;2</text>\n",
       "</g>\n",
       "<!-- 2&#45;&gt;3 -->\n",
       "<g id=\"edge3\" class=\"edge\">\n",
       "<title>2&#45;&gt;3</title>\n",
       "<path fill=\"none\" stroke=\"black\" d=\"M230.67,-34.2C215.18,-47.36 192.55,-66.6 174.97,-81.54\"/>\n",
       "<polygon fill=\"black\" stroke=\"black\" points=\"172.64,-78.93 167.29,-88.07 177.17,-84.26 172.64,-78.93\"/>\n",
       "<text text-anchor=\"middle\" x=\"218.05\" y=\"-57.8\" font-family=\"Times,serif\" font-size=\"14.00\">&#45;0.32</text>\n",
       "</g>\n",
       "</g>\n",
       "</svg>\n"
      ],
      "text/plain": [
       "<graphviz.graphs.Digraph at 0x10f061a60>"
      ]
     },
     "execution_count": 24,
     "metadata": {},
     "output_type": "execute_result"
    },
    {
     "name": "stdout",
     "output_type": "stream",
     "text": [
      "Node mutation\n"
     ]
    },
    {
     "data": {
      "image/svg+xml": [
       "<?xml version=\"1.0\" encoding=\"UTF-8\" standalone=\"no\"?>\n",
       "<!DOCTYPE svg PUBLIC \"-//W3C//DTD SVG 1.1//EN\"\n",
       " \"http://www.w3.org/Graphics/SVG/1.1/DTD/svg11.dtd\">\n",
       "<!-- Generated by graphviz version 2.50.0 (20211204.2007)\n",
       " -->\n",
       "<!-- Pages: 1 -->\n",
       "<svg width=\"354pt\" height=\"218pt\"\n",
       " viewBox=\"0.00 0.00 353.89 218.00\" xmlns=\"http://www.w3.org/2000/svg\" xmlns:xlink=\"http://www.w3.org/1999/xlink\">\n",
       "<g id=\"graph0\" class=\"graph\" transform=\"scale(1 1) rotate(0) translate(4 214)\">\n",
       "<polygon fill=\"white\" stroke=\"transparent\" points=\"-4,4 -4,-214 349.89,-214 349.89,4 -4,4\"/>\n",
       "<!-- 0 -->\n",
       "<g id=\"node1\" class=\"node\">\n",
       "<title>0</title>\n",
       "<ellipse fill=\"white\" stroke=\"black\" cx=\"43.55\" cy=\"-18\" rx=\"43.59\" ry=\"18\"/>\n",
       "<text text-anchor=\"middle\" x=\"43.55\" y=\"-14.3\" font-family=\"Times,serif\" font-size=\"14.00\">INPUT&#45;0</text>\n",
       "</g>\n",
       "<!-- 3 -->\n",
       "<g id=\"node5\" class=\"node\">\n",
       "<title>3</title>\n",
       "<ellipse fill=\"white\" stroke=\"black\" cx=\"218.55\" cy=\"-192\" rx=\"51.99\" ry=\"18\"/>\n",
       "<text text-anchor=\"middle\" x=\"218.55\" y=\"-188.3\" font-family=\"Times,serif\" font-size=\"14.00\">OUTPUT&#45;3</text>\n",
       "</g>\n",
       "<!-- 0&#45;&gt;3 -->\n",
       "<g id=\"edge1\" class=\"edge\">\n",
       "<title>0&#45;&gt;3</title>\n",
       "<path fill=\"none\" stroke=\"black\" d=\"M48.37,-36.22C55.63,-63.68 68.55,-112.5 68.55,-112.5 68.55,-112.5 136.45,-148.49 180.89,-172.04\"/>\n",
       "<polygon fill=\"black\" stroke=\"black\" points=\"179.5,-175.27 189.98,-176.86 182.78,-169.08 179.5,-175.27\"/>\n",
       "<text text-anchor=\"middle\" x=\"56.05\" y=\"-101.3\" font-family=\"Times,serif\" font-size=\"14.00\">0.05</text>\n",
       "</g>\n",
       "<!-- 1 -->\n",
       "<g id=\"node2\" class=\"node\">\n",
       "<title>1</title>\n",
       "<ellipse fill=\"white\" stroke=\"black\" cx=\"178.55\" cy=\"-18\" rx=\"43.59\" ry=\"18\"/>\n",
       "<text text-anchor=\"middle\" x=\"178.55\" y=\"-14.3\" font-family=\"Times,serif\" font-size=\"14.00\">INPUT&#45;1</text>\n",
       "</g>\n",
       "<!-- 130 -->\n",
       "<g id=\"node4\" class=\"node\">\n",
       "<title>130</title>\n",
       "<ellipse fill=\"white\" stroke=\"black\" cx=\"146.55\" cy=\"-105\" rx=\"60.39\" ry=\"18\"/>\n",
       "<text text-anchor=\"middle\" x=\"146.55\" y=\"-101.3\" font-family=\"Times,serif\" font-size=\"14.00\">HIDDEN&#45;130</text>\n",
       "</g>\n",
       "<!-- 1&#45;&gt;130 -->\n",
       "<g id=\"edge4\" class=\"edge\">\n",
       "<title>1&#45;&gt;130</title>\n",
       "<path fill=\"none\" stroke=\"black\" d=\"M172.07,-36.2C167.65,-47.95 161.69,-63.76 156.65,-77.16\"/>\n",
       "<polygon fill=\"black\" stroke=\"black\" points=\"153.26,-76.23 153.01,-86.82 159.81,-78.7 153.26,-76.23\"/>\n",
       "<text text-anchor=\"middle\" x=\"168.05\" y=\"-57.8\" font-family=\"Times,serif\" font-size=\"14.00\">1</text>\n",
       "</g>\n",
       "<!-- 1&#45;&gt;3 -->\n",
       "<g id=\"edge2\" class=\"edge\">\n",
       "<title>1&#45;&gt;3</title>\n",
       "<path fill=\"none\" stroke=\"black\" stroke-dasharray=\"1,5\" d=\"M192.43,-35.25C211.26,-58.63 242.55,-97.5 242.55,-97.5 242.55,-97.5 232.8,-135.88 225.73,-163.73\"/>\n",
       "<polygon fill=\"black\" stroke=\"black\" points=\"222.24,-163.23 223.17,-173.78 229.03,-164.95 222.24,-163.23\"/>\n",
       "<text text-anchor=\"middle\" x=\"257.05\" y=\"-101.3\" font-family=\"Times,serif\" font-size=\"14.00\">&#45;0.74</text>\n",
       "</g>\n",
       "<!-- 2 -->\n",
       "<g id=\"node3\" class=\"node\">\n",
       "<title>2</title>\n",
       "<ellipse fill=\"white\" stroke=\"black\" cx=\"307.55\" cy=\"-18\" rx=\"38.19\" ry=\"18\"/>\n",
       "<text text-anchor=\"middle\" x=\"307.55\" y=\"-14.3\" font-family=\"Times,serif\" font-size=\"14.00\">BIAS&#45;2</text>\n",
       "</g>\n",
       "<!-- 2&#45;&gt;3 -->\n",
       "<g id=\"edge3\" class=\"edge\">\n",
       "<title>2&#45;&gt;3</title>\n",
       "<path fill=\"none\" stroke=\"black\" d=\"M307.55,-36.04C307.55,-59.5 307.55,-97.5 307.55,-97.5 307.55,-97.5 268.29,-139.18 241.92,-167.18\"/>\n",
       "<polygon fill=\"black\" stroke=\"black\" points=\"239.18,-164.99 234.87,-174.67 244.27,-169.79 239.18,-164.99\"/>\n",
       "<text text-anchor=\"middle\" x=\"322.05\" y=\"-101.3\" font-family=\"Times,serif\" font-size=\"14.00\">&#45;0.32</text>\n",
       "</g>\n",
       "<!-- 130&#45;&gt;3 -->\n",
       "<g id=\"edge5\" class=\"edge\">\n",
       "<title>130&#45;&gt;3</title>\n",
       "<path fill=\"none\" stroke=\"black\" d=\"M160.77,-122.79C171.39,-135.33 186.06,-152.65 197.96,-166.7\"/>\n",
       "<polygon fill=\"black\" stroke=\"black\" points=\"195.46,-169.16 204.6,-174.53 200.8,-164.64 195.46,-169.16\"/>\n",
       "<text text-anchor=\"middle\" x=\"202.05\" y=\"-144.8\" font-family=\"Times,serif\" font-size=\"14.00\">&#45;0.74</text>\n",
       "</g>\n",
       "</g>\n",
       "</svg>\n"
      ],
      "text/plain": [
       "<graphviz.graphs.Digraph at 0x10f043a90>"
      ]
     },
     "execution_count": 24,
     "metadata": {},
     "output_type": "execute_result"
    }
   ],
   "source": [
    "print(\"Original\")\n",
    "network = get_random_individual()\n",
    "network.show()\n",
    "print(\"Node mutation\")\n",
    "add_node(network, {})\n",
    "network.show()"
   ]
  },
  {
   "cell_type": "markdown",
   "metadata": {
    "slideshow": {
     "slide_type": "slide"
    }
   },
   "source": [
    "## Add Connection Mutation\n",
    "\n",
    "- Add a new connection between two previously disconnected nodes\n",
    "- Do not allow connections leading into the bias and input nodes since we do not want to change their node values\n",
    "- Do not allow connections leading out of the output node to limit the development of recurrent connections\n",
    "- Do not allow self-loops to limit the development of recurrent connections\n",
    "- Since we add novel structure to the network, we again have to assign an innovation number"
   ]
  },
  {
   "cell_type": "code",
   "execution_count": 25,
   "metadata": {
    "pycharm": {
     "name": "#%%\n"
    },
    "slideshow": {
     "slide_type": "slide"
    }
   },
   "outputs": [],
   "source": [
    "def add_connection(chromosome: NetworkChromosome, current_innovations: dict):\n",
    "    # Collect all feasible source & target nodes.\n",
    "    target_nodes = [node for node in chromosome.nodes if node.type != 'INPUT' and node.type != 'BIAS']\n",
    "    source_nodes = [node for node in chromosome.nodes if node.type != 'OUTPUT']\n",
    "\n",
    "    # Pick a random source and target node and check whether the resulting connection is valid.\n",
    "    tries = 0\n",
    "    found = False\n",
    "    while tries < 10 and not found:\n",
    "        source = random.choice(source_nodes)\n",
    "        target = random.choice(target_nodes)\n",
    "\n",
    "        # We do not allow self loops\n",
    "        if source == target:\n",
    "            tries += 1\n",
    "            continue\n",
    "\n",
    "        # Check if we actually found a novel connection.\n",
    "        found = True\n",
    "        for connection in chromosome.connections:\n",
    "            if connection.source.uid == source.uid and connection.target.uid == target.uid:\n",
    "                tries += 1\n",
    "                found = False\n",
    "                break\n",
    "\n",
    "        # At this point we found a valid node pair and add the connection to the network.\n",
    "        if found:\n",
    "            # Assign innovation number.\n",
    "            innovation_key = source.uid + \"-\" + target.uid\n",
    "            if innovation_key not in current_innovations:\n",
    "                current_innovations[innovation_key] = ConnectionGene.next_innovation_number()\n",
    "                \n",
    "            # Add connection to network\n",
    "            new_connection = ConnectionGene(source, target, random.uniform(-1, 1), True, current_innovations[innovation_key])\n",
    "            chromosome.connections.append(new_connection)\n",
    "            chromosome.generate()"
   ]
  },
  {
   "cell_type": "code",
   "execution_count": 26,
   "metadata": {
    "slideshow": {
     "slide_type": "slide"
    }
   },
   "outputs": [
    {
     "name": "stdout",
     "output_type": "stream",
     "text": [
      "Parent\n"
     ]
    },
    {
     "data": {
      "image/svg+xml": [
       "<?xml version=\"1.0\" encoding=\"UTF-8\" standalone=\"no\"?>\n",
       "<!DOCTYPE svg PUBLIC \"-//W3C//DTD SVG 1.1//EN\"\n",
       " \"http://www.w3.org/Graphics/SVG/1.1/DTD/svg11.dtd\">\n",
       "<!-- Generated by graphviz version 2.50.0 (20211204.2007)\n",
       " -->\n",
       "<!-- Pages: 1 -->\n",
       "<svg width=\"385pt\" height=\"218pt\"\n",
       " viewBox=\"0.00 0.00 384.55 218.00\" xmlns=\"http://www.w3.org/2000/svg\" xmlns:xlink=\"http://www.w3.org/1999/xlink\">\n",
       "<g id=\"graph0\" class=\"graph\" transform=\"scale(1 1) rotate(0) translate(4 214)\">\n",
       "<polygon fill=\"white\" stroke=\"transparent\" points=\"-4,4 -4,-214 380.55,-214 380.55,4 -4,4\"/>\n",
       "<!-- 0 -->\n",
       "<g id=\"node1\" class=\"node\">\n",
       "<title>0</title>\n",
       "<ellipse fill=\"white\" stroke=\"black\" cx=\"43.55\" cy=\"-18\" rx=\"43.59\" ry=\"18\"/>\n",
       "<text text-anchor=\"middle\" x=\"43.55\" y=\"-14.3\" font-family=\"Times,serif\" font-size=\"14.00\">INPUT&#45;0</text>\n",
       "</g>\n",
       "<!-- 3 -->\n",
       "<g id=\"node5\" class=\"node\">\n",
       "<title>3</title>\n",
       "<ellipse fill=\"white\" stroke=\"black\" cx=\"183.55\" cy=\"-192\" rx=\"51.99\" ry=\"18\"/>\n",
       "<text text-anchor=\"middle\" x=\"183.55\" y=\"-188.3\" font-family=\"Times,serif\" font-size=\"14.00\">OUTPUT&#45;3</text>\n",
       "</g>\n",
       "<!-- 0&#45;&gt;3 -->\n",
       "<g id=\"edge1\" class=\"edge\">\n",
       "<title>0&#45;&gt;3</title>\n",
       "<path fill=\"none\" stroke=\"black\" d=\"M48.37,-36.22C55.63,-63.68 68.55,-112.5 68.55,-112.5 68.55,-112.5 117.67,-146.46 151.71,-169.99\"/>\n",
       "<polygon fill=\"black\" stroke=\"black\" points=\"149.78,-172.91 160,-175.72 153.76,-167.15 149.78,-172.91\"/>\n",
       "<text text-anchor=\"middle\" x=\"56.05\" y=\"-101.3\" font-family=\"Times,serif\" font-size=\"14.00\">0.96</text>\n",
       "</g>\n",
       "<!-- 1 -->\n",
       "<g id=\"node2\" class=\"node\">\n",
       "<title>1</title>\n",
       "<ellipse fill=\"white\" stroke=\"black\" cx=\"148.55\" cy=\"-18\" rx=\"43.59\" ry=\"18\"/>\n",
       "<text text-anchor=\"middle\" x=\"148.55\" y=\"-14.3\" font-family=\"Times,serif\" font-size=\"14.00\">INPUT&#45;1</text>\n",
       "</g>\n",
       "<!-- 1&#45;&gt;3 -->\n",
       "<g id=\"edge2\" class=\"edge\">\n",
       "<title>1&#45;&gt;3</title>\n",
       "<path fill=\"none\" stroke=\"black\" d=\"M154.14,-36.22C162.56,-63.68 177.55,-112.5 177.55,-112.5 177.55,-112.5 179.7,-141.08 181.43,-163.97\"/>\n",
       "<polygon fill=\"black\" stroke=\"black\" points=\"177.94,-164.25 182.18,-173.96 184.92,-163.73 177.94,-164.25\"/>\n",
       "<text text-anchor=\"middle\" x=\"163.05\" y=\"-101.3\" font-family=\"Times,serif\" font-size=\"14.00\">&#45;0.78</text>\n",
       "</g>\n",
       "<!-- 2 -->\n",
       "<g id=\"node3\" class=\"node\">\n",
       "<title>2</title>\n",
       "<ellipse fill=\"white\" stroke=\"black\" cx=\"303.55\" cy=\"-18\" rx=\"38.19\" ry=\"18\"/>\n",
       "<text text-anchor=\"middle\" x=\"303.55\" y=\"-14.3\" font-family=\"Times,serif\" font-size=\"14.00\">BIAS&#45;2</text>\n",
       "</g>\n",
       "<!-- 230 -->\n",
       "<g id=\"node4\" class=\"node\">\n",
       "<title>230</title>\n",
       "<ellipse fill=\"white\" stroke=\"black\" cx=\"255.55\" cy=\"-105\" rx=\"60.39\" ry=\"18\"/>\n",
       "<text text-anchor=\"middle\" x=\"255.55\" y=\"-101.3\" font-family=\"Times,serif\" font-size=\"14.00\">HIDDEN&#45;230</text>\n",
       "</g>\n",
       "<!-- 2&#45;&gt;230 -->\n",
       "<g id=\"edge4\" class=\"edge\">\n",
       "<title>2&#45;&gt;230</title>\n",
       "<path fill=\"none\" stroke=\"black\" d=\"M294.06,-35.79C287.27,-47.82 277.99,-64.25 270.24,-77.97\"/>\n",
       "<polygon fill=\"black\" stroke=\"black\" points=\"267.04,-76.52 265.17,-86.95 273.14,-79.96 267.04,-76.52\"/>\n",
       "<text text-anchor=\"middle\" x=\"285.05\" y=\"-57.8\" font-family=\"Times,serif\" font-size=\"14.00\">1</text>\n",
       "</g>\n",
       "<!-- 2&#45;&gt;3 -->\n",
       "<g id=\"edge3\" class=\"edge\">\n",
       "<title>2&#45;&gt;3</title>\n",
       "<path fill=\"none\" stroke=\"black\" stroke-dasharray=\"1,5\" d=\"M314.2,-35.64C328.34,-59.06 351.55,-97.5 351.55,-97.5 351.55,-97.5 269.1,-143.88 219.72,-171.65\"/>\n",
       "<polygon fill=\"black\" stroke=\"black\" points=\"217.91,-168.65 210.91,-176.61 221.34,-174.75 217.91,-168.65\"/>\n",
       "<text text-anchor=\"middle\" x=\"364.05\" y=\"-101.3\" font-family=\"Times,serif\" font-size=\"14.00\">0.78</text>\n",
       "</g>\n",
       "<!-- 230&#45;&gt;3 -->\n",
       "<g id=\"edge5\" class=\"edge\">\n",
       "<title>230&#45;&gt;3</title>\n",
       "<path fill=\"none\" stroke=\"black\" d=\"M241.32,-122.79C230.7,-135.33 216.03,-152.65 204.13,-166.7\"/>\n",
       "<polygon fill=\"black\" stroke=\"black\" points=\"201.29,-164.64 197.5,-174.53 206.63,-169.16 201.29,-164.64\"/>\n",
       "<text text-anchor=\"middle\" x=\"237.05\" y=\"-144.8\" font-family=\"Times,serif\" font-size=\"14.00\">0.78</text>\n",
       "</g>\n",
       "</g>\n",
       "</svg>\n"
      ],
      "text/plain": [
       "<graphviz.graphs.Digraph at 0x10f061e50>"
      ]
     },
     "execution_count": 26,
     "metadata": {},
     "output_type": "execute_result"
    },
    {
     "name": "stdout",
     "output_type": "stream",
     "text": [
      "Connection mutation\n"
     ]
    },
    {
     "data": {
      "image/svg+xml": [
       "<?xml version=\"1.0\" encoding=\"UTF-8\" standalone=\"no\"?>\n",
       "<!DOCTYPE svg PUBLIC \"-//W3C//DTD SVG 1.1//EN\"\n",
       " \"http://www.w3.org/Graphics/SVG/1.1/DTD/svg11.dtd\">\n",
       "<!-- Generated by graphviz version 2.50.0 (20211204.2007)\n",
       " -->\n",
       "<!-- Pages: 1 -->\n",
       "<svg width=\"341pt\" height=\"218pt\"\n",
       " viewBox=\"0.00 0.00 340.55 218.00\" xmlns=\"http://www.w3.org/2000/svg\" xmlns:xlink=\"http://www.w3.org/1999/xlink\">\n",
       "<g id=\"graph0\" class=\"graph\" transform=\"scale(1 1) rotate(0) translate(4 214)\">\n",
       "<polygon fill=\"white\" stroke=\"transparent\" points=\"-4,4 -4,-214 336.55,-214 336.55,4 -4,4\"/>\n",
       "<!-- 0 -->\n",
       "<g id=\"node1\" class=\"node\">\n",
       "<title>0</title>\n",
       "<ellipse fill=\"white\" stroke=\"black\" cx=\"164.55\" cy=\"-18\" rx=\"43.59\" ry=\"18\"/>\n",
       "<text text-anchor=\"middle\" x=\"164.55\" y=\"-14.3\" font-family=\"Times,serif\" font-size=\"14.00\">INPUT&#45;0</text>\n",
       "</g>\n",
       "<!-- 230 -->\n",
       "<g id=\"node4\" class=\"node\">\n",
       "<title>230</title>\n",
       "<ellipse fill=\"white\" stroke=\"black\" cx=\"211.55\" cy=\"-105\" rx=\"60.39\" ry=\"18\"/>\n",
       "<text text-anchor=\"middle\" x=\"211.55\" y=\"-101.3\" font-family=\"Times,serif\" font-size=\"14.00\">HIDDEN&#45;230</text>\n",
       "</g>\n",
       "<!-- 0&#45;&gt;230 -->\n",
       "<g id=\"edge6\" class=\"edge\">\n",
       "<title>0&#45;&gt;230</title>\n",
       "<path fill=\"none\" stroke=\"black\" d=\"M173.83,-35.79C180.48,-47.82 189.57,-64.25 197.15,-77.97\"/>\n",
       "<polygon fill=\"black\" stroke=\"black\" points=\"194.22,-79.89 202.12,-86.95 200.34,-76.51 194.22,-79.89\"/>\n",
       "<text text-anchor=\"middle\" x=\"201.05\" y=\"-57.8\" font-family=\"Times,serif\" font-size=\"14.00\">&#45;0.06</text>\n",
       "</g>\n",
       "<!-- 3 -->\n",
       "<g id=\"node5\" class=\"node\">\n",
       "<title>3</title>\n",
       "<ellipse fill=\"white\" stroke=\"black\" cx=\"159.55\" cy=\"-192\" rx=\"51.99\" ry=\"18\"/>\n",
       "<text text-anchor=\"middle\" x=\"159.55\" y=\"-188.3\" font-family=\"Times,serif\" font-size=\"14.00\">OUTPUT&#45;3</text>\n",
       "</g>\n",
       "<!-- 0&#45;&gt;3 -->\n",
       "<g id=\"edge1\" class=\"edge\">\n",
       "<title>0&#45;&gt;3</title>\n",
       "<path fill=\"none\" stroke=\"black\" d=\"M158.57,-36.22C149.56,-63.68 133.55,-112.5 133.55,-112.5 133.55,-112.5 142.98,-141.34 150.48,-164.28\"/>\n",
       "<polygon fill=\"black\" stroke=\"black\" points=\"147.21,-165.54 153.65,-173.96 153.86,-163.37 147.21,-165.54\"/>\n",
       "<text text-anchor=\"middle\" x=\"121.05\" y=\"-101.3\" font-family=\"Times,serif\" font-size=\"14.00\">0.96</text>\n",
       "</g>\n",
       "<!-- 1 -->\n",
       "<g id=\"node2\" class=\"node\">\n",
       "<title>1</title>\n",
       "<ellipse fill=\"white\" stroke=\"black\" cx=\"43.55\" cy=\"-18\" rx=\"43.59\" ry=\"18\"/>\n",
       "<text text-anchor=\"middle\" x=\"43.55\" y=\"-14.3\" font-family=\"Times,serif\" font-size=\"14.00\">INPUT&#45;1</text>\n",
       "</g>\n",
       "<!-- 1&#45;&gt;3 -->\n",
       "<g id=\"edge2\" class=\"edge\">\n",
       "<title>1&#45;&gt;3</title>\n",
       "<path fill=\"none\" stroke=\"black\" d=\"M49.14,-36.22C57.56,-63.68 72.55,-112.5 72.55,-112.5 72.55,-112.5 107.87,-144.78 133.5,-168.2\"/>\n",
       "<polygon fill=\"black\" stroke=\"black\" points=\"131.35,-170.98 141.1,-175.14 136.07,-165.81 131.35,-170.98\"/>\n",
       "<text text-anchor=\"middle\" x=\"58.05\" y=\"-101.3\" font-family=\"Times,serif\" font-size=\"14.00\">&#45;0.78</text>\n",
       "</g>\n",
       "<!-- 2 -->\n",
       "<g id=\"node3\" class=\"node\">\n",
       "<title>2</title>\n",
       "<ellipse fill=\"white\" stroke=\"black\" cx=\"286.55\" cy=\"-18\" rx=\"38.19\" ry=\"18\"/>\n",
       "<text text-anchor=\"middle\" x=\"286.55\" y=\"-14.3\" font-family=\"Times,serif\" font-size=\"14.00\">BIAS&#45;2</text>\n",
       "</g>\n",
       "<!-- 2&#45;&gt;230 -->\n",
       "<g id=\"edge4\" class=\"edge\">\n",
       "<title>2&#45;&gt;230</title>\n",
       "<path fill=\"none\" stroke=\"black\" d=\"M272.44,-34.99C261.27,-47.65 245.49,-65.53 232.79,-79.92\"/>\n",
       "<polygon fill=\"black\" stroke=\"black\" points=\"230.09,-77.69 226.1,-87.5 235.34,-82.32 230.09,-77.69\"/>\n",
       "<text text-anchor=\"middle\" x=\"256.05\" y=\"-57.8\" font-family=\"Times,serif\" font-size=\"14.00\">1</text>\n",
       "</g>\n",
       "<!-- 2&#45;&gt;3 -->\n",
       "<g id=\"edge3\" class=\"edge\">\n",
       "<title>2&#45;&gt;3</title>\n",
       "<path fill=\"none\" stroke=\"black\" stroke-dasharray=\"1,5\" d=\"M291.31,-36.04C297.51,-59.5 307.55,-97.5 307.55,-97.5 307.55,-97.5 236.94,-142.58 193.26,-170.47\"/>\n",
       "<polygon fill=\"black\" stroke=\"black\" points=\"191.2,-167.64 184.65,-175.97 194.96,-173.54 191.2,-167.64\"/>\n",
       "<text text-anchor=\"middle\" x=\"320.05\" y=\"-101.3\" font-family=\"Times,serif\" font-size=\"14.00\">0.78</text>\n",
       "</g>\n",
       "<!-- 230&#45;&gt;3 -->\n",
       "<g id=\"edge5\" class=\"edge\">\n",
       "<title>230&#45;&gt;3</title>\n",
       "<path fill=\"none\" stroke=\"black\" d=\"M201.27,-122.79C193.79,-135.02 183.54,-151.79 175.06,-165.64\"/>\n",
       "<polygon fill=\"black\" stroke=\"black\" points=\"172.03,-163.88 169.8,-174.24 178,-167.54 172.03,-163.88\"/>\n",
       "<text text-anchor=\"middle\" x=\"202.05\" y=\"-144.8\" font-family=\"Times,serif\" font-size=\"14.00\">0.78</text>\n",
       "</g>\n",
       "</g>\n",
       "</svg>\n"
      ],
      "text/plain": [
       "<graphviz.graphs.Digraph at 0x10f05ae80>"
      ]
     },
     "execution_count": 26,
     "metadata": {},
     "output_type": "execute_result"
    }
   ],
   "source": [
    "print(\"Parent\")\n",
    "network = get_random_individual()\n",
    "add_node(network, {})\n",
    "network.show()\n",
    "print(\"Connection mutation\")\n",
    "add_connection(network, {})\n",
    "network.show()"
   ]
  },
  {
   "cell_type": "markdown",
   "metadata": {
    "slideshow": {
     "slide_type": "slide"
    }
   },
   "source": [
    "## Mutate Weight Mutation\n",
    "- The weight mutation modifies every connection weight of a network\n",
    "- Probability of 90%: uniformly pick a value in the range of [-1, 1] and add it to the connection weight\n",
    "- Probability of 10%: assign a new weight by uniformly selecting a value in the range [-1, 1]"
   ]
  },
  {
   "cell_type": "code",
   "execution_count": 27,
   "metadata": {
    "pycharm": {
     "name": "#%%\n"
    },
    "slideshow": {
     "slide_type": "fragment"
    }
   },
   "outputs": [],
   "source": [
    "def mutate_weight(chromosome: NetworkChromosome):\n",
    "    for connection in chromosome.connections:\n",
    "        if random.random() < 0.9:\n",
    "            connection.weight += random.uniform(-1, 1)\n",
    "        else:\n",
    "            connection.weight = random.uniform(-1, 1)"
   ]
  },
  {
   "cell_type": "code",
   "execution_count": 28,
   "metadata": {
    "slideshow": {
     "slide_type": "fragment"
    }
   },
   "outputs": [
    {
     "name": "stdout",
     "output_type": "stream",
     "text": [
      "Original\n"
     ]
    },
    {
     "data": {
      "image/svg+xml": [
       "<?xml version=\"1.0\" encoding=\"UTF-8\" standalone=\"no\"?>\n",
       "<!DOCTYPE svg PUBLIC \"-//W3C//DTD SVG 1.1//EN\"\n",
       " \"http://www.w3.org/Graphics/SVG/1.1/DTD/svg11.dtd\">\n",
       "<!-- Generated by graphviz version 2.50.0 (20211204.2007)\n",
       " -->\n",
       "<!-- Pages: 1 -->\n",
       "<svg width=\"295pt\" height=\"131pt\"\n",
       " viewBox=\"0.00 0.00 294.89 131.00\" xmlns=\"http://www.w3.org/2000/svg\" xmlns:xlink=\"http://www.w3.org/1999/xlink\">\n",
       "<g id=\"graph0\" class=\"graph\" transform=\"scale(1 1) rotate(0) translate(4 127)\">\n",
       "<polygon fill=\"white\" stroke=\"transparent\" points=\"-4,4 -4,-127 290.89,-127 290.89,4 -4,4\"/>\n",
       "<!-- 0 -->\n",
       "<g id=\"node1\" class=\"node\">\n",
       "<title>0</title>\n",
       "<ellipse fill=\"white\" stroke=\"black\" cx=\"43.55\" cy=\"-18\" rx=\"43.59\" ry=\"18\"/>\n",
       "<text text-anchor=\"middle\" x=\"43.55\" y=\"-14.3\" font-family=\"Times,serif\" font-size=\"14.00\">INPUT&#45;0</text>\n",
       "</g>\n",
       "<!-- 3 -->\n",
       "<g id=\"node4\" class=\"node\">\n",
       "<title>3</title>\n",
       "<ellipse fill=\"white\" stroke=\"black\" cx=\"148.55\" cy=\"-105\" rx=\"51.99\" ry=\"18\"/>\n",
       "<text text-anchor=\"middle\" x=\"148.55\" y=\"-101.3\" font-family=\"Times,serif\" font-size=\"14.00\">OUTPUT&#45;3</text>\n",
       "</g>\n",
       "<!-- 0&#45;&gt;3 -->\n",
       "<g id=\"edge1\" class=\"edge\">\n",
       "<title>0&#45;&gt;3</title>\n",
       "<path fill=\"none\" stroke=\"black\" d=\"M62.8,-34.59C79.13,-47.81 102.74,-66.92 121.06,-81.75\"/>\n",
       "<polygon fill=\"black\" stroke=\"black\" points=\"119.08,-84.65 129.05,-88.22 123.48,-79.21 119.08,-84.65\"/>\n",
       "<text text-anchor=\"middle\" x=\"117.05\" y=\"-57.8\" font-family=\"Times,serif\" font-size=\"14.00\">&#45;0.13</text>\n",
       "</g>\n",
       "<!-- 1 -->\n",
       "<g id=\"node2\" class=\"node\">\n",
       "<title>1</title>\n",
       "<ellipse fill=\"white\" stroke=\"black\" cx=\"148.55\" cy=\"-18\" rx=\"43.59\" ry=\"18\"/>\n",
       "<text text-anchor=\"middle\" x=\"148.55\" y=\"-14.3\" font-family=\"Times,serif\" font-size=\"14.00\">INPUT&#45;1</text>\n",
       "</g>\n",
       "<!-- 1&#45;&gt;3 -->\n",
       "<g id=\"edge2\" class=\"edge\">\n",
       "<title>1&#45;&gt;3</title>\n",
       "<path fill=\"none\" stroke=\"black\" d=\"M148.55,-36.2C148.55,-47.84 148.55,-63.45 148.55,-76.76\"/>\n",
       "<polygon fill=\"black\" stroke=\"black\" points=\"145.05,-76.82 148.55,-86.82 152.05,-76.82 145.05,-76.82\"/>\n",
       "<text text-anchor=\"middle\" x=\"163.05\" y=\"-57.8\" font-family=\"Times,serif\" font-size=\"14.00\">&#45;0.86</text>\n",
       "</g>\n",
       "<!-- 2 -->\n",
       "<g id=\"node3\" class=\"node\">\n",
       "<title>2</title>\n",
       "<ellipse fill=\"white\" stroke=\"black\" cx=\"248.55\" cy=\"-18\" rx=\"38.19\" ry=\"18\"/>\n",
       "<text text-anchor=\"middle\" x=\"248.55\" y=\"-14.3\" font-family=\"Times,serif\" font-size=\"14.00\">BIAS&#45;2</text>\n",
       "</g>\n",
       "<!-- 2&#45;&gt;3 -->\n",
       "<g id=\"edge3\" class=\"edge\">\n",
       "<title>2&#45;&gt;3</title>\n",
       "<path fill=\"none\" stroke=\"black\" d=\"M230.67,-34.2C215.18,-47.36 192.55,-66.6 174.97,-81.54\"/>\n",
       "<polygon fill=\"black\" stroke=\"black\" points=\"172.64,-78.93 167.29,-88.07 177.17,-84.26 172.64,-78.93\"/>\n",
       "<text text-anchor=\"middle\" x=\"214.55\" y=\"-57.8\" font-family=\"Times,serif\" font-size=\"14.00\">&#45;0.2</text>\n",
       "</g>\n",
       "</g>\n",
       "</svg>\n"
      ],
      "text/plain": [
       "<graphviz.graphs.Digraph at 0x10f05a7c0>"
      ]
     },
     "execution_count": 28,
     "metadata": {},
     "output_type": "execute_result"
    },
    {
     "name": "stdout",
     "output_type": "stream",
     "text": [
      "Weight Mutation\n"
     ]
    },
    {
     "data": {
      "image/svg+xml": [
       "<?xml version=\"1.0\" encoding=\"UTF-8\" standalone=\"no\"?>\n",
       "<!DOCTYPE svg PUBLIC \"-//W3C//DTD SVG 1.1//EN\"\n",
       " \"http://www.w3.org/Graphics/SVG/1.1/DTD/svg11.dtd\">\n",
       "<!-- Generated by graphviz version 2.50.0 (20211204.2007)\n",
       " -->\n",
       "<!-- Pages: 1 -->\n",
       "<svg width=\"295pt\" height=\"131pt\"\n",
       " viewBox=\"0.00 0.00 294.89 131.00\" xmlns=\"http://www.w3.org/2000/svg\" xmlns:xlink=\"http://www.w3.org/1999/xlink\">\n",
       "<g id=\"graph0\" class=\"graph\" transform=\"scale(1 1) rotate(0) translate(4 127)\">\n",
       "<polygon fill=\"white\" stroke=\"transparent\" points=\"-4,4 -4,-127 290.89,-127 290.89,4 -4,4\"/>\n",
       "<!-- 0 -->\n",
       "<g id=\"node1\" class=\"node\">\n",
       "<title>0</title>\n",
       "<ellipse fill=\"white\" stroke=\"black\" cx=\"43.55\" cy=\"-18\" rx=\"43.59\" ry=\"18\"/>\n",
       "<text text-anchor=\"middle\" x=\"43.55\" y=\"-14.3\" font-family=\"Times,serif\" font-size=\"14.00\">INPUT&#45;0</text>\n",
       "</g>\n",
       "<!-- 3 -->\n",
       "<g id=\"node4\" class=\"node\">\n",
       "<title>3</title>\n",
       "<ellipse fill=\"white\" stroke=\"black\" cx=\"148.55\" cy=\"-105\" rx=\"51.99\" ry=\"18\"/>\n",
       "<text text-anchor=\"middle\" x=\"148.55\" y=\"-101.3\" font-family=\"Times,serif\" font-size=\"14.00\">OUTPUT&#45;3</text>\n",
       "</g>\n",
       "<!-- 0&#45;&gt;3 -->\n",
       "<g id=\"edge1\" class=\"edge\">\n",
       "<title>0&#45;&gt;3</title>\n",
       "<path fill=\"none\" stroke=\"black\" d=\"M62.8,-34.59C79.13,-47.81 102.74,-66.92 121.06,-81.75\"/>\n",
       "<polygon fill=\"black\" stroke=\"black\" points=\"119.08,-84.65 129.05,-88.22 123.48,-79.21 119.08,-84.65\"/>\n",
       "<text text-anchor=\"middle\" x=\"115.05\" y=\"-57.8\" font-family=\"Times,serif\" font-size=\"14.00\">0.18</text>\n",
       "</g>\n",
       "<!-- 1 -->\n",
       "<g id=\"node2\" class=\"node\">\n",
       "<title>1</title>\n",
       "<ellipse fill=\"white\" stroke=\"black\" cx=\"148.55\" cy=\"-18\" rx=\"43.59\" ry=\"18\"/>\n",
       "<text text-anchor=\"middle\" x=\"148.55\" y=\"-14.3\" font-family=\"Times,serif\" font-size=\"14.00\">INPUT&#45;1</text>\n",
       "</g>\n",
       "<!-- 1&#45;&gt;3 -->\n",
       "<g id=\"edge2\" class=\"edge\">\n",
       "<title>1&#45;&gt;3</title>\n",
       "<path fill=\"none\" stroke=\"black\" d=\"M148.55,-36.2C148.55,-47.84 148.55,-63.45 148.55,-76.76\"/>\n",
       "<polygon fill=\"black\" stroke=\"black\" points=\"145.05,-76.82 148.55,-86.82 152.05,-76.82 145.05,-76.82\"/>\n",
       "<text text-anchor=\"middle\" x=\"163.05\" y=\"-57.8\" font-family=\"Times,serif\" font-size=\"14.00\">&#45;0.11</text>\n",
       "</g>\n",
       "<!-- 2 -->\n",
       "<g id=\"node3\" class=\"node\">\n",
       "<title>2</title>\n",
       "<ellipse fill=\"white\" stroke=\"black\" cx=\"248.55\" cy=\"-18\" rx=\"38.19\" ry=\"18\"/>\n",
       "<text text-anchor=\"middle\" x=\"248.55\" y=\"-14.3\" font-family=\"Times,serif\" font-size=\"14.00\">BIAS&#45;2</text>\n",
       "</g>\n",
       "<!-- 2&#45;&gt;3 -->\n",
       "<g id=\"edge3\" class=\"edge\">\n",
       "<title>2&#45;&gt;3</title>\n",
       "<path fill=\"none\" stroke=\"black\" d=\"M230.67,-34.2C215.18,-47.36 192.55,-66.6 174.97,-81.54\"/>\n",
       "<polygon fill=\"black\" stroke=\"black\" points=\"172.64,-78.93 167.29,-88.07 177.17,-84.26 172.64,-78.93\"/>\n",
       "<text text-anchor=\"middle\" x=\"214.55\" y=\"-57.8\" font-family=\"Times,serif\" font-size=\"14.00\">&#45;0.5</text>\n",
       "</g>\n",
       "</g>\n",
       "</svg>\n"
      ],
      "text/plain": [
       "<graphviz.graphs.Digraph at 0x10f05aaf0>"
      ]
     },
     "execution_count": 28,
     "metadata": {},
     "output_type": "execute_result"
    }
   ],
   "source": [
    "network = get_random_individual()\n",
    "print(\"Original\")\n",
    "network.show()\n",
    "print(\"Weight Mutation\")\n",
    "mutate_weight(network)\n",
    "network.show()"
   ]
  },
  {
   "cell_type": "markdown",
   "metadata": {
    "slideshow": {
     "slide_type": "slide"
    }
   },
   "source": [
    "## Toggle Connection Mutation\n",
    "- Picks a random connection and toggles its enabled state\n",
    "- __Attention!__ The mutation may lead to defect networks if the resulting network does not have an enabled path from an input or bias node to the output node."
   ]
  },
  {
   "cell_type": "code",
   "execution_count": 29,
   "metadata": {
    "pycharm": {
     "name": "#%%\n"
    },
    "slideshow": {
     "slide_type": "fragment"
    }
   },
   "outputs": [],
   "source": [
    "def toggle_connection(chromosome: NetworkChromosome):\n",
    "    # Pick a random connection and toggle the enable state\n",
    "    connection = random.choice(chromosome.connections)\n",
    "    connection.enabled = not connection.enabled"
   ]
  },
  {
   "cell_type": "code",
   "execution_count": 30,
   "metadata": {
    "slideshow": {
     "slide_type": "fragment"
    }
   },
   "outputs": [
    {
     "name": "stdout",
     "output_type": "stream",
     "text": [
      "Original\n"
     ]
    },
    {
     "data": {
      "image/svg+xml": [
       "<?xml version=\"1.0\" encoding=\"UTF-8\" standalone=\"no\"?>\n",
       "<!DOCTYPE svg PUBLIC \"-//W3C//DTD SVG 1.1//EN\"\n",
       " \"http://www.w3.org/Graphics/SVG/1.1/DTD/svg11.dtd\">\n",
       "<!-- Generated by graphviz version 2.50.0 (20211204.2007)\n",
       " -->\n",
       "<!-- Pages: 1 -->\n",
       "<svg width=\"295pt\" height=\"131pt\"\n",
       " viewBox=\"0.00 0.00 294.89 131.00\" xmlns=\"http://www.w3.org/2000/svg\" xmlns:xlink=\"http://www.w3.org/1999/xlink\">\n",
       "<g id=\"graph0\" class=\"graph\" transform=\"scale(1 1) rotate(0) translate(4 127)\">\n",
       "<polygon fill=\"white\" stroke=\"transparent\" points=\"-4,4 -4,-127 290.89,-127 290.89,4 -4,4\"/>\n",
       "<!-- 0 -->\n",
       "<g id=\"node1\" class=\"node\">\n",
       "<title>0</title>\n",
       "<ellipse fill=\"white\" stroke=\"black\" cx=\"43.55\" cy=\"-18\" rx=\"43.59\" ry=\"18\"/>\n",
       "<text text-anchor=\"middle\" x=\"43.55\" y=\"-14.3\" font-family=\"Times,serif\" font-size=\"14.00\">INPUT&#45;0</text>\n",
       "</g>\n",
       "<!-- 3 -->\n",
       "<g id=\"node4\" class=\"node\">\n",
       "<title>3</title>\n",
       "<ellipse fill=\"white\" stroke=\"black\" cx=\"148.55\" cy=\"-105\" rx=\"51.99\" ry=\"18\"/>\n",
       "<text text-anchor=\"middle\" x=\"148.55\" y=\"-101.3\" font-family=\"Times,serif\" font-size=\"14.00\">OUTPUT&#45;3</text>\n",
       "</g>\n",
       "<!-- 0&#45;&gt;3 -->\n",
       "<g id=\"edge1\" class=\"edge\">\n",
       "<title>0&#45;&gt;3</title>\n",
       "<path fill=\"none\" stroke=\"black\" d=\"M62.8,-34.59C79.13,-47.81 102.74,-66.92 121.06,-81.75\"/>\n",
       "<polygon fill=\"black\" stroke=\"black\" points=\"119.08,-84.65 129.05,-88.22 123.48,-79.21 119.08,-84.65\"/>\n",
       "<text text-anchor=\"middle\" x=\"117.05\" y=\"-57.8\" font-family=\"Times,serif\" font-size=\"14.00\">&#45;0.22</text>\n",
       "</g>\n",
       "<!-- 1 -->\n",
       "<g id=\"node2\" class=\"node\">\n",
       "<title>1</title>\n",
       "<ellipse fill=\"white\" stroke=\"black\" cx=\"148.55\" cy=\"-18\" rx=\"43.59\" ry=\"18\"/>\n",
       "<text text-anchor=\"middle\" x=\"148.55\" y=\"-14.3\" font-family=\"Times,serif\" font-size=\"14.00\">INPUT&#45;1</text>\n",
       "</g>\n",
       "<!-- 1&#45;&gt;3 -->\n",
       "<g id=\"edge2\" class=\"edge\">\n",
       "<title>1&#45;&gt;3</title>\n",
       "<path fill=\"none\" stroke=\"black\" d=\"M148.55,-36.2C148.55,-47.84 148.55,-63.45 148.55,-76.76\"/>\n",
       "<polygon fill=\"black\" stroke=\"black\" points=\"145.05,-76.82 148.55,-86.82 152.05,-76.82 145.05,-76.82\"/>\n",
       "<text text-anchor=\"middle\" x=\"161.05\" y=\"-57.8\" font-family=\"Times,serif\" font-size=\"14.00\">0.91</text>\n",
       "</g>\n",
       "<!-- 2 -->\n",
       "<g id=\"node3\" class=\"node\">\n",
       "<title>2</title>\n",
       "<ellipse fill=\"white\" stroke=\"black\" cx=\"248.55\" cy=\"-18\" rx=\"38.19\" ry=\"18\"/>\n",
       "<text text-anchor=\"middle\" x=\"248.55\" y=\"-14.3\" font-family=\"Times,serif\" font-size=\"14.00\">BIAS&#45;2</text>\n",
       "</g>\n",
       "<!-- 2&#45;&gt;3 -->\n",
       "<g id=\"edge3\" class=\"edge\">\n",
       "<title>2&#45;&gt;3</title>\n",
       "<path fill=\"none\" stroke=\"black\" d=\"M230.67,-34.2C215.18,-47.36 192.55,-66.6 174.97,-81.54\"/>\n",
       "<polygon fill=\"black\" stroke=\"black\" points=\"172.64,-78.93 167.29,-88.07 177.17,-84.26 172.64,-78.93\"/>\n",
       "<text text-anchor=\"middle\" x=\"212.55\" y=\"-57.8\" font-family=\"Times,serif\" font-size=\"14.00\">0.5</text>\n",
       "</g>\n",
       "</g>\n",
       "</svg>\n"
      ],
      "text/plain": [
       "<graphviz.graphs.Digraph at 0x10f0611c0>"
      ]
     },
     "execution_count": 30,
     "metadata": {},
     "output_type": "execute_result"
    },
    {
     "name": "stdout",
     "output_type": "stream",
     "text": [
      "Toggle Connection Mutation\n"
     ]
    },
    {
     "data": {
      "image/svg+xml": [
       "<?xml version=\"1.0\" encoding=\"UTF-8\" standalone=\"no\"?>\n",
       "<!DOCTYPE svg PUBLIC \"-//W3C//DTD SVG 1.1//EN\"\n",
       " \"http://www.w3.org/Graphics/SVG/1.1/DTD/svg11.dtd\">\n",
       "<!-- Generated by graphviz version 2.50.0 (20211204.2007)\n",
       " -->\n",
       "<!-- Pages: 1 -->\n",
       "<svg width=\"295pt\" height=\"131pt\"\n",
       " viewBox=\"0.00 0.00 294.89 131.00\" xmlns=\"http://www.w3.org/2000/svg\" xmlns:xlink=\"http://www.w3.org/1999/xlink\">\n",
       "<g id=\"graph0\" class=\"graph\" transform=\"scale(1 1) rotate(0) translate(4 127)\">\n",
       "<polygon fill=\"white\" stroke=\"transparent\" points=\"-4,4 -4,-127 290.89,-127 290.89,4 -4,4\"/>\n",
       "<!-- 0 -->\n",
       "<g id=\"node1\" class=\"node\">\n",
       "<title>0</title>\n",
       "<ellipse fill=\"white\" stroke=\"black\" cx=\"43.55\" cy=\"-18\" rx=\"43.59\" ry=\"18\"/>\n",
       "<text text-anchor=\"middle\" x=\"43.55\" y=\"-14.3\" font-family=\"Times,serif\" font-size=\"14.00\">INPUT&#45;0</text>\n",
       "</g>\n",
       "<!-- 3 -->\n",
       "<g id=\"node4\" class=\"node\">\n",
       "<title>3</title>\n",
       "<ellipse fill=\"white\" stroke=\"black\" cx=\"148.55\" cy=\"-105\" rx=\"51.99\" ry=\"18\"/>\n",
       "<text text-anchor=\"middle\" x=\"148.55\" y=\"-101.3\" font-family=\"Times,serif\" font-size=\"14.00\">OUTPUT&#45;3</text>\n",
       "</g>\n",
       "<!-- 0&#45;&gt;3 -->\n",
       "<g id=\"edge1\" class=\"edge\">\n",
       "<title>0&#45;&gt;3</title>\n",
       "<path fill=\"none\" stroke=\"black\" d=\"M62.8,-34.59C79.13,-47.81 102.74,-66.92 121.06,-81.75\"/>\n",
       "<polygon fill=\"black\" stroke=\"black\" points=\"119.08,-84.65 129.05,-88.22 123.48,-79.21 119.08,-84.65\"/>\n",
       "<text text-anchor=\"middle\" x=\"117.05\" y=\"-57.8\" font-family=\"Times,serif\" font-size=\"14.00\">&#45;0.22</text>\n",
       "</g>\n",
       "<!-- 1 -->\n",
       "<g id=\"node2\" class=\"node\">\n",
       "<title>1</title>\n",
       "<ellipse fill=\"white\" stroke=\"black\" cx=\"148.55\" cy=\"-18\" rx=\"43.59\" ry=\"18\"/>\n",
       "<text text-anchor=\"middle\" x=\"148.55\" y=\"-14.3\" font-family=\"Times,serif\" font-size=\"14.00\">INPUT&#45;1</text>\n",
       "</g>\n",
       "<!-- 1&#45;&gt;3 -->\n",
       "<g id=\"edge2\" class=\"edge\">\n",
       "<title>1&#45;&gt;3</title>\n",
       "<path fill=\"none\" stroke=\"black\" d=\"M148.55,-36.2C148.55,-47.84 148.55,-63.45 148.55,-76.76\"/>\n",
       "<polygon fill=\"black\" stroke=\"black\" points=\"145.05,-76.82 148.55,-86.82 152.05,-76.82 145.05,-76.82\"/>\n",
       "<text text-anchor=\"middle\" x=\"161.05\" y=\"-57.8\" font-family=\"Times,serif\" font-size=\"14.00\">0.91</text>\n",
       "</g>\n",
       "<!-- 2 -->\n",
       "<g id=\"node3\" class=\"node\">\n",
       "<title>2</title>\n",
       "<ellipse fill=\"white\" stroke=\"black\" cx=\"248.55\" cy=\"-18\" rx=\"38.19\" ry=\"18\"/>\n",
       "<text text-anchor=\"middle\" x=\"248.55\" y=\"-14.3\" font-family=\"Times,serif\" font-size=\"14.00\">BIAS&#45;2</text>\n",
       "</g>\n",
       "<!-- 2&#45;&gt;3 -->\n",
       "<g id=\"edge3\" class=\"edge\">\n",
       "<title>2&#45;&gt;3</title>\n",
       "<path fill=\"none\" stroke=\"black\" stroke-dasharray=\"1,5\" d=\"M230.67,-34.2C215.18,-47.36 192.55,-66.6 174.97,-81.54\"/>\n",
       "<polygon fill=\"black\" stroke=\"black\" points=\"172.64,-78.93 167.29,-88.07 177.17,-84.26 172.64,-78.93\"/>\n",
       "<text text-anchor=\"middle\" x=\"212.55\" y=\"-57.8\" font-family=\"Times,serif\" font-size=\"14.00\">0.5</text>\n",
       "</g>\n",
       "</g>\n",
       "</svg>\n"
      ],
      "text/plain": [
       "<graphviz.graphs.Digraph at 0x10f05a5b0>"
      ]
     },
     "execution_count": 30,
     "metadata": {},
     "output_type": "execute_result"
    }
   ],
   "source": [
    "print(\"Original\")\n",
    "network = get_random_individual()\n",
    "network.show()\n",
    "print(\"Toggle Connection Mutation\")\n",
    "toggle_connection(network)\n",
    "network.show()"
   ]
  },
  {
   "cell_type": "markdown",
   "metadata": {
    "pycharm": {
     "name": "#%% md\n"
    },
    "slideshow": {
     "slide_type": "slide"
    }
   },
   "source": [
    "## Global Mutation Function\n",
    "- All mutations are combined to a single mutation function\n",
    "- Structural mutations are applied with a probability of 3% (add node mutation) or 5% (connection mutation)\n",
    "- If no structural mutation has been applied we toggle the enable state of a connection (10%) or change the connection weights (90%)\n",
    "- Structural and non-structural mutations are not applied in combination to reduce the impact of mutation"
   ]
  },
  {
   "cell_type": "code",
   "execution_count": 31,
   "metadata": {
    "pycharm": {
     "name": "#%%\n"
    },
    "slideshow": {
     "slide_type": "fragment"
    }
   },
   "outputs": [],
   "source": [
    "def mutate(chromosome: NetworkChromosome, current_innovations: dict):\n",
    "    mutant = copy.deepcopy(chromosome)\n",
    "\n",
    "    # Structural mutations\n",
    "    if random.random() < 0.03:\n",
    "        add_node(mutant, current_innovations)\n",
    "    elif random.random() < 0.05:\n",
    "        add_connection(mutant, current_innovations)\n",
    "\n",
    "    # Non-Structural mutations\n",
    "    else:\n",
    "        if random.random() < 0.1:\n",
    "            toggle_connection(mutant)\n",
    "        else:\n",
    "            mutate_weight(mutant)\n",
    "\n",
    "    mutant.reset() # Reset the mutant's attributes\n",
    "    return mutant"
   ]
  },
  {
   "cell_type": "markdown",
   "metadata": {
    "slideshow": {
     "slide_type": "slide"
    }
   },
   "source": [
    "## Protecting Innovation\n",
    "\n",
    "- Novel network structures usually perform worse than established ones since their connection weights have not been updated yet to suit the new network architecture.\n",
    "- Novel structures may still be a crucial step towards finding a novel solution\n",
    "- __Idea__: protect novel structures for some generations to give them time to optimise their weights &rarr; Speciation"
   ]
  },
  {
   "cell_type": "markdown",
   "metadata": {
    "slideshow": {
     "slide_type": "slide"
    }
   },
   "source": [
    "## Speciation\n",
    "\n",
    "- Separates the whole population into distinct species having similar network structures\n",
    "- Networks primarily only have to compete within their species, which gives them time to optimise their connection weights\n",
    "- __Problem__: we could still get a single species that dominates all other species, eventually leading to a single species with an established network structure and no room for innovation\n",
    "- __Solution__: fitness sharing &rarr; every network $n$ of a species has to share its fitness $f_n$ with all members of the same species: $$ f'_n = \\frac{f_n}{size(Species)} $$\n",
    "<p></p>\n",
    "\n",
    "- __Effect__: large species are penalised, allowing smaller species to grow\n",
    "- As soon as a species has not shown any signs of improvements for 15 generations, we penalise the species &rarr; species eventually goes extinct and leaves room for other more promising species"
   ]
  },
  {
   "cell_type": "code",
   "execution_count": 32,
   "metadata": {
    "pycharm": {
     "name": "#%%\n"
    },
    "slideshow": {
     "slide_type": "slide"
    }
   },
   "outputs": [],
   "source": [
    "class Species:\n",
    "    penalising_age = 15\n",
    "    penalising_factor = 0.0001\n",
    "\n",
    "    def __init__(self, population: list[NetworkChromosome]):\n",
    "        self.population = population\n",
    "        self.last_improved_counter = 1       # Number of generations without improvements\n",
    "        self.best_fitness = 0\n",
    "        self.expected_children = 0\n",
    "\n",
    "    def share_fitness(self):\n",
    "        # Update the counter for penalising stale species\n",
    "        self.population = sorted(self.population, key=lambda x: x.fitness, reverse=True)\n",
    "        if self.population[0].fitness > self.best_fitness:\n",
    "            self.best_fitness = self.population[0].fitness\n",
    "            self.last_improved_counter = 0\n",
    "        else:\n",
    "            self.last_improved_counter += 1\n",
    "\n",
    "        # Share fitness or penalise the species\n",
    "        for network in self.population:\n",
    "            if self.last_improved_counter >= Species.penalising_age:\n",
    "                network.shared_fitness = network.fitness * Species.penalising_factor\n",
    "            else:\n",
    "                network.shared_fitness = network.fitness / len(self.population)"
   ]
  },
  {
   "cell_type": "markdown",
   "metadata": {
    "slideshow": {
     "slide_type": "slide"
    }
   },
   "source": [
    "## Compatibility Distance\n",
    "\n",
    "- Measure of similarity between networks\n",
    "- Determines whether two networks should belong to the same species\n",
    "- Linear combination of the number of excess genes $(E)$, the number of disjoint genes $(D)$ and the average weight difference of matching genes $(W)$: $$\\delta = c_1*E + c_2*D + c_3 * W$$\n",
    "- $c_1, c_2, c_3$ weight the importance of the three gene categories"
   ]
  },
  {
   "cell_type": "code",
   "execution_count": 33,
   "metadata": {
    "pycharm": {
     "name": "#%%\n"
    },
    "slideshow": {
     "slide_type": "slide"
    }
   },
   "outputs": [],
   "source": [
    "def compatibility_distance(network_1: NetworkChromosome, network_2: NetworkChromosome):\n",
    "    excess = 0 # Excess counter\n",
    "    disjoint = 0 # Disjoint counter\n",
    "    matching = 0 # Matching counter\n",
    "    weight_difference = 0\n",
    "    i1 = 0\n",
    "    i2 = 0\n",
    "\n",
    "    while i1 < len(network_1.connections) or i2 < len(network_2.connections):\n",
    "        gene_category = get_gene_category(network_1, i1, network_2, i2)\n",
    "        if gene_category == \"EXCESS1\":\n",
    "            i1 += 1\n",
    "            excess += 1\n",
    "        elif gene_category == \"EXCESS2\":\n",
    "            i2 += 1\n",
    "            excess += 1\n",
    "\n",
    "        elif gene_category == \"DISJOINT1\":\n",
    "            i1 += 1\n",
    "            disjoint += 1\n",
    "        elif gene_category == \"DISJOINT2\":\n",
    "            i2 += 1\n",
    "            disjoint += 1\n",
    "\n",
    "        elif gene_category == \"MATCH\":\n",
    "            matching += 1\n",
    "            weight_difference += abs(network_1.connections[i1].weight - network_2.connections[i2].weight)\n",
    "            i1 += 1\n",
    "            i2 += 1\n",
    "\n",
    "    # Specify the weight coefficients.\n",
    "    # We weight disjoint and excess genes twice as important as weight differences.\n",
    "    c1 = 1\n",
    "    c2 = 1\n",
    "    c3 = 0.5\n",
    "\n",
    "    if matching == 0:\n",
    "        return (c1 * excess) + (c2 * disjoint)\n",
    "    else:\n",
    "        return (c1 * excess) + (c2 * disjoint) + (c3 * weight_difference / matching)"
   ]
  },
  {
   "cell_type": "code",
   "execution_count": 34,
   "metadata": {
    "pycharm": {
     "name": "#%%\n"
    },
    "slideshow": {
     "slide_type": "slide"
    }
   },
   "outputs": [
    {
     "name": "stdout",
     "output_type": "stream",
     "text": [
      "Networks having the same network structure have a low compatibility distance: \n"
     ]
    },
    {
     "data": {
      "text/plain": [
       "0.43592962668936436"
      ]
     },
     "execution_count": 34,
     "metadata": {},
     "output_type": "execute_result"
    },
    {
     "name": "stdout",
     "output_type": "stream",
     "text": [
      "Adding a node to one of the networks leads to diverging network structures and therefore a higher compatibility distance:\n"
     ]
    },
    {
     "data": {
      "text/plain": [
       "2.435929626689364"
      ]
     },
     "execution_count": 34,
     "metadata": {},
     "output_type": "execute_result"
    }
   ],
   "source": [
    "print(\"Networks having the same network structure have a low compatibility distance: \")\n",
    "network_1 = get_random_individual()\n",
    "network_2 = get_random_individual()\n",
    "compatibility_distance(network_1, network_2)\n",
    "\n",
    "print(\"Adding a node to one of the networks leads to diverging network structures and therefore a higher compatibility distance:\")\n",
    "add_node(network_1, {})\n",
    "compatibility_distance(network_1, network_2)"
   ]
  },
  {
   "cell_type": "markdown",
   "metadata": {
    "slideshow": {
     "slide_type": "slide"
    }
   },
   "source": [
    "## Assigning Networks to a Species\n",
    "\n",
    "- A compatibility threshold $\\delta_t$ determines whether two networks should belong to the same species\n",
    "- If the compatibility distance of two networks is smaller than the threshold $\\delta < \\delta_t$, both networks should belong to the same species"
   ]
  },
  {
   "cell_type": "code",
   "execution_count": 35,
   "metadata": {
    "pycharm": {
     "name": "#%%\n"
    },
    "slideshow": {
     "slide_type": "fragment"
    }
   },
   "outputs": [],
   "source": [
    "def speciate(network: NetworkChromosome, species_list: list[Species], threshold):\n",
    "    # If there are no species, we creating the first one.\n",
    "    if len(species_list) == 0:\n",
    "        species = Species([network])\n",
    "        species_list.append(species)\n",
    "\n",
    "    # Otherwise, try to find a compatible species by traversing the list of species.\n",
    "    else:\n",
    "        for specie in species_list:\n",
    "            if len(specie.population) > 0:\n",
    "                representative = random.choice(specie.population)\n",
    "                compatibility = compatibility_distance(representative, network)\n",
    "                if compatibility < threshold:\n",
    "                    specie.population.append(network)\n",
    "                    return\n",
    "\n",
    "        # At this point we were not able to find a compatible species.\n",
    "        # Thus, we create a new species for the given network.\n",
    "        species = Species([network])\n",
    "        species_list.append(species)"
   ]
  },
  {
   "cell_type": "markdown",
   "metadata": {
    "slideshow": {
     "slide_type": "slide"
    }
   },
   "source": [
    "## Updating the Compatiblity Threshold\n",
    "\n",
    "- __Problem__: Difficult to define a compatibility threshold upfront for a given problem (No Free Lunch Theorem)\n",
    "- __Solution__: Update the threshold towards the desired numer of species"
   ]
  },
  {
   "cell_type": "code",
   "execution_count": 36,
   "metadata": {
    "slideshow": {
     "slide_type": "fragment"
    }
   },
   "outputs": [],
   "source": [
    "def update_compat_threshold(threshold, number_species, target_size):\n",
    "    #If we have too many species, increase the threshold.\n",
    "    if number_species > target_size:\n",
    "        threshold += 0.3\n",
    "        \n",
    "    # If we have too few species, decrease the threshold.\n",
    "    elif number_species < target_size:\n",
    "        threshold -= 0.3\n",
    "\n",
    "    # Make sure the threshold does not shrink below the update value of 0.3.\n",
    "    if threshold < 0.3:\n",
    "        threshold = 0.3\n",
    "    return threshold"
   ]
  },
  {
   "cell_type": "markdown",
   "metadata": {
    "slideshow": {
     "slide_type": "slide"
    }
   },
   "source": [
    "## Evolution within Species\n",
    "\n",
    "- NEAT evolves networks within species\n",
    "- The number of children each species is allowed to generate is determined by the sum of the number of children $n_c$ each __member__ of the species is allowed to produce: $$n_c = \\frac{network.sharedFitness}{averageSharedFitness} $$ with $averageSharedFitness$ referring to the average shared fitness score across all networks of the population"
   ]
  },
  {
   "cell_type": "code",
   "execution_count": 37,
   "metadata": {
    "slideshow": {
     "slide_type": "fragment"
    }
   },
   "outputs": [],
   "source": [
    "def assign_children_to_species(species_list: list[Species], population_size: int):\n",
    "    \n",
    "    # Calculate the shared fitness value of each network\n",
    "    # and the average shared fitness across all networks.\n",
    "    avg_shared_fitness = 0\n",
    "    for species in species_list:\n",
    "        species.share_fitness()\n",
    "        avg_shared_fitness += sum(network.shared_fitness for network in species.population)\n",
    "    avg_shared_fitness /= population_size\n",
    "\n",
    "    # Determine how many children each network is allowed to produce.\n",
    "    child_sum = 0\n",
    "    left_over = 0\n",
    "    for species in species_list:\n",
    "        for network in species.population:\n",
    "            network.expected_children = network.shared_fitness / avg_shared_fitness\n",
    "            \n",
    "        # Determine how many children each species is allowed to produce\n",
    "        left_over = species.calculate_expected_children(left_over)\n",
    "        child_sum += species.expected_children\n",
    "\n",
    "    # Due to rounding we may loose some children.\n",
    "    # To keep a steady population size we assign the lost children to the best performing species\n",
    "    species_list = sorted(species_list, key=lambda species: species.expected_children, reverse=True)\n",
    "    if child_sum < population_size:\n",
    "        species_list[0].expected_children += population_size - child_sum"
   ]
  },
  {
   "cell_type": "markdown",
   "metadata": {
    "slideshow": {
     "slide_type": "slide"
    }
   },
   "source": [
    "During the calculation of the number of children a given species is allowed to produce, we have to keep track of fractions to not shrink in population size"
   ]
  },
  {
   "cell_type": "code",
   "execution_count": 38,
   "metadata": {
    "slideshow": {
     "slide_type": "fragment"
    }
   },
   "outputs": [],
   "source": [
    "class Species(Species):\n",
    "    def calculate_expected_children(self, left_over):\n",
    "        self.expected_children = 0\n",
    "\n",
    "        for network in self.population:\n",
    "            # Floor to integer but save the lost fraction.\n",
    "            whole_child = math.floor(network.expected_children)\n",
    "            fraction_child = network.expected_children % 1\n",
    "\n",
    "            self.expected_children += whole_child\n",
    "            left_over += fraction_child\n",
    "\n",
    "            # If our fractions accumulate to a whole child, we add it to the species' expected children.\n",
    "            if left_over > 1:\n",
    "                self.expected_children += math.floor(left_over)\n",
    "                left_over -= math.floor(left_over)\n",
    "\n",
    "        # Reuse the fraction for the next species to not shrink in population size.\n",
    "        return left_over"
   ]
  },
  {
   "cell_type": "markdown",
   "metadata": {
    "slideshow": {
     "slide_type": "slide"
    }
   },
   "source": [
    "20% of the best-performing networks of a species will serve as parent candidates"
   ]
  },
  {
   "cell_type": "code",
   "execution_count": 39,
   "metadata": {
    "slideshow": {
     "slide_type": "fragment"
    }
   },
   "outputs": [],
   "source": [
    "class Species(Species):\n",
    "    parent_rate = 0.2\n",
    "\n",
    "    def define_parents(self):\n",
    "        # Sort the population according to the network's fitness values in decreasing order\n",
    "        # and mark potential parents.\n",
    "        self.population = sorted(self.population, key=lambda x: x.fitness, reverse=True)\n",
    "        number_parents = math.floor(Species.parent_rate * len(self.population))\n",
    "        number_parents = 1 if number_parents < 1 else number_parents  # Mark at least one network as parent\n",
    "        for network in self.population[0:number_parents]:\n",
    "            network.parent = True"
   ]
  },
  {
   "cell_type": "markdown",
   "metadata": {
    "slideshow": {
     "slide_type": "slide"
    }
   },
   "source": [
    "We evolve networks within species by\n",
    " 1. always cloning the best-perform network once\n",
    " 2. applying mutation with a probability of 75% to randomly chosen parent candidates\n",
    " 3. applying crossover with a probability of 25% to randomly chosen parent candidates (if there are at least two)"
   ]
  },
  {
   "cell_type": "code",
   "execution_count": 40,
   "metadata": {
    "slideshow": {
     "slide_type": "fragment"
    }
   },
   "outputs": [],
   "source": [
    "class Species(Species):\n",
    "    mutation_rate = 0.75 \n",
    "    \n",
    "    def evolve(self):\n",
    "        # Determine potential parents and remove all non-parents.\n",
    "        self.define_parents()\n",
    "        self.population = [network for network in self.population if network.parent]\n",
    "\n",
    "        # If we don't have any parents or don't expect any children stop.\n",
    "        if len(self.population) == 0 or self.expected_children < 1:\n",
    "            return []\n",
    "\n",
    "        # Keep generating children until we've reached the desired number of children.\n",
    "        children = []\n",
    "        while len(children) < self.expected_children:\n",
    "\n",
    "            # Elitism: in the first iteration, we clone the species champion.\n",
    "            if len(children) == 0:\n",
    "                champion_child = copy.deepcopy(self.population[0])\n",
    "                champion_child.reset()\n",
    "                children.append(champion_child)\n",
    "\n",
    "            # Apply mutation if we only have a single parent or with a given probability.\n",
    "            elif random.random() < Species.mutation_rate or len(self.population) == 1:\n",
    "                parent = random.choice(self.population)\n",
    "                children.append(mutate(parent, ConnectionGene.innovations))\n",
    "                \n",
    "            # Otherwise, apply crossover\n",
    "            else:\n",
    "                parent_1, parent_2 = random.sample(self.population, 2)\n",
    "                children.append(crossover(parent_1, parent_2))\n",
    "                \n",
    "        return children"
   ]
  },
  {
   "cell_type": "markdown",
   "metadata": {
    "pycharm": {
     "name": "#%% md\n"
    },
    "slideshow": {
     "slide_type": "slide"
    }
   },
   "source": [
    "## Global Evolution\n",
    "\n",
    "1. Define the number of children each species is allowed to generate\n",
    "2. Trigger the evolution process within species\n",
    "3. Remove extinct species and parents"
   ]
  },
  {
   "cell_type": "code",
   "execution_count": 41,
   "metadata": {
    "pycharm": {
     "name": "#%%\n"
    },
    "slideshow": {
     "slide_type": "fragment"
    }
   },
   "outputs": [],
   "source": [
    "def evolve_population(species_list: list[Species], population_size: int, compat_threshold: int):\n",
    "    \n",
    "    # Assign the number of children each species is allowed to produce\n",
    "    assign_children_to_species(species_list, population_size)\n",
    "\n",
    "    # Evolve networks within their species.\n",
    "    children = []\n",
    "    for species in species_list:\n",
    "        children += species.evolve()\n",
    "\n",
    "    # Assign the new children to species.\n",
    "    for child in children:\n",
    "        speciate(child, species_list, compat_threshold)\n",
    "\n",
    "    # Remove species that went extinct and eliminate parents.\n",
    "    for species in species_list:\n",
    "        species.population = [network for network in species.population if network in children]\n",
    "    species_list = [species for species in species_list if len(species.population) > 0]\n",
    "    return species_list"
   ]
  },
  {
   "cell_type": "markdown",
   "metadata": {
    "pycharm": {
     "name": "#%% md\n"
    },
    "slideshow": {
     "slide_type": "slide"
    }
   },
   "source": [
    "## Fitness Function\n",
    "\n",
    "- Should determine how close a network is to solve the XOR-Problem\n",
    "- __Nice to have__: error gradient upon which the search can improve\n",
    "- Sequentially ask the network for the output of all four input combinations and calculate the error between the network's actual output and the intended XOR output\n",
    "- Cast to maximisation problem by calculating the squared error between the error value and maximum achievable fitness of four"
   ]
  },
  {
   "cell_type": "code",
   "execution_count": 42,
   "metadata": {
    "pycharm": {
     "name": "#%%\n"
    },
    "slideshow": {
     "slide_type": "fragment"
    }
   },
   "outputs": [
    {
     "data": {
      "image/svg+xml": [
       "<?xml version=\"1.0\" encoding=\"UTF-8\" standalone=\"no\"?>\n",
       "<!DOCTYPE svg PUBLIC \"-//W3C//DTD SVG 1.1//EN\"\n",
       " \"http://www.w3.org/Graphics/SVG/1.1/DTD/svg11.dtd\">\n",
       "<!-- Generated by graphviz version 2.50.0 (20211204.2007)\n",
       " -->\n",
       "<!-- Pages: 1 -->\n",
       "<svg width=\"295pt\" height=\"131pt\"\n",
       " viewBox=\"0.00 0.00 294.89 131.00\" xmlns=\"http://www.w3.org/2000/svg\" xmlns:xlink=\"http://www.w3.org/1999/xlink\">\n",
       "<g id=\"graph0\" class=\"graph\" transform=\"scale(1 1) rotate(0) translate(4 127)\">\n",
       "<polygon fill=\"white\" stroke=\"transparent\" points=\"-4,4 -4,-127 290.89,-127 290.89,4 -4,4\"/>\n",
       "<!-- 0 -->\n",
       "<g id=\"node1\" class=\"node\">\n",
       "<title>0</title>\n",
       "<ellipse fill=\"white\" stroke=\"black\" cx=\"43.55\" cy=\"-18\" rx=\"43.59\" ry=\"18\"/>\n",
       "<text text-anchor=\"middle\" x=\"43.55\" y=\"-14.3\" font-family=\"Times,serif\" font-size=\"14.00\">INPUT&#45;0</text>\n",
       "</g>\n",
       "<!-- 3 -->\n",
       "<g id=\"node4\" class=\"node\">\n",
       "<title>3</title>\n",
       "<ellipse fill=\"white\" stroke=\"black\" cx=\"148.55\" cy=\"-105\" rx=\"51.99\" ry=\"18\"/>\n",
       "<text text-anchor=\"middle\" x=\"148.55\" y=\"-101.3\" font-family=\"Times,serif\" font-size=\"14.00\">OUTPUT&#45;3</text>\n",
       "</g>\n",
       "<!-- 0&#45;&gt;3 -->\n",
       "<g id=\"edge1\" class=\"edge\">\n",
       "<title>0&#45;&gt;3</title>\n",
       "<path fill=\"none\" stroke=\"black\" d=\"M62.8,-34.59C79.13,-47.81 102.74,-66.92 121.06,-81.75\"/>\n",
       "<polygon fill=\"black\" stroke=\"black\" points=\"119.08,-84.65 129.05,-88.22 123.48,-79.21 119.08,-84.65\"/>\n",
       "<text text-anchor=\"middle\" x=\"117.05\" y=\"-57.8\" font-family=\"Times,serif\" font-size=\"14.00\">&#45;0.63</text>\n",
       "</g>\n",
       "<!-- 1 -->\n",
       "<g id=\"node2\" class=\"node\">\n",
       "<title>1</title>\n",
       "<ellipse fill=\"white\" stroke=\"black\" cx=\"148.55\" cy=\"-18\" rx=\"43.59\" ry=\"18\"/>\n",
       "<text text-anchor=\"middle\" x=\"148.55\" y=\"-14.3\" font-family=\"Times,serif\" font-size=\"14.00\">INPUT&#45;1</text>\n",
       "</g>\n",
       "<!-- 1&#45;&gt;3 -->\n",
       "<g id=\"edge2\" class=\"edge\">\n",
       "<title>1&#45;&gt;3</title>\n",
       "<path fill=\"none\" stroke=\"black\" d=\"M148.55,-36.2C148.55,-47.84 148.55,-63.45 148.55,-76.76\"/>\n",
       "<polygon fill=\"black\" stroke=\"black\" points=\"145.05,-76.82 148.55,-86.82 152.05,-76.82 145.05,-76.82\"/>\n",
       "<text text-anchor=\"middle\" x=\"161.05\" y=\"-57.8\" font-family=\"Times,serif\" font-size=\"14.00\">0.14</text>\n",
       "</g>\n",
       "<!-- 2 -->\n",
       "<g id=\"node3\" class=\"node\">\n",
       "<title>2</title>\n",
       "<ellipse fill=\"white\" stroke=\"black\" cx=\"248.55\" cy=\"-18\" rx=\"38.19\" ry=\"18\"/>\n",
       "<text text-anchor=\"middle\" x=\"248.55\" y=\"-14.3\" font-family=\"Times,serif\" font-size=\"14.00\">BIAS&#45;2</text>\n",
       "</g>\n",
       "<!-- 2&#45;&gt;3 -->\n",
       "<g id=\"edge3\" class=\"edge\">\n",
       "<title>2&#45;&gt;3</title>\n",
       "<path fill=\"none\" stroke=\"black\" d=\"M230.67,-34.2C215.18,-47.36 192.55,-66.6 174.97,-81.54\"/>\n",
       "<polygon fill=\"black\" stroke=\"black\" points=\"172.64,-78.93 167.29,-88.07 177.17,-84.26 172.64,-78.93\"/>\n",
       "<text text-anchor=\"middle\" x=\"216.05\" y=\"-57.8\" font-family=\"Times,serif\" font-size=\"14.00\">0.15</text>\n",
       "</g>\n",
       "</g>\n",
       "</svg>\n"
      ],
      "text/plain": [
       "<graphviz.graphs.Digraph at 0x10f096910>"
      ]
     },
     "execution_count": 42,
     "metadata": {},
     "output_type": "execute_result"
    },
    {
     "name": "stdout",
     "output_type": "stream",
     "text": [
      "Fitness: 5.834063054790624\n"
     ]
    }
   ],
   "source": [
    "from statistics import mean\n",
    "\n",
    "def get_fitness_network(network: NetworkChromosome):\n",
    "    error = 0\n",
    "    for index, row in xor_df.iterrows():\n",
    "        xor_input = [row[\"Input1\"], row[\"Input2\"]]\n",
    "        xor_output = row[\"Output\"]\n",
    "        network_output = network.activate(xor_input)\n",
    "        if step_function(network_output) != xor_output:\n",
    "            error += abs(xor_output - network_output)\n",
    "\n",
    "    network.fitness = (4 - error) ** 2\n",
    "    return network.fitness\n",
    "\n",
    "network = get_random_individual()\n",
    "network.show()\n",
    "print(\"Fitness: \" + str(get_fitness_network(network)))"
   ]
  },
  {
   "cell_type": "markdown",
   "metadata": {
    "slideshow": {
     "slide_type": "slide"
    }
   },
   "source": [
    "We will use a helper function to evaluate the entire population."
   ]
  },
  {
   "cell_type": "code",
   "execution_count": 43,
   "metadata": {
    "slideshow": {
     "slide_type": "fragment"
    }
   },
   "outputs": [],
   "source": [
    "def get_fitness_population(species_list: list[Species]):\n",
    "    best_fitness = 0\n",
    "    best_network = None\n",
    "    for specie in species_list:\n",
    "        for network in specie.population:\n",
    "            fitness = get_fitness_network(network)\n",
    "\n",
    "            # Record the best network\n",
    "            if fitness > best_fitness:\n",
    "                best_fitness = fitness\n",
    "                best_network = network\n",
    "\n",
    "            # If we found a solution stop, and return the solution.\n",
    "            if fitness == 16:\n",
    "                best_network.winner = True\n",
    "                return best_network\n",
    "    return best_network"
   ]
  },
  {
   "cell_type": "markdown",
   "metadata": {
    "slideshow": {
     "slide_type": "slide"
    }
   },
   "source": [
    "## Solving the XOR-Problem via NEAT\n",
    "\n",
    "1. Generate the initial population\n",
    "2. Enter search loop\n",
    "        2.1 Update compatibility threshold\n",
    "        2.2 Evaluate networks\n",
    "        2.3 Check if we have found a solution\n",
    "        2.4 Evolve the population"
   ]
  },
  {
   "cell_type": "code",
   "execution_count": 44,
   "metadata": {
    "pycharm": {
     "name": "#%%\n"
    },
    "slideshow": {
     "slide_type": "slide"
    }
   },
   "outputs": [],
   "source": [
    "def solve_xor(iteration = 0, population_size = 150, log_interval = 10,\n",
    "              compat_threshold = 3, target_species_size = 5):\n",
    "\n",
    "    # Generate the initial population.\n",
    "    species_list = []\n",
    "    for _ in range(population_size):\n",
    "        speciate(get_random_individual(), species_list, compat_threshold)\n",
    "\n",
    "    # Start the search for a solution.\n",
    "    best_fitness = []\n",
    "    number_generations = 0\n",
    "    while number_generations < 100:\n",
    "\n",
    "        # Update compatibility threshold\n",
    "        compat_threshold = update_compat_threshold(compat_threshold, len(species_list), target_species_size)\n",
    "\n",
    "        # Evaluate all networks and save the fitness of the best performing network.\n",
    "        best_network = get_fitness_population(species_list)\n",
    "        best_fitness.append(best_network.fitness)\n",
    "\n",
    "        # Every x generations we print a status update of the search.\n",
    "        if number_generations % log_interval == 0:\n",
    "            print(\"------------ Generation \" + str(number_generations) + \"-------------------\")\n",
    "            print(\"Current Fitness: \" + str(best_network.fitness))\n",
    "            print(\"Total Population Count: \" + str(sum(len(species.population) for species in species_list)))\n",
    "            print(\"Number of Species: \" + str(len(species_list)))\n",
    "\n",
    "        # If we found a solution; stop and save the network.\n",
    "        if best_network.winner:\n",
    "            print(\"Found solution in generation \", str(number_generations))\n",
    "            with open('./data/Neuroevolution/Winner-' + str(iteration) + '.dot', 'w') as current_network:\n",
    "                current_network.write(best_network.show().source)\n",
    "            current_network.close()\n",
    "            return best_fitness\n",
    "\n",
    "        # If we didn't find a solution evolve the networks fo form the next generation.\n",
    "        species_list = evolve_population(species_list, population_size, compat_threshold)\n",
    "        number_generations += 1\n",
    "\n",
    "    return best_fitness"
   ]
  },
  {
   "cell_type": "code",
   "execution_count": 45,
   "metadata": {
    "scrolled": true,
    "slideshow": {
     "slide_type": "slide"
    }
   },
   "outputs": [
    {
     "name": "stdout",
     "output_type": "stream",
     "text": [
      "------------ Generation 0-------------------\n",
      "Current Fitness: 10.830063038859638\n",
      "Total Population Count: 150\n",
      "Number of Species: 1\n",
      "------------ Generation 10-------------------\n",
      "Current Fitness: 11.211699576307245\n",
      "Total Population Count: 150\n",
      "Number of Species: 6\n",
      "------------ Generation 20-------------------\n",
      "Current Fitness: 11.255239357373892\n",
      "Total Population Count: 150\n",
      "Number of Species: 7\n",
      "------------ Generation 30-------------------\n",
      "Current Fitness: 12.08624872776107\n",
      "Total Population Count: 150\n",
      "Number of Species: 4\n",
      "------------ Generation 40-------------------\n",
      "Current Fitness: 11.826927549269463\n",
      "Total Population Count: 150\n",
      "Number of Species: 5\n",
      "------------ Generation 50-------------------\n",
      "Current Fitness: 11.831376210311682\n",
      "Total Population Count: 150\n",
      "Number of Species: 4\n",
      "------------ Generation 60-------------------\n",
      "Current Fitness: 11.832303050956208\n",
      "Total Population Count: 150\n",
      "Number of Species: 5\n",
      "------------ Generation 70-------------------\n",
      "Current Fitness: 12.0126982412153\n",
      "Total Population Count: 150\n",
      "Number of Species: 6\n",
      "------------ Generation 80-------------------\n",
      "Current Fitness: 12.012782311814401\n",
      "Total Population Count: 150\n",
      "Number of Species: 6\n",
      "------------ Generation 90-------------------\n",
      "Current Fitness: 12.012784056669153\n",
      "Total Population Count: 150\n",
      "Number of Species: 7\n"
     ]
    },
    {
     "data": {
      "text/plain": [
       "[<matplotlib.lines.Line2D at 0x1144dfa30>]"
      ]
     },
     "execution_count": 45,
     "metadata": {},
     "output_type": "execute_result"
    },
    {
     "data": {
      "image/png": "[encoded data removed]",
      "text/plain": [
       "<Figure size 432x288 with 1 Axes>"
      ]
     },
     "metadata": {
      "needs_background": "light"
     },
     "output_type": "display_data"
    }
   ],
   "source": [
    "fitness_values = solve_xor()\n",
    "x_range = np.arange(0, len(fitness_values), 1)\n",
    "\n",
    "plt.plot(x_range, fitness_values)"
   ]
  },
  {
   "cell_type": "code",
   "execution_count": 46,
   "metadata": {
    "slideshow": {
     "slide_type": "slide"
    }
   },
   "outputs": [
    {
     "data": {
      "image/svg+xml": [
       "<?xml version=\"1.0\" encoding=\"UTF-8\" standalone=\"no\"?>\n",
       "<!DOCTYPE svg PUBLIC \"-//W3C//DTD SVG 1.1//EN\"\n",
       " \"http://www.w3.org/Graphics/SVG/1.1/DTD/svg11.dtd\">\n",
       "<!-- Generated by graphviz version 2.50.0 (20211204.2007)\n",
       " -->\n",
       "<!-- Pages: 1 -->\n",
       "<svg width=\"333pt\" height=\"218pt\"\n",
       " viewBox=\"0.00 0.00 332.89 218.00\" xmlns=\"http://www.w3.org/2000/svg\" xmlns:xlink=\"http://www.w3.org/1999/xlink\">\n",
       "<g id=\"graph0\" class=\"graph\" transform=\"scale(1 1) rotate(0) translate(4 214)\">\n",
       "<polygon fill=\"white\" stroke=\"transparent\" points=\"-4,4 -4,-214 328.89,-214 328.89,4 -4,4\"/>\n",
       "<!-- 0 -->\n",
       "<g id=\"node1\" class=\"node\">\n",
       "<title>0</title>\n",
       "<ellipse fill=\"white\" stroke=\"black\" cx=\"173.55\" cy=\"-18\" rx=\"43.59\" ry=\"18\"/>\n",
       "<text text-anchor=\"middle\" x=\"173.55\" y=\"-14.3\" font-family=\"Times,serif\" font-size=\"14.00\">INPUT&#45;0</text>\n",
       "</g>\n",
       "<!-- 030 -->\n",
       "<g id=\"node4\" class=\"node\">\n",
       "<title>030</title>\n",
       "<ellipse fill=\"white\" stroke=\"black\" cx=\"125.55\" cy=\"-105\" rx=\"60.39\" ry=\"18\"/>\n",
       "<text text-anchor=\"middle\" x=\"125.55\" y=\"-101.3\" font-family=\"Times,serif\" font-size=\"14.00\">HIDDEN&#45;030</text>\n",
       "</g>\n",
       "<!-- 0&#45;&gt;030 -->\n",
       "<g id=\"edge4\" class=\"edge\">\n",
       "<title>0&#45;&gt;030</title>\n",
       "<path fill=\"none\" stroke=\"black\" d=\"M164.06,-35.79C157.27,-47.82 147.99,-64.25 140.24,-77.97\"/>\n",
       "<polygon fill=\"black\" stroke=\"black\" points=\"137.04,-76.52 135.17,-86.95 143.14,-79.96 137.04,-76.52\"/>\n",
       "<text text-anchor=\"middle\" x=\"170.05\" y=\"-57.8\" font-family=\"Times,serif\" font-size=\"14.00\">0.49</text>\n",
       "</g>\n",
       "<!-- 0&#45;&gt;030 -->\n",
       "<g id=\"edge5\" class=\"edge\">\n",
       "<title>0&#45;&gt;030</title>\n",
       "<path fill=\"none\" stroke=\"black\" d=\"M164.06,-35.79C157.27,-47.82 147.99,-64.25 140.24,-77.97\"/>\n",
       "<polygon fill=\"black\" stroke=\"black\" points=\"137.04,-76.52 135.17,-86.95 143.14,-79.96 137.04,-76.52\"/>\n",
       "<text text-anchor=\"middle\" x=\"135.05\" y=\"-57.8\" font-family=\"Times,serif\" font-size=\"14.00\">0.13</text>\n",
       "</g>\n",
       "<!-- 3 -->\n",
       "<g id=\"node5\" class=\"node\">\n",
       "<title>3</title>\n",
       "<ellipse fill=\"white\" stroke=\"black\" cx=\"173.55\" cy=\"-192\" rx=\"51.99\" ry=\"18\"/>\n",
       "<text text-anchor=\"middle\" x=\"173.55\" y=\"-188.3\" font-family=\"Times,serif\" font-size=\"14.00\">OUTPUT&#45;3</text>\n",
       "</g>\n",
       "<!-- 0&#45;&gt;3 -->\n",
       "<g id=\"edge1\" class=\"edge\">\n",
       "<title>0&#45;&gt;3</title>\n",
       "<path fill=\"none\" stroke=\"black\" d=\"M184.2,-35.64C198.34,-59.06 221.55,-97.5 221.55,-97.5 221.55,-97.5 201.31,-137.34 187.12,-165.28\"/>\n",
       "<polygon fill=\"black\" stroke=\"black\" points=\"183.98,-163.72 182.57,-174.23 190.22,-166.89 183.98,-163.72\"/>\n",
       "<text text-anchor=\"middle\" x=\"236.05\" y=\"-101.3\" font-family=\"Times,serif\" font-size=\"14.00\">&#45;0.37</text>\n",
       "</g>\n",
       "<!-- 1 -->\n",
       "<g id=\"node2\" class=\"node\">\n",
       "<title>1</title>\n",
       "<ellipse fill=\"white\" stroke=\"black\" cx=\"43.55\" cy=\"-18\" rx=\"43.59\" ry=\"18\"/>\n",
       "<text text-anchor=\"middle\" x=\"43.55\" y=\"-14.3\" font-family=\"Times,serif\" font-size=\"14.00\">INPUT&#45;1</text>\n",
       "</g>\n",
       "<!-- 1&#45;&gt;030 -->\n",
       "<g id=\"edge8\" class=\"edge\">\n",
       "<title>1&#45;&gt;030</title>\n",
       "<path fill=\"none\" stroke=\"black\" d=\"M58.97,-34.99C71.18,-47.65 88.44,-65.53 102.32,-79.92\"/>\n",
       "<polygon fill=\"black\" stroke=\"black\" points=\"100.17,-82.74 109.63,-87.5 105.21,-77.88 100.17,-82.74\"/>\n",
       "<text text-anchor=\"middle\" x=\"101.05\" y=\"-57.8\" font-family=\"Times,serif\" font-size=\"14.00\">1.53</text>\n",
       "</g>\n",
       "<!-- 1&#45;&gt;3 -->\n",
       "<g id=\"edge2\" class=\"edge\">\n",
       "<title>1&#45;&gt;3</title>\n",
       "<path fill=\"none\" stroke=\"black\" d=\"M44.32,-36.22C45.48,-63.68 47.55,-112.5 47.55,-112.5 47.55,-112.5 102.43,-147.13 139.75,-170.68\"/>\n",
       "<polygon fill=\"black\" stroke=\"black\" points=\"138.03,-173.73 148.35,-176.1 141.76,-167.81 138.03,-173.73\"/>\n",
       "<text text-anchor=\"middle\" x=\"33.05\" y=\"-101.3\" font-family=\"Times,serif\" font-size=\"14.00\">&#45;1.82</text>\n",
       "</g>\n",
       "<!-- 2 -->\n",
       "<g id=\"node3\" class=\"node\">\n",
       "<title>2</title>\n",
       "<ellipse fill=\"white\" stroke=\"black\" cx=\"286.55\" cy=\"-18\" rx=\"38.19\" ry=\"18\"/>\n",
       "<text text-anchor=\"middle\" x=\"286.55\" y=\"-14.3\" font-family=\"Times,serif\" font-size=\"14.00\">BIAS&#45;2</text>\n",
       "</g>\n",
       "<!-- 2&#45;&gt;3 -->\n",
       "<g id=\"edge3\" class=\"edge\">\n",
       "<title>2&#45;&gt;3</title>\n",
       "<path fill=\"none\" stroke=\"black\" d=\"M286.55,-36.04C286.55,-59.5 286.55,-97.5 286.55,-97.5 286.55,-97.5 235.03,-140.58 201.56,-168.57\"/>\n",
       "<polygon fill=\"black\" stroke=\"black\" points=\"198.91,-166.22 193.49,-175.32 203.4,-171.59 198.91,-166.22\"/>\n",
       "<text text-anchor=\"middle\" x=\"301.05\" y=\"-101.3\" font-family=\"Times,serif\" font-size=\"14.00\">&#45;2.53</text>\n",
       "</g>\n",
       "<!-- 030&#45;&gt;3 -->\n",
       "<g id=\"edge6\" class=\"edge\">\n",
       "<title>030&#45;&gt;3</title>\n",
       "<path fill=\"none\" stroke=\"black\" d=\"M135.03,-122.79C141.87,-134.9 151.22,-151.47 159,-165.24\"/>\n",
       "<polygon fill=\"black\" stroke=\"black\" points=\"156.12,-167.26 164.08,-174.24 162.21,-163.81 156.12,-167.26\"/>\n",
       "<text text-anchor=\"middle\" x=\"170.05\" y=\"-144.8\" font-family=\"Times,serif\" font-size=\"14.00\">4.16</text>\n",
       "</g>\n",
       "<!-- 030&#45;&gt;3 -->\n",
       "<g id=\"edge7\" class=\"edge\">\n",
       "<title>030&#45;&gt;3</title>\n",
       "<path fill=\"none\" stroke=\"black\" d=\"M135.03,-122.79C141.87,-134.9 151.22,-151.47 159,-165.24\"/>\n",
       "<polygon fill=\"black\" stroke=\"black\" points=\"156.12,-167.26 164.08,-174.24 162.21,-163.81 156.12,-167.26\"/>\n",
       "<text text-anchor=\"middle\" x=\"135.05\" y=\"-144.8\" font-family=\"Times,serif\" font-size=\"14.00\">0.63</text>\n",
       "</g>\n",
       "</g>\n",
       "</svg>\n"
      ],
      "text/plain": [
       "<graphviz.sources.Source at 0x15ce91220>"
      ]
     },
     "execution_count": 46,
     "metadata": {},
     "output_type": "execute_result"
    }
   ],
   "source": [
    "import graphviz\n",
    "\n",
    "with open(\"./data/Neuroevolution/Winner-0.dot\") as f:\n",
    "    solution_network = f.read()\n",
    "\n",
    "graphviz.Source(solution_network)"
   ]
  },
  {
   "cell_type": "markdown",
   "metadata": {
    "slideshow": {
     "slide_type": "slide"
    }
   },
   "source": [
    "# Evaluation\n",
    "\n",
    "We repeat the experiment for a couple of times and report the following values: \n",
    " - How often did we find a solution?\n",
    " - On average how many generations are required to find a solution\n",
    " - Fitness over Generations\n",
    " \n",
    "Depending on the number of repetitions, this may take some time..."
   ]
  },
  {
   "cell_type": "code",
   "execution_count": 47,
   "metadata": {
    "pycharm": {
     "name": "#%%\n"
    },
    "slideshow": {
     "slide_type": "slide"
    }
   },
   "outputs": [
    {
     "name": "stdout",
     "output_type": "stream",
     "text": [
      "------------ Generation 0-------------------\n",
      "Current Fitness: 9.936965309356127\n",
      "Total Population Count: 150\n",
      "Number of Species: 1\n",
      "------------ Generation 10-------------------\n",
      "Current Fitness: 10.77135087973202\n",
      "Total Population Count: 150\n",
      "Number of Species: 8\n",
      "------------ Generation 20-------------------\n",
      "Current Fitness: 12.086302732546159\n",
      "Total Population Count: 150\n",
      "Number of Species: 8\n",
      "------------ Generation 30-------------------\n",
      "Current Fitness: 12.08632753678897\n",
      "Total Population Count: 150\n",
      "Number of Species: 6\n",
      "------------ Generation 40-------------------\n",
      "Current Fitness: 11.690692227071953\n",
      "Total Population Count: 150\n",
      "Number of Species: 4\n",
      "------------ Generation 50-------------------\n",
      "Current Fitness: 11.707811165842532\n",
      "Total Population Count: 150\n",
      "Number of Species: 2\n",
      "------------ Generation 60-------------------\n",
      "Current Fitness: 11.707817337077763\n",
      "Total Population Count: 150\n",
      "Number of Species: 7\n",
      "------------ Generation 70-------------------\n",
      "Current Fitness: 12.040215138670128\n",
      "Total Population Count: 150\n",
      "Number of Species: 5\n",
      "------------ Generation 80-------------------\n",
      "Current Fitness: 12.040215138670128\n",
      "Total Population Count: 150\n",
      "Number of Species: 5\n",
      "------------ Generation 90-------------------\n",
      "Current Fitness: 12.066263363226158\n",
      "Total Population Count: 150\n",
      "Number of Species: 5\n",
      "------------ Generation 0-------------------\n",
      "Current Fitness: 9.398921634302862\n",
      "Total Population Count: 150\n",
      "Number of Species: 1\n",
      "------------ Generation 10-------------------\n",
      "Current Fitness: 11.212117663296523\n",
      "Total Population Count: 150\n",
      "Number of Species: 10\n",
      "------------ Generation 20-------------------\n",
      "Current Fitness: 11.461170169591309\n",
      "Total Population Count: 150\n",
      "Number of Species: 7\n",
      "------------ Generation 30-------------------\n",
      "Current Fitness: 11.461170169591309\n",
      "Total Population Count: 150\n",
      "Number of Species: 1\n",
      "------------ Generation 40-------------------\n",
      "Current Fitness: 11.784501984981633\n",
      "Total Population Count: 150\n",
      "Number of Species: 9\n",
      "------------ Generation 50-------------------\n",
      "Current Fitness: 11.784501984981633\n",
      "Total Population Count: 150\n",
      "Number of Species: 7\n",
      "------------ Generation 60-------------------\n",
      "Current Fitness: 12.218558858897188\n",
      "Total Population Count: 150\n",
      "Number of Species: 6\n",
      "Found solution in generation  63\n",
      "------------ Generation 0-------------------\n",
      "Current Fitness: 9.627211443205939\n",
      "Total Population Count: 150\n",
      "Number of Species: 1\n",
      "------------ Generation 10-------------------\n",
      "Current Fitness: 12.143008205633508\n",
      "Total Population Count: 150\n",
      "Number of Species: 10\n",
      "------------ Generation 20-------------------\n",
      "Current Fitness: 12.143008205633508\n",
      "Total Population Count: 150\n",
      "Number of Species: 8\n",
      "------------ Generation 30-------------------\n",
      "Current Fitness: 12.198430951829996\n",
      "Total Population Count: 150\n",
      "Number of Species: 6\n",
      "------------ Generation 40-------------------\n",
      "Current Fitness: 12.198513687651728\n",
      "Total Population Count: 150\n",
      "Number of Species: 6\n",
      "------------ Generation 50-------------------\n",
      "Current Fitness: 12.19854927007659\n",
      "Total Population Count: 150\n",
      "Number of Species: 8\n",
      "Found solution in generation  52\n",
      "------------ Generation 0-------------------\n",
      "Current Fitness: 10.016822261574317\n",
      "Total Population Count: 150\n",
      "Number of Species: 1\n",
      "------------ Generation 10-------------------\n",
      "Current Fitness: 10.598358556034396\n",
      "Total Population Count: 150\n",
      "Number of Species: 12\n",
      "Found solution in generation  19\n",
      "------------ Generation 0-------------------\n",
      "Current Fitness: 10.16350759335375\n",
      "Total Population Count: 150\n",
      "Number of Species: 1\n",
      "------------ Generation 10-------------------\n",
      "Current Fitness: 10.98931652003846\n",
      "Total Population Count: 150\n",
      "Number of Species: 8\n",
      "Found solution in generation  18\n",
      "---------------------------------------\n",
      "Found Solutions: 4\n",
      "Average number of generations: 51.2\n"
     ]
    },
    {
     "data": {
      "text/plain": [
       "[<matplotlib.lines.Line2D at 0x10f0b2310>]"
      ]
     },
     "execution_count": 47,
     "metadata": {},
     "output_type": "execute_result"
    },
    {
     "data": {
      "image/png": "[encoded data removed]",
      "text/plain": [
       "<Figure size 432x288 with 1 Axes>"
      ]
     },
     "metadata": {
      "needs_background": "light"
     },
     "output_type": "display_data"
    }
   ],
   "source": [
    "repetitions = 5\n",
    "fitness_values = [solve_xor(x) for x in range(repetitions)]\n",
    "iterations = [len(fitness_vals) for fitness_vals in fitness_values]\n",
    "\n",
    "# Padding for the plot.\n",
    "for fitness in fitness_values:\n",
    "    while len(fitness) < 100:\n",
    "        fitness += [16]\n",
    "\n",
    "mean_fitness_per_time = np.array(fitness_values).mean(axis=0)\n",
    "x_range = np.arange(0, 100, 1)\n",
    "\n",
    "print(\"---------------------------------------\")\n",
    "print(\"Found Solutions: \" + str(sum(1 if iterations < 100 else 0 for iterations in iterations)))\n",
    "print(\"Average number of generations: \" + str(mean(iterations)))\n",
    "plt.plot(x_range, mean_fitness_per_time)"
   ]
  }
 ],
 "metadata": {
  "celltoolbar": "Slideshow",
  "kernelspec": {
   "display_name": "Python 3 (ipykernel)",
   "language": "python",
   "name": "python3"
  },
  "language_info": {
   "codemirror_mode": {
    "name": "ipython",
    "version": 3
   },
   "file_extension": ".py",
   "mimetype": "text/x-python",
   "name": "python",
   "nbconvert_exporter": "python",
   "pygments_lexer": "ipython3",
   "version": "3.9.10"
  }
 },
 "nbformat": 4,
 "nbformat_minor": 1
}
